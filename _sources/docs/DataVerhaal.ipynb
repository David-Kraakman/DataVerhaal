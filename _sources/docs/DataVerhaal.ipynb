{
 "cells": [
  {
   "attachments": {},
   "cell_type": "markdown",
   "metadata": {
    "id": "O-fZFblJoCJZ"
   },
   "source": [
    "# **Muziek voor de moderne mens**"
   ]
  },
  {
   "attachments": {},
   "cell_type": "markdown",
   "metadata": {
    "id": "9uV1nQvHe_SH"
   },
   "source": [
    "__Groep:__ E2<br>\n",
    "__Namen:__ David Kraakman, Haady Hassan, Sten Paffen, Niels Barnhoorn<br>\n",
    "__URL GitHub online repository:__ https://github.com/David-Kraakman/DataVerhaal"
   ]
  },
  {
   "attachments": {},
   "cell_type": "markdown",
   "metadata": {
    "id": "iP22dlL3Rk56"
   },
   "source": [
    "## Introductie\n",
    "Er wordt tegenwoordig dagelijks nieuwe muziek uitgebracht door verschillende artiesten. Onze dataset bevat alleen al gegevens van meer dan 278.000 nummers op Spotify, variërend van het jaar 1960 tot 2022. Al deze nummers hebben attributen zoals dansbaarheid, vrolijkheid, toonsoort, populariteit, energie en nog veel meer. Deze muziek kan door mensen worden beluisterd via de streamingdienst Spotify.<br>\n",
    "\n",
    "Wat kan er gezegd worden over de verandering van muziek in de afgelopen jaren? Is muziek net zoveel veranderd als de mens? De mens is namelijk in bepaalde opzichten veranderd in de afgelopen jaren. De moderne technologische mens, ook wel de Homo Digitalis genoemd, is een mens die omringd is door technologie, waarvan de gevolgen nog niet helemaal duidelijk zijn (Valkenburg & Peter, 2007). Uit onderzoek naar Nederlandse jongeren blijkt dat deze moderne mens een verkort concentratievermogen heeft, een verslechterde nachtrust en mindere studieresultaten door de opkomst van social media in de afgelopen decennia (Kloosterman & Van Beuningen, 2015). Bovendien zijn de huidige Nederlandse jongeren minder gelukkig dan de jongeren van 20 jaar geleden(CBS, 2019). Ook in andere delen van de wereld zijn er verontrustende trends waargenomen. Zo is er in Amerika een grote stijging van angststoornissen onder mensen te zien (Goodwin et al., 2020). Aan de andere kant van dit verhaal is diezelfde moderne mens meer verbonden dan ooit door social media, is informatieoverdracht met behulp van nieuwe technologieën een stuk sneller dan voorheen en vindt er een grote globalisatie plaats.<br>\n",
    "\n",
    "De mens is dus aan het veranderen, verandert muziek dan mee met deze mens? En de opkomst van internetgebruik, hoe manifesteert dit zich in de muziekindustrie?\n",
    "\n",
    "\n",
    "\n",
    "\n"
   ]
  },
  {
   "attachments": {},
   "cell_type": "markdown",
   "metadata": {
    "id": "gkmBFUY_c6WT"
   },
   "source": [
    "## Dataset en Preprocessing<br>\n",
    "### *Datasets*\n",
    "\n",
    "1. main_dataset.csv https://www.kaggle.com/datasets/viktoriiashkurenko/278k-spotify-songs?select=main_dataset.csv\n",
    "2. happiness_cantril_ladder.csv https://ourworldindata.org/grapher/happiness-cantril-ladder\n",
    "\n",
    "\n",
    "De hoofddataset die in het verhaal wordt gebruikt, bevat informatie over meer dan 278.000 nummers op Spotify. De dataset is te verkrijgen door de eerste link te volgen en vervolgens enkel de main_dataset.csv te downloaden. Deze dataset wordt regelmatig bijgewerkt met behulp van de Spotify API. Nieuwe nummers worden toegevoegd en de API verzamelt verschillende attributen van nummers. Deze attributen omvatten onder andere populariteit, dansbaarheid, energie, toonsoort, luidheid, positiviteit en nog veel meer. Ook categorische attributen zoals artiestennaam, album naam en genre zijn beschikbaar in de database. Dankzij de vele gekwantificeerde attributen in de dataset kunnen berekeningen en vergelijkingen worden uitgevoerd op muzieknummers.<br>\n",
    "\n",
    "De tweede kleinere dataset die gebruikt wordt gaat enkel over de gemiddelde levensvoldoening per land per jaar. Om deze te downloaden kan er op de site onder de wereldkaart op de download knop geklikt worden om de juiste dataset te downloaden.\n",
    "\n",
    "\n",
    "### *Preprocessing*\n",
    "__Spotify-dataset:__<br>\n",
    "Voor het preprocessen van de dataset is er eerst een tijdsperiode vastgesteld van 1960 t/m 2022. Er waren namelijk erg weinig nummers uit de jaren voor 1960 in de dataset en het jaar 2023 was nog niet compleet. Vervolgens zijn rijen met Nan-waardes uit de dataset gehaald. Ook waren er bepaalde kolommen die een type 'str' hadden, maar eigenlijk het type 'list' of 'np.ndarray' moesten hebben. Deze kolommen zijn dan ook omgezet en tenslote is de kolom met de release datum van elk nummer nog omgezet van type 'str' naar type 'pd.DateTime'. Het uiteindelijke databestand is opgeslagen in een parquet-bestand. Dit bestandstype slaat namelijk ten opzichte van een CSV-bestand wél de objecttypes op van de dataset. Ook neemt een parquet-bestand een stuk minder ruimte in beslag dan een csv-bestand en valt het hierdoor binnen de 100mb bestandsgrootte restricties van GitHub.<br>\n",
    "\n",
    "__Levensvoldoening-dataset:__<br>\n",
    "De levensvoldoening-dataset vergde geen preprocessing. Het is een vrij kleine dataset en alles was hierin goed uitgewerkt.\n",
    "\n"
   ]
  },
  {
   "cell_type": "code",
   "execution_count": 1,
   "metadata": {
    "id": "_p59cvyLKlVH",
    "tags": [
     "hide-input"
    ]
   },
   "outputs": [],
   "source": [
    "import pandas as pd\n",
    "import numpy as np\n",
    "import plotly.graph_objects as go\n",
    "import plotly.subplots as sp\n",
    "import plotly.express as px\n",
    "import plotly.io as io\n",
    "\n",
    "io.templates.default = 'plotly_dark'\n",
    "\n",
    "main_dataset = pd.read_parquet('processed_dataset.parquet')\n",
    "happiness_dataset = pd.read_csv('happiness_cantril_ladder.csv')"
   ]
  },
  {
   "cell_type": "code",
   "execution_count": 2,
   "metadata": {
    "id": "bNJHf1cLzW9B",
    "tags": [
     "hide-input"
    ]
   },
   "outputs": [],
   "source": [
    "#@title Processing 1: Jaar toevoegen aan main_dataset\n",
    "# Converteer de 'release_date' kolom naar een datetimewaarde\n",
    "main_dataset['release_date'] = pd.to_datetime(main_dataset['release_date'], errors='coerce')\n",
    "\n",
    "# Voeg een nieuwe kolom 'year' toe op basis van de 'release_date'\n",
    "main_dataset['year'] = main_dataset['release_date'].dt.year\n",
    "\n",
    "# Voeg een nieuwe kolom 'release_decade' toe op basis van de 'year'\n",
    "main_dataset['release_decade'] = main_dataset['year'].map(lambda x: (x // 10)*10)\n",
    "\n",
    "# Voeg een nieuwe kolom 'duration_s' toe op basis van de 'duration_ms'\n",
    "main_dataset['duration_s'] = main_dataset['duration_ms'] // 1000\n",
    "\n",
    "# Voeg een nieuwe kolom 'year_month' toe op basis van de 'release_date'\n",
    "main_dataset['year_month'] = main_dataset['release_date'].dt.to_period('M')"
   ]
  },
  {
   "cell_type": "code",
   "execution_count": 20,
   "metadata": {
    "colab": {
     "base_uri": "https://localhost:8080/",
     "height": 1000
    },
    "id": "eRoTCMvnfZWd",
    "outputId": "462dc7de-3096-488a-87e1-afe5cde966a6",
    "tags": [
     "hide-input"
    ]
   },
   "outputs": [
    {
     "data": {
      "application/vnd.plotly.v1+json": {
       "config": {
        "plotlyServerURL": "https://plot.ly"
       },
       "data": [
        {
         "legendgroup": "group1",
         "legendgrouptitle": {
          "text": "Plot 1:"
         },
         "marker": {
          "color": "#66AA00"
         },
         "name": "Aantal nieuwe nummers",
         "type": "bar",
         "x": [
          1960,
          1961,
          1962,
          1963,
          1964,
          1965,
          1966,
          1967,
          1968,
          1969,
          1970,
          1971,
          1972,
          1973,
          1974,
          1975,
          1976,
          1977,
          1978,
          1979,
          1980,
          1981,
          1982,
          1983,
          1984,
          1985,
          1986,
          1987,
          1988,
          1989,
          1990,
          1991,
          1992,
          1993,
          1994,
          1995,
          1996,
          1997,
          1998,
          1999,
          2000,
          2001,
          2002,
          2003,
          2004,
          2005,
          2006,
          2007,
          2008,
          2009,
          2010,
          2011,
          2012,
          2013,
          2014,
          2015,
          2016,
          2017,
          2018,
          2019,
          2020,
          2021,
          2022
         ],
         "xaxis": "x",
         "y": [
          282,
          260,
          308,
          383,
          370,
          381,
          391,
          517,
          554,
          564,
          624,
          604,
          707,
          717,
          539,
          669,
          667,
          619,
          664,
          705,
          690,
          685,
          710,
          724,
          799,
          746,
          846,
          937,
          946,
          1160,
          1277,
          1543,
          1423,
          1603,
          1965,
          2086,
          2059,
          2383,
          2582,
          2658,
          2659,
          2929,
          2963,
          3177,
          3630,
          4353,
          4841,
          4765,
          5316,
          5946,
          6791,
          7179,
          7433,
          8733,
          9550,
          11077,
          11248,
          13784,
          15324,
          17360,
          20864,
          22621,
          31243
         ],
         "yaxis": "y"
        },
        {
         "legendgroup": "group2",
         "legendgrouptitle": {
          "text": "Plot 2:"
         },
         "marker": {
          "color": "#B82E2E"
         },
         "name": "Duratie nummers",
         "type": "bar",
         "x": [
          1960,
          1970,
          1980,
          1990,
          2000,
          2010,
          2020
         ],
         "xaxis": "x2",
         "y": [
          226.80523690773066,
          277.7212586339217,
          259.21933761979864,
          259.22222789723685,
          251.32790359545578,
          239.93718599913348,
          203.06772561824215
         ],
         "yaxis": "y2"
        },
        {
         "legendgroup": "group3",
         "legendgrouptitle": {
          "text": "Plot 3:"
         },
         "marker": {
          "color": [
           "#4C78A8",
           "#F58518",
           "#E45756",
           "#72B7B2",
           "#54A24B",
           "#EECA3B",
           "#B279A2",
           "#FF9DA6",
           "#9D755D",
           "#BAB0AC"
          ]
         },
         "mode": "lines+text",
         "name": "danceability",
         "text": [
          "danceability"
         ],
         "textposition": "top center",
         "type": "scatter",
         "x": [
          1960,
          1961,
          1962,
          1963,
          1964,
          1965,
          1966,
          1967,
          1968,
          1969,
          1970,
          1971,
          1972,
          1973,
          1974,
          1975,
          1976,
          1977,
          1978,
          1979,
          1980,
          1981,
          1982,
          1983,
          1984,
          1985,
          1986,
          1987,
          1988,
          1989,
          1990,
          1991,
          1992,
          1993,
          1994,
          1995,
          1996,
          1997,
          1998,
          1999,
          2000,
          2001,
          2002,
          2003,
          2004,
          2005,
          2006,
          2007,
          2008,
          2009,
          2010,
          2011,
          2012,
          2013,
          2014,
          2015,
          2016,
          2017,
          2018,
          2019,
          2020,
          2021,
          2022
         ],
         "xaxis": "x3",
         "y": [
          0.5145127659574468,
          0.5180819230769231,
          0.5138253246753246,
          0.5084506527415144,
          0.5137297297297297,
          0.5122047244094489,
          0.5332122762148337,
          0.49314526112185686,
          0.5007202166064982,
          0.48776382978723404,
          0.49796634615384616,
          0.48609701986754966,
          0.5129940594059406,
          0.5087319386331939,
          0.5097985157699444,
          0.5140004484304933,
          0.5415614692653673,
          0.540821647819063,
          0.5605838855421688,
          0.5701594326241135,
          0.5780339130434782,
          0.5393905109489051,
          0.5566659154929577,
          0.539828314917127,
          0.5204400500625782,
          0.550043163538874,
          0.5214047281323877,
          0.5347733191035219,
          0.5429488372093023,
          0.5275620689655173,
          0.5272394675019577,
          0.5197865845755023,
          0.5187296556570625,
          0.5443061135371179,
          0.5138609669211196,
          0.5186906519654843,
          0.5465637202525498,
          0.5392311372219891,
          0.5494671959721147,
          0.5424415726109857,
          0.5533075968409176,
          0.5511471150563332,
          0.5484803914951063,
          0.5385147623544224,
          0.5417325895316805,
          0.5407684125890191,
          0.5347975211733113,
          0.5433788247639034,
          0.5387364936042137,
          0.5467032963336697,
          0.5425020321013105,
          0.5277583925337791,
          0.5292243912283062,
          0.5386737203710066,
          0.5396320837696335,
          0.5429476753633655,
          0.5499825568990043,
          0.5617700739988392,
          0.5798298290263638,
          0.5779864343317972,
          0.5746156010352761,
          0.5654175102780602,
          0.556370508593925
         ],
         "yaxis": "y3"
        },
        {
         "legendgroup": "group3",
         "legendgrouptitle": {
          "text": "Plot 3:"
         },
         "marker": {
          "color": [
           "#4C78A8",
           "#F58518",
           "#E45756",
           "#72B7B2",
           "#54A24B",
           "#EECA3B",
           "#B279A2",
           "#FF9DA6",
           "#9D755D",
           "#BAB0AC"
          ]
         },
         "mode": "lines+text",
         "name": "energy",
         "text": [
          "energy"
         ],
         "textposition": "top center",
         "type": "scatter",
         "x": [
          1960,
          1961,
          1962,
          1963,
          1964,
          1965,
          1966,
          1967,
          1968,
          1969,
          1970,
          1971,
          1972,
          1973,
          1974,
          1975,
          1976,
          1977,
          1978,
          1979,
          1980,
          1981,
          1982,
          1983,
          1984,
          1985,
          1986,
          1987,
          1988,
          1989,
          1990,
          1991,
          1992,
          1993,
          1994,
          1995,
          1996,
          1997,
          1998,
          1999,
          2000,
          2001,
          2002,
          2003,
          2004,
          2005,
          2006,
          2007,
          2008,
          2009,
          2010,
          2011,
          2012,
          2013,
          2014,
          2015,
          2016,
          2017,
          2018,
          2019,
          2020,
          2021,
          2022
         ],
         "xaxis": "x3",
         "y": [
          0.3827418439716312,
          0.3942729230769231,
          0.3717777922077922,
          0.3898739947780679,
          0.43597289189189187,
          0.46347795275590553,
          0.5022161125319693,
          0.4712508704061895,
          0.4723186462093863,
          0.46731590425531916,
          0.5132267628205128,
          0.49733975165562916,
          0.5035500707213578,
          0.5435055788005579,
          0.5435657142857143,
          0.5254063527653213,
          0.5185829385307346,
          0.5468599353796446,
          0.5613489759036144,
          0.575776354609929,
          0.5853309420289855,
          0.6129615182481752,
          0.5865192957746479,
          0.5943075966850829,
          0.5837132665832291,
          0.5798595683646113,
          0.5700564184397163,
          0.5811887513340448,
          0.5742301374207188,
          0.5521258275862069,
          0.5509935606891151,
          0.5284673622812702,
          0.5305361700632467,
          0.5151989893948846,
          0.5096099867684478,
          0.5253601649089166,
          0.5567360543953376,
          0.5458378926563155,
          0.5429076762199845,
          0.5457616324303988,
          0.5631522226024822,
          0.5907287488221236,
          0.5775917146135673,
          0.5703757736858671,
          0.5655950920110193,
          0.5764805844245349,
          0.5706654796529642,
          0.5898440902413431,
          0.5949263299473287,
          0.5816590334678776,
          0.5930315131792078,
          0.5742396645772392,
          0.5959653327727701,
          0.5753876572769953,
          0.5883570628481675,
          0.5850299528753272,
          0.5765177641358464,
          0.5712752204004643,
          0.5677550426128948,
          0.5620970286232718,
          0.5517847303968558,
          0.5333219915123116,
          0.5233430897224978
         ],
         "yaxis": "y3"
        },
        {
         "legendgroup": "group3",
         "legendgrouptitle": {
          "text": "Plot 3:"
         },
         "marker": {
          "color": [
           "#4C78A8",
           "#F58518",
           "#E45756",
           "#72B7B2",
           "#54A24B",
           "#EECA3B",
           "#B279A2",
           "#FF9DA6",
           "#9D755D",
           "#BAB0AC"
          ]
         },
         "mode": "lines+text",
         "name": "speechiness",
         "text": [
          "speechiness"
         ],
         "textposition": "top center",
         "type": "scatter",
         "x": [
          1960,
          1961,
          1962,
          1963,
          1964,
          1965,
          1966,
          1967,
          1968,
          1969,
          1970,
          1971,
          1972,
          1973,
          1974,
          1975,
          1976,
          1977,
          1978,
          1979,
          1980,
          1981,
          1982,
          1983,
          1984,
          1985,
          1986,
          1987,
          1988,
          1989,
          1990,
          1991,
          1992,
          1993,
          1994,
          1995,
          1996,
          1997,
          1998,
          1999,
          2000,
          2001,
          2002,
          2003,
          2004,
          2005,
          2006,
          2007,
          2008,
          2009,
          2010,
          2011,
          2012,
          2013,
          2014,
          2015,
          2016,
          2017,
          2018,
          2019,
          2020,
          2021,
          2022
         ],
         "xaxis": "x3",
         "y": [
          0.05599007092198581,
          0.05764346153846154,
          0.051114935064935065,
          0.04614177545691906,
          0.05648783783783784,
          0.047409973753280835,
          0.0538772378516624,
          0.05006499032882012,
          0.055629963898916966,
          0.05463617021276596,
          0.04933076923076923,
          0.05765976821192054,
          0.056845827439886844,
          0.060381589958158996,
          0.05913821892393321,
          0.05847443946188341,
          0.06480764617691155,
          0.06373877221324718,
          0.06264367469879517,
          0.06124723404255319,
          0.06495884057971014,
          0.06033897810218978,
          0.061360704225352114,
          0.06562803867403315,
          0.059753316645807256,
          0.05907774798927614,
          0.05332387706855792,
          0.05805144076840982,
          0.06534281183932347,
          0.05952318965517241,
          0.06344917776037588,
          0.07720434219053791,
          0.07047884750527056,
          0.07550087336244542,
          0.07381872773536896,
          0.07631821668264621,
          0.08398654686741137,
          0.09658946705832984,
          0.07826944229279628,
          0.09988333333333332,
          0.07994336216622791,
          0.08459395698190508,
          0.07858491393857577,
          0.08899918161787851,
          0.09247129476584022,
          0.08484895474385482,
          0.08774154100392481,
          0.08907469045120671,
          0.08465321670428894,
          0.0939319374369324,
          0.08598252098365483,
          0.09122831870734086,
          0.08792677250100901,
          0.08850762624527654,
          0.08848261780104712,
          0.0800537149047576,
          0.08682703591749644,
          0.0875606790481718,
          0.09408367267032107,
          0.10090918202764977,
          0.1039500287576687,
          0.09609748463816807,
          0.08789612073104375
         ],
         "yaxis": "y3"
        },
        {
         "legendgroup": "group3",
         "legendgrouptitle": {
          "text": "Plot 3:"
         },
         "marker": {
          "color": [
           "#4C78A8",
           "#F58518",
           "#E45756",
           "#72B7B2",
           "#54A24B",
           "#EECA3B",
           "#B279A2",
           "#FF9DA6",
           "#9D755D",
           "#BAB0AC"
          ]
         },
         "mode": "lines+text",
         "name": "acousticness",
         "text": [
          "acousticness"
         ],
         "textposition": "top center",
         "type": "scatter",
         "x": [
          1960,
          1961,
          1962,
          1963,
          1964,
          1965,
          1966,
          1967,
          1968,
          1969,
          1970,
          1971,
          1972,
          1973,
          1974,
          1975,
          1976,
          1977,
          1978,
          1979,
          1980,
          1981,
          1982,
          1983,
          1984,
          1985,
          1986,
          1987,
          1988,
          1989,
          1990,
          1991,
          1992,
          1993,
          1994,
          1995,
          1996,
          1997,
          1998,
          1999,
          2000,
          2001,
          2002,
          2003,
          2004,
          2005,
          2006,
          2007,
          2008,
          2009,
          2010,
          2011,
          2012,
          2013,
          2014,
          2015,
          2016,
          2017,
          2018,
          2019,
          2020,
          2021,
          2022
         ],
         "xaxis": "x3",
         "y": [
          0.7438695035460993,
          0.6895161538461538,
          0.7265837662337662,
          0.712259138381201,
          0.649199418918919,
          0.6022738097112861,
          0.5239296496163683,
          0.5053878994197293,
          0.4624463261732852,
          0.4493221028368794,
          0.4026571142628205,
          0.42115254685430464,
          0.4329553012305516,
          0.38889093347280335,
          0.39177840853432283,
          0.4207506246636771,
          0.3884437043478261,
          0.3678496222940226,
          0.3331056813253012,
          0.3251223304539007,
          0.32933760434782605,
          0.284018634189781,
          0.30554668126760565,
          0.2975530624447514,
          0.2909351901376721,
          0.3248458400670241,
          0.3555927944562648,
          0.3307388138954109,
          0.3262474570613108,
          0.3609865875431034,
          0.35964407283476896,
          0.3848078968373299,
          0.3843267768165847,
          0.3948601135683094,
          0.41152522492620863,
          0.39242637024448707,
          0.3625358154832443,
          0.4027609651699538,
          0.4023683060379551,
          0.412535920165538,
          0.37900386830011285,
          0.35608316351655855,
          0.36853772402969964,
          0.3962095694523135,
          0.4070909519504132,
          0.39712436696760856,
          0.39357695026234246,
          0.37859053419517313,
          0.3792301038299473,
          0.3878463970972082,
          0.38790831684140775,
          0.40750635301574034,
          0.37453599330149334,
          0.4004382864136036,
          0.3667997545759162,
          0.35798952866389816,
          0.3610680556650071,
          0.36549503007109696,
          0.35921645465022184,
          0.35975876872753454,
          0.3786054232280483,
          0.4000435956001061,
          0.40921118089364017
         ],
         "yaxis": "y3"
        },
        {
         "legendgroup": "group3",
         "legendgrouptitle": {
          "text": "Plot 3:"
         },
         "marker": {
          "color": [
           "#4C78A8",
           "#F58518",
           "#E45756",
           "#72B7B2",
           "#54A24B",
           "#EECA3B",
           "#B279A2",
           "#FF9DA6",
           "#9D755D",
           "#BAB0AC"
          ]
         },
         "mode": "lines+text",
         "name": "instrumentalness",
         "text": [
          "instrumentalness"
         ],
         "textposition": "top center",
         "type": "scatter",
         "x": [
          1960,
          1961,
          1962,
          1963,
          1964,
          1965,
          1966,
          1967,
          1968,
          1969,
          1970,
          1971,
          1972,
          1973,
          1974,
          1975,
          1976,
          1977,
          1978,
          1979,
          1980,
          1981,
          1982,
          1983,
          1984,
          1985,
          1986,
          1987,
          1988,
          1989,
          1990,
          1991,
          1992,
          1993,
          1994,
          1995,
          1996,
          1997,
          1998,
          1999,
          2000,
          2001,
          2002,
          2003,
          2004,
          2005,
          2006,
          2007,
          2008,
          2009,
          2010,
          2011,
          2012,
          2013,
          2014,
          2015,
          2016,
          2017,
          2018,
          2019,
          2020,
          2021,
          2022
         ],
         "xaxis": "x3",
         "y": [
          0.17913047524822695,
          0.25763353707692305,
          0.16704647314935064,
          0.19823962122715405,
          0.1373305456216216,
          0.1398133171128609,
          0.12087758992327366,
          0.16450425522243714,
          0.1341087903068592,
          0.19433240113475178,
          0.17039965350961536,
          0.1835494169370861,
          0.17751203487977368,
          0.18176299652719663,
          0.1680483887012987,
          0.17935568059790732,
          0.1613948907646177,
          0.15360526206785136,
          0.12393262194277108,
          0.15345204529078013,
          0.13275234907246378,
          0.147949685270073,
          0.14870808852112677,
          0.17259787698895027,
          0.1594217869086358,
          0.16162501282841824,
          0.18201134872340424,
          0.16362864331910354,
          0.14702231273784355,
          0.17323010106896553,
          0.1812097241346907,
          0.176590444646792,
          0.19962436119465918,
          0.18431601876481596,
          0.21280946078371502,
          0.2250347234611697,
          0.19125976020398253,
          0.22500042704574064,
          0.24716504586754456,
          0.20914250503762227,
          0.20789918723580295,
          0.20413292129737112,
          0.1836637180965238,
          0.20401965033050046,
          0.19559417753443525,
          0.20056994342752124,
          0.21494945302623425,
          0.19839782100524658,
          0.19102262185854024,
          0.2169127189068281,
          0.22886577320571344,
          0.23616797098760273,
          0.23123217679940802,
          0.23946123510706513,
          0.22308616465759165,
          0.2488388144362192,
          0.2448099026217994,
          0.2363677216236216,
          0.25572355336857217,
          0.2614813837258064,
          0.27501536189848547,
          0.32447509853410544,
          0.3492608385523157
         ],
         "yaxis": "y3"
        },
        {
         "legendgroup": "group3",
         "legendgrouptitle": {
          "text": "Plot 3:"
         },
         "marker": {
          "color": [
           "#4C78A8",
           "#F58518",
           "#E45756",
           "#72B7B2",
           "#54A24B",
           "#EECA3B",
           "#B279A2",
           "#FF9DA6",
           "#9D755D",
           "#BAB0AC"
          ]
         },
         "mode": "lines+text",
         "name": "liveness",
         "text": [
          "liveness"
         ],
         "textposition": "top center",
         "type": "scatter",
         "x": [
          1960,
          1961,
          1962,
          1963,
          1964,
          1965,
          1966,
          1967,
          1968,
          1969,
          1970,
          1971,
          1972,
          1973,
          1974,
          1975,
          1976,
          1977,
          1978,
          1979,
          1980,
          1981,
          1982,
          1983,
          1984,
          1985,
          1986,
          1987,
          1988,
          1989,
          1990,
          1991,
          1992,
          1993,
          1994,
          1995,
          1996,
          1997,
          1998,
          1999,
          2000,
          2001,
          2002,
          2003,
          2004,
          2005,
          2006,
          2007,
          2008,
          2009,
          2010,
          2011,
          2012,
          2013,
          2014,
          2015,
          2016,
          2017,
          2018,
          2019,
          2020,
          2021,
          2022
         ],
         "xaxis": "x3",
         "y": [
          0.1977063829787234,
          0.19437884615384615,
          0.18974123376623378,
          0.19234334203655354,
          0.19478351351351353,
          0.17811889763779526,
          0.1952925831202046,
          0.20010696324951643,
          0.20598429602888088,
          0.1913737588652482,
          0.20940320512820512,
          0.19482798013245034,
          0.19383422913719942,
          0.1974115760111576,
          0.20555974025974028,
          0.1871370702541106,
          0.19332743628185906,
          0.1981605815831987,
          0.19127018072289156,
          0.1836239716312057,
          0.19525347826086956,
          0.20149503649635037,
          0.19471323943661972,
          0.1954247237569061,
          0.18476645807259073,
          0.17682815013404826,
          0.193345390070922,
          0.19145432230522944,
          0.19819154334038055,
          0.19502758620689656,
          0.18677995301487862,
          0.20410635126377188,
          0.20777041461700635,
          0.19526849656893325,
          0.1896325699745547,
          0.19532387344199426,
          0.2004829528897523,
          0.21240352496852707,
          0.1900307126258714,
          0.19724074492099322,
          0.18882666415945845,
          0.20336213724820756,
          0.2019524805939926,
          0.20244532577903684,
          0.19516201101928374,
          0.203631442683207,
          0.19810303656269365,
          0.20017064008394542,
          0.209705662151994,
          0.19767781701984527,
          0.20627812546016785,
          0.20759718623763757,
          0.19995776940669985,
          0.1968472918813695,
          0.2037250785340314,
          0.18795659474586981,
          0.1885084726173542,
          0.18400312681369704,
          0.18089658705298878,
          0.18351879493087558,
          0.18528297066717792,
          0.17867906370186995,
          0.17692408859584546
         ],
         "yaxis": "y3"
        },
        {
         "legendgroup": "group3",
         "legendgrouptitle": {
          "text": "Plot 3:"
         },
         "marker": {
          "color": [
           "#4C78A8",
           "#F58518",
           "#E45756",
           "#72B7B2",
           "#54A24B",
           "#EECA3B",
           "#B279A2",
           "#FF9DA6",
           "#9D755D",
           "#BAB0AC"
          ]
         },
         "mode": "lines+text",
         "name": "valence",
         "text": [
          "valence"
         ],
         "textposition": "top center",
         "type": "scatter",
         "x": [
          1960,
          1961,
          1962,
          1963,
          1964,
          1965,
          1966,
          1967,
          1968,
          1969,
          1970,
          1971,
          1972,
          1973,
          1974,
          1975,
          1976,
          1977,
          1978,
          1979,
          1980,
          1981,
          1982,
          1983,
          1984,
          1985,
          1986,
          1987,
          1988,
          1989,
          1990,
          1991,
          1992,
          1993,
          1994,
          1995,
          1996,
          1997,
          1998,
          1999,
          2000,
          2001,
          2002,
          2003,
          2004,
          2005,
          2006,
          2007,
          2008,
          2009,
          2010,
          2011,
          2012,
          2013,
          2014,
          2015,
          2016,
          2017,
          2018,
          2019,
          2020,
          2021,
          2022
         ],
         "xaxis": "x3",
         "y": [
          0.5641982269503546,
          0.5797923076923077,
          0.5682019480519481,
          0.5683898172323759,
          0.5966451351351352,
          0.5944112860892389,
          0.6244946291560103,
          0.5521644100580271,
          0.5685779783393502,
          0.5361429078014184,
          0.5738096153846154,
          0.5394814569536424,
          0.5628077793493635,
          0.58590529986053,
          0.5754545454545454,
          0.5596414050822123,
          0.5765869565217392,
          0.5826447495961228,
          0.6262980421686747,
          0.6249553191489362,
          0.6186778260869565,
          0.560567299270073,
          0.5733338028169014,
          0.5604668508287293,
          0.546552816020025,
          0.5587166219839141,
          0.5219098108747046,
          0.5497895410885806,
          0.5592140591966173,
          0.536379827586207,
          0.5309363351605325,
          0.521147310434219,
          0.5102050597329585,
          0.5195963194011229,
          0.4973436488549618,
          0.49222138063279,
          0.5216007770762506,
          0.5081997062526228,
          0.5357373741285825,
          0.5161042136945072,
          0.5355799172621286,
          0.517136975076818,
          0.5212792440094499,
          0.5025193264085616,
          0.5075461157024793,
          0.5197370319320009,
          0.5112161743441438,
          0.5149956977964323,
          0.5028842174567344,
          0.5102687352842247,
          0.5048491621263437,
          0.47824297534475557,
          0.4645650894658953,
          0.46115299438909885,
          0.4480653842931937,
          0.43296493454906565,
          0.41726647492887625,
          0.4194842411491585,
          0.4162682119551031,
          0.4115070103686636,
          0.40660736711081286,
          0.397116772865921,
          0.3874430348494063
         ],
         "yaxis": "y3"
        }
       ],
       "layout": {
        "annotations": [
         {
          "font": {
           "size": 16
          },
          "showarrow": false,
          "text": "Aantal nieuwe nummers per Jaar",
          "x": 0.5,
          "xanchor": "center",
          "xref": "paper",
          "y": 1,
          "yanchor": "bottom",
          "yref": "paper"
         },
         {
          "font": {
           "size": 16
          },
          "showarrow": false,
          "text": "Gemiddelde duur nummer per tien jaar",
          "x": 0.5,
          "xanchor": "center",
          "xref": "paper",
          "y": 0.6111111111111112,
          "yanchor": "bottom",
          "yref": "paper"
         },
         {
          "font": {
           "size": 16
          },
          "showarrow": false,
          "text": "Jaarlijkse gemiddelde waardes van aantal muziekkenmerken",
          "x": 0.5,
          "xanchor": "center",
          "xref": "paper",
          "y": 0.22222222222222224,
          "yanchor": "bottom",
          "yref": "paper"
         }
        ],
        "height": 1200,
        "legend": {
         "groupclick": "toggleitem",
         "itemdoubleclick": false
        },
        "showlegend": true,
        "template": {
         "data": {
          "bar": [
           {
            "error_x": {
             "color": "#f2f5fa"
            },
            "error_y": {
             "color": "#f2f5fa"
            },
            "marker": {
             "line": {
              "color": "rgb(17,17,17)",
              "width": 0.5
             },
             "pattern": {
              "fillmode": "overlay",
              "size": 10,
              "solidity": 0.2
             }
            },
            "type": "bar"
           }
          ],
          "barpolar": [
           {
            "marker": {
             "line": {
              "color": "rgb(17,17,17)",
              "width": 0.5
             },
             "pattern": {
              "fillmode": "overlay",
              "size": 10,
              "solidity": 0.2
             }
            },
            "type": "barpolar"
           }
          ],
          "carpet": [
           {
            "aaxis": {
             "endlinecolor": "#A2B1C6",
             "gridcolor": "#506784",
             "linecolor": "#506784",
             "minorgridcolor": "#506784",
             "startlinecolor": "#A2B1C6"
            },
            "baxis": {
             "endlinecolor": "#A2B1C6",
             "gridcolor": "#506784",
             "linecolor": "#506784",
             "minorgridcolor": "#506784",
             "startlinecolor": "#A2B1C6"
            },
            "type": "carpet"
           }
          ],
          "choropleth": [
           {
            "colorbar": {
             "outlinewidth": 0,
             "ticks": ""
            },
            "type": "choropleth"
           }
          ],
          "contour": [
           {
            "colorbar": {
             "outlinewidth": 0,
             "ticks": ""
            },
            "colorscale": [
             [
              0,
              "#0d0887"
             ],
             [
              0.1111111111111111,
              "#46039f"
             ],
             [
              0.2222222222222222,
              "#7201a8"
             ],
             [
              0.3333333333333333,
              "#9c179e"
             ],
             [
              0.4444444444444444,
              "#bd3786"
             ],
             [
              0.5555555555555556,
              "#d8576b"
             ],
             [
              0.6666666666666666,
              "#ed7953"
             ],
             [
              0.7777777777777778,
              "#fb9f3a"
             ],
             [
              0.8888888888888888,
              "#fdca26"
             ],
             [
              1,
              "#f0f921"
             ]
            ],
            "type": "contour"
           }
          ],
          "contourcarpet": [
           {
            "colorbar": {
             "outlinewidth": 0,
             "ticks": ""
            },
            "type": "contourcarpet"
           }
          ],
          "heatmap": [
           {
            "colorbar": {
             "outlinewidth": 0,
             "ticks": ""
            },
            "colorscale": [
             [
              0,
              "#0d0887"
             ],
             [
              0.1111111111111111,
              "#46039f"
             ],
             [
              0.2222222222222222,
              "#7201a8"
             ],
             [
              0.3333333333333333,
              "#9c179e"
             ],
             [
              0.4444444444444444,
              "#bd3786"
             ],
             [
              0.5555555555555556,
              "#d8576b"
             ],
             [
              0.6666666666666666,
              "#ed7953"
             ],
             [
              0.7777777777777778,
              "#fb9f3a"
             ],
             [
              0.8888888888888888,
              "#fdca26"
             ],
             [
              1,
              "#f0f921"
             ]
            ],
            "type": "heatmap"
           }
          ],
          "heatmapgl": [
           {
            "colorbar": {
             "outlinewidth": 0,
             "ticks": ""
            },
            "colorscale": [
             [
              0,
              "#0d0887"
             ],
             [
              0.1111111111111111,
              "#46039f"
             ],
             [
              0.2222222222222222,
              "#7201a8"
             ],
             [
              0.3333333333333333,
              "#9c179e"
             ],
             [
              0.4444444444444444,
              "#bd3786"
             ],
             [
              0.5555555555555556,
              "#d8576b"
             ],
             [
              0.6666666666666666,
              "#ed7953"
             ],
             [
              0.7777777777777778,
              "#fb9f3a"
             ],
             [
              0.8888888888888888,
              "#fdca26"
             ],
             [
              1,
              "#f0f921"
             ]
            ],
            "type": "heatmapgl"
           }
          ],
          "histogram": [
           {
            "marker": {
             "pattern": {
              "fillmode": "overlay",
              "size": 10,
              "solidity": 0.2
             }
            },
            "type": "histogram"
           }
          ],
          "histogram2d": [
           {
            "colorbar": {
             "outlinewidth": 0,
             "ticks": ""
            },
            "colorscale": [
             [
              0,
              "#0d0887"
             ],
             [
              0.1111111111111111,
              "#46039f"
             ],
             [
              0.2222222222222222,
              "#7201a8"
             ],
             [
              0.3333333333333333,
              "#9c179e"
             ],
             [
              0.4444444444444444,
              "#bd3786"
             ],
             [
              0.5555555555555556,
              "#d8576b"
             ],
             [
              0.6666666666666666,
              "#ed7953"
             ],
             [
              0.7777777777777778,
              "#fb9f3a"
             ],
             [
              0.8888888888888888,
              "#fdca26"
             ],
             [
              1,
              "#f0f921"
             ]
            ],
            "type": "histogram2d"
           }
          ],
          "histogram2dcontour": [
           {
            "colorbar": {
             "outlinewidth": 0,
             "ticks": ""
            },
            "colorscale": [
             [
              0,
              "#0d0887"
             ],
             [
              0.1111111111111111,
              "#46039f"
             ],
             [
              0.2222222222222222,
              "#7201a8"
             ],
             [
              0.3333333333333333,
              "#9c179e"
             ],
             [
              0.4444444444444444,
              "#bd3786"
             ],
             [
              0.5555555555555556,
              "#d8576b"
             ],
             [
              0.6666666666666666,
              "#ed7953"
             ],
             [
              0.7777777777777778,
              "#fb9f3a"
             ],
             [
              0.8888888888888888,
              "#fdca26"
             ],
             [
              1,
              "#f0f921"
             ]
            ],
            "type": "histogram2dcontour"
           }
          ],
          "mesh3d": [
           {
            "colorbar": {
             "outlinewidth": 0,
             "ticks": ""
            },
            "type": "mesh3d"
           }
          ],
          "parcoords": [
           {
            "line": {
             "colorbar": {
              "outlinewidth": 0,
              "ticks": ""
             }
            },
            "type": "parcoords"
           }
          ],
          "pie": [
           {
            "automargin": true,
            "type": "pie"
           }
          ],
          "scatter": [
           {
            "marker": {
             "line": {
              "color": "#283442"
             }
            },
            "type": "scatter"
           }
          ],
          "scatter3d": [
           {
            "line": {
             "colorbar": {
              "outlinewidth": 0,
              "ticks": ""
             }
            },
            "marker": {
             "colorbar": {
              "outlinewidth": 0,
              "ticks": ""
             }
            },
            "type": "scatter3d"
           }
          ],
          "scattercarpet": [
           {
            "marker": {
             "colorbar": {
              "outlinewidth": 0,
              "ticks": ""
             }
            },
            "type": "scattercarpet"
           }
          ],
          "scattergeo": [
           {
            "marker": {
             "colorbar": {
              "outlinewidth": 0,
              "ticks": ""
             }
            },
            "type": "scattergeo"
           }
          ],
          "scattergl": [
           {
            "marker": {
             "line": {
              "color": "#283442"
             }
            },
            "type": "scattergl"
           }
          ],
          "scattermapbox": [
           {
            "marker": {
             "colorbar": {
              "outlinewidth": 0,
              "ticks": ""
             }
            },
            "type": "scattermapbox"
           }
          ],
          "scatterpolar": [
           {
            "marker": {
             "colorbar": {
              "outlinewidth": 0,
              "ticks": ""
             }
            },
            "type": "scatterpolar"
           }
          ],
          "scatterpolargl": [
           {
            "marker": {
             "colorbar": {
              "outlinewidth": 0,
              "ticks": ""
             }
            },
            "type": "scatterpolargl"
           }
          ],
          "scatterternary": [
           {
            "marker": {
             "colorbar": {
              "outlinewidth": 0,
              "ticks": ""
             }
            },
            "type": "scatterternary"
           }
          ],
          "surface": [
           {
            "colorbar": {
             "outlinewidth": 0,
             "ticks": ""
            },
            "colorscale": [
             [
              0,
              "#0d0887"
             ],
             [
              0.1111111111111111,
              "#46039f"
             ],
             [
              0.2222222222222222,
              "#7201a8"
             ],
             [
              0.3333333333333333,
              "#9c179e"
             ],
             [
              0.4444444444444444,
              "#bd3786"
             ],
             [
              0.5555555555555556,
              "#d8576b"
             ],
             [
              0.6666666666666666,
              "#ed7953"
             ],
             [
              0.7777777777777778,
              "#fb9f3a"
             ],
             [
              0.8888888888888888,
              "#fdca26"
             ],
             [
              1,
              "#f0f921"
             ]
            ],
            "type": "surface"
           }
          ],
          "table": [
           {
            "cells": {
             "fill": {
              "color": "#506784"
             },
             "line": {
              "color": "rgb(17,17,17)"
             }
            },
            "header": {
             "fill": {
              "color": "#2a3f5f"
             },
             "line": {
              "color": "rgb(17,17,17)"
             }
            },
            "type": "table"
           }
          ]
         },
         "layout": {
          "annotationdefaults": {
           "arrowcolor": "#f2f5fa",
           "arrowhead": 0,
           "arrowwidth": 1
          },
          "autotypenumbers": "strict",
          "coloraxis": {
           "colorbar": {
            "outlinewidth": 0,
            "ticks": ""
           }
          },
          "colorscale": {
           "diverging": [
            [
             0,
             "#8e0152"
            ],
            [
             0.1,
             "#c51b7d"
            ],
            [
             0.2,
             "#de77ae"
            ],
            [
             0.3,
             "#f1b6da"
            ],
            [
             0.4,
             "#fde0ef"
            ],
            [
             0.5,
             "#f7f7f7"
            ],
            [
             0.6,
             "#e6f5d0"
            ],
            [
             0.7,
             "#b8e186"
            ],
            [
             0.8,
             "#7fbc41"
            ],
            [
             0.9,
             "#4d9221"
            ],
            [
             1,
             "#276419"
            ]
           ],
           "sequential": [
            [
             0,
             "#0d0887"
            ],
            [
             0.1111111111111111,
             "#46039f"
            ],
            [
             0.2222222222222222,
             "#7201a8"
            ],
            [
             0.3333333333333333,
             "#9c179e"
            ],
            [
             0.4444444444444444,
             "#bd3786"
            ],
            [
             0.5555555555555556,
             "#d8576b"
            ],
            [
             0.6666666666666666,
             "#ed7953"
            ],
            [
             0.7777777777777778,
             "#fb9f3a"
            ],
            [
             0.8888888888888888,
             "#fdca26"
            ],
            [
             1,
             "#f0f921"
            ]
           ],
           "sequentialminus": [
            [
             0,
             "#0d0887"
            ],
            [
             0.1111111111111111,
             "#46039f"
            ],
            [
             0.2222222222222222,
             "#7201a8"
            ],
            [
             0.3333333333333333,
             "#9c179e"
            ],
            [
             0.4444444444444444,
             "#bd3786"
            ],
            [
             0.5555555555555556,
             "#d8576b"
            ],
            [
             0.6666666666666666,
             "#ed7953"
            ],
            [
             0.7777777777777778,
             "#fb9f3a"
            ],
            [
             0.8888888888888888,
             "#fdca26"
            ],
            [
             1,
             "#f0f921"
            ]
           ]
          },
          "colorway": [
           "#636efa",
           "#EF553B",
           "#00cc96",
           "#ab63fa",
           "#FFA15A",
           "#19d3f3",
           "#FF6692",
           "#B6E880",
           "#FF97FF",
           "#FECB52"
          ],
          "font": {
           "color": "#f2f5fa"
          },
          "geo": {
           "bgcolor": "rgb(17,17,17)",
           "lakecolor": "rgb(17,17,17)",
           "landcolor": "rgb(17,17,17)",
           "showlakes": true,
           "showland": true,
           "subunitcolor": "#506784"
          },
          "hoverlabel": {
           "align": "left"
          },
          "hovermode": "closest",
          "mapbox": {
           "style": "dark"
          },
          "paper_bgcolor": "rgb(17,17,17)",
          "plot_bgcolor": "rgb(17,17,17)",
          "polar": {
           "angularaxis": {
            "gridcolor": "#506784",
            "linecolor": "#506784",
            "ticks": ""
           },
           "bgcolor": "rgb(17,17,17)",
           "radialaxis": {
            "gridcolor": "#506784",
            "linecolor": "#506784",
            "ticks": ""
           }
          },
          "scene": {
           "xaxis": {
            "backgroundcolor": "rgb(17,17,17)",
            "gridcolor": "#506784",
            "gridwidth": 2,
            "linecolor": "#506784",
            "showbackground": true,
            "ticks": "",
            "zerolinecolor": "#C8D4E3"
           },
           "yaxis": {
            "backgroundcolor": "rgb(17,17,17)",
            "gridcolor": "#506784",
            "gridwidth": 2,
            "linecolor": "#506784",
            "showbackground": true,
            "ticks": "",
            "zerolinecolor": "#C8D4E3"
           },
           "zaxis": {
            "backgroundcolor": "rgb(17,17,17)",
            "gridcolor": "#506784",
            "gridwidth": 2,
            "linecolor": "#506784",
            "showbackground": true,
            "ticks": "",
            "zerolinecolor": "#C8D4E3"
           }
          },
          "shapedefaults": {
           "line": {
            "color": "#f2f5fa"
           }
          },
          "sliderdefaults": {
           "bgcolor": "#C8D4E3",
           "bordercolor": "rgb(17,17,17)",
           "borderwidth": 1,
           "tickwidth": 0
          },
          "ternary": {
           "aaxis": {
            "gridcolor": "#506784",
            "linecolor": "#506784",
            "ticks": ""
           },
           "baxis": {
            "gridcolor": "#506784",
            "linecolor": "#506784",
            "ticks": ""
           },
           "bgcolor": "rgb(17,17,17)",
           "caxis": {
            "gridcolor": "#506784",
            "linecolor": "#506784",
            "ticks": ""
           }
          },
          "title": {
           "x": 0.05
          },
          "updatemenudefaults": {
           "bgcolor": "#506784",
           "borderwidth": 0
          },
          "xaxis": {
           "automargin": true,
           "gridcolor": "#283442",
           "linecolor": "#506784",
           "ticks": "",
           "title": {
            "standoff": 15
           },
           "zerolinecolor": "#283442",
           "zerolinewidth": 2
          },
          "yaxis": {
           "automargin": true,
           "gridcolor": "#283442",
           "linecolor": "#506784",
           "ticks": "",
           "title": {
            "standoff": 15
           },
           "zerolinecolor": "#283442",
           "zerolinewidth": 2
          }
         }
        },
        "xaxis": {
         "anchor": "y",
         "domain": [
          0,
          1
         ],
         "title": {
          "text": "Jaar"
         }
        },
        "xaxis2": {
         "anchor": "y2",
         "domain": [
          0,
          1
         ],
         "title": {
          "text": "Decennium"
         }
        },
        "xaxis3": {
         "anchor": "y3",
         "domain": [
          0,
          1
         ],
         "title": {
          "text": "Jaar"
         }
        },
        "yaxis": {
         "anchor": "x",
         "domain": [
          0.7777777777777778,
          1
         ],
         "title": {
          "text": "Hoeveelheid nummers"
         }
        },
        "yaxis2": {
         "anchor": "x2",
         "domain": [
          0.3888888888888889,
          0.6111111111111112
         ],
         "title": {
          "text": "Aantal seconden"
         }
        },
        "yaxis3": {
         "anchor": "x3",
         "domain": [
          0,
          0.22222222222222224
         ],
         "title": {
          "text": "Percentiel"
         }
        }
       }
      },
      "text/html": [
       "<div>                            <div id=\"65e30930-6797-4f4f-aac3-efaa3bcd8211\" class=\"plotly-graph-div\" style=\"height:1200px; width:100%;\"></div>            <script type=\"text/javascript\">                require([\"plotly\"], function(Plotly) {                    window.PLOTLYENV=window.PLOTLYENV || {};                                    if (document.getElementById(\"65e30930-6797-4f4f-aac3-efaa3bcd8211\")) {                    Plotly.newPlot(                        \"65e30930-6797-4f4f-aac3-efaa3bcd8211\",                        [{\"legendgroup\":\"group1\",\"legendgrouptitle\":{\"text\":\"Plot 1:\"},\"marker\":{\"color\":\"#66AA00\"},\"name\":\"Aantal nieuwe nummers\",\"x\":[1960,1961,1962,1963,1964,1965,1966,1967,1968,1969,1970,1971,1972,1973,1974,1975,1976,1977,1978,1979,1980,1981,1982,1983,1984,1985,1986,1987,1988,1989,1990,1991,1992,1993,1994,1995,1996,1997,1998,1999,2000,2001,2002,2003,2004,2005,2006,2007,2008,2009,2010,2011,2012,2013,2014,2015,2016,2017,2018,2019,2020,2021,2022],\"y\":[282,260,308,383,370,381,391,517,554,564,624,604,707,717,539,669,667,619,664,705,690,685,710,724,799,746,846,937,946,1160,1277,1543,1423,1603,1965,2086,2059,2383,2582,2658,2659,2929,2963,3177,3630,4353,4841,4765,5316,5946,6791,7179,7433,8733,9550,11077,11248,13784,15324,17360,20864,22621,31243],\"type\":\"bar\",\"xaxis\":\"x\",\"yaxis\":\"y\"},{\"legendgroup\":\"group2\",\"legendgrouptitle\":{\"text\":\"Plot 2:\"},\"marker\":{\"color\":\"#B82E2E\"},\"name\":\"Duratie nummers\",\"x\":[1960,1970,1980,1990,2000,2010,2020],\"y\":[226.80523690773066,277.7212586339217,259.21933761979864,259.22222789723685,251.32790359545578,239.93718599913348,203.06772561824215],\"type\":\"bar\",\"xaxis\":\"x2\",\"yaxis\":\"y2\"},{\"legendgroup\":\"group3\",\"legendgrouptitle\":{\"text\":\"Plot 3:\"},\"marker\":{\"color\":[\"#4C78A8\",\"#F58518\",\"#E45756\",\"#72B7B2\",\"#54A24B\",\"#EECA3B\",\"#B279A2\",\"#FF9DA6\",\"#9D755D\",\"#BAB0AC\"]},\"mode\":\"lines+text\",\"name\":\"danceability\",\"text\":[\"danceability\"],\"textposition\":\"top center\",\"x\":[1960,1961,1962,1963,1964,1965,1966,1967,1968,1969,1970,1971,1972,1973,1974,1975,1976,1977,1978,1979,1980,1981,1982,1983,1984,1985,1986,1987,1988,1989,1990,1991,1992,1993,1994,1995,1996,1997,1998,1999,2000,2001,2002,2003,2004,2005,2006,2007,2008,2009,2010,2011,2012,2013,2014,2015,2016,2017,2018,2019,2020,2021,2022],\"y\":[0.5145127659574468,0.5180819230769231,0.5138253246753246,0.5084506527415144,0.5137297297297297,0.5122047244094489,0.5332122762148337,0.49314526112185686,0.5007202166064982,0.48776382978723404,0.49796634615384616,0.48609701986754966,0.5129940594059406,0.5087319386331939,0.5097985157699444,0.5140004484304933,0.5415614692653673,0.540821647819063,0.5605838855421688,0.5701594326241135,0.5780339130434782,0.5393905109489051,0.5566659154929577,0.539828314917127,0.5204400500625782,0.550043163538874,0.5214047281323877,0.5347733191035219,0.5429488372093023,0.5275620689655173,0.5272394675019577,0.5197865845755023,0.5187296556570625,0.5443061135371179,0.5138609669211196,0.5186906519654843,0.5465637202525498,0.5392311372219891,0.5494671959721147,0.5424415726109857,0.5533075968409176,0.5511471150563332,0.5484803914951063,0.5385147623544224,0.5417325895316805,0.5407684125890191,0.5347975211733113,0.5433788247639034,0.5387364936042137,0.5467032963336697,0.5425020321013105,0.5277583925337791,0.5292243912283062,0.5386737203710066,0.5396320837696335,0.5429476753633655,0.5499825568990043,0.5617700739988392,0.5798298290263638,0.5779864343317972,0.5746156010352761,0.5654175102780602,0.556370508593925],\"type\":\"scatter\",\"xaxis\":\"x3\",\"yaxis\":\"y3\"},{\"legendgroup\":\"group3\",\"legendgrouptitle\":{\"text\":\"Plot 3:\"},\"marker\":{\"color\":[\"#4C78A8\",\"#F58518\",\"#E45756\",\"#72B7B2\",\"#54A24B\",\"#EECA3B\",\"#B279A2\",\"#FF9DA6\",\"#9D755D\",\"#BAB0AC\"]},\"mode\":\"lines+text\",\"name\":\"energy\",\"text\":[\"energy\"],\"textposition\":\"top center\",\"x\":[1960,1961,1962,1963,1964,1965,1966,1967,1968,1969,1970,1971,1972,1973,1974,1975,1976,1977,1978,1979,1980,1981,1982,1983,1984,1985,1986,1987,1988,1989,1990,1991,1992,1993,1994,1995,1996,1997,1998,1999,2000,2001,2002,2003,2004,2005,2006,2007,2008,2009,2010,2011,2012,2013,2014,2015,2016,2017,2018,2019,2020,2021,2022],\"y\":[0.3827418439716312,0.3942729230769231,0.3717777922077922,0.3898739947780679,0.43597289189189187,0.46347795275590553,0.5022161125319693,0.4712508704061895,0.4723186462093863,0.46731590425531916,0.5132267628205128,0.49733975165562916,0.5035500707213578,0.5435055788005579,0.5435657142857143,0.5254063527653213,0.5185829385307346,0.5468599353796446,0.5613489759036144,0.575776354609929,0.5853309420289855,0.6129615182481752,0.5865192957746479,0.5943075966850829,0.5837132665832291,0.5798595683646113,0.5700564184397163,0.5811887513340448,0.5742301374207188,0.5521258275862069,0.5509935606891151,0.5284673622812702,0.5305361700632467,0.5151989893948846,0.5096099867684478,0.5253601649089166,0.5567360543953376,0.5458378926563155,0.5429076762199845,0.5457616324303988,0.5631522226024822,0.5907287488221236,0.5775917146135673,0.5703757736858671,0.5655950920110193,0.5764805844245349,0.5706654796529642,0.5898440902413431,0.5949263299473287,0.5816590334678776,0.5930315131792078,0.5742396645772392,0.5959653327727701,0.5753876572769953,0.5883570628481675,0.5850299528753272,0.5765177641358464,0.5712752204004643,0.5677550426128948,0.5620970286232718,0.5517847303968558,0.5333219915123116,0.5233430897224978],\"type\":\"scatter\",\"xaxis\":\"x3\",\"yaxis\":\"y3\"},{\"legendgroup\":\"group3\",\"legendgrouptitle\":{\"text\":\"Plot 3:\"},\"marker\":{\"color\":[\"#4C78A8\",\"#F58518\",\"#E45756\",\"#72B7B2\",\"#54A24B\",\"#EECA3B\",\"#B279A2\",\"#FF9DA6\",\"#9D755D\",\"#BAB0AC\"]},\"mode\":\"lines+text\",\"name\":\"speechiness\",\"text\":[\"speechiness\"],\"textposition\":\"top center\",\"x\":[1960,1961,1962,1963,1964,1965,1966,1967,1968,1969,1970,1971,1972,1973,1974,1975,1976,1977,1978,1979,1980,1981,1982,1983,1984,1985,1986,1987,1988,1989,1990,1991,1992,1993,1994,1995,1996,1997,1998,1999,2000,2001,2002,2003,2004,2005,2006,2007,2008,2009,2010,2011,2012,2013,2014,2015,2016,2017,2018,2019,2020,2021,2022],\"y\":[0.05599007092198581,0.05764346153846154,0.051114935064935065,0.04614177545691906,0.05648783783783784,0.047409973753280835,0.0538772378516624,0.05006499032882012,0.055629963898916966,0.05463617021276596,0.04933076923076923,0.05765976821192054,0.056845827439886844,0.060381589958158996,0.05913821892393321,0.05847443946188341,0.06480764617691155,0.06373877221324718,0.06264367469879517,0.06124723404255319,0.06495884057971014,0.06033897810218978,0.061360704225352114,0.06562803867403315,0.059753316645807256,0.05907774798927614,0.05332387706855792,0.05805144076840982,0.06534281183932347,0.05952318965517241,0.06344917776037588,0.07720434219053791,0.07047884750527056,0.07550087336244542,0.07381872773536896,0.07631821668264621,0.08398654686741137,0.09658946705832984,0.07826944229279628,0.09988333333333332,0.07994336216622791,0.08459395698190508,0.07858491393857577,0.08899918161787851,0.09247129476584022,0.08484895474385482,0.08774154100392481,0.08907469045120671,0.08465321670428894,0.0939319374369324,0.08598252098365483,0.09122831870734086,0.08792677250100901,0.08850762624527654,0.08848261780104712,0.0800537149047576,0.08682703591749644,0.0875606790481718,0.09408367267032107,0.10090918202764977,0.1039500287576687,0.09609748463816807,0.08789612073104375],\"type\":\"scatter\",\"xaxis\":\"x3\",\"yaxis\":\"y3\"},{\"legendgroup\":\"group3\",\"legendgrouptitle\":{\"text\":\"Plot 3:\"},\"marker\":{\"color\":[\"#4C78A8\",\"#F58518\",\"#E45756\",\"#72B7B2\",\"#54A24B\",\"#EECA3B\",\"#B279A2\",\"#FF9DA6\",\"#9D755D\",\"#BAB0AC\"]},\"mode\":\"lines+text\",\"name\":\"acousticness\",\"text\":[\"acousticness\"],\"textposition\":\"top center\",\"x\":[1960,1961,1962,1963,1964,1965,1966,1967,1968,1969,1970,1971,1972,1973,1974,1975,1976,1977,1978,1979,1980,1981,1982,1983,1984,1985,1986,1987,1988,1989,1990,1991,1992,1993,1994,1995,1996,1997,1998,1999,2000,2001,2002,2003,2004,2005,2006,2007,2008,2009,2010,2011,2012,2013,2014,2015,2016,2017,2018,2019,2020,2021,2022],\"y\":[0.7438695035460993,0.6895161538461538,0.7265837662337662,0.712259138381201,0.649199418918919,0.6022738097112861,0.5239296496163683,0.5053878994197293,0.4624463261732852,0.4493221028368794,0.4026571142628205,0.42115254685430464,0.4329553012305516,0.38889093347280335,0.39177840853432283,0.4207506246636771,0.3884437043478261,0.3678496222940226,0.3331056813253012,0.3251223304539007,0.32933760434782605,0.284018634189781,0.30554668126760565,0.2975530624447514,0.2909351901376721,0.3248458400670241,0.3555927944562648,0.3307388138954109,0.3262474570613108,0.3609865875431034,0.35964407283476896,0.3848078968373299,0.3843267768165847,0.3948601135683094,0.41152522492620863,0.39242637024448707,0.3625358154832443,0.4027609651699538,0.4023683060379551,0.412535920165538,0.37900386830011285,0.35608316351655855,0.36853772402969964,0.3962095694523135,0.4070909519504132,0.39712436696760856,0.39357695026234246,0.37859053419517313,0.3792301038299473,0.3878463970972082,0.38790831684140775,0.40750635301574034,0.37453599330149334,0.4004382864136036,0.3667997545759162,0.35798952866389816,0.3610680556650071,0.36549503007109696,0.35921645465022184,0.35975876872753454,0.3786054232280483,0.4000435956001061,0.40921118089364017],\"type\":\"scatter\",\"xaxis\":\"x3\",\"yaxis\":\"y3\"},{\"legendgroup\":\"group3\",\"legendgrouptitle\":{\"text\":\"Plot 3:\"},\"marker\":{\"color\":[\"#4C78A8\",\"#F58518\",\"#E45756\",\"#72B7B2\",\"#54A24B\",\"#EECA3B\",\"#B279A2\",\"#FF9DA6\",\"#9D755D\",\"#BAB0AC\"]},\"mode\":\"lines+text\",\"name\":\"instrumentalness\",\"text\":[\"instrumentalness\"],\"textposition\":\"top center\",\"x\":[1960,1961,1962,1963,1964,1965,1966,1967,1968,1969,1970,1971,1972,1973,1974,1975,1976,1977,1978,1979,1980,1981,1982,1983,1984,1985,1986,1987,1988,1989,1990,1991,1992,1993,1994,1995,1996,1997,1998,1999,2000,2001,2002,2003,2004,2005,2006,2007,2008,2009,2010,2011,2012,2013,2014,2015,2016,2017,2018,2019,2020,2021,2022],\"y\":[0.17913047524822695,0.25763353707692305,0.16704647314935064,0.19823962122715405,0.1373305456216216,0.1398133171128609,0.12087758992327366,0.16450425522243714,0.1341087903068592,0.19433240113475178,0.17039965350961536,0.1835494169370861,0.17751203487977368,0.18176299652719663,0.1680483887012987,0.17935568059790732,0.1613948907646177,0.15360526206785136,0.12393262194277108,0.15345204529078013,0.13275234907246378,0.147949685270073,0.14870808852112677,0.17259787698895027,0.1594217869086358,0.16162501282841824,0.18201134872340424,0.16362864331910354,0.14702231273784355,0.17323010106896553,0.1812097241346907,0.176590444646792,0.19962436119465918,0.18431601876481596,0.21280946078371502,0.2250347234611697,0.19125976020398253,0.22500042704574064,0.24716504586754456,0.20914250503762227,0.20789918723580295,0.20413292129737112,0.1836637180965238,0.20401965033050046,0.19559417753443525,0.20056994342752124,0.21494945302623425,0.19839782100524658,0.19102262185854024,0.2169127189068281,0.22886577320571344,0.23616797098760273,0.23123217679940802,0.23946123510706513,0.22308616465759165,0.2488388144362192,0.2448099026217994,0.2363677216236216,0.25572355336857217,0.2614813837258064,0.27501536189848547,0.32447509853410544,0.3492608385523157],\"type\":\"scatter\",\"xaxis\":\"x3\",\"yaxis\":\"y3\"},{\"legendgroup\":\"group3\",\"legendgrouptitle\":{\"text\":\"Plot 3:\"},\"marker\":{\"color\":[\"#4C78A8\",\"#F58518\",\"#E45756\",\"#72B7B2\",\"#54A24B\",\"#EECA3B\",\"#B279A2\",\"#FF9DA6\",\"#9D755D\",\"#BAB0AC\"]},\"mode\":\"lines+text\",\"name\":\"liveness\",\"text\":[\"liveness\"],\"textposition\":\"top center\",\"x\":[1960,1961,1962,1963,1964,1965,1966,1967,1968,1969,1970,1971,1972,1973,1974,1975,1976,1977,1978,1979,1980,1981,1982,1983,1984,1985,1986,1987,1988,1989,1990,1991,1992,1993,1994,1995,1996,1997,1998,1999,2000,2001,2002,2003,2004,2005,2006,2007,2008,2009,2010,2011,2012,2013,2014,2015,2016,2017,2018,2019,2020,2021,2022],\"y\":[0.1977063829787234,0.19437884615384615,0.18974123376623378,0.19234334203655354,0.19478351351351353,0.17811889763779526,0.1952925831202046,0.20010696324951643,0.20598429602888088,0.1913737588652482,0.20940320512820512,0.19482798013245034,0.19383422913719942,0.1974115760111576,0.20555974025974028,0.1871370702541106,0.19332743628185906,0.1981605815831987,0.19127018072289156,0.1836239716312057,0.19525347826086956,0.20149503649635037,0.19471323943661972,0.1954247237569061,0.18476645807259073,0.17682815013404826,0.193345390070922,0.19145432230522944,0.19819154334038055,0.19502758620689656,0.18677995301487862,0.20410635126377188,0.20777041461700635,0.19526849656893325,0.1896325699745547,0.19532387344199426,0.2004829528897523,0.21240352496852707,0.1900307126258714,0.19724074492099322,0.18882666415945845,0.20336213724820756,0.2019524805939926,0.20244532577903684,0.19516201101928374,0.203631442683207,0.19810303656269365,0.20017064008394542,0.209705662151994,0.19767781701984527,0.20627812546016785,0.20759718623763757,0.19995776940669985,0.1968472918813695,0.2037250785340314,0.18795659474586981,0.1885084726173542,0.18400312681369704,0.18089658705298878,0.18351879493087558,0.18528297066717792,0.17867906370186995,0.17692408859584546],\"type\":\"scatter\",\"xaxis\":\"x3\",\"yaxis\":\"y3\"},{\"legendgroup\":\"group3\",\"legendgrouptitle\":{\"text\":\"Plot 3:\"},\"marker\":{\"color\":[\"#4C78A8\",\"#F58518\",\"#E45756\",\"#72B7B2\",\"#54A24B\",\"#EECA3B\",\"#B279A2\",\"#FF9DA6\",\"#9D755D\",\"#BAB0AC\"]},\"mode\":\"lines+text\",\"name\":\"valence\",\"text\":[\"valence\"],\"textposition\":\"top center\",\"x\":[1960,1961,1962,1963,1964,1965,1966,1967,1968,1969,1970,1971,1972,1973,1974,1975,1976,1977,1978,1979,1980,1981,1982,1983,1984,1985,1986,1987,1988,1989,1990,1991,1992,1993,1994,1995,1996,1997,1998,1999,2000,2001,2002,2003,2004,2005,2006,2007,2008,2009,2010,2011,2012,2013,2014,2015,2016,2017,2018,2019,2020,2021,2022],\"y\":[0.5641982269503546,0.5797923076923077,0.5682019480519481,0.5683898172323759,0.5966451351351352,0.5944112860892389,0.6244946291560103,0.5521644100580271,0.5685779783393502,0.5361429078014184,0.5738096153846154,0.5394814569536424,0.5628077793493635,0.58590529986053,0.5754545454545454,0.5596414050822123,0.5765869565217392,0.5826447495961228,0.6262980421686747,0.6249553191489362,0.6186778260869565,0.560567299270073,0.5733338028169014,0.5604668508287293,0.546552816020025,0.5587166219839141,0.5219098108747046,0.5497895410885806,0.5592140591966173,0.536379827586207,0.5309363351605325,0.521147310434219,0.5102050597329585,0.5195963194011229,0.4973436488549618,0.49222138063279,0.5216007770762506,0.5081997062526228,0.5357373741285825,0.5161042136945072,0.5355799172621286,0.517136975076818,0.5212792440094499,0.5025193264085616,0.5075461157024793,0.5197370319320009,0.5112161743441438,0.5149956977964323,0.5028842174567344,0.5102687352842247,0.5048491621263437,0.47824297534475557,0.4645650894658953,0.46115299438909885,0.4480653842931937,0.43296493454906565,0.41726647492887625,0.4194842411491585,0.4162682119551031,0.4115070103686636,0.40660736711081286,0.397116772865921,0.3874430348494063],\"type\":\"scatter\",\"xaxis\":\"x3\",\"yaxis\":\"y3\"}],                        {\"template\":{\"data\":{\"histogram2dcontour\":[{\"type\":\"histogram2dcontour\",\"colorbar\":{\"outlinewidth\":0,\"ticks\":\"\"},\"colorscale\":[[0.0,\"#0d0887\"],[0.1111111111111111,\"#46039f\"],[0.2222222222222222,\"#7201a8\"],[0.3333333333333333,\"#9c179e\"],[0.4444444444444444,\"#bd3786\"],[0.5555555555555556,\"#d8576b\"],[0.6666666666666666,\"#ed7953\"],[0.7777777777777778,\"#fb9f3a\"],[0.8888888888888888,\"#fdca26\"],[1.0,\"#f0f921\"]]}],\"choropleth\":[{\"type\":\"choropleth\",\"colorbar\":{\"outlinewidth\":0,\"ticks\":\"\"}}],\"histogram2d\":[{\"type\":\"histogram2d\",\"colorbar\":{\"outlinewidth\":0,\"ticks\":\"\"},\"colorscale\":[[0.0,\"#0d0887\"],[0.1111111111111111,\"#46039f\"],[0.2222222222222222,\"#7201a8\"],[0.3333333333333333,\"#9c179e\"],[0.4444444444444444,\"#bd3786\"],[0.5555555555555556,\"#d8576b\"],[0.6666666666666666,\"#ed7953\"],[0.7777777777777778,\"#fb9f3a\"],[0.8888888888888888,\"#fdca26\"],[1.0,\"#f0f921\"]]}],\"heatmap\":[{\"type\":\"heatmap\",\"colorbar\":{\"outlinewidth\":0,\"ticks\":\"\"},\"colorscale\":[[0.0,\"#0d0887\"],[0.1111111111111111,\"#46039f\"],[0.2222222222222222,\"#7201a8\"],[0.3333333333333333,\"#9c179e\"],[0.4444444444444444,\"#bd3786\"],[0.5555555555555556,\"#d8576b\"],[0.6666666666666666,\"#ed7953\"],[0.7777777777777778,\"#fb9f3a\"],[0.8888888888888888,\"#fdca26\"],[1.0,\"#f0f921\"]]}],\"heatmapgl\":[{\"type\":\"heatmapgl\",\"colorbar\":{\"outlinewidth\":0,\"ticks\":\"\"},\"colorscale\":[[0.0,\"#0d0887\"],[0.1111111111111111,\"#46039f\"],[0.2222222222222222,\"#7201a8\"],[0.3333333333333333,\"#9c179e\"],[0.4444444444444444,\"#bd3786\"],[0.5555555555555556,\"#d8576b\"],[0.6666666666666666,\"#ed7953\"],[0.7777777777777778,\"#fb9f3a\"],[0.8888888888888888,\"#fdca26\"],[1.0,\"#f0f921\"]]}],\"contourcarpet\":[{\"type\":\"contourcarpet\",\"colorbar\":{\"outlinewidth\":0,\"ticks\":\"\"}}],\"contour\":[{\"type\":\"contour\",\"colorbar\":{\"outlinewidth\":0,\"ticks\":\"\"},\"colorscale\":[[0.0,\"#0d0887\"],[0.1111111111111111,\"#46039f\"],[0.2222222222222222,\"#7201a8\"],[0.3333333333333333,\"#9c179e\"],[0.4444444444444444,\"#bd3786\"],[0.5555555555555556,\"#d8576b\"],[0.6666666666666666,\"#ed7953\"],[0.7777777777777778,\"#fb9f3a\"],[0.8888888888888888,\"#fdca26\"],[1.0,\"#f0f921\"]]}],\"surface\":[{\"type\":\"surface\",\"colorbar\":{\"outlinewidth\":0,\"ticks\":\"\"},\"colorscale\":[[0.0,\"#0d0887\"],[0.1111111111111111,\"#46039f\"],[0.2222222222222222,\"#7201a8\"],[0.3333333333333333,\"#9c179e\"],[0.4444444444444444,\"#bd3786\"],[0.5555555555555556,\"#d8576b\"],[0.6666666666666666,\"#ed7953\"],[0.7777777777777778,\"#fb9f3a\"],[0.8888888888888888,\"#fdca26\"],[1.0,\"#f0f921\"]]}],\"mesh3d\":[{\"type\":\"mesh3d\",\"colorbar\":{\"outlinewidth\":0,\"ticks\":\"\"}}],\"scatter\":[{\"marker\":{\"line\":{\"color\":\"#283442\"}},\"type\":\"scatter\"}],\"parcoords\":[{\"type\":\"parcoords\",\"line\":{\"colorbar\":{\"outlinewidth\":0,\"ticks\":\"\"}}}],\"scatterpolargl\":[{\"type\":\"scatterpolargl\",\"marker\":{\"colorbar\":{\"outlinewidth\":0,\"ticks\":\"\"}}}],\"bar\":[{\"error_x\":{\"color\":\"#f2f5fa\"},\"error_y\":{\"color\":\"#f2f5fa\"},\"marker\":{\"line\":{\"color\":\"rgb(17,17,17)\",\"width\":0.5},\"pattern\":{\"fillmode\":\"overlay\",\"size\":10,\"solidity\":0.2}},\"type\":\"bar\"}],\"scattergeo\":[{\"type\":\"scattergeo\",\"marker\":{\"colorbar\":{\"outlinewidth\":0,\"ticks\":\"\"}}}],\"scatterpolar\":[{\"type\":\"scatterpolar\",\"marker\":{\"colorbar\":{\"outlinewidth\":0,\"ticks\":\"\"}}}],\"histogram\":[{\"marker\":{\"pattern\":{\"fillmode\":\"overlay\",\"size\":10,\"solidity\":0.2}},\"type\":\"histogram\"}],\"scattergl\":[{\"marker\":{\"line\":{\"color\":\"#283442\"}},\"type\":\"scattergl\"}],\"scatter3d\":[{\"type\":\"scatter3d\",\"line\":{\"colorbar\":{\"outlinewidth\":0,\"ticks\":\"\"}},\"marker\":{\"colorbar\":{\"outlinewidth\":0,\"ticks\":\"\"}}}],\"scattermapbox\":[{\"type\":\"scattermapbox\",\"marker\":{\"colorbar\":{\"outlinewidth\":0,\"ticks\":\"\"}}}],\"scatterternary\":[{\"type\":\"scatterternary\",\"marker\":{\"colorbar\":{\"outlinewidth\":0,\"ticks\":\"\"}}}],\"scattercarpet\":[{\"type\":\"scattercarpet\",\"marker\":{\"colorbar\":{\"outlinewidth\":0,\"ticks\":\"\"}}}],\"carpet\":[{\"aaxis\":{\"endlinecolor\":\"#A2B1C6\",\"gridcolor\":\"#506784\",\"linecolor\":\"#506784\",\"minorgridcolor\":\"#506784\",\"startlinecolor\":\"#A2B1C6\"},\"baxis\":{\"endlinecolor\":\"#A2B1C6\",\"gridcolor\":\"#506784\",\"linecolor\":\"#506784\",\"minorgridcolor\":\"#506784\",\"startlinecolor\":\"#A2B1C6\"},\"type\":\"carpet\"}],\"table\":[{\"cells\":{\"fill\":{\"color\":\"#506784\"},\"line\":{\"color\":\"rgb(17,17,17)\"}},\"header\":{\"fill\":{\"color\":\"#2a3f5f\"},\"line\":{\"color\":\"rgb(17,17,17)\"}},\"type\":\"table\"}],\"barpolar\":[{\"marker\":{\"line\":{\"color\":\"rgb(17,17,17)\",\"width\":0.5},\"pattern\":{\"fillmode\":\"overlay\",\"size\":10,\"solidity\":0.2}},\"type\":\"barpolar\"}],\"pie\":[{\"automargin\":true,\"type\":\"pie\"}]},\"layout\":{\"autotypenumbers\":\"strict\",\"colorway\":[\"#636efa\",\"#EF553B\",\"#00cc96\",\"#ab63fa\",\"#FFA15A\",\"#19d3f3\",\"#FF6692\",\"#B6E880\",\"#FF97FF\",\"#FECB52\"],\"font\":{\"color\":\"#f2f5fa\"},\"hovermode\":\"closest\",\"hoverlabel\":{\"align\":\"left\"},\"paper_bgcolor\":\"rgb(17,17,17)\",\"plot_bgcolor\":\"rgb(17,17,17)\",\"polar\":{\"bgcolor\":\"rgb(17,17,17)\",\"angularaxis\":{\"gridcolor\":\"#506784\",\"linecolor\":\"#506784\",\"ticks\":\"\"},\"radialaxis\":{\"gridcolor\":\"#506784\",\"linecolor\":\"#506784\",\"ticks\":\"\"}},\"ternary\":{\"bgcolor\":\"rgb(17,17,17)\",\"aaxis\":{\"gridcolor\":\"#506784\",\"linecolor\":\"#506784\",\"ticks\":\"\"},\"baxis\":{\"gridcolor\":\"#506784\",\"linecolor\":\"#506784\",\"ticks\":\"\"},\"caxis\":{\"gridcolor\":\"#506784\",\"linecolor\":\"#506784\",\"ticks\":\"\"}},\"coloraxis\":{\"colorbar\":{\"outlinewidth\":0,\"ticks\":\"\"}},\"colorscale\":{\"sequential\":[[0.0,\"#0d0887\"],[0.1111111111111111,\"#46039f\"],[0.2222222222222222,\"#7201a8\"],[0.3333333333333333,\"#9c179e\"],[0.4444444444444444,\"#bd3786\"],[0.5555555555555556,\"#d8576b\"],[0.6666666666666666,\"#ed7953\"],[0.7777777777777778,\"#fb9f3a\"],[0.8888888888888888,\"#fdca26\"],[1.0,\"#f0f921\"]],\"sequentialminus\":[[0.0,\"#0d0887\"],[0.1111111111111111,\"#46039f\"],[0.2222222222222222,\"#7201a8\"],[0.3333333333333333,\"#9c179e\"],[0.4444444444444444,\"#bd3786\"],[0.5555555555555556,\"#d8576b\"],[0.6666666666666666,\"#ed7953\"],[0.7777777777777778,\"#fb9f3a\"],[0.8888888888888888,\"#fdca26\"],[1.0,\"#f0f921\"]],\"diverging\":[[0,\"#8e0152\"],[0.1,\"#c51b7d\"],[0.2,\"#de77ae\"],[0.3,\"#f1b6da\"],[0.4,\"#fde0ef\"],[0.5,\"#f7f7f7\"],[0.6,\"#e6f5d0\"],[0.7,\"#b8e186\"],[0.8,\"#7fbc41\"],[0.9,\"#4d9221\"],[1,\"#276419\"]]},\"xaxis\":{\"gridcolor\":\"#283442\",\"linecolor\":\"#506784\",\"ticks\":\"\",\"title\":{\"standoff\":15},\"zerolinecolor\":\"#283442\",\"automargin\":true,\"zerolinewidth\":2},\"yaxis\":{\"gridcolor\":\"#283442\",\"linecolor\":\"#506784\",\"ticks\":\"\",\"title\":{\"standoff\":15},\"zerolinecolor\":\"#283442\",\"automargin\":true,\"zerolinewidth\":2},\"scene\":{\"xaxis\":{\"backgroundcolor\":\"rgb(17,17,17)\",\"gridcolor\":\"#506784\",\"linecolor\":\"#506784\",\"showbackground\":true,\"ticks\":\"\",\"zerolinecolor\":\"#C8D4E3\",\"gridwidth\":2},\"yaxis\":{\"backgroundcolor\":\"rgb(17,17,17)\",\"gridcolor\":\"#506784\",\"linecolor\":\"#506784\",\"showbackground\":true,\"ticks\":\"\",\"zerolinecolor\":\"#C8D4E3\",\"gridwidth\":2},\"zaxis\":{\"backgroundcolor\":\"rgb(17,17,17)\",\"gridcolor\":\"#506784\",\"linecolor\":\"#506784\",\"showbackground\":true,\"ticks\":\"\",\"zerolinecolor\":\"#C8D4E3\",\"gridwidth\":2}},\"shapedefaults\":{\"line\":{\"color\":\"#f2f5fa\"}},\"annotationdefaults\":{\"arrowcolor\":\"#f2f5fa\",\"arrowhead\":0,\"arrowwidth\":1},\"geo\":{\"bgcolor\":\"rgb(17,17,17)\",\"landcolor\":\"rgb(17,17,17)\",\"subunitcolor\":\"#506784\",\"showland\":true,\"showlakes\":true,\"lakecolor\":\"rgb(17,17,17)\"},\"title\":{\"x\":0.05},\"updatemenudefaults\":{\"bgcolor\":\"#506784\",\"borderwidth\":0},\"sliderdefaults\":{\"bgcolor\":\"#C8D4E3\",\"borderwidth\":1,\"bordercolor\":\"rgb(17,17,17)\",\"tickwidth\":0},\"mapbox\":{\"style\":\"dark\"}}},\"xaxis\":{\"anchor\":\"y\",\"domain\":[0.0,1.0],\"title\":{\"text\":\"Jaar\"}},\"yaxis\":{\"anchor\":\"x\",\"domain\":[0.7777777777777778,1.0],\"title\":{\"text\":\"Hoeveelheid nummers\"}},\"xaxis2\":{\"anchor\":\"y2\",\"domain\":[0.0,1.0],\"title\":{\"text\":\"Decennium\"}},\"yaxis2\":{\"anchor\":\"x2\",\"domain\":[0.3888888888888889,0.6111111111111112],\"title\":{\"text\":\"Aantal seconden\"}},\"xaxis3\":{\"anchor\":\"y3\",\"domain\":[0.0,1.0],\"title\":{\"text\":\"Jaar\"}},\"yaxis3\":{\"anchor\":\"x3\",\"domain\":[0.0,0.22222222222222224],\"title\":{\"text\":\"Percentiel\"}},\"annotations\":[{\"font\":{\"size\":16},\"showarrow\":false,\"text\":\"Aantal nieuwe nummers per Jaar\",\"x\":0.5,\"xanchor\":\"center\",\"xref\":\"paper\",\"y\":1.0,\"yanchor\":\"bottom\",\"yref\":\"paper\"},{\"font\":{\"size\":16},\"showarrow\":false,\"text\":\"Gemiddelde duur nummer per tien jaar\",\"x\":0.5,\"xanchor\":\"center\",\"xref\":\"paper\",\"y\":0.6111111111111112,\"yanchor\":\"bottom\",\"yref\":\"paper\"},{\"font\":{\"size\":16},\"showarrow\":false,\"text\":\"Jaarlijkse gemiddelde waardes van aantal muziekkenmerken\",\"x\":0.5,\"xanchor\":\"center\",\"xref\":\"paper\",\"y\":0.22222222222222224,\"yanchor\":\"bottom\",\"yref\":\"paper\"}],\"legend\":{\"groupclick\":\"toggleitem\",\"itemdoubleclick\":false},\"height\":1200,\"showlegend\":true},                        {\"responsive\": true}                    ).then(function(){\n",
       "                            \n",
       "var gd = document.getElementById('65e30930-6797-4f4f-aac3-efaa3bcd8211');\n",
       "var x = new MutationObserver(function (mutations, observer) {{\n",
       "        var display = window.getComputedStyle(gd).display;\n",
       "        if (!display || display === 'none') {{\n",
       "            console.log([gd, 'removed!']);\n",
       "            Plotly.purge(gd);\n",
       "            observer.disconnect();\n",
       "        }}\n",
       "}});\n",
       "\n",
       "// Listen for the removal of the full notebook cells\n",
       "var notebookContainer = gd.closest('#notebook-container');\n",
       "if (notebookContainer) {{\n",
       "    x.observe(notebookContainer, {childList: true});\n",
       "}}\n",
       "\n",
       "// Listen for the clearing of the current output cell\n",
       "var outputEl = gd.closest('.output');\n",
       "if (outputEl) {{\n",
       "    x.observe(outputEl, {childList: true});\n",
       "}}\n",
       "\n",
       "                        })                };                });            </script>        </div>"
      ]
     },
     "metadata": {},
     "output_type": "display_data"
    }
   ],
   "source": [
    "# Groeperen op 'release_year' en het gemiddelde van 'duration_ms' per tien jaar berekenen\n",
    "avg_duration_per_decade = main_dataset.groupby('release_decade')['duration_s'].mean().reset_index()\n",
    "\n",
    "#Figuur 1 Aantal nieuwe nummers per jaar\n",
    "fig_songs = go.Figure(data=go.Bar(x=main_dataset.groupby('year').count()['track_uri'].index,\n",
    "                                  y=main_dataset.groupby('year').count()['track_uri'],\n",
    "                                  legendgroup=\"group1\",\n",
    "                                  legendgrouptitle_text=\"Plot 1:\",\n",
    "                                  name = 'Aantal nieuwe nummers',\n",
    "                                  marker_color=px.colors.qualitative.G10[7]))\n",
    "fig_songs.update_layout(\n",
    "    title='Aantal nieuwe nummers per jaar',\n",
    "    xaxis=dict(title='Jaar'),\n",
    "    yaxis=dict(title='Aantal nummers')\n",
    ")\n",
    "#Figuur 2 Gemiddelde muziekduur per Decennium\n",
    "fig_duration = go.Figure(data=go.Bar(x=avg_duration_per_decade['release_decade'],\n",
    "                                     y=avg_duration_per_decade['duration_s'],\n",
    "                                     legendgroup=\"group2\",\n",
    "                                     legendgrouptitle_text=\"Plot 2:\",\n",
    "                                     name='Duratie nummers',\n",
    "                                     marker_color=px.colors.qualitative.G10[8]))\n",
    "fig_duration.update_layout(\n",
    "    title='Gemiddelde duur nummer per tien jaar',\n",
    "    xaxis=dict(title='Decennium'),\n",
    "    yaxis=dict(title='Gemiddelde duur')\n",
    ")\n",
    "\n",
    "#Figuur 3 Muziekkenmerken\n",
    "fig_stats = go.Figure()\n",
    "for variable in ['danceability', 'energy', 'speechiness', 'acousticness', 'instrumentalness', 'liveness', 'valence']:\n",
    "    fig_stats.add_trace(go.Scatter(x=main_dataset.groupby('year').mean(numeric_only=True)[variable].index,\n",
    "                            y=main_dataset.groupby('year').mean(numeric_only=True)[variable],\n",
    "                            mode=\"lines+text\",\n",
    "                            legendgroup=\"group3\",\n",
    "                            legendgrouptitle_text=\"Plot 3:\",\n",
    "                            name=variable,\n",
    "                            text=[variable]))\n",
    "fig_stats.update_traces(textposition='top center', marker=dict(color=px.colors.qualitative.T10))\n",
    "\n",
    "\n",
    "#Figuren combineren tot één plot\n",
    "fig_combined = sp.make_subplots(rows=3, cols=1, subplot_titles=['Aantal nieuwe nummers per Jaar', 'Gemiddelde duur nummer per tien jaar', 'Jaarlijkse gemiddelde waardes van aantal muziekkenmerken'])\n",
    "\n",
    "#De traces bovenstaande traces toevoegen\n",
    "fig_combined.add_trace(fig_songs.data[0], row=1, col=1)\n",
    "fig_combined.add_trace(fig_duration.data[0], row=2, col=1)\n",
    "for i in range(len(fig_stats.data)):\n",
    "    fig_combined.add_trace(fig_stats.data[i], row=3, col=1)\n",
    "\n",
    "#Update de x-assen van de subplots\n",
    "fig_combined.update_xaxes(title_text=\"Jaar\", row=1, col=1)\n",
    "fig_combined.update_xaxes(title_text=\"Decennium\", row=2, col=1)\n",
    "fig_combined.update_xaxes(title_text=\"Jaar\", row=3, col=1)\n",
    "\n",
    "#Update de y-assen van de subplots\n",
    "fig_combined.update_yaxes(title_text=\"Hoeveelheid nummers\", row=1, col=1)\n",
    "fig_combined.update_yaxes(title_text=\"Aantal seconden\", row=2, col=1)\n",
    "fig_combined.update_yaxes(title_text=\"Percentiel\", row=3, col=1)\n",
    "\n",
    "fig_combined.update_layout(height=1200, showlegend=True, legend={'groupclick':\"toggleitem\", 'itemdoubleclick':False})\n",
    "\n",
    "fig_combined.show()\n"
   ]
  },
  {
   "attachments": {},
   "cell_type": "markdown",
   "metadata": {
    "id": "lcBvbTsbLoUn"
   },
   "source": [
    "Om eerst wat meer inzicht te geven in de hoofddataset die gebruikt wordt in dit verhaal is hierboven een plot gemaakt met basisgegevens vanuit de dataset. In de eerste subplot kunnen we zien hoeveel nieuwe nummers er jaarlijks worden toegevoegd aan de Spotify catalogus en dat deze hoeveelheid exponentieel stijgt. In deze subplot staan namelijk op de x-as de jaartallen en op de y-as de hoeveelheid uitgebrachte muziek. Daaronder is in het tweede subplot te zien dat deze nieuwere muziek gemiddeld steeds korter van duur is. Op de x-as van het tweede subplot zijn dan ook de decennia geplot, terwijl op de y-as het gemiddelde aantal seconden dat een nummer in dat decennium duurde is geplot. In het laatste subplot worden de eerder genoemde attributen van muziek gevisualiseerd door de jaren heen. Op de x-as zijn wederom de jaartallen te zien en op de y-as zie je de percentielen. Alle muziek attributen zijn gemeten op een schaal van 0 tot 1 en in de derde plot is te zien hoe deze zich elk ontwikkelen door de jaren heen. Er is te zien dat de akoestiek van nummers na 1960 bijvoorbeeld daalt, terwijl de levendigheid vrij gelijk blijft. Met deze en nog meer variabelen probeert dit stuk de verandering van muziek te analyseren.\n"
   ]
  },
  {
   "attachments": {},
   "cell_type": "markdown",
   "metadata": {
    "id": "974YfwL6cqPg"
   },
   "source": [
    "## Muziek verandert mee met de moderne mens"
   ]
  },
  {
   "cell_type": "code",
   "execution_count": 4,
   "metadata": {
    "colab": {
     "base_uri": "https://localhost:8080/",
     "height": 817
    },
    "id": "VOdFpQ2g4GGy",
    "outputId": "464fed42-c286-4793-8a92-649b4d4e2724",
    "tags": [
     "hide-input"
    ]
   },
   "outputs": [
    {
     "data": {
      "application/vnd.plotly.v1+json": {
       "config": {
        "plotlyServerURL": "https://plot.ly"
       },
       "data": [
        {
         "alignmentgroup": "True",
         "hovertemplate": "Modus=Mineur<br>Jaar=%{x}<br>percentiel=%{y}<extra></extra>",
         "legendgroup": "Mineur",
         "marker": {
          "color": "#4C78A8",
          "pattern": {
           "shape": ""
          }
         },
         "name": "Mineur",
         "offsetgroup": "Mineur",
         "orientation": "v",
         "showlegend": true,
         "textposition": "auto",
         "type": "bar",
         "x": [
          1960,
          1961,
          1962,
          1963,
          1964,
          1965,
          1966,
          1967,
          1968,
          1969,
          1970,
          1971,
          1972,
          1973,
          1974,
          1975,
          1976,
          1977,
          1978,
          1979,
          1980,
          1981,
          1982,
          1983,
          1984,
          1985,
          1986,
          1987,
          1988,
          1989,
          1990,
          1991,
          1992,
          1993,
          1994,
          1995,
          1996,
          1997,
          1998,
          1999,
          2000,
          2001,
          2002,
          2003,
          2004,
          2005,
          2006,
          2007,
          2008,
          2009,
          2010,
          2011,
          2012,
          2013,
          2014,
          2015,
          2016,
          2017,
          2018,
          2019,
          2020,
          2021,
          2022
         ],
         "xaxis": "x",
         "y": [
          0.3120567375886525,
          0.3423076923076923,
          0.30194805194805197,
          0.26370757180156656,
          0.2891891891891892,
          0.25984251968503935,
          0.28388746803069054,
          0.2804642166344294,
          0.27256317689530685,
          0.26063829787234044,
          0.2676282051282051,
          0.3162251655629139,
          0.2828854314002829,
          0.29428172942817293,
          0.3228200371057514,
          0.28550074738415543,
          0.32533733133433285,
          0.3037156704361874,
          0.3192771084337349,
          0.3475177304964539,
          0.2768115942028985,
          0.3416058394160584,
          0.33380281690140845,
          0.3383977900552486,
          0.36295369211514394,
          0.3512064343163539,
          0.3108747044917258,
          0.29775880469583776,
          0.3044397463002114,
          0.31551724137931036,
          0.28660924040720437,
          0.27997407647440054,
          0.31271960646521435,
          0.31503431066749843,
          0.327735368956743,
          0.3274209012464046,
          0.3108305002428363,
          0.33361309274024337,
          0.33694810224632066,
          0.3434913468773514,
          0.3373448664911621,
          0.3516558552406965,
          0.3385082686466419,
          0.31633616619452315,
          0.3432506887052342,
          0.33769813921433495,
          0.34930799421607106,
          0.3445960125918153,
          0.32806621519939805,
          0.3336696939118735,
          0.3355912236783979,
          0.3454520128151553,
          0.35180949818377505,
          0.3487919386236116,
          0.3549738219895288,
          0.3822334567121062,
          0.3795341394025605,
          0.378047011027278,
          0.38155833985904464,
          0.38485023041474653,
          0.38401073619631904,
          0.38092922505636356,
          0.38626252280510837
         ],
         "yaxis": "y"
        },
        {
         "alignmentgroup": "True",
         "hovertemplate": "Modus=Majeur<br>Jaar=%{x}<br>percentiel=%{y}<extra></extra>",
         "legendgroup": "Majeur",
         "marker": {
          "color": "#F58518",
          "pattern": {
           "shape": ""
          }
         },
         "name": "Majeur",
         "offsetgroup": "Majeur",
         "orientation": "v",
         "showlegend": true,
         "textposition": "auto",
         "type": "bar",
         "x": [
          1960,
          1961,
          1962,
          1963,
          1964,
          1965,
          1966,
          1967,
          1968,
          1969,
          1970,
          1971,
          1972,
          1973,
          1974,
          1975,
          1976,
          1977,
          1978,
          1979,
          1980,
          1981,
          1982,
          1983,
          1984,
          1985,
          1986,
          1987,
          1988,
          1989,
          1990,
          1991,
          1992,
          1993,
          1994,
          1995,
          1996,
          1997,
          1998,
          1999,
          2000,
          2001,
          2002,
          2003,
          2004,
          2005,
          2006,
          2007,
          2008,
          2009,
          2010,
          2011,
          2012,
          2013,
          2014,
          2015,
          2016,
          2017,
          2018,
          2019,
          2020,
          2021,
          2022
         ],
         "xaxis": "x",
         "y": [
          0.6879432624113475,
          0.6576923076923077,
          0.698051948051948,
          0.7362924281984334,
          0.7108108108108108,
          0.7401574803149606,
          0.7161125319693095,
          0.7195357833655706,
          0.7274368231046932,
          0.7393617021276596,
          0.7323717948717948,
          0.6837748344370861,
          0.7171145685997171,
          0.705718270571827,
          0.6771799628942486,
          0.7144992526158446,
          0.6746626686656672,
          0.6962843295638126,
          0.6807228915662651,
          0.6524822695035462,
          0.7231884057971014,
          0.6583941605839416,
          0.6661971830985915,
          0.6616022099447514,
          0.6370463078848561,
          0.6487935656836461,
          0.6891252955082743,
          0.7022411953041622,
          0.6955602536997886,
          0.6844827586206896,
          0.7133907595927956,
          0.7200259235255995,
          0.6872803935347856,
          0.6849656893325016,
          0.672264631043257,
          0.6725790987535955,
          0.6891694997571637,
          0.6663869072597566,
          0.6630518977536793,
          0.6565086531226486,
          0.6626551335088379,
          0.6483441447593035,
          0.661491731353358,
          0.6836638338054769,
          0.6567493112947659,
          0.6623018607856651,
          0.6506920057839289,
          0.6554039874081847,
          0.671933784800602,
          0.6663303060881265,
          0.6644087763216021,
          0.6545479871848446,
          0.648190501816225,
          0.6512080613763884,
          0.6450261780104712,
          0.6177665432878938,
          0.6204658605974396,
          0.621952988972722,
          0.6184416601409554,
          0.6151497695852535,
          0.615989263803681,
          0.6190707749436365,
          0.6137374771948917
         ],
         "yaxis": "y"
        },
        {
         "hovertemplate": "x=%{x}<br>valence=%{y}<extra></extra>",
         "legendgroup": "",
         "marker": {
          "color": "#636efa",
          "symbol": "circle"
         },
         "mode": "markers",
         "name": "",
         "orientation": "v",
         "showlegend": false,
         "type": "scatter",
         "x": [
          "1960-01-01T00:00:00",
          "1960-02-01T00:00:00",
          "1960-03-01T00:00:00",
          "1960-04-01T00:00:00",
          "1960-05-01T00:00:00",
          "1960-07-01T00:00:00",
          "1960-08-01T00:00:00",
          "1960-09-01T00:00:00",
          "1960-10-01T00:00:00",
          "1960-11-01T00:00:00",
          "1960-12-01T00:00:00",
          "1961-01-01T00:00:00",
          "1961-02-01T00:00:00",
          "1961-03-01T00:00:00",
          "1961-04-01T00:00:00",
          "1961-05-01T00:00:00",
          "1961-06-01T00:00:00",
          "1961-07-01T00:00:00",
          "1961-08-01T00:00:00",
          "1961-09-01T00:00:00",
          "1961-10-01T00:00:00",
          "1961-11-01T00:00:00",
          "1961-12-01T00:00:00",
          "1962-01-01T00:00:00",
          "1962-02-01T00:00:00",
          "1962-03-01T00:00:00",
          "1962-04-01T00:00:00",
          "1962-05-01T00:00:00",
          "1962-06-01T00:00:00",
          "1962-07-01T00:00:00",
          "1962-08-01T00:00:00",
          "1962-10-01T00:00:00",
          "1962-11-01T00:00:00",
          "1962-12-01T00:00:00",
          "1963-01-01T00:00:00",
          "1963-02-01T00:00:00",
          "1963-03-01T00:00:00",
          "1963-04-01T00:00:00",
          "1963-05-01T00:00:00",
          "1963-06-01T00:00:00",
          "1963-07-01T00:00:00",
          "1963-08-01T00:00:00",
          "1963-09-01T00:00:00",
          "1963-10-01T00:00:00",
          "1963-11-01T00:00:00",
          "1963-12-01T00:00:00",
          "1964-01-01T00:00:00",
          "1964-02-01T00:00:00",
          "1964-03-01T00:00:00",
          "1964-04-01T00:00:00",
          "1964-05-01T00:00:00",
          "1964-06-01T00:00:00",
          "1964-07-01T00:00:00",
          "1964-08-01T00:00:00",
          "1964-09-01T00:00:00",
          "1964-10-01T00:00:00",
          "1964-11-01T00:00:00",
          "1964-12-01T00:00:00",
          "1965-01-01T00:00:00",
          "1965-02-01T00:00:00",
          "1965-03-01T00:00:00",
          "1965-04-01T00:00:00",
          "1965-05-01T00:00:00",
          "1965-06-01T00:00:00",
          "1965-07-01T00:00:00",
          "1965-08-01T00:00:00",
          "1965-09-01T00:00:00",
          "1965-10-01T00:00:00",
          "1965-11-01T00:00:00",
          "1965-12-01T00:00:00",
          "1966-01-01T00:00:00",
          "1966-02-01T00:00:00",
          "1966-03-01T00:00:00",
          "1966-04-01T00:00:00",
          "1966-05-01T00:00:00",
          "1966-06-01T00:00:00",
          "1966-07-01T00:00:00",
          "1966-08-01T00:00:00",
          "1966-09-01T00:00:00",
          "1966-10-01T00:00:00",
          "1966-11-01T00:00:00",
          "1966-12-01T00:00:00",
          "1967-01-01T00:00:00",
          "1967-02-01T00:00:00",
          "1967-03-01T00:00:00",
          "1967-04-01T00:00:00",
          "1967-05-01T00:00:00",
          "1967-06-01T00:00:00",
          "1967-07-01T00:00:00",
          "1967-08-01T00:00:00",
          "1967-09-01T00:00:00",
          "1967-10-01T00:00:00",
          "1967-11-01T00:00:00",
          "1967-12-01T00:00:00",
          "1968-01-01T00:00:00",
          "1968-02-01T00:00:00",
          "1968-03-01T00:00:00",
          "1968-04-01T00:00:00",
          "1968-05-01T00:00:00",
          "1968-06-01T00:00:00",
          "1968-07-01T00:00:00",
          "1968-08-01T00:00:00",
          "1968-09-01T00:00:00",
          "1968-10-01T00:00:00",
          "1968-11-01T00:00:00",
          "1968-12-01T00:00:00",
          "1969-01-01T00:00:00",
          "1969-02-01T00:00:00",
          "1969-03-01T00:00:00",
          "1969-04-01T00:00:00",
          "1969-05-01T00:00:00",
          "1969-06-01T00:00:00",
          "1969-07-01T00:00:00",
          "1969-08-01T00:00:00",
          "1969-09-01T00:00:00",
          "1969-10-01T00:00:00",
          "1969-11-01T00:00:00",
          "1969-12-01T00:00:00",
          "1970-01-01T00:00:00",
          "1970-02-01T00:00:00",
          "1970-03-01T00:00:00",
          "1970-04-01T00:00:00",
          "1970-05-01T00:00:00",
          "1970-06-01T00:00:00",
          "1970-07-01T00:00:00",
          "1970-08-01T00:00:00",
          "1970-09-01T00:00:00",
          "1970-10-01T00:00:00",
          "1970-11-01T00:00:00",
          "1970-12-01T00:00:00",
          "1971-01-01T00:00:00",
          "1971-02-01T00:00:00",
          "1971-03-01T00:00:00",
          "1971-04-01T00:00:00",
          "1971-05-01T00:00:00",
          "1971-06-01T00:00:00",
          "1971-07-01T00:00:00",
          "1971-08-01T00:00:00",
          "1971-09-01T00:00:00",
          "1971-10-01T00:00:00",
          "1971-11-01T00:00:00",
          "1971-12-01T00:00:00",
          "1972-01-01T00:00:00",
          "1972-02-01T00:00:00",
          "1972-03-01T00:00:00",
          "1972-04-01T00:00:00",
          "1972-05-01T00:00:00",
          "1972-06-01T00:00:00",
          "1972-07-01T00:00:00",
          "1972-08-01T00:00:00",
          "1972-09-01T00:00:00",
          "1972-10-01T00:00:00",
          "1972-11-01T00:00:00",
          "1972-12-01T00:00:00",
          "1973-01-01T00:00:00",
          "1973-02-01T00:00:00",
          "1973-03-01T00:00:00",
          "1973-04-01T00:00:00",
          "1973-05-01T00:00:00",
          "1973-06-01T00:00:00",
          "1973-07-01T00:00:00",
          "1973-08-01T00:00:00",
          "1973-09-01T00:00:00",
          "1973-10-01T00:00:00",
          "1973-11-01T00:00:00",
          "1973-12-01T00:00:00",
          "1974-01-01T00:00:00",
          "1974-02-01T00:00:00",
          "1974-03-01T00:00:00",
          "1974-04-01T00:00:00",
          "1974-05-01T00:00:00",
          "1974-06-01T00:00:00",
          "1974-07-01T00:00:00",
          "1974-08-01T00:00:00",
          "1974-09-01T00:00:00",
          "1974-10-01T00:00:00",
          "1974-11-01T00:00:00",
          "1974-12-01T00:00:00",
          "1975-01-01T00:00:00",
          "1975-02-01T00:00:00",
          "1975-03-01T00:00:00",
          "1975-04-01T00:00:00",
          "1975-05-01T00:00:00",
          "1975-06-01T00:00:00",
          "1975-07-01T00:00:00",
          "1975-08-01T00:00:00",
          "1975-09-01T00:00:00",
          "1975-10-01T00:00:00",
          "1975-11-01T00:00:00",
          "1975-12-01T00:00:00",
          "1976-01-01T00:00:00",
          "1976-02-01T00:00:00",
          "1976-03-01T00:00:00",
          "1976-04-01T00:00:00",
          "1976-05-01T00:00:00",
          "1976-06-01T00:00:00",
          "1976-07-01T00:00:00",
          "1976-08-01T00:00:00",
          "1976-09-01T00:00:00",
          "1976-10-01T00:00:00",
          "1976-11-01T00:00:00",
          "1976-12-01T00:00:00",
          "1977-01-01T00:00:00",
          "1977-02-01T00:00:00",
          "1977-03-01T00:00:00",
          "1977-04-01T00:00:00",
          "1977-05-01T00:00:00",
          "1977-06-01T00:00:00",
          "1977-07-01T00:00:00",
          "1977-08-01T00:00:00",
          "1977-09-01T00:00:00",
          "1977-10-01T00:00:00",
          "1977-11-01T00:00:00",
          "1977-12-01T00:00:00",
          "1978-01-01T00:00:00",
          "1978-02-01T00:00:00",
          "1978-03-01T00:00:00",
          "1978-04-01T00:00:00",
          "1978-05-01T00:00:00",
          "1978-06-01T00:00:00",
          "1978-07-01T00:00:00",
          "1978-08-01T00:00:00",
          "1978-09-01T00:00:00",
          "1978-10-01T00:00:00",
          "1978-11-01T00:00:00",
          "1978-12-01T00:00:00",
          "1979-01-01T00:00:00",
          "1979-02-01T00:00:00",
          "1979-03-01T00:00:00",
          "1979-04-01T00:00:00",
          "1979-05-01T00:00:00",
          "1979-06-01T00:00:00",
          "1979-07-01T00:00:00",
          "1979-08-01T00:00:00",
          "1979-09-01T00:00:00",
          "1979-10-01T00:00:00",
          "1979-11-01T00:00:00",
          "1979-12-01T00:00:00",
          "1980-01-01T00:00:00",
          "1980-02-01T00:00:00",
          "1980-03-01T00:00:00",
          "1980-04-01T00:00:00",
          "1980-05-01T00:00:00",
          "1980-06-01T00:00:00",
          "1980-07-01T00:00:00",
          "1980-08-01T00:00:00",
          "1980-09-01T00:00:00",
          "1980-10-01T00:00:00",
          "1980-11-01T00:00:00",
          "1980-12-01T00:00:00",
          "1981-01-01T00:00:00",
          "1981-02-01T00:00:00",
          "1981-03-01T00:00:00",
          "1981-04-01T00:00:00",
          "1981-05-01T00:00:00",
          "1981-06-01T00:00:00",
          "1981-07-01T00:00:00",
          "1981-08-01T00:00:00",
          "1981-09-01T00:00:00",
          "1981-10-01T00:00:00",
          "1981-11-01T00:00:00",
          "1981-12-01T00:00:00",
          "1982-01-01T00:00:00",
          "1982-02-01T00:00:00",
          "1982-03-01T00:00:00",
          "1982-04-01T00:00:00",
          "1982-05-01T00:00:00",
          "1982-06-01T00:00:00",
          "1982-07-01T00:00:00",
          "1982-08-01T00:00:00",
          "1982-09-01T00:00:00",
          "1982-10-01T00:00:00",
          "1982-11-01T00:00:00",
          "1982-12-01T00:00:00",
          "1983-01-01T00:00:00",
          "1983-02-01T00:00:00",
          "1983-03-01T00:00:00",
          "1983-04-01T00:00:00",
          "1983-05-01T00:00:00",
          "1983-06-01T00:00:00",
          "1983-07-01T00:00:00",
          "1983-08-01T00:00:00",
          "1983-09-01T00:00:00",
          "1983-10-01T00:00:00",
          "1983-11-01T00:00:00",
          "1983-12-01T00:00:00",
          "1984-01-01T00:00:00",
          "1984-02-01T00:00:00",
          "1984-03-01T00:00:00",
          "1984-04-01T00:00:00",
          "1984-05-01T00:00:00",
          "1984-06-01T00:00:00",
          "1984-07-01T00:00:00",
          "1984-08-01T00:00:00",
          "1984-09-01T00:00:00",
          "1984-10-01T00:00:00",
          "1984-11-01T00:00:00",
          "1984-12-01T00:00:00",
          "1985-01-01T00:00:00",
          "1985-02-01T00:00:00",
          "1985-03-01T00:00:00",
          "1985-04-01T00:00:00",
          "1985-05-01T00:00:00",
          "1985-06-01T00:00:00",
          "1985-07-01T00:00:00",
          "1985-08-01T00:00:00",
          "1985-09-01T00:00:00",
          "1985-10-01T00:00:00",
          "1985-11-01T00:00:00",
          "1985-12-01T00:00:00",
          "1986-01-01T00:00:00",
          "1986-02-01T00:00:00",
          "1986-03-01T00:00:00",
          "1986-04-01T00:00:00",
          "1986-05-01T00:00:00",
          "1986-06-01T00:00:00",
          "1986-07-01T00:00:00",
          "1986-08-01T00:00:00",
          "1986-09-01T00:00:00",
          "1986-10-01T00:00:00",
          "1986-11-01T00:00:00",
          "1986-12-01T00:00:00",
          "1987-01-01T00:00:00",
          "1987-02-01T00:00:00",
          "1987-03-01T00:00:00",
          "1987-04-01T00:00:00",
          "1987-05-01T00:00:00",
          "1987-06-01T00:00:00",
          "1987-07-01T00:00:00",
          "1987-08-01T00:00:00",
          "1987-09-01T00:00:00",
          "1987-10-01T00:00:00",
          "1987-11-01T00:00:00",
          "1987-12-01T00:00:00",
          "1988-01-01T00:00:00",
          "1988-02-01T00:00:00",
          "1988-03-01T00:00:00",
          "1988-04-01T00:00:00",
          "1988-05-01T00:00:00",
          "1988-06-01T00:00:00",
          "1988-07-01T00:00:00",
          "1988-08-01T00:00:00",
          "1988-09-01T00:00:00",
          "1988-10-01T00:00:00",
          "1988-11-01T00:00:00",
          "1988-12-01T00:00:00",
          "1989-01-01T00:00:00",
          "1989-02-01T00:00:00",
          "1989-03-01T00:00:00",
          "1989-04-01T00:00:00",
          "1989-05-01T00:00:00",
          "1989-06-01T00:00:00",
          "1989-07-01T00:00:00",
          "1989-08-01T00:00:00",
          "1989-09-01T00:00:00",
          "1989-10-01T00:00:00",
          "1989-11-01T00:00:00",
          "1989-12-01T00:00:00",
          "1990-01-01T00:00:00",
          "1990-02-01T00:00:00",
          "1990-03-01T00:00:00",
          "1990-04-01T00:00:00",
          "1990-05-01T00:00:00",
          "1990-06-01T00:00:00",
          "1990-07-01T00:00:00",
          "1990-08-01T00:00:00",
          "1990-09-01T00:00:00",
          "1990-10-01T00:00:00",
          "1990-11-01T00:00:00",
          "1990-12-01T00:00:00",
          "1991-01-01T00:00:00",
          "1991-02-01T00:00:00",
          "1991-03-01T00:00:00",
          "1991-04-01T00:00:00",
          "1991-05-01T00:00:00",
          "1991-06-01T00:00:00",
          "1991-07-01T00:00:00",
          "1991-08-01T00:00:00",
          "1991-09-01T00:00:00",
          "1991-10-01T00:00:00",
          "1991-11-01T00:00:00",
          "1991-12-01T00:00:00",
          "1992-01-01T00:00:00",
          "1992-02-01T00:00:00",
          "1992-03-01T00:00:00",
          "1992-04-01T00:00:00",
          "1992-05-01T00:00:00",
          "1992-06-01T00:00:00",
          "1992-07-01T00:00:00",
          "1992-08-01T00:00:00",
          "1992-09-01T00:00:00",
          "1992-10-01T00:00:00",
          "1992-11-01T00:00:00",
          "1992-12-01T00:00:00",
          "1993-01-01T00:00:00",
          "1993-02-01T00:00:00",
          "1993-03-01T00:00:00",
          "1993-04-01T00:00:00",
          "1993-05-01T00:00:00",
          "1993-06-01T00:00:00",
          "1993-07-01T00:00:00",
          "1993-08-01T00:00:00",
          "1993-09-01T00:00:00",
          "1993-10-01T00:00:00",
          "1993-11-01T00:00:00",
          "1993-12-01T00:00:00",
          "1994-01-01T00:00:00",
          "1994-02-01T00:00:00",
          "1994-03-01T00:00:00",
          "1994-04-01T00:00:00",
          "1994-05-01T00:00:00",
          "1994-06-01T00:00:00",
          "1994-07-01T00:00:00",
          "1994-08-01T00:00:00",
          "1994-09-01T00:00:00",
          "1994-10-01T00:00:00",
          "1994-11-01T00:00:00",
          "1994-12-01T00:00:00",
          "1995-01-01T00:00:00",
          "1995-02-01T00:00:00",
          "1995-03-01T00:00:00",
          "1995-04-01T00:00:00",
          "1995-05-01T00:00:00",
          "1995-06-01T00:00:00",
          "1995-07-01T00:00:00",
          "1995-08-01T00:00:00",
          "1995-09-01T00:00:00",
          "1995-10-01T00:00:00",
          "1995-11-01T00:00:00",
          "1995-12-01T00:00:00",
          "1996-01-01T00:00:00",
          "1996-02-01T00:00:00",
          "1996-03-01T00:00:00",
          "1996-04-01T00:00:00",
          "1996-05-01T00:00:00",
          "1996-06-01T00:00:00",
          "1996-07-01T00:00:00",
          "1996-08-01T00:00:00",
          "1996-09-01T00:00:00",
          "1996-10-01T00:00:00",
          "1996-11-01T00:00:00",
          "1996-12-01T00:00:00",
          "1997-01-01T00:00:00",
          "1997-02-01T00:00:00",
          "1997-03-01T00:00:00",
          "1997-04-01T00:00:00",
          "1997-05-01T00:00:00",
          "1997-06-01T00:00:00",
          "1997-07-01T00:00:00",
          "1997-08-01T00:00:00",
          "1997-09-01T00:00:00",
          "1997-10-01T00:00:00",
          "1997-11-01T00:00:00",
          "1997-12-01T00:00:00",
          "1998-01-01T00:00:00",
          "1998-02-01T00:00:00",
          "1998-03-01T00:00:00",
          "1998-04-01T00:00:00",
          "1998-05-01T00:00:00",
          "1998-06-01T00:00:00",
          "1998-07-01T00:00:00",
          "1998-08-01T00:00:00",
          "1998-09-01T00:00:00",
          "1998-10-01T00:00:00",
          "1998-11-01T00:00:00",
          "1998-12-01T00:00:00",
          "1999-01-01T00:00:00",
          "1999-02-01T00:00:00",
          "1999-03-01T00:00:00",
          "1999-04-01T00:00:00",
          "1999-05-01T00:00:00",
          "1999-06-01T00:00:00",
          "1999-07-01T00:00:00",
          "1999-08-01T00:00:00",
          "1999-09-01T00:00:00",
          "1999-10-01T00:00:00",
          "1999-11-01T00:00:00",
          "1999-12-01T00:00:00",
          "2000-01-01T00:00:00",
          "2000-02-01T00:00:00",
          "2000-03-01T00:00:00",
          "2000-04-01T00:00:00",
          "2000-05-01T00:00:00",
          "2000-06-01T00:00:00",
          "2000-07-01T00:00:00",
          "2000-08-01T00:00:00",
          "2000-09-01T00:00:00",
          "2000-10-01T00:00:00",
          "2000-11-01T00:00:00",
          "2000-12-01T00:00:00",
          "2001-01-01T00:00:00",
          "2001-02-01T00:00:00",
          "2001-03-01T00:00:00",
          "2001-04-01T00:00:00",
          "2001-05-01T00:00:00",
          "2001-06-01T00:00:00",
          "2001-07-01T00:00:00",
          "2001-08-01T00:00:00",
          "2001-09-01T00:00:00",
          "2001-10-01T00:00:00",
          "2001-11-01T00:00:00",
          "2001-12-01T00:00:00",
          "2002-01-01T00:00:00",
          "2002-02-01T00:00:00",
          "2002-03-01T00:00:00",
          "2002-04-01T00:00:00",
          "2002-05-01T00:00:00",
          "2002-06-01T00:00:00",
          "2002-07-01T00:00:00",
          "2002-08-01T00:00:00",
          "2002-09-01T00:00:00",
          "2002-10-01T00:00:00",
          "2002-11-01T00:00:00",
          "2002-12-01T00:00:00",
          "2003-01-01T00:00:00",
          "2003-02-01T00:00:00",
          "2003-03-01T00:00:00",
          "2003-04-01T00:00:00",
          "2003-05-01T00:00:00",
          "2003-06-01T00:00:00",
          "2003-07-01T00:00:00",
          "2003-08-01T00:00:00",
          "2003-09-01T00:00:00",
          "2003-10-01T00:00:00",
          "2003-11-01T00:00:00",
          "2003-12-01T00:00:00",
          "2004-01-01T00:00:00",
          "2004-02-01T00:00:00",
          "2004-03-01T00:00:00",
          "2004-04-01T00:00:00",
          "2004-05-01T00:00:00",
          "2004-06-01T00:00:00",
          "2004-07-01T00:00:00",
          "2004-08-01T00:00:00",
          "2004-09-01T00:00:00",
          "2004-10-01T00:00:00",
          "2004-11-01T00:00:00",
          "2004-12-01T00:00:00",
          "2005-01-01T00:00:00",
          "2005-02-01T00:00:00",
          "2005-03-01T00:00:00",
          "2005-04-01T00:00:00",
          "2005-05-01T00:00:00",
          "2005-06-01T00:00:00",
          "2005-07-01T00:00:00",
          "2005-08-01T00:00:00",
          "2005-09-01T00:00:00",
          "2005-10-01T00:00:00",
          "2005-11-01T00:00:00",
          "2005-12-01T00:00:00",
          "2006-01-01T00:00:00",
          "2006-02-01T00:00:00",
          "2006-03-01T00:00:00",
          "2006-04-01T00:00:00",
          "2006-05-01T00:00:00",
          "2006-06-01T00:00:00",
          "2006-07-01T00:00:00",
          "2006-08-01T00:00:00",
          "2006-09-01T00:00:00",
          "2006-10-01T00:00:00",
          "2006-11-01T00:00:00",
          "2006-12-01T00:00:00",
          "2007-01-01T00:00:00",
          "2007-02-01T00:00:00",
          "2007-03-01T00:00:00",
          "2007-04-01T00:00:00",
          "2007-05-01T00:00:00",
          "2007-06-01T00:00:00",
          "2007-07-01T00:00:00",
          "2007-08-01T00:00:00",
          "2007-09-01T00:00:00",
          "2007-10-01T00:00:00",
          "2007-11-01T00:00:00",
          "2007-12-01T00:00:00",
          "2008-01-01T00:00:00",
          "2008-02-01T00:00:00",
          "2008-03-01T00:00:00",
          "2008-04-01T00:00:00",
          "2008-05-01T00:00:00",
          "2008-06-01T00:00:00",
          "2008-07-01T00:00:00",
          "2008-08-01T00:00:00",
          "2008-09-01T00:00:00",
          "2008-10-01T00:00:00",
          "2008-11-01T00:00:00",
          "2008-12-01T00:00:00",
          "2009-01-01T00:00:00",
          "2009-02-01T00:00:00",
          "2009-03-01T00:00:00",
          "2009-04-01T00:00:00",
          "2009-05-01T00:00:00",
          "2009-06-01T00:00:00",
          "2009-07-01T00:00:00",
          "2009-08-01T00:00:00",
          "2009-09-01T00:00:00",
          "2009-10-01T00:00:00",
          "2009-11-01T00:00:00",
          "2009-12-01T00:00:00",
          "2010-01-01T00:00:00",
          "2010-02-01T00:00:00",
          "2010-03-01T00:00:00",
          "2010-04-01T00:00:00",
          "2010-05-01T00:00:00",
          "2010-06-01T00:00:00",
          "2010-07-01T00:00:00",
          "2010-08-01T00:00:00",
          "2010-09-01T00:00:00",
          "2010-10-01T00:00:00",
          "2010-11-01T00:00:00",
          "2010-12-01T00:00:00",
          "2011-01-01T00:00:00",
          "2011-02-01T00:00:00",
          "2011-03-01T00:00:00",
          "2011-04-01T00:00:00",
          "2011-05-01T00:00:00",
          "2011-06-01T00:00:00",
          "2011-07-01T00:00:00",
          "2011-08-01T00:00:00",
          "2011-09-01T00:00:00",
          "2011-10-01T00:00:00",
          "2011-11-01T00:00:00",
          "2011-12-01T00:00:00",
          "2012-01-01T00:00:00",
          "2012-02-01T00:00:00",
          "2012-03-01T00:00:00",
          "2012-04-01T00:00:00",
          "2012-05-01T00:00:00",
          "2012-06-01T00:00:00",
          "2012-07-01T00:00:00",
          "2012-08-01T00:00:00",
          "2012-09-01T00:00:00",
          "2012-10-01T00:00:00",
          "2012-11-01T00:00:00",
          "2012-12-01T00:00:00",
          "2013-01-01T00:00:00",
          "2013-02-01T00:00:00",
          "2013-03-01T00:00:00",
          "2013-04-01T00:00:00",
          "2013-05-01T00:00:00",
          "2013-06-01T00:00:00",
          "2013-07-01T00:00:00",
          "2013-08-01T00:00:00",
          "2013-09-01T00:00:00",
          "2013-10-01T00:00:00",
          "2013-11-01T00:00:00",
          "2013-12-01T00:00:00",
          "2014-01-01T00:00:00",
          "2014-02-01T00:00:00",
          "2014-03-01T00:00:00",
          "2014-04-01T00:00:00",
          "2014-05-01T00:00:00",
          "2014-06-01T00:00:00",
          "2014-07-01T00:00:00",
          "2014-08-01T00:00:00",
          "2014-09-01T00:00:00",
          "2014-10-01T00:00:00",
          "2014-11-01T00:00:00",
          "2014-12-01T00:00:00",
          "2015-01-01T00:00:00",
          "2015-02-01T00:00:00",
          "2015-03-01T00:00:00",
          "2015-04-01T00:00:00",
          "2015-05-01T00:00:00",
          "2015-06-01T00:00:00",
          "2015-07-01T00:00:00",
          "2015-08-01T00:00:00",
          "2015-09-01T00:00:00",
          "2015-10-01T00:00:00",
          "2015-11-01T00:00:00",
          "2015-12-01T00:00:00",
          "2016-01-01T00:00:00",
          "2016-02-01T00:00:00",
          "2016-03-01T00:00:00",
          "2016-04-01T00:00:00",
          "2016-05-01T00:00:00",
          "2016-06-01T00:00:00",
          "2016-07-01T00:00:00",
          "2016-08-01T00:00:00",
          "2016-09-01T00:00:00",
          "2016-10-01T00:00:00",
          "2016-11-01T00:00:00",
          "2016-12-01T00:00:00",
          "2017-01-01T00:00:00",
          "2017-02-01T00:00:00",
          "2017-03-01T00:00:00",
          "2017-04-01T00:00:00",
          "2017-05-01T00:00:00",
          "2017-06-01T00:00:00",
          "2017-07-01T00:00:00",
          "2017-08-01T00:00:00",
          "2017-09-01T00:00:00",
          "2017-10-01T00:00:00",
          "2017-11-01T00:00:00",
          "2017-12-01T00:00:00",
          "2018-01-01T00:00:00",
          "2018-02-01T00:00:00",
          "2018-03-01T00:00:00",
          "2018-04-01T00:00:00",
          "2018-05-01T00:00:00",
          "2018-06-01T00:00:00",
          "2018-07-01T00:00:00",
          "2018-08-01T00:00:00",
          "2018-09-01T00:00:00",
          "2018-10-01T00:00:00",
          "2018-11-01T00:00:00",
          "2018-12-01T00:00:00",
          "2019-01-01T00:00:00",
          "2019-02-01T00:00:00",
          "2019-03-01T00:00:00",
          "2019-04-01T00:00:00",
          "2019-05-01T00:00:00",
          "2019-06-01T00:00:00",
          "2019-07-01T00:00:00",
          "2019-08-01T00:00:00",
          "2019-09-01T00:00:00",
          "2019-10-01T00:00:00",
          "2019-11-01T00:00:00",
          "2019-12-01T00:00:00",
          "2020-01-01T00:00:00",
          "2020-02-01T00:00:00",
          "2020-03-01T00:00:00",
          "2020-04-01T00:00:00",
          "2020-05-01T00:00:00",
          "2020-06-01T00:00:00",
          "2020-07-01T00:00:00",
          "2020-08-01T00:00:00",
          "2020-09-01T00:00:00",
          "2020-10-01T00:00:00",
          "2020-11-01T00:00:00",
          "2020-12-01T00:00:00",
          "2021-01-01T00:00:00",
          "2021-02-01T00:00:00",
          "2021-03-01T00:00:00",
          "2021-04-01T00:00:00",
          "2021-05-01T00:00:00",
          "2021-06-01T00:00:00",
          "2021-07-01T00:00:00",
          "2021-08-01T00:00:00",
          "2021-09-01T00:00:00",
          "2021-10-01T00:00:00",
          "2021-11-01T00:00:00",
          "2021-12-01T00:00:00",
          "2022-01-01T00:00:00",
          "2022-02-01T00:00:00",
          "2022-03-01T00:00:00",
          "2022-04-01T00:00:00",
          "2022-05-01T00:00:00",
          "2022-06-01T00:00:00",
          "2022-07-01T00:00:00",
          "2022-08-01T00:00:00",
          "2022-09-01T00:00:00",
          "2022-10-01T00:00:00",
          "2022-11-01T00:00:00",
          "2022-12-01T00:00:00"
         ],
         "xaxis": "x2",
         "y": [
          0.5541650273224044,
          0.6496000000000001,
          0.5846153846153845,
          0.5664533333333334,
          0.6900909090909091,
          0.35320714285714283,
          0.5006666666666667,
          0.549,
          0.6735714285714286,
          0.6738571428571428,
          0.6910000000000001,
          0.5604361702127659,
          0.6557142857142857,
          0.57475,
          0.5957,
          0.71,
          0.9566666666666667,
          0.7723333333333334,
          0.6303571428571428,
          0.37850000000000006,
          0.478125,
          0.577375,
          0.629375,
          0.5650721238938053,
          0.3741,
          0.45361,
          0.6705,
          0.5459999999999999,
          0.673375,
          0.8226666666666667,
          0.617,
          0.6491818181818182,
          0.3759333333333333,
          0.6070588235294118,
          0.508186936936937,
          0.4682142857142857,
          0.7476666666666667,
          0.869,
          0.4837142857142857,
          0.6927777777777777,
          0.5494615384615384,
          0.5598133333333333,
          0.6739999999999999,
          0.6302222222222222,
          0.7387314285714286,
          0.6595454545454545,
          0.5671514705882352,
          0.38833333333333336,
          0.679,
          0.5370476190476191,
          0.2366,
          0.5294166666666666,
          0.7391599999999999,
          0.6922631578947369,
          0.5013333333333333,
          0.6648333333333334,
          0.591,
          0.7056666666666667,
          0.5496812834224599,
          0.526,
          0.7185789473684211,
          0.6168571428571429,
          0.5914666666666667,
          0.5786428571428571,
          0.5911428571428571,
          0.6591,
          0.641888888888889,
          0.6332857142857142,
          0.6040588235294118,
          0.7001615384615385,
          0.6478149758454106,
          0.528,
          0.66175,
          0.6901818181818181,
          0.500775,
          0.6501288461538461,
          0.5055333333333334,
          0.634352380952381,
          0.5201833333333333,
          0.5492941176470588,
          0.643,
          0.58875,
          0.5705747967479675,
          0.5978620689655173,
          0.5931935483870967,
          0.593,
          0.489,
          0.5768148148148148,
          0.54075,
          0.4707,
          0.5790538461538461,
          0.45913529411764703,
          0.49154871794871796,
          0.5224074074074074,
          0.587078125,
          0.6508846153846153,
          0.43749000000000005,
          0.5613181818181818,
          0.6293333333333333,
          0.5250666666666667,
          0.5431025641025641,
          0.5831904761904761,
          0.37105238095238097,
          0.5176000000000001,
          0.5545833333333333,
          0.639,
          0.5799369402985075,
          0.3792,
          0.3941578947368421,
          0.5156086956521739,
          0.5436,
          0.5397142857142857,
          0.34428064516129037,
          0.5490241379310344,
          0.5189729166666667,
          0.4756138888888889,
          0.5400333333333334,
          0.5591333333333334,
          0.5889485815602836,
          0.529483870967742,
          0.5272857142857142,
          0.4574285714285714,
          0.5606470588235295,
          0.6196551724137931,
          0.69115,
          0.6051666666666667,
          0.5431739130434783,
          0.42811176470588236,
          0.6144512195121951,
          0.514085294117647,
          0.5371766355140186,
          0.47228333333333333,
          0.4640565217391304,
          0.57775,
          0.6086896551724138,
          0.5835454545454546,
          0.5373333333333333,
          0.5158888888888888,
          0.5616258064516129,
          0.5873333333333333,
          0.5014186046511628,
          0.5528571428571429,
          0.5675958737864077,
          0.5626333333333334,
          0.4779,
          0.5848421052631579,
          0.6187275862068966,
          0.5038880952380952,
          0.58904,
          0.6849166666666666,
          0.43244999999999995,
          0.5925357142857143,
          0.5427083333333333,
          0.6397,
          0.6057992167101828,
          0.5086096774193548,
          0.4232925925925926,
          0.624385294117647,
          0.5497857142857143,
          0.5345882352941176,
          0.6059310344827586,
          0.6044583333333333,
          0.5570766666666667,
          0.590638,
          0.6236785714285714,
          0.6803478260869565,
          0.5711528481012658,
          0.6163416666666667,
          0.6208,
          0.599764705882353,
          0.421,
          0.6767428571428571,
          0.6334375,
          0.49216666666666664,
          0.5364666666666666,
          0.5584761904761905,
          0.5570166666666666,
          0.6276666666666666,
          0.5586411347517731,
          0.5615173913043477,
          0.5042850000000001,
          0.570924,
          0.49391153846153846,
          0.5888421052631579,
          0.6501,
          0.5780000000000001,
          0.43993125,
          0.6323333333333333,
          0.5948085714285715,
          0.66067,
          0.5951321100917432,
          0.5324047619047619,
          0.565695652173913,
          0.644076923076923,
          0.4767047619047619,
          0.5882222222222222,
          0.6384545454545454,
          0.6885,
          0.5665135135135134,
          0.6099444444444444,
          0.5622380952380952,
          0.4108266666666667,
          0.5833058201058201,
          0.6514935483870968,
          0.4033185185185185,
          0.5539999999999999,
          0.5593333333333333,
          0.7398947368421053,
          0.6158904761904762,
          0.6512142857142857,
          0.6135541666666667,
          0.4943170731707317,
          0.6394344827586207,
          0.5529999999999999,
          0.63178,
          0.5946551724137932,
          0.5702941176470588,
          0.6854516129032258,
          0.6495,
          0.5644555555555555,
          0.5511538461538461,
          0.7176666666666667,
          0.7340416666666667,
          0.582358064516129,
          0.597265306122449,
          0.6665555555555556,
          0.6541653944020356,
          0.5531999999999999,
          0.6278620689655172,
          0.56042,
          0.7073333333333333,
          0.577767857142857,
          0.6372352941176471,
          0.71340625,
          0.621909090909091,
          0.6233157894736842,
          0.41391176470588237,
          0.5464100000000001,
          0.628992628992629,
          0.6847692307692307,
          0.688,
          0.61312,
          0.7293416666666667,
          0.5839090909090909,
          0.5586800000000001,
          0.54601875,
          0.5991710526315789,
          0.6358424242424243,
          0.5235483870967742,
          0.5100761904761905,
          0.5588062084257206,
          0.55194375,
          0.6523285714285715,
          0.5753,
          0.6182000000000001,
          0.6243888888888889,
          0.41811052631578943,
          0.6315666666666666,
          0.52125,
          0.6532608695652175,
          0.54309375,
          0.41700909090909094,
          0.5667599489795919,
          0.5342857142857143,
          0.6231899999999999,
          0.6455647058823529,
          0.58928125,
          0.5510757575757577,
          0.4743516129032258,
          0.7610666666666667,
          0.5181833333333333,
          0.6554761904761905,
          0.5449512195121952,
          0.7406666666666667,
          0.5443985915492958,
          0.6631176470588235,
          0.49972352941176473,
          0.746090909090909,
          0.7126333333333333,
          0.617125,
          0.4009606060606061,
          0.5470344827586208,
          0.6491619047619048,
          0.5694535714285714,
          0.6565944444444445,
          0.560392,
          0.543211320754717,
          0.6091764705882353,
          0.6402592592592592,
          0.6564705882352941,
          0.5947,
          0.5740106382978724,
          0.46422558139534886,
          0.4585535714285714,
          0.5088709677419355,
          0.6006204081632652,
          0.5275128205128206,
          0.4559068965517241,
          0.5608075723830735,
          0.5415277777777778,
          0.41722000000000004,
          0.4977782608695652,
          0.5869,
          0.6008064516129032,
          0.5203666666666666,
          0.7156666666666667,
          0.5542244444444445,
          0.553284375,
          0.5786176470588236,
          0.59645,
          0.49734906542056073,
          0.508621052631579,
          0.539176923076923,
          0.4950243243243243,
          0.6001923076923077,
          0.5412904761904762,
          0.5911722222222222,
          0.5504666666666667,
          0.47602307692307694,
          0.5550407407407407,
          0.4971017241379311,
          0.7872142857142856,
          0.543162271062271,
          0.67015,
          0.5171148936170213,
          0.5779473684210527,
          0.5984057142857142,
          0.4638269230769231,
          0.5756063829787234,
          0.6112162162162161,
          0.5839474576271186,
          0.4733179487179487,
          0.5542199999999999,
          0.5264888888888889,
          0.549387265917603,
          0.6016585365853658,
          0.6328891891891892,
          0.4563222222222223,
          0.5855675675675676,
          0.5884325581395349,
          0.6343736842105263,
          0.6112,
          0.5499842105263157,
          0.5435172413793103,
          0.5597894736842105,
          0.41502,
          0.528668085106383,
          0.688047619047619,
          0.5771724137931035,
          0.5139976190476191,
          0.5159867924528302,
          0.5256666666666666,
          0.45715500000000003,
          0.5802108108108108,
          0.5509267857142858,
          0.5451875,
          0.5525652173913044,
          0.702875,
          0.5318764227642276,
          0.5822119402985075,
          0.50802,
          0.5434577777777778,
          0.48150256410256415,
          0.6640810810810811,
          0.5642457627118644,
          0.514655,
          0.49246142857142855,
          0.5206923076923077,
          0.4913825,
          0.3783315789473684,
          0.538253274559194,
          0.4674034482758621,
          0.45753809523809524,
          0.5926680851063829,
          0.5913695652173913,
          0.38850222222222225,
          0.5373,
          0.48418850574712646,
          0.4712504,
          0.5347904109589041,
          0.4663678571428571,
          0.6083461538461539,
          0.501426923076923,
          0.4942016393442623,
          0.5383735294117648,
          0.46756,
          0.65185,
          0.49292054794520546,
          0.5505720000000001,
          0.5625423076923076,
          0.47700888888888887,
          0.47162173913043476,
          0.5787745454545454,
          0.4817033333333333,
          0.5242166874221669,
          0.5001019607843137,
          0.5157785714285714,
          0.47457407407407404,
          0.5288596153846153,
          0.49146260162601624,
          0.5418507462686567,
          0.5233031746031745,
          0.5400461538461538,
          0.4364254716981132,
          0.5616,
          0.6254418604651163,
          0.49907569791666667,
          0.5551619047619047,
          0.40551583333333335,
          0.46961348314606743,
          0.4889552380952381,
          0.5287765957446808,
          0.6482410526315789,
          0.46887685185185185,
          0.48346052631578945,
          0.48766363636363635,
          0.4874457831325301,
          0.4461942857142857,
          0.4897160450997398,
          0.5447274509803922,
          0.47229009900990104,
          0.47094912280701756,
          0.5401164383561644,
          0.4867,
          0.5882108695652174,
          0.4831211111111111,
          0.4332052631578947,
          0.5229506578947368,
          0.4659747368421053,
          0.3474047619047619,
          0.5221504486540379,
          0.5619604651162791,
          0.5532377049180328,
          0.5878136363636364,
          0.5085590909090909,
          0.4800840336134454,
          0.53454,
          0.4604976744186047,
          0.5362323308270677,
          0.4935902097902098,
          0.528059595959596,
          0.5083447368421052,
          0.5360453290008124,
          0.5268937499999999,
          0.48822879999999996,
          0.5322574999999999,
          0.4352607843137255,
          0.5012179856115109,
          0.33216565656565655,
          0.4590669014084507,
          0.5299065573770492,
          0.4792048780487805,
          0.4943740740740741,
          0.4391684210526316,
          0.5452563031161473,
          0.45057087378640776,
          0.5840357723577235,
          0.5091688888888889,
          0.5131578947368421,
          0.5602768595041322,
          0.5604329670329671,
          0.5195943548387096,
          0.5396797202797202,
          0.45489411764705884,
          0.5334126126126126,
          0.5781939393939394,
          0.5283724164724165,
          0.45985206611570245,
          0.49807391304347826,
          0.49316923076923075,
          0.4676762295081967,
          0.5211837209302325,
          0.6191041666666667,
          0.46913541666666664,
          0.48045069444444444,
          0.544826815642458,
          0.5315205128205128,
          0.47349523809523814,
          0.5338304163726182,
          0.57401,
          0.6012777777777778,
          0.5051274725274725,
          0.5184692307692308,
          0.5161391999999999,
          0.5716207317073171,
          0.5543010101010101,
          0.4970491525423729,
          0.5367747663551402,
          0.5375759124087591,
          0.5259058823529412,
          0.5349508650519031,
          0.5067176470588235,
          0.5301622641509434,
          0.513665,
          0.4970288343558282,
          0.5392881188118812,
          0.43737176470588235,
          0.541896062992126,
          0.5081584615384614,
          0.44788556701030924,
          0.5071654676258992,
          0.5260247311827957,
          0.5182983236621534,
          0.5792858757062147,
          0.5149117647058824,
          0.49942923076923074,
          0.5369541935483871,
          0.5475356521739131,
          0.5849495867768595,
          0.46859925373134326,
          0.5630669421487604,
          0.484898773006135,
          0.48747131782945735,
          0.47492615384615383,
          0.5208879863481228,
          0.46497066666666664,
          0.47296759776536307,
          0.5295905982905983,
          0.4489592,
          0.500134756097561,
          0.545236974789916,
          0.524397247706422,
          0.5366994845360824,
          0.49409378531073445,
          0.3831632850241546,
          0.5026929824561404,
          0.5279912790697674,
          0.5273656,
          0.5353767567567568,
          0.38196214689265534,
          0.4463780104712042,
          0.5074524064171123,
          0.6422078048780488,
          0.4691444444444445,
          0.45516436781609193,
          0.49813821656050955,
          0.44430000000000003,
          0.4631337209302326,
          0.5174658817373103,
          0.5650993243243243,
          0.48909714285714284,
          0.5882162601626016,
          0.5503329268292683,
          0.565904705882353,
          0.5286971014492753,
          0.5030100961538462,
          0.4893778947368421,
          0.4995147766323024,
          0.487861328125,
          0.48921605839416055,
          0.5164363146067416,
          0.5191923976608187,
          0.4815929245283019,
          0.5298204633204633,
          0.4897607382550336,
          0.5167755868544601,
          0.5729708994708995,
          0.5446,
          0.49180959752321984,
          0.4583057692307692,
          0.5128305418719212,
          0.51205,
          0.5178304371002131,
          0.5706496551724138,
          0.5528596899224806,
          0.5090877906976744,
          0.5306007092198581,
          0.5354935606060606,
          0.4909216783216784,
          0.5237797101449275,
          0.4532623853211009,
          0.5108056657223796,
          0.4922924603174603,
          0.5238701754385965,
          0.5045027860696517,
          0.5182953703703704,
          0.5152560311284047,
          0.5306606557377049,
          0.5126836538461539,
          0.5032482084690554,
          0.4983979094076655,
          0.49333576923076927,
          0.4807804469273743,
          0.5057910290237466,
          0.4599638483965014,
          0.5128674208144797,
          0.5263352463179279,
          0.5129875457875458,
          0.5376529157667387,
          0.5108230769230769,
          0.5244817438692099,
          0.5195888888888889,
          0.504666796875,
          0.4805677811550152,
          0.5068813333333333,
          0.47434677419354837,
          0.4840991847826087,
          0.4617857566765579,
          0.5280913551401869,
          0.5507053846153847,
          0.4557654989384289,
          0.5175775413711584,
          0.48429308035714286,
          0.5039568764568765,
          0.5065445054945056,
          0.4929965601965602,
          0.45832423875432526,
          0.5006756704980844,
          0.5302409972299169,
          0.45745107692307696,
          0.4807109950859951,
          0.448288231292517,
          0.46615105008077545,
          0.5014925430210325,
          0.4908081370449679,
          0.4743152014652014,
          0.5248042492917847,
          0.5197194303797469,
          0.48113024118738407,
          0.47143611111111106,
          0.4593368167202572,
          0.42408005115089514,
          0.46476311764705885,
          0.4372789592760181,
          0.4583190170940171,
          0.47229116022099443,
          0.4730739051094891,
          0.5013558386411889,
          0.4778695075757576,
          0.47991446078431377,
          0.46752283849918436,
          0.4603510039630119,
          0.42924051282051284,
          0.4570381081081081,
          0.454603793911007,
          0.4614230215827338,
          0.5033263532763533,
          0.44076499133448876,
          0.4672930194805195,
          0.4741618066561014,
          0.4652552158273381,
          0.4639494680851064,
          0.4511281118881119,
          0.44818988439306356,
          0.43273611898017,
          0.4999677725118484,
          0.4257813646702047,
          0.45678028616852145,
          0.46465700310559005,
          0.4545420054200542,
          0.48112649800266316,
          0.46810873485868104,
          0.44583787375415285,
          0.4829825072886298,
          0.4321733050847458,
          0.4564448579823702,
          0.4048140861466822,
          0.4313104234527687,
          0.4727159503342885,
          0.43962552825552825,
          0.4197784294234592,
          0.4395445497076023,
          0.4489523864959255,
          0.4378307262569832,
          0.45960635167464114,
          0.43251137440758297,
          0.38823677474402735,
          0.42369143341815096,
          0.43384380341880346,
          0.4063935331230284,
          0.4346503370786517,
          0.38728840048840046,
          0.4228862470862471,
          0.4184312174817898,
          0.43582875288683603,
          0.3917648217636023,
          0.4265596130592503,
          0.4149346871686108,
          0.4212298169136879,
          0.41824547118023786,
          0.4008771694214876,
          0.4407374074074074,
          0.4184465741728922,
          0.4016022517911976,
          0.42971270588235294,
          0.4191917552182163,
          0.43679520595968446,
          0.42538318367346933,
          0.43711840855106887,
          0.4350138712601994,
          0.4038366045845272,
          0.4157857372654155,
          0.40529940652818996,
          0.41268167002012074,
          0.39023410301953815,
          0.4001003493449781,
          0.39847634854771785,
          0.43087988782051284,
          0.4143962962962963,
          0.4263938527519657,
          0.43277332015810277,
          0.42292927161334243,
          0.4167501957713391,
          0.4096793113772455,
          0.42694617962466486,
          0.4233910375494071,
          0.4117748704663213,
          0.3943914438502674,
          0.4089585942936674,
          0.4173691874497184,
          0.42655261794019933,
          0.43637723930982747,
          0.4181587196969697,
          0.41555045454545453,
          0.4042499099099099,
          0.39460762222222223,
          0.4032226351351351,
          0.41531878865979377,
          0.3944130434782609,
          0.416259185282523,
          0.39460577383720935,
          0.39634128466707397,
          0.4122034730538922,
          0.40858500097560974,
          0.4176979469825155,
          0.4207427597195666,
          0.3943543379978472,
          0.41278115626309175,
          0.40459241533864543,
          0.4036427810760668,
          0.37500136391068195,
          0.4018355132641292,
          0.3969970782331027,
          0.37024691127098325,
          0.4122293667242372,
          0.42071952702702703,
          0.4143378532580811,
          0.4163623489553924,
          0.3973225996971227,
          0.38132753514180023,
          0.396742554973822,
          0.38694614990390774,
          0.3859795347564313,
          0.3920518140474987,
          0.38525043468365955,
          0.38551274662529095,
          0.38449311238337575,
          0.4037130434597358,
          0.42094008512213177,
          0.3865012090345439,
          0.39658626558603494,
          0.37258763784097504,
          0.3729308049624928,
          0.37211244351755307
         ],
         "yaxis": "y2"
        },
        {
         "hovertemplate": "<b>OLS trendline</b><br>valence = -9.20539e-11 * x + 0.588592<br>R<sup>2</sup>=0.367638<br><br>x=%{x}<br>valence=%{y} <b>(trend)</b><extra></extra>",
         "legendgroup": "",
         "line": {
          "color": "red"
         },
         "marker": {
          "color": "#636efa",
          "symbol": "circle"
         },
         "mode": "lines",
         "name": "",
         "showlegend": false,
         "type": "scatter",
         "x": [
          "1960-01-01T00:00:00",
          "1960-02-01T00:00:00",
          "1960-03-01T00:00:00",
          "1960-04-01T00:00:00",
          "1960-05-01T00:00:00",
          "1960-07-01T00:00:00",
          "1960-08-01T00:00:00",
          "1960-09-01T00:00:00",
          "1960-10-01T00:00:00",
          "1960-11-01T00:00:00",
          "1960-12-01T00:00:00",
          "1961-01-01T00:00:00",
          "1961-02-01T00:00:00",
          "1961-03-01T00:00:00",
          "1961-04-01T00:00:00",
          "1961-05-01T00:00:00",
          "1961-06-01T00:00:00",
          "1961-07-01T00:00:00",
          "1961-08-01T00:00:00",
          "1961-09-01T00:00:00",
          "1961-10-01T00:00:00",
          "1961-11-01T00:00:00",
          "1961-12-01T00:00:00",
          "1962-01-01T00:00:00",
          "1962-02-01T00:00:00",
          "1962-03-01T00:00:00",
          "1962-04-01T00:00:00",
          "1962-05-01T00:00:00",
          "1962-06-01T00:00:00",
          "1962-07-01T00:00:00",
          "1962-08-01T00:00:00",
          "1962-10-01T00:00:00",
          "1962-11-01T00:00:00",
          "1962-12-01T00:00:00",
          "1963-01-01T00:00:00",
          "1963-02-01T00:00:00",
          "1963-03-01T00:00:00",
          "1963-04-01T00:00:00",
          "1963-05-01T00:00:00",
          "1963-06-01T00:00:00",
          "1963-07-01T00:00:00",
          "1963-08-01T00:00:00",
          "1963-09-01T00:00:00",
          "1963-10-01T00:00:00",
          "1963-11-01T00:00:00",
          "1963-12-01T00:00:00",
          "1964-01-01T00:00:00",
          "1964-02-01T00:00:00",
          "1964-03-01T00:00:00",
          "1964-04-01T00:00:00",
          "1964-05-01T00:00:00",
          "1964-06-01T00:00:00",
          "1964-07-01T00:00:00",
          "1964-08-01T00:00:00",
          "1964-09-01T00:00:00",
          "1964-10-01T00:00:00",
          "1964-11-01T00:00:00",
          "1964-12-01T00:00:00",
          "1965-01-01T00:00:00",
          "1965-02-01T00:00:00",
          "1965-03-01T00:00:00",
          "1965-04-01T00:00:00",
          "1965-05-01T00:00:00",
          "1965-06-01T00:00:00",
          "1965-07-01T00:00:00",
          "1965-08-01T00:00:00",
          "1965-09-01T00:00:00",
          "1965-10-01T00:00:00",
          "1965-11-01T00:00:00",
          "1965-12-01T00:00:00",
          "1966-01-01T00:00:00",
          "1966-02-01T00:00:00",
          "1966-03-01T00:00:00",
          "1966-04-01T00:00:00",
          "1966-05-01T00:00:00",
          "1966-06-01T00:00:00",
          "1966-07-01T00:00:00",
          "1966-08-01T00:00:00",
          "1966-09-01T00:00:00",
          "1966-10-01T00:00:00",
          "1966-11-01T00:00:00",
          "1966-12-01T00:00:00",
          "1967-01-01T00:00:00",
          "1967-02-01T00:00:00",
          "1967-03-01T00:00:00",
          "1967-04-01T00:00:00",
          "1967-05-01T00:00:00",
          "1967-06-01T00:00:00",
          "1967-07-01T00:00:00",
          "1967-08-01T00:00:00",
          "1967-09-01T00:00:00",
          "1967-10-01T00:00:00",
          "1967-11-01T00:00:00",
          "1967-12-01T00:00:00",
          "1968-01-01T00:00:00",
          "1968-02-01T00:00:00",
          "1968-03-01T00:00:00",
          "1968-04-01T00:00:00",
          "1968-05-01T00:00:00",
          "1968-06-01T00:00:00",
          "1968-07-01T00:00:00",
          "1968-08-01T00:00:00",
          "1968-09-01T00:00:00",
          "1968-10-01T00:00:00",
          "1968-11-01T00:00:00",
          "1968-12-01T00:00:00",
          "1969-01-01T00:00:00",
          "1969-02-01T00:00:00",
          "1969-03-01T00:00:00",
          "1969-04-01T00:00:00",
          "1969-05-01T00:00:00",
          "1969-06-01T00:00:00",
          "1969-07-01T00:00:00",
          "1969-08-01T00:00:00",
          "1969-09-01T00:00:00",
          "1969-10-01T00:00:00",
          "1969-11-01T00:00:00",
          "1969-12-01T00:00:00",
          "1970-01-01T00:00:00",
          "1970-02-01T00:00:00",
          "1970-03-01T00:00:00",
          "1970-04-01T00:00:00",
          "1970-05-01T00:00:00",
          "1970-06-01T00:00:00",
          "1970-07-01T00:00:00",
          "1970-08-01T00:00:00",
          "1970-09-01T00:00:00",
          "1970-10-01T00:00:00",
          "1970-11-01T00:00:00",
          "1970-12-01T00:00:00",
          "1971-01-01T00:00:00",
          "1971-02-01T00:00:00",
          "1971-03-01T00:00:00",
          "1971-04-01T00:00:00",
          "1971-05-01T00:00:00",
          "1971-06-01T00:00:00",
          "1971-07-01T00:00:00",
          "1971-08-01T00:00:00",
          "1971-09-01T00:00:00",
          "1971-10-01T00:00:00",
          "1971-11-01T00:00:00",
          "1971-12-01T00:00:00",
          "1972-01-01T00:00:00",
          "1972-02-01T00:00:00",
          "1972-03-01T00:00:00",
          "1972-04-01T00:00:00",
          "1972-05-01T00:00:00",
          "1972-06-01T00:00:00",
          "1972-07-01T00:00:00",
          "1972-08-01T00:00:00",
          "1972-09-01T00:00:00",
          "1972-10-01T00:00:00",
          "1972-11-01T00:00:00",
          "1972-12-01T00:00:00",
          "1973-01-01T00:00:00",
          "1973-02-01T00:00:00",
          "1973-03-01T00:00:00",
          "1973-04-01T00:00:00",
          "1973-05-01T00:00:00",
          "1973-06-01T00:00:00",
          "1973-07-01T00:00:00",
          "1973-08-01T00:00:00",
          "1973-09-01T00:00:00",
          "1973-10-01T00:00:00",
          "1973-11-01T00:00:00",
          "1973-12-01T00:00:00",
          "1974-01-01T00:00:00",
          "1974-02-01T00:00:00",
          "1974-03-01T00:00:00",
          "1974-04-01T00:00:00",
          "1974-05-01T00:00:00",
          "1974-06-01T00:00:00",
          "1974-07-01T00:00:00",
          "1974-08-01T00:00:00",
          "1974-09-01T00:00:00",
          "1974-10-01T00:00:00",
          "1974-11-01T00:00:00",
          "1974-12-01T00:00:00",
          "1975-01-01T00:00:00",
          "1975-02-01T00:00:00",
          "1975-03-01T00:00:00",
          "1975-04-01T00:00:00",
          "1975-05-01T00:00:00",
          "1975-06-01T00:00:00",
          "1975-07-01T00:00:00",
          "1975-08-01T00:00:00",
          "1975-09-01T00:00:00",
          "1975-10-01T00:00:00",
          "1975-11-01T00:00:00",
          "1975-12-01T00:00:00",
          "1976-01-01T00:00:00",
          "1976-02-01T00:00:00",
          "1976-03-01T00:00:00",
          "1976-04-01T00:00:00",
          "1976-05-01T00:00:00",
          "1976-06-01T00:00:00",
          "1976-07-01T00:00:00",
          "1976-08-01T00:00:00",
          "1976-09-01T00:00:00",
          "1976-10-01T00:00:00",
          "1976-11-01T00:00:00",
          "1976-12-01T00:00:00",
          "1977-01-01T00:00:00",
          "1977-02-01T00:00:00",
          "1977-03-01T00:00:00",
          "1977-04-01T00:00:00",
          "1977-05-01T00:00:00",
          "1977-06-01T00:00:00",
          "1977-07-01T00:00:00",
          "1977-08-01T00:00:00",
          "1977-09-01T00:00:00",
          "1977-10-01T00:00:00",
          "1977-11-01T00:00:00",
          "1977-12-01T00:00:00",
          "1978-01-01T00:00:00",
          "1978-02-01T00:00:00",
          "1978-03-01T00:00:00",
          "1978-04-01T00:00:00",
          "1978-05-01T00:00:00",
          "1978-06-01T00:00:00",
          "1978-07-01T00:00:00",
          "1978-08-01T00:00:00",
          "1978-09-01T00:00:00",
          "1978-10-01T00:00:00",
          "1978-11-01T00:00:00",
          "1978-12-01T00:00:00",
          "1979-01-01T00:00:00",
          "1979-02-01T00:00:00",
          "1979-03-01T00:00:00",
          "1979-04-01T00:00:00",
          "1979-05-01T00:00:00",
          "1979-06-01T00:00:00",
          "1979-07-01T00:00:00",
          "1979-08-01T00:00:00",
          "1979-09-01T00:00:00",
          "1979-10-01T00:00:00",
          "1979-11-01T00:00:00",
          "1979-12-01T00:00:00",
          "1980-01-01T00:00:00",
          "1980-02-01T00:00:00",
          "1980-03-01T00:00:00",
          "1980-04-01T00:00:00",
          "1980-05-01T00:00:00",
          "1980-06-01T00:00:00",
          "1980-07-01T00:00:00",
          "1980-08-01T00:00:00",
          "1980-09-01T00:00:00",
          "1980-10-01T00:00:00",
          "1980-11-01T00:00:00",
          "1980-12-01T00:00:00",
          "1981-01-01T00:00:00",
          "1981-02-01T00:00:00",
          "1981-03-01T00:00:00",
          "1981-04-01T00:00:00",
          "1981-05-01T00:00:00",
          "1981-06-01T00:00:00",
          "1981-07-01T00:00:00",
          "1981-08-01T00:00:00",
          "1981-09-01T00:00:00",
          "1981-10-01T00:00:00",
          "1981-11-01T00:00:00",
          "1981-12-01T00:00:00",
          "1982-01-01T00:00:00",
          "1982-02-01T00:00:00",
          "1982-03-01T00:00:00",
          "1982-04-01T00:00:00",
          "1982-05-01T00:00:00",
          "1982-06-01T00:00:00",
          "1982-07-01T00:00:00",
          "1982-08-01T00:00:00",
          "1982-09-01T00:00:00",
          "1982-10-01T00:00:00",
          "1982-11-01T00:00:00",
          "1982-12-01T00:00:00",
          "1983-01-01T00:00:00",
          "1983-02-01T00:00:00",
          "1983-03-01T00:00:00",
          "1983-04-01T00:00:00",
          "1983-05-01T00:00:00",
          "1983-06-01T00:00:00",
          "1983-07-01T00:00:00",
          "1983-08-01T00:00:00",
          "1983-09-01T00:00:00",
          "1983-10-01T00:00:00",
          "1983-11-01T00:00:00",
          "1983-12-01T00:00:00",
          "1984-01-01T00:00:00",
          "1984-02-01T00:00:00",
          "1984-03-01T00:00:00",
          "1984-04-01T00:00:00",
          "1984-05-01T00:00:00",
          "1984-06-01T00:00:00",
          "1984-07-01T00:00:00",
          "1984-08-01T00:00:00",
          "1984-09-01T00:00:00",
          "1984-10-01T00:00:00",
          "1984-11-01T00:00:00",
          "1984-12-01T00:00:00",
          "1985-01-01T00:00:00",
          "1985-02-01T00:00:00",
          "1985-03-01T00:00:00",
          "1985-04-01T00:00:00",
          "1985-05-01T00:00:00",
          "1985-06-01T00:00:00",
          "1985-07-01T00:00:00",
          "1985-08-01T00:00:00",
          "1985-09-01T00:00:00",
          "1985-10-01T00:00:00",
          "1985-11-01T00:00:00",
          "1985-12-01T00:00:00",
          "1986-01-01T00:00:00",
          "1986-02-01T00:00:00",
          "1986-03-01T00:00:00",
          "1986-04-01T00:00:00",
          "1986-05-01T00:00:00",
          "1986-06-01T00:00:00",
          "1986-07-01T00:00:00",
          "1986-08-01T00:00:00",
          "1986-09-01T00:00:00",
          "1986-10-01T00:00:00",
          "1986-11-01T00:00:00",
          "1986-12-01T00:00:00",
          "1987-01-01T00:00:00",
          "1987-02-01T00:00:00",
          "1987-03-01T00:00:00",
          "1987-04-01T00:00:00",
          "1987-05-01T00:00:00",
          "1987-06-01T00:00:00",
          "1987-07-01T00:00:00",
          "1987-08-01T00:00:00",
          "1987-09-01T00:00:00",
          "1987-10-01T00:00:00",
          "1987-11-01T00:00:00",
          "1987-12-01T00:00:00",
          "1988-01-01T00:00:00",
          "1988-02-01T00:00:00",
          "1988-03-01T00:00:00",
          "1988-04-01T00:00:00",
          "1988-05-01T00:00:00",
          "1988-06-01T00:00:00",
          "1988-07-01T00:00:00",
          "1988-08-01T00:00:00",
          "1988-09-01T00:00:00",
          "1988-10-01T00:00:00",
          "1988-11-01T00:00:00",
          "1988-12-01T00:00:00",
          "1989-01-01T00:00:00",
          "1989-02-01T00:00:00",
          "1989-03-01T00:00:00",
          "1989-04-01T00:00:00",
          "1989-05-01T00:00:00",
          "1989-06-01T00:00:00",
          "1989-07-01T00:00:00",
          "1989-08-01T00:00:00",
          "1989-09-01T00:00:00",
          "1989-10-01T00:00:00",
          "1989-11-01T00:00:00",
          "1989-12-01T00:00:00",
          "1990-01-01T00:00:00",
          "1990-02-01T00:00:00",
          "1990-03-01T00:00:00",
          "1990-04-01T00:00:00",
          "1990-05-01T00:00:00",
          "1990-06-01T00:00:00",
          "1990-07-01T00:00:00",
          "1990-08-01T00:00:00",
          "1990-09-01T00:00:00",
          "1990-10-01T00:00:00",
          "1990-11-01T00:00:00",
          "1990-12-01T00:00:00",
          "1991-01-01T00:00:00",
          "1991-02-01T00:00:00",
          "1991-03-01T00:00:00",
          "1991-04-01T00:00:00",
          "1991-05-01T00:00:00",
          "1991-06-01T00:00:00",
          "1991-07-01T00:00:00",
          "1991-08-01T00:00:00",
          "1991-09-01T00:00:00",
          "1991-10-01T00:00:00",
          "1991-11-01T00:00:00",
          "1991-12-01T00:00:00",
          "1992-01-01T00:00:00",
          "1992-02-01T00:00:00",
          "1992-03-01T00:00:00",
          "1992-04-01T00:00:00",
          "1992-05-01T00:00:00",
          "1992-06-01T00:00:00",
          "1992-07-01T00:00:00",
          "1992-08-01T00:00:00",
          "1992-09-01T00:00:00",
          "1992-10-01T00:00:00",
          "1992-11-01T00:00:00",
          "1992-12-01T00:00:00",
          "1993-01-01T00:00:00",
          "1993-02-01T00:00:00",
          "1993-03-01T00:00:00",
          "1993-04-01T00:00:00",
          "1993-05-01T00:00:00",
          "1993-06-01T00:00:00",
          "1993-07-01T00:00:00",
          "1993-08-01T00:00:00",
          "1993-09-01T00:00:00",
          "1993-10-01T00:00:00",
          "1993-11-01T00:00:00",
          "1993-12-01T00:00:00",
          "1994-01-01T00:00:00",
          "1994-02-01T00:00:00",
          "1994-03-01T00:00:00",
          "1994-04-01T00:00:00",
          "1994-05-01T00:00:00",
          "1994-06-01T00:00:00",
          "1994-07-01T00:00:00",
          "1994-08-01T00:00:00",
          "1994-09-01T00:00:00",
          "1994-10-01T00:00:00",
          "1994-11-01T00:00:00",
          "1994-12-01T00:00:00",
          "1995-01-01T00:00:00",
          "1995-02-01T00:00:00",
          "1995-03-01T00:00:00",
          "1995-04-01T00:00:00",
          "1995-05-01T00:00:00",
          "1995-06-01T00:00:00",
          "1995-07-01T00:00:00",
          "1995-08-01T00:00:00",
          "1995-09-01T00:00:00",
          "1995-10-01T00:00:00",
          "1995-11-01T00:00:00",
          "1995-12-01T00:00:00",
          "1996-01-01T00:00:00",
          "1996-02-01T00:00:00",
          "1996-03-01T00:00:00",
          "1996-04-01T00:00:00",
          "1996-05-01T00:00:00",
          "1996-06-01T00:00:00",
          "1996-07-01T00:00:00",
          "1996-08-01T00:00:00",
          "1996-09-01T00:00:00",
          "1996-10-01T00:00:00",
          "1996-11-01T00:00:00",
          "1996-12-01T00:00:00",
          "1997-01-01T00:00:00",
          "1997-02-01T00:00:00",
          "1997-03-01T00:00:00",
          "1997-04-01T00:00:00",
          "1997-05-01T00:00:00",
          "1997-06-01T00:00:00",
          "1997-07-01T00:00:00",
          "1997-08-01T00:00:00",
          "1997-09-01T00:00:00",
          "1997-10-01T00:00:00",
          "1997-11-01T00:00:00",
          "1997-12-01T00:00:00",
          "1998-01-01T00:00:00",
          "1998-02-01T00:00:00",
          "1998-03-01T00:00:00",
          "1998-04-01T00:00:00",
          "1998-05-01T00:00:00",
          "1998-06-01T00:00:00",
          "1998-07-01T00:00:00",
          "1998-08-01T00:00:00",
          "1998-09-01T00:00:00",
          "1998-10-01T00:00:00",
          "1998-11-01T00:00:00",
          "1998-12-01T00:00:00",
          "1999-01-01T00:00:00",
          "1999-02-01T00:00:00",
          "1999-03-01T00:00:00",
          "1999-04-01T00:00:00",
          "1999-05-01T00:00:00",
          "1999-06-01T00:00:00",
          "1999-07-01T00:00:00",
          "1999-08-01T00:00:00",
          "1999-09-01T00:00:00",
          "1999-10-01T00:00:00",
          "1999-11-01T00:00:00",
          "1999-12-01T00:00:00",
          "2000-01-01T00:00:00",
          "2000-02-01T00:00:00",
          "2000-03-01T00:00:00",
          "2000-04-01T00:00:00",
          "2000-05-01T00:00:00",
          "2000-06-01T00:00:00",
          "2000-07-01T00:00:00",
          "2000-08-01T00:00:00",
          "2000-09-01T00:00:00",
          "2000-10-01T00:00:00",
          "2000-11-01T00:00:00",
          "2000-12-01T00:00:00",
          "2001-01-01T00:00:00",
          "2001-02-01T00:00:00",
          "2001-03-01T00:00:00",
          "2001-04-01T00:00:00",
          "2001-05-01T00:00:00",
          "2001-06-01T00:00:00",
          "2001-07-01T00:00:00",
          "2001-08-01T00:00:00",
          "2001-09-01T00:00:00",
          "2001-10-01T00:00:00",
          "2001-11-01T00:00:00",
          "2001-12-01T00:00:00",
          "2002-01-01T00:00:00",
          "2002-02-01T00:00:00",
          "2002-03-01T00:00:00",
          "2002-04-01T00:00:00",
          "2002-05-01T00:00:00",
          "2002-06-01T00:00:00",
          "2002-07-01T00:00:00",
          "2002-08-01T00:00:00",
          "2002-09-01T00:00:00",
          "2002-10-01T00:00:00",
          "2002-11-01T00:00:00",
          "2002-12-01T00:00:00",
          "2003-01-01T00:00:00",
          "2003-02-01T00:00:00",
          "2003-03-01T00:00:00",
          "2003-04-01T00:00:00",
          "2003-05-01T00:00:00",
          "2003-06-01T00:00:00",
          "2003-07-01T00:00:00",
          "2003-08-01T00:00:00",
          "2003-09-01T00:00:00",
          "2003-10-01T00:00:00",
          "2003-11-01T00:00:00",
          "2003-12-01T00:00:00",
          "2004-01-01T00:00:00",
          "2004-02-01T00:00:00",
          "2004-03-01T00:00:00",
          "2004-04-01T00:00:00",
          "2004-05-01T00:00:00",
          "2004-06-01T00:00:00",
          "2004-07-01T00:00:00",
          "2004-08-01T00:00:00",
          "2004-09-01T00:00:00",
          "2004-10-01T00:00:00",
          "2004-11-01T00:00:00",
          "2004-12-01T00:00:00",
          "2005-01-01T00:00:00",
          "2005-02-01T00:00:00",
          "2005-03-01T00:00:00",
          "2005-04-01T00:00:00",
          "2005-05-01T00:00:00",
          "2005-06-01T00:00:00",
          "2005-07-01T00:00:00",
          "2005-08-01T00:00:00",
          "2005-09-01T00:00:00",
          "2005-10-01T00:00:00",
          "2005-11-01T00:00:00",
          "2005-12-01T00:00:00",
          "2006-01-01T00:00:00",
          "2006-02-01T00:00:00",
          "2006-03-01T00:00:00",
          "2006-04-01T00:00:00",
          "2006-05-01T00:00:00",
          "2006-06-01T00:00:00",
          "2006-07-01T00:00:00",
          "2006-08-01T00:00:00",
          "2006-09-01T00:00:00",
          "2006-10-01T00:00:00",
          "2006-11-01T00:00:00",
          "2006-12-01T00:00:00",
          "2007-01-01T00:00:00",
          "2007-02-01T00:00:00",
          "2007-03-01T00:00:00",
          "2007-04-01T00:00:00",
          "2007-05-01T00:00:00",
          "2007-06-01T00:00:00",
          "2007-07-01T00:00:00",
          "2007-08-01T00:00:00",
          "2007-09-01T00:00:00",
          "2007-10-01T00:00:00",
          "2007-11-01T00:00:00",
          "2007-12-01T00:00:00",
          "2008-01-01T00:00:00",
          "2008-02-01T00:00:00",
          "2008-03-01T00:00:00",
          "2008-04-01T00:00:00",
          "2008-05-01T00:00:00",
          "2008-06-01T00:00:00",
          "2008-07-01T00:00:00",
          "2008-08-01T00:00:00",
          "2008-09-01T00:00:00",
          "2008-10-01T00:00:00",
          "2008-11-01T00:00:00",
          "2008-12-01T00:00:00",
          "2009-01-01T00:00:00",
          "2009-02-01T00:00:00",
          "2009-03-01T00:00:00",
          "2009-04-01T00:00:00",
          "2009-05-01T00:00:00",
          "2009-06-01T00:00:00",
          "2009-07-01T00:00:00",
          "2009-08-01T00:00:00",
          "2009-09-01T00:00:00",
          "2009-10-01T00:00:00",
          "2009-11-01T00:00:00",
          "2009-12-01T00:00:00",
          "2010-01-01T00:00:00",
          "2010-02-01T00:00:00",
          "2010-03-01T00:00:00",
          "2010-04-01T00:00:00",
          "2010-05-01T00:00:00",
          "2010-06-01T00:00:00",
          "2010-07-01T00:00:00",
          "2010-08-01T00:00:00",
          "2010-09-01T00:00:00",
          "2010-10-01T00:00:00",
          "2010-11-01T00:00:00",
          "2010-12-01T00:00:00",
          "2011-01-01T00:00:00",
          "2011-02-01T00:00:00",
          "2011-03-01T00:00:00",
          "2011-04-01T00:00:00",
          "2011-05-01T00:00:00",
          "2011-06-01T00:00:00",
          "2011-07-01T00:00:00",
          "2011-08-01T00:00:00",
          "2011-09-01T00:00:00",
          "2011-10-01T00:00:00",
          "2011-11-01T00:00:00",
          "2011-12-01T00:00:00",
          "2012-01-01T00:00:00",
          "2012-02-01T00:00:00",
          "2012-03-01T00:00:00",
          "2012-04-01T00:00:00",
          "2012-05-01T00:00:00",
          "2012-06-01T00:00:00",
          "2012-07-01T00:00:00",
          "2012-08-01T00:00:00",
          "2012-09-01T00:00:00",
          "2012-10-01T00:00:00",
          "2012-11-01T00:00:00",
          "2012-12-01T00:00:00",
          "2013-01-01T00:00:00",
          "2013-02-01T00:00:00",
          "2013-03-01T00:00:00",
          "2013-04-01T00:00:00",
          "2013-05-01T00:00:00",
          "2013-06-01T00:00:00",
          "2013-07-01T00:00:00",
          "2013-08-01T00:00:00",
          "2013-09-01T00:00:00",
          "2013-10-01T00:00:00",
          "2013-11-01T00:00:00",
          "2013-12-01T00:00:00",
          "2014-01-01T00:00:00",
          "2014-02-01T00:00:00",
          "2014-03-01T00:00:00",
          "2014-04-01T00:00:00",
          "2014-05-01T00:00:00",
          "2014-06-01T00:00:00",
          "2014-07-01T00:00:00",
          "2014-08-01T00:00:00",
          "2014-09-01T00:00:00",
          "2014-10-01T00:00:00",
          "2014-11-01T00:00:00",
          "2014-12-01T00:00:00",
          "2015-01-01T00:00:00",
          "2015-02-01T00:00:00",
          "2015-03-01T00:00:00",
          "2015-04-01T00:00:00",
          "2015-05-01T00:00:00",
          "2015-06-01T00:00:00",
          "2015-07-01T00:00:00",
          "2015-08-01T00:00:00",
          "2015-09-01T00:00:00",
          "2015-10-01T00:00:00",
          "2015-11-01T00:00:00",
          "2015-12-01T00:00:00",
          "2016-01-01T00:00:00",
          "2016-02-01T00:00:00",
          "2016-03-01T00:00:00",
          "2016-04-01T00:00:00",
          "2016-05-01T00:00:00",
          "2016-06-01T00:00:00",
          "2016-07-01T00:00:00",
          "2016-08-01T00:00:00",
          "2016-09-01T00:00:00",
          "2016-10-01T00:00:00",
          "2016-11-01T00:00:00",
          "2016-12-01T00:00:00",
          "2017-01-01T00:00:00",
          "2017-02-01T00:00:00",
          "2017-03-01T00:00:00",
          "2017-04-01T00:00:00",
          "2017-05-01T00:00:00",
          "2017-06-01T00:00:00",
          "2017-07-01T00:00:00",
          "2017-08-01T00:00:00",
          "2017-09-01T00:00:00",
          "2017-10-01T00:00:00",
          "2017-11-01T00:00:00",
          "2017-12-01T00:00:00",
          "2018-01-01T00:00:00",
          "2018-02-01T00:00:00",
          "2018-03-01T00:00:00",
          "2018-04-01T00:00:00",
          "2018-05-01T00:00:00",
          "2018-06-01T00:00:00",
          "2018-07-01T00:00:00",
          "2018-08-01T00:00:00",
          "2018-09-01T00:00:00",
          "2018-10-01T00:00:00",
          "2018-11-01T00:00:00",
          "2018-12-01T00:00:00",
          "2019-01-01T00:00:00",
          "2019-02-01T00:00:00",
          "2019-03-01T00:00:00",
          "2019-04-01T00:00:00",
          "2019-05-01T00:00:00",
          "2019-06-01T00:00:00",
          "2019-07-01T00:00:00",
          "2019-08-01T00:00:00",
          "2019-09-01T00:00:00",
          "2019-10-01T00:00:00",
          "2019-11-01T00:00:00",
          "2019-12-01T00:00:00",
          "2020-01-01T00:00:00",
          "2020-02-01T00:00:00",
          "2020-03-01T00:00:00",
          "2020-04-01T00:00:00",
          "2020-05-01T00:00:00",
          "2020-06-01T00:00:00",
          "2020-07-01T00:00:00",
          "2020-08-01T00:00:00",
          "2020-09-01T00:00:00",
          "2020-10-01T00:00:00",
          "2020-11-01T00:00:00",
          "2020-12-01T00:00:00",
          "2021-01-01T00:00:00",
          "2021-02-01T00:00:00",
          "2021-03-01T00:00:00",
          "2021-04-01T00:00:00",
          "2021-05-01T00:00:00",
          "2021-06-01T00:00:00",
          "2021-07-01T00:00:00",
          "2021-08-01T00:00:00",
          "2021-09-01T00:00:00",
          "2021-10-01T00:00:00",
          "2021-11-01T00:00:00",
          "2021-12-01T00:00:00",
          "2022-01-01T00:00:00",
          "2022-02-01T00:00:00",
          "2022-03-01T00:00:00",
          "2022-04-01T00:00:00",
          "2022-05-01T00:00:00",
          "2022-06-01T00:00:00",
          "2022-07-01T00:00:00",
          "2022-08-01T00:00:00",
          "2022-09-01T00:00:00",
          "2022-10-01T00:00:00",
          "2022-11-01T00:00:00",
          "2022-12-01T00:00:00"
         ],
         "xaxis": "x2",
         "y": [
          0.6176459169771183,
          0.6173993598351339,
          0.6171687096055356,
          0.6169221524635512,
          0.6166835487777598,
          0.616198387949984,
          0.6159518308079996,
          0.6157052736660151,
          0.6154666699802238,
          0.6152201128382394,
          0.614981509152448,
          0.6147349520104636,
          0.6144883948684792,
          0.6142656980950739,
          0.6140191409530895,
          0.6137805372672982,
          0.6135339801253137,
          0.6132953764395224,
          0.613048819297538,
          0.6128022621555536,
          0.6125636584697621,
          0.6123171013277777,
          0.6120784976419864,
          0.611831940500002,
          0.6115853833580176,
          0.6113626865846123,
          0.6111161294426278,
          0.6108775257568365,
          0.6106309686148521,
          0.6103923649290607,
          0.6101458077870763,
          0.6096606469593006,
          0.6094140898173162,
          0.6091754861315247,
          0.6089289289895403,
          0.6086823718475559,
          0.6084596750741507,
          0.6082131179321663,
          0.6079745142463748,
          0.6077279571043904,
          0.6074893534185991,
          0.6072427962766147,
          0.6069962391346303,
          0.6067576354488389,
          0.6065110783068545,
          0.6062724746210632,
          0.6060259174790787,
          0.6057793603370943,
          0.605548710107496,
          0.6053021529655116,
          0.6050635492797202,
          0.6048169921377358,
          0.6045783884519444,
          0.60433183130996,
          0.6040852741679756,
          0.6038466704821842,
          0.6036001133401998,
          0.6033615096544085,
          0.603114952512424,
          0.6028683953704396,
          0.6026456985970343,
          0.6023991414550499,
          0.6021605377692586,
          0.6019139806272742,
          0.6016753769414828,
          0.6014288197994984,
          0.601182262657514,
          0.6009436589717226,
          0.6006971018297381,
          0.6004584981439468,
          0.6002119410019624,
          0.599965383859978,
          0.5997426870865727,
          0.5994961299445883,
          0.5992575262587969,
          0.5990109691168125,
          0.5987723654310212,
          0.5985258082890367,
          0.5982792511470523,
          0.598040647461261,
          0.5977940903192765,
          0.5975554866334851,
          0.5973089294915007,
          0.5970623723495163,
          0.5968396755761111,
          0.5965931184341267,
          0.5963545147483353,
          0.5961079576063508,
          0.5958693539205595,
          0.5956227967785751,
          0.5953762396365907,
          0.5951376359507993,
          0.5948910788088149,
          0.5946524751230235,
          0.5944059179810391,
          0.5941593608390547,
          0.5939287106094564,
          0.593682153467472,
          0.5934435497816806,
          0.5931969926396962,
          0.5929583889539048,
          0.5927118318119204,
          0.592465274669936,
          0.5922266709841446,
          0.5919801138421602,
          0.5917415101563689,
          0.5914949530143845,
          0.5912483958724,
          0.5910256990989947,
          0.5907791419570103,
          0.590540538271219,
          0.5902939811292346,
          0.5900553774434432,
          0.5898088203014588,
          0.5895622631594744,
          0.589323659473683,
          0.5890771023316986,
          0.5888384986459072,
          0.5885919415039228,
          0.5883453843619384,
          0.5881226875885331,
          0.5878761304465487,
          0.5876375267607573,
          0.5873909696187729,
          0.5871523659329816,
          0.5869058087909972,
          0.5866592516490127,
          0.5864206479632214,
          0.586174090821237,
          0.5859354871354456,
          0.5856889299934611,
          0.5854423728514767,
          0.5852196760780715,
          0.584973118936087,
          0.5847345152502957,
          0.5844879581083113,
          0.5842493544225199,
          0.5840027972805355,
          0.5837562401385511,
          0.5835176364527597,
          0.5832710793107753,
          0.583032475624984,
          0.5827859184829995,
          0.5825393613410151,
          0.5823087111114168,
          0.5820621539694324,
          0.581823550283641,
          0.5815769931416566,
          0.5813383894558652,
          0.5810918323138808,
          0.5808452751718964,
          0.580606671486105,
          0.5803601143441206,
          0.5801215106583293,
          0.5798749535163449,
          0.5796283963743605,
          0.5794056996009551,
          0.5791591424589707,
          0.5789205387731794,
          0.578673981631195,
          0.5784353779454036,
          0.5781888208034192,
          0.5779422636614348,
          0.5777036599756434,
          0.577457102833659,
          0.5772184991478676,
          0.5769719420058832,
          0.5767253848638988,
          0.5765026880904935,
          0.5762561309485091,
          0.5760175272627177,
          0.5757709701207333,
          0.575532366434942,
          0.5752858092929576,
          0.5750392521509732,
          0.5748006484651818,
          0.5745540913231973,
          0.574315487637406,
          0.5740689304954216,
          0.5738223733534371,
          0.5735996765800319,
          0.5733531194380475,
          0.5731145157522561,
          0.5728679586102717,
          0.5726293549244803,
          0.5723827977824959,
          0.5721362406405115,
          0.5718976369547202,
          0.5716510798127357,
          0.5714124761269443,
          0.5711659189849599,
          0.5709193618429755,
          0.5706887116133772,
          0.5704421544713928,
          0.5702035507856014,
          0.569956993643617,
          0.5697183899578256,
          0.5694718328158412,
          0.5692252756738568,
          0.5689866719880654,
          0.568740114846081,
          0.5685015111602897,
          0.5682549540183053,
          0.5680083968763209,
          0.5677857001029155,
          0.5675391429609311,
          0.5673005392751398,
          0.5670539821331554,
          0.566815378447364,
          0.5665688213053796,
          0.5663222641633952,
          0.5660836604776038,
          0.5658371033356194,
          0.565598499649828,
          0.5653519425078436,
          0.5651053853658592,
          0.5648826885924539,
          0.5646361314504695,
          0.5643975277646781,
          0.5641509706226937,
          0.5639123669369024,
          0.563665809794918,
          0.5634192526529336,
          0.5631806489671422,
          0.5629340918251577,
          0.5626954881393664,
          0.562448930997382,
          0.5622023738553976,
          0.5619796770819923,
          0.5617331199400079,
          0.5614945162542165,
          0.5612479591122321,
          0.5610093554264407,
          0.5607627982844563,
          0.5605162411424719,
          0.5602776374566806,
          0.5600310803146962,
          0.5597924766289047,
          0.5595459194869203,
          0.5592993623449359,
          0.5590687121153376,
          0.5588221549733532,
          0.5585835512875619,
          0.5583369941455774,
          0.558098390459786,
          0.5578518333178016,
          0.5576052761758172,
          0.5573666724900258,
          0.5571201153480414,
          0.5568815116622501,
          0.5566349545202657,
          0.5563883973782813,
          0.556165700604876,
          0.5559191434628915,
          0.5556805397771002,
          0.5554339826351158,
          0.5551953789493245,
          0.55494882180734,
          0.5547022646653555,
          0.5544636609795642,
          0.5542171038375798,
          0.5539785001517884,
          0.553731943009804,
          0.5534853858678196,
          0.5532626890944143,
          0.5530161319524299,
          0.5527775282666385,
          0.5525309711246541,
          0.5522923674388628,
          0.5520458102968784,
          0.551799253154894,
          0.5515606494691025,
          0.5513140923271181,
          0.5510754886413268,
          0.5508289314993424,
          0.550582374357358,
          0.5503596775839527,
          0.5501131204419683,
          0.5498745167561769,
          0.5496279596141925,
          0.5493893559284011,
          0.5491427987864167,
          0.5488962416444323,
          0.548657637958641,
          0.5484110808166566,
          0.5481724771308651,
          0.5479259199888807,
          0.5476793628468963,
          0.547448712617298,
          0.5472021554753136,
          0.5469635517895223,
          0.5467169946475379,
          0.5464783909617464,
          0.546231833819762,
          0.5459852766777776,
          0.5457466729919863,
          0.5455001158500018,
          0.5452615121642105,
          0.5450149550222261,
          0.5447683978802417,
          0.5445457011068364,
          0.544299143964852,
          0.5440605402790606,
          0.5438139831370762,
          0.5435753794512849,
          0.5433288223093005,
          0.543082265167316,
          0.5428436614815246,
          0.5425971043395402,
          0.5423585006537488,
          0.5421119435117644,
          0.54186538636978,
          0.5416426895963747,
          0.5413961324543903,
          0.541157528768599,
          0.5409109716266145,
          0.5406723679408232,
          0.5404258107988388,
          0.5401792536568544,
          0.539940649971063,
          0.5396940928290785,
          0.5394554891432872,
          0.5392089320013028,
          0.5389623748593184,
          0.538739678085913,
          0.5384931209439286,
          0.5382545172581373,
          0.5380079601161529,
          0.5377693564303615,
          0.5375227992883771,
          0.5372762421463927,
          0.5370376384606014,
          0.536791081318617,
          0.5365524776328255,
          0.5363059204908411,
          0.5360593633488567,
          0.5358287131192584,
          0.535582155977274,
          0.5353435522914827,
          0.5350969951494983,
          0.5348583914637068,
          0.5346118343217224,
          0.534365277179738,
          0.5341266734939467,
          0.5338801163519623,
          0.5336415126661709,
          0.5333949555241865,
          0.5331483983822021,
          0.5329257016087968,
          0.5326791444668124,
          0.532440540781021,
          0.5321939836390366,
          0.5319553799532453,
          0.5317088228112609,
          0.5314622656692765,
          0.531223661983485,
          0.5309771048415006,
          0.5307385011557093,
          0.5304919440137248,
          0.5302453868717404,
          0.5300226900983351,
          0.5297761329563507,
          0.5295375292705594,
          0.529290972128575,
          0.5290523684427836,
          0.5288058113007992,
          0.5285592541588148,
          0.5283206504730233,
          0.5280740933310389,
          0.5278354896452476,
          0.5275889325032632,
          0.5273423753612788,
          0.5271196785878736,
          0.526873121445889,
          0.5266345177600977,
          0.5263879606181133,
          0.5261493569323219,
          0.5259027997903375,
          0.5256562426483531,
          0.5254176389625618,
          0.5251710818205774,
          0.5249324781347859,
          0.5246859209928015,
          0.5244393638508171,
          0.5242087136212188,
          0.5239621564792344,
          0.5237235527934431,
          0.5234769956514587,
          0.5232383919656672,
          0.5229918348236828,
          0.5227452776816984,
          0.5225066739959071,
          0.5222601168539227,
          0.5220215131681313,
          0.5217749560261469,
          0.5215283988841625,
          0.5213057021107572,
          0.5210591449687728,
          0.5208205412829814,
          0.520573984140997,
          0.5203353804552057,
          0.5200888233132213,
          0.5198422661712369,
          0.5196036624854454,
          0.519357105343461,
          0.5191185016576697,
          0.5188719445156853,
          0.5186253873737008,
          0.5184026906002955,
          0.5181561334583111,
          0.5179175297725198,
          0.5176709726305354,
          0.517432368944744,
          0.5171858118027596,
          0.5169392546607752,
          0.5167006509749839,
          0.5164540938329993,
          0.516215490147208,
          0.5159689330052236,
          0.5157223758632392,
          0.515499679089834,
          0.5152531219478496,
          0.5150145182620581,
          0.5147679611200737,
          0.5145293574342824,
          0.5142828002922979,
          0.5140362431503136,
          0.5137976394645222,
          0.5135510823225378,
          0.5133124786367464,
          0.5130659214947619,
          0.5128193643527775,
          0.5125887141231793,
          0.5123421569811948,
          0.5121035532954035,
          0.5118569961534191,
          0.5116183924676276,
          0.5113718353256432,
          0.5111252781836588,
          0.5108866744978675,
          0.5106401173558831,
          0.5104015136700917,
          0.5101549565281073,
          0.5099083993861229,
          0.5096857026127176,
          0.5094391454707332,
          0.5092005417849418,
          0.5089539846429574,
          0.5087153809571661,
          0.5084688238151817,
          0.5082222666731973,
          0.5079836629874058,
          0.5077371058454214,
          0.5074985021596301,
          0.5072519450176457,
          0.5070053878756613,
          0.5067826911022559,
          0.5065361339602715,
          0.5062975302744802,
          0.5060509731324958,
          0.5058123694467044,
          0.50556581230472,
          0.5053192551627356,
          0.5050806514769443,
          0.5048340943349598,
          0.5045954906491684,
          0.504348933507184,
          0.5041023763651996,
          0.5038796795917944,
          0.50363312244981,
          0.5033945187640185,
          0.5031479616220341,
          0.5029093579362428,
          0.5026628007942584,
          0.5024162436522739,
          0.5021776399664826,
          0.5019310828244982,
          0.5016924791387067,
          0.5014459219967224,
          0.5011993648547379,
          0.5009687146251396,
          0.5007221574831553,
          0.5004835537973639,
          0.5002369966553795,
          0.4999983929695881,
          0.4997518358276037,
          0.4995052786856193,
          0.4992666749998279,
          0.4990201178578435,
          0.49878151417205213,
          0.49853495703006767,
          0.49828839988808327,
          0.498065703114678,
          0.4978191459726936,
          0.49758054228690224,
          0.49733398514491783,
          0.49709538145912646,
          0.49684882431714206,
          0.49660226717515765,
          0.4963636634893663,
          0.4961171063473818,
          0.4958785026615905,
          0.4956319455196061,
          0.49538538837762164,
          0.4951626916042164,
          0.494916134462232,
          0.4946775307764406,
          0.4944309736344562,
          0.49419236994866483,
          0.4939458128066804,
          0.49369925566469597,
          0.49346065197890465,
          0.4932140948369202,
          0.4929754911511288,
          0.4927289340091444,
          0.49248237686716,
          0.49225968009375476,
          0.49201312295177035,
          0.4917745192659789,
          0.4915279621239945,
          0.4912893584382032,
          0.4910428012962188,
          0.49079624415423434,
          0.49055764046844297,
          0.49031108332645856,
          0.4900724796406672,
          0.4898259224986828,
          0.4895793653566984,
          0.48934871512710004,
          0.48910215798511564,
          0.48886355429932427,
          0.48861699715733986,
          0.4883783934715485,
          0.4881318363295641,
          0.4878852791875797,
          0.4876466755017883,
          0.4874001183598039,
          0.48716151467401253,
          0.4869149575320281,
          0.48666840039004367,
          0.4864457036166384,
          0.486199146474654,
          0.48596054278886264,
          0.48571398564687823,
          0.48547538196108686,
          0.48522882481910246,
          0.48498226767711805,
          0.4847436639913267,
          0.4844971068493423,
          0.4842585031635509,
          0.4840119460215665,
          0.4837653888795821,
          0.4835426921061768,
          0.4832961349641924,
          0.483057531278401,
          0.4828109741364166,
          0.48257237045062523,
          0.4823258133086408,
          0.48207925616665637,
          0.48184065248086505,
          0.48159409533888065,
          0.4813554916530892,
          0.4811089345111048,
          0.4808623773691204,
          0.48063968059571516,
          0.48039312345373075,
          0.4801545197679394,
          0.479907962625955,
          0.4796693589401636,
          0.4794228017981792,
          0.4791762446561948,
          0.47893764097040337,
          0.47869108382841896,
          0.47845248014262765,
          0.4782059230006432,
          0.4779593658586588,
          0.4777287156290605,
          0.47748215848707604,
          0.47724355480128466,
          0.47699699765930026,
          0.4767583939735089,
          0.4765118368315245,
          0.4762652796895401,
          0.4760266760037487,
          0.4757801188617643,
          0.47554151517597293,
          0.4752949580339885,
          0.4750484008920041,
          0.4748257041185988,
          0.4745791469766144,
          0.47434054329082304,
          0.47409398614883863,
          0.47385538246304726,
          0.47360882532106285,
          0.47336226817907845,
          0.4731236644932871,
          0.4728771073513027,
          0.4726385036655113,
          0.4723919465235269,
          0.4721453893815425,
          0.4719226926081372,
          0.4716761354661528,
          0.4714375317803614,
          0.471190974638377,
          0.47095237095258563,
          0.4707058138106012,
          0.4704592566686168,
          0.47022065298282545,
          0.46997409584084104,
          0.46973549215504967,
          0.46948893501306527,
          0.4692423778710808,
          0.46901968109767556,
          0.46877312395569115,
          0.4685345202698998,
          0.4682879631279154,
          0.468049359442124,
          0.4678028023001396,
          0.4675562451581552,
          0.4673176414723638,
          0.46707108433037936,
          0.46683248064458804,
          0.46658592350260364,
          0.4663393663606192,
          0.4661087161310209,
          0.4658621589890365,
          0.46562355530324506,
          0.46537699816126066,
          0.46513839447546934,
          0.46489183733348494,
          0.4646452801915005,
          0.4644066765057091,
          0.4641601193637247,
          0.4639215156779333,
          0.4636749585359489,
          0.4634284013939645,
          0.4632057046205592,
          0.4629591474785748,
          0.4627205437927835,
          0.4624739866507991,
          0.46223538296500766,
          0.46198882582302325,
          0.46174226868103885,
          0.4615036649952475,
          0.46125710785326307,
          0.4610185041674717,
          0.4607719470254873,
          0.4605253898835029,
          0.46030269311009764,
          0.4600561359681132,
          0.4598175322823218,
          0.4595709751403374,
          0.45933237145454603,
          0.4590858143125616,
          0.4588392571705772,
          0.45860065348478585,
          0.45835409634280144,
          0.45811549265701007,
          0.45786893551502567,
          0.4576223783730412,
          0.45739968159963595,
          0.45715312445765155,
          0.4569145207718602,
          0.4566679636298758,
          0.4564293599440844,
          0.4561828028021,
          0.4559362456601156,
          0.4556976419743242,
          0.45545108483233976,
          0.45521248114654844,
          0.45496592400456404,
          0.45471936686257963,
          0.4544887166329813,
          0.4542421594909969,
          0.4540035558052055,
          0.45375699866322106,
          0.45351839497742974,
          0.45327183783544533,
          0.45302528069346093,
          0.4527866770076695,
          0.4525401198656851,
          0.4523015161798938,
          0.4520549590379094,
          0.4518084018959249,
          0.4515857051225196,
          0.4513391479805352,
          0.4511005442947439,
          0.4508539871527595,
          0.45061538346696806,
          0.45036882632498365,
          0.45012226918299925,
          0.44988366549720793,
          0.44963710835522347,
          0.4493985046694321,
          0.4491519475274477,
          0.4489053903854633,
          0.44868269361205804,
          0.44843613647007363,
          0.4481975327842822,
          0.4479509756422978,
          0.4477123719565065,
          0.4474658148145221,
          0.4472192576725376,
          0.44698065398674625,
          0.44673409684476184,
          0.44649549315897047,
          0.44624893601698606,
          0.44600237887500166,
          0.44577968210159635,
          0.44553312495961195,
          0.44529452127382063,
          0.44504796413183617,
          0.4448093604460448,
          0.4445628033040604,
          0.444316246162076,
          0.4440776424762846,
          0.4438310853343002,
          0.44359248164850884,
          0.44334592450652444,
          0.44309936736454003,
          0.4428687171349417,
          0.4426221599929573,
          0.4423835563071659,
          0.4421369991651815,
          0.44189839547939014,
          0.44165183833740573,
          0.44140528119542133,
          0.4411666775096299,
          0.4409201203676455,
          0.4406815166818542,
          0.4404349595398698,
          0.44018840239788537,
          0.43996570562448006,
          0.4397191484824956,
          0.4394805447967043,
          0.4392339876547199,
          0.43899538396892845,
          0.43874882682694405,
          0.43850226968495964,
          0.43826366599916833,
          0.4380171088571839,
          0.4377785051713925,
          0.4375319480294081,
          0.4372853908874237,
          0.43706269411401844,
          0.43681613697203403,
          0.4365775332862426,
          0.4363309761442582,
          0.4360923724584669,
          0.4358458153164825,
          0.43559925817449807,
          0.43536065448870664,
          0.43511409734672224,
          0.4348754936609309
         ],
         "yaxis": "y2"
        }
       ],
       "layout": {
        "annotations": [
         {
          "font": {
           "size": 16
          },
          "showarrow": false,
          "text": "Percentage muziek in mineur en in majeur, per jaar",
          "x": 0.5,
          "xanchor": "center",
          "xref": "paper",
          "y": 1,
          "yanchor": "bottom",
          "yref": "paper"
         },
         {
          "font": {
           "size": 16
          },
          "showarrow": false,
          "text": "Gemiddelde valence per maand, met trendlijn",
          "x": 0.5,
          "xanchor": "center",
          "xref": "paper",
          "y": 0.375,
          "yanchor": "bottom",
          "yref": "paper"
         }
        ],
        "barmode": "stack",
        "height": 800,
        "legend": {
         "groupclick": "toggleitem",
         "itemdoubleclick": false
        },
        "showlegend": true,
        "template": {
         "data": {
          "bar": [
           {
            "error_x": {
             "color": "#f2f5fa"
            },
            "error_y": {
             "color": "#f2f5fa"
            },
            "marker": {
             "line": {
              "color": "rgb(17,17,17)",
              "width": 0.5
             },
             "pattern": {
              "fillmode": "overlay",
              "size": 10,
              "solidity": 0.2
             }
            },
            "type": "bar"
           }
          ],
          "barpolar": [
           {
            "marker": {
             "line": {
              "color": "rgb(17,17,17)",
              "width": 0.5
             },
             "pattern": {
              "fillmode": "overlay",
              "size": 10,
              "solidity": 0.2
             }
            },
            "type": "barpolar"
           }
          ],
          "carpet": [
           {
            "aaxis": {
             "endlinecolor": "#A2B1C6",
             "gridcolor": "#506784",
             "linecolor": "#506784",
             "minorgridcolor": "#506784",
             "startlinecolor": "#A2B1C6"
            },
            "baxis": {
             "endlinecolor": "#A2B1C6",
             "gridcolor": "#506784",
             "linecolor": "#506784",
             "minorgridcolor": "#506784",
             "startlinecolor": "#A2B1C6"
            },
            "type": "carpet"
           }
          ],
          "choropleth": [
           {
            "colorbar": {
             "outlinewidth": 0,
             "ticks": ""
            },
            "type": "choropleth"
           }
          ],
          "contour": [
           {
            "colorbar": {
             "outlinewidth": 0,
             "ticks": ""
            },
            "colorscale": [
             [
              0,
              "#0d0887"
             ],
             [
              0.1111111111111111,
              "#46039f"
             ],
             [
              0.2222222222222222,
              "#7201a8"
             ],
             [
              0.3333333333333333,
              "#9c179e"
             ],
             [
              0.4444444444444444,
              "#bd3786"
             ],
             [
              0.5555555555555556,
              "#d8576b"
             ],
             [
              0.6666666666666666,
              "#ed7953"
             ],
             [
              0.7777777777777778,
              "#fb9f3a"
             ],
             [
              0.8888888888888888,
              "#fdca26"
             ],
             [
              1,
              "#f0f921"
             ]
            ],
            "type": "contour"
           }
          ],
          "contourcarpet": [
           {
            "colorbar": {
             "outlinewidth": 0,
             "ticks": ""
            },
            "type": "contourcarpet"
           }
          ],
          "heatmap": [
           {
            "colorbar": {
             "outlinewidth": 0,
             "ticks": ""
            },
            "colorscale": [
             [
              0,
              "#0d0887"
             ],
             [
              0.1111111111111111,
              "#46039f"
             ],
             [
              0.2222222222222222,
              "#7201a8"
             ],
             [
              0.3333333333333333,
              "#9c179e"
             ],
             [
              0.4444444444444444,
              "#bd3786"
             ],
             [
              0.5555555555555556,
              "#d8576b"
             ],
             [
              0.6666666666666666,
              "#ed7953"
             ],
             [
              0.7777777777777778,
              "#fb9f3a"
             ],
             [
              0.8888888888888888,
              "#fdca26"
             ],
             [
              1,
              "#f0f921"
             ]
            ],
            "type": "heatmap"
           }
          ],
          "heatmapgl": [
           {
            "colorbar": {
             "outlinewidth": 0,
             "ticks": ""
            },
            "colorscale": [
             [
              0,
              "#0d0887"
             ],
             [
              0.1111111111111111,
              "#46039f"
             ],
             [
              0.2222222222222222,
              "#7201a8"
             ],
             [
              0.3333333333333333,
              "#9c179e"
             ],
             [
              0.4444444444444444,
              "#bd3786"
             ],
             [
              0.5555555555555556,
              "#d8576b"
             ],
             [
              0.6666666666666666,
              "#ed7953"
             ],
             [
              0.7777777777777778,
              "#fb9f3a"
             ],
             [
              0.8888888888888888,
              "#fdca26"
             ],
             [
              1,
              "#f0f921"
             ]
            ],
            "type": "heatmapgl"
           }
          ],
          "histogram": [
           {
            "marker": {
             "pattern": {
              "fillmode": "overlay",
              "size": 10,
              "solidity": 0.2
             }
            },
            "type": "histogram"
           }
          ],
          "histogram2d": [
           {
            "colorbar": {
             "outlinewidth": 0,
             "ticks": ""
            },
            "colorscale": [
             [
              0,
              "#0d0887"
             ],
             [
              0.1111111111111111,
              "#46039f"
             ],
             [
              0.2222222222222222,
              "#7201a8"
             ],
             [
              0.3333333333333333,
              "#9c179e"
             ],
             [
              0.4444444444444444,
              "#bd3786"
             ],
             [
              0.5555555555555556,
              "#d8576b"
             ],
             [
              0.6666666666666666,
              "#ed7953"
             ],
             [
              0.7777777777777778,
              "#fb9f3a"
             ],
             [
              0.8888888888888888,
              "#fdca26"
             ],
             [
              1,
              "#f0f921"
             ]
            ],
            "type": "histogram2d"
           }
          ],
          "histogram2dcontour": [
           {
            "colorbar": {
             "outlinewidth": 0,
             "ticks": ""
            },
            "colorscale": [
             [
              0,
              "#0d0887"
             ],
             [
              0.1111111111111111,
              "#46039f"
             ],
             [
              0.2222222222222222,
              "#7201a8"
             ],
             [
              0.3333333333333333,
              "#9c179e"
             ],
             [
              0.4444444444444444,
              "#bd3786"
             ],
             [
              0.5555555555555556,
              "#d8576b"
             ],
             [
              0.6666666666666666,
              "#ed7953"
             ],
             [
              0.7777777777777778,
              "#fb9f3a"
             ],
             [
              0.8888888888888888,
              "#fdca26"
             ],
             [
              1,
              "#f0f921"
             ]
            ],
            "type": "histogram2dcontour"
           }
          ],
          "mesh3d": [
           {
            "colorbar": {
             "outlinewidth": 0,
             "ticks": ""
            },
            "type": "mesh3d"
           }
          ],
          "parcoords": [
           {
            "line": {
             "colorbar": {
              "outlinewidth": 0,
              "ticks": ""
             }
            },
            "type": "parcoords"
           }
          ],
          "pie": [
           {
            "automargin": true,
            "type": "pie"
           }
          ],
          "scatter": [
           {
            "marker": {
             "line": {
              "color": "#283442"
             }
            },
            "type": "scatter"
           }
          ],
          "scatter3d": [
           {
            "line": {
             "colorbar": {
              "outlinewidth": 0,
              "ticks": ""
             }
            },
            "marker": {
             "colorbar": {
              "outlinewidth": 0,
              "ticks": ""
             }
            },
            "type": "scatter3d"
           }
          ],
          "scattercarpet": [
           {
            "marker": {
             "colorbar": {
              "outlinewidth": 0,
              "ticks": ""
             }
            },
            "type": "scattercarpet"
           }
          ],
          "scattergeo": [
           {
            "marker": {
             "colorbar": {
              "outlinewidth": 0,
              "ticks": ""
             }
            },
            "type": "scattergeo"
           }
          ],
          "scattergl": [
           {
            "marker": {
             "line": {
              "color": "#283442"
             }
            },
            "type": "scattergl"
           }
          ],
          "scattermapbox": [
           {
            "marker": {
             "colorbar": {
              "outlinewidth": 0,
              "ticks": ""
             }
            },
            "type": "scattermapbox"
           }
          ],
          "scatterpolar": [
           {
            "marker": {
             "colorbar": {
              "outlinewidth": 0,
              "ticks": ""
             }
            },
            "type": "scatterpolar"
           }
          ],
          "scatterpolargl": [
           {
            "marker": {
             "colorbar": {
              "outlinewidth": 0,
              "ticks": ""
             }
            },
            "type": "scatterpolargl"
           }
          ],
          "scatterternary": [
           {
            "marker": {
             "colorbar": {
              "outlinewidth": 0,
              "ticks": ""
             }
            },
            "type": "scatterternary"
           }
          ],
          "surface": [
           {
            "colorbar": {
             "outlinewidth": 0,
             "ticks": ""
            },
            "colorscale": [
             [
              0,
              "#0d0887"
             ],
             [
              0.1111111111111111,
              "#46039f"
             ],
             [
              0.2222222222222222,
              "#7201a8"
             ],
             [
              0.3333333333333333,
              "#9c179e"
             ],
             [
              0.4444444444444444,
              "#bd3786"
             ],
             [
              0.5555555555555556,
              "#d8576b"
             ],
             [
              0.6666666666666666,
              "#ed7953"
             ],
             [
              0.7777777777777778,
              "#fb9f3a"
             ],
             [
              0.8888888888888888,
              "#fdca26"
             ],
             [
              1,
              "#f0f921"
             ]
            ],
            "type": "surface"
           }
          ],
          "table": [
           {
            "cells": {
             "fill": {
              "color": "#506784"
             },
             "line": {
              "color": "rgb(17,17,17)"
             }
            },
            "header": {
             "fill": {
              "color": "#2a3f5f"
             },
             "line": {
              "color": "rgb(17,17,17)"
             }
            },
            "type": "table"
           }
          ]
         },
         "layout": {
          "annotationdefaults": {
           "arrowcolor": "#f2f5fa",
           "arrowhead": 0,
           "arrowwidth": 1
          },
          "autotypenumbers": "strict",
          "coloraxis": {
           "colorbar": {
            "outlinewidth": 0,
            "ticks": ""
           }
          },
          "colorscale": {
           "diverging": [
            [
             0,
             "#8e0152"
            ],
            [
             0.1,
             "#c51b7d"
            ],
            [
             0.2,
             "#de77ae"
            ],
            [
             0.3,
             "#f1b6da"
            ],
            [
             0.4,
             "#fde0ef"
            ],
            [
             0.5,
             "#f7f7f7"
            ],
            [
             0.6,
             "#e6f5d0"
            ],
            [
             0.7,
             "#b8e186"
            ],
            [
             0.8,
             "#7fbc41"
            ],
            [
             0.9,
             "#4d9221"
            ],
            [
             1,
             "#276419"
            ]
           ],
           "sequential": [
            [
             0,
             "#0d0887"
            ],
            [
             0.1111111111111111,
             "#46039f"
            ],
            [
             0.2222222222222222,
             "#7201a8"
            ],
            [
             0.3333333333333333,
             "#9c179e"
            ],
            [
             0.4444444444444444,
             "#bd3786"
            ],
            [
             0.5555555555555556,
             "#d8576b"
            ],
            [
             0.6666666666666666,
             "#ed7953"
            ],
            [
             0.7777777777777778,
             "#fb9f3a"
            ],
            [
             0.8888888888888888,
             "#fdca26"
            ],
            [
             1,
             "#f0f921"
            ]
           ],
           "sequentialminus": [
            [
             0,
             "#0d0887"
            ],
            [
             0.1111111111111111,
             "#46039f"
            ],
            [
             0.2222222222222222,
             "#7201a8"
            ],
            [
             0.3333333333333333,
             "#9c179e"
            ],
            [
             0.4444444444444444,
             "#bd3786"
            ],
            [
             0.5555555555555556,
             "#d8576b"
            ],
            [
             0.6666666666666666,
             "#ed7953"
            ],
            [
             0.7777777777777778,
             "#fb9f3a"
            ],
            [
             0.8888888888888888,
             "#fdca26"
            ],
            [
             1,
             "#f0f921"
            ]
           ]
          },
          "colorway": [
           "#636efa",
           "#EF553B",
           "#00cc96",
           "#ab63fa",
           "#FFA15A",
           "#19d3f3",
           "#FF6692",
           "#B6E880",
           "#FF97FF",
           "#FECB52"
          ],
          "font": {
           "color": "#f2f5fa"
          },
          "geo": {
           "bgcolor": "rgb(17,17,17)",
           "lakecolor": "rgb(17,17,17)",
           "landcolor": "rgb(17,17,17)",
           "showlakes": true,
           "showland": true,
           "subunitcolor": "#506784"
          },
          "hoverlabel": {
           "align": "left"
          },
          "hovermode": "closest",
          "mapbox": {
           "style": "dark"
          },
          "paper_bgcolor": "rgb(17,17,17)",
          "plot_bgcolor": "rgb(17,17,17)",
          "polar": {
           "angularaxis": {
            "gridcolor": "#506784",
            "linecolor": "#506784",
            "ticks": ""
           },
           "bgcolor": "rgb(17,17,17)",
           "radialaxis": {
            "gridcolor": "#506784",
            "linecolor": "#506784",
            "ticks": ""
           }
          },
          "scene": {
           "xaxis": {
            "backgroundcolor": "rgb(17,17,17)",
            "gridcolor": "#506784",
            "gridwidth": 2,
            "linecolor": "#506784",
            "showbackground": true,
            "ticks": "",
            "zerolinecolor": "#C8D4E3"
           },
           "yaxis": {
            "backgroundcolor": "rgb(17,17,17)",
            "gridcolor": "#506784",
            "gridwidth": 2,
            "linecolor": "#506784",
            "showbackground": true,
            "ticks": "",
            "zerolinecolor": "#C8D4E3"
           },
           "zaxis": {
            "backgroundcolor": "rgb(17,17,17)",
            "gridcolor": "#506784",
            "gridwidth": 2,
            "linecolor": "#506784",
            "showbackground": true,
            "ticks": "",
            "zerolinecolor": "#C8D4E3"
           }
          },
          "shapedefaults": {
           "line": {
            "color": "#f2f5fa"
           }
          },
          "sliderdefaults": {
           "bgcolor": "#C8D4E3",
           "bordercolor": "rgb(17,17,17)",
           "borderwidth": 1,
           "tickwidth": 0
          },
          "ternary": {
           "aaxis": {
            "gridcolor": "#506784",
            "linecolor": "#506784",
            "ticks": ""
           },
           "baxis": {
            "gridcolor": "#506784",
            "linecolor": "#506784",
            "ticks": ""
           },
           "bgcolor": "rgb(17,17,17)",
           "caxis": {
            "gridcolor": "#506784",
            "linecolor": "#506784",
            "ticks": ""
           }
          },
          "title": {
           "x": 0.05
          },
          "updatemenudefaults": {
           "bgcolor": "#506784",
           "borderwidth": 0
          },
          "xaxis": {
           "automargin": true,
           "gridcolor": "#283442",
           "linecolor": "#506784",
           "ticks": "",
           "title": {
            "standoff": 15
           },
           "zerolinecolor": "#283442",
           "zerolinewidth": 2
          },
          "yaxis": {
           "automargin": true,
           "gridcolor": "#283442",
           "linecolor": "#506784",
           "ticks": "",
           "title": {
            "standoff": 15
           },
           "zerolinecolor": "#283442",
           "zerolinewidth": 2
          }
         }
        },
        "xaxis": {
         "anchor": "y",
         "domain": [
          0,
          1
         ],
         "title": {
          "text": "Jaar"
         }
        },
        "xaxis2": {
         "anchor": "y2",
         "domain": [
          0,
          1
         ],
         "title": {
          "text": "Jaar"
         }
        },
        "yaxis": {
         "anchor": "x",
         "domain": [
          0.625,
          1
         ],
         "tickformat": ".0%",
         "title": {
          "text": "Percentage"
         }
        },
        "yaxis2": {
         "anchor": "x2",
         "domain": [
          0,
          0.375
         ],
         "title": {
          "text": "Percentiel"
         }
        }
       }
      },
      "text/html": [
       "<div>                            <div id=\"6031f099-ddec-4131-b5c2-5af97e9228c6\" class=\"plotly-graph-div\" style=\"height:800px; width:100%;\"></div>            <script type=\"text/javascript\">                require([\"plotly\"], function(Plotly) {                    window.PLOTLYENV=window.PLOTLYENV || {};                                    if (document.getElementById(\"6031f099-ddec-4131-b5c2-5af97e9228c6\")) {                    Plotly.newPlot(                        \"6031f099-ddec-4131-b5c2-5af97e9228c6\",                        [{\"alignmentgroup\":\"True\",\"hovertemplate\":\"Modus=Mineur\\u003cbr\\u003eJaar=%{x}\\u003cbr\\u003epercentiel=%{y}\\u003cextra\\u003e\\u003c\\u002fextra\\u003e\",\"legendgroup\":\"Mineur\",\"marker\":{\"color\":\"#4C78A8\",\"pattern\":{\"shape\":\"\"}},\"name\":\"Mineur\",\"offsetgroup\":\"Mineur\",\"orientation\":\"v\",\"showlegend\":true,\"textposition\":\"auto\",\"x\":[1960,1961,1962,1963,1964,1965,1966,1967,1968,1969,1970,1971,1972,1973,1974,1975,1976,1977,1978,1979,1980,1981,1982,1983,1984,1985,1986,1987,1988,1989,1990,1991,1992,1993,1994,1995,1996,1997,1998,1999,2000,2001,2002,2003,2004,2005,2006,2007,2008,2009,2010,2011,2012,2013,2014,2015,2016,2017,2018,2019,2020,2021,2022],\"xaxis\":\"x\",\"y\":[0.3120567375886525,0.3423076923076923,0.30194805194805197,0.26370757180156656,0.2891891891891892,0.25984251968503935,0.28388746803069054,0.2804642166344294,0.27256317689530685,0.26063829787234044,0.2676282051282051,0.3162251655629139,0.2828854314002829,0.29428172942817293,0.3228200371057514,0.28550074738415543,0.32533733133433285,0.3037156704361874,0.3192771084337349,0.3475177304964539,0.2768115942028985,0.3416058394160584,0.33380281690140845,0.3383977900552486,0.36295369211514394,0.3512064343163539,0.3108747044917258,0.29775880469583776,0.3044397463002114,0.31551724137931036,0.28660924040720437,0.27997407647440054,0.31271960646521435,0.31503431066749843,0.327735368956743,0.3274209012464046,0.3108305002428363,0.33361309274024337,0.33694810224632066,0.3434913468773514,0.3373448664911621,0.3516558552406965,0.3385082686466419,0.31633616619452315,0.3432506887052342,0.33769813921433495,0.34930799421607106,0.3445960125918153,0.32806621519939805,0.3336696939118735,0.3355912236783979,0.3454520128151553,0.35180949818377505,0.3487919386236116,0.3549738219895288,0.3822334567121062,0.3795341394025605,0.378047011027278,0.38155833985904464,0.38485023041474653,0.38401073619631904,0.38092922505636356,0.38626252280510837],\"yaxis\":\"y\",\"type\":\"bar\"},{\"alignmentgroup\":\"True\",\"hovertemplate\":\"Modus=Majeur\\u003cbr\\u003eJaar=%{x}\\u003cbr\\u003epercentiel=%{y}\\u003cextra\\u003e\\u003c\\u002fextra\\u003e\",\"legendgroup\":\"Majeur\",\"marker\":{\"color\":\"#F58518\",\"pattern\":{\"shape\":\"\"}},\"name\":\"Majeur\",\"offsetgroup\":\"Majeur\",\"orientation\":\"v\",\"showlegend\":true,\"textposition\":\"auto\",\"x\":[1960,1961,1962,1963,1964,1965,1966,1967,1968,1969,1970,1971,1972,1973,1974,1975,1976,1977,1978,1979,1980,1981,1982,1983,1984,1985,1986,1987,1988,1989,1990,1991,1992,1993,1994,1995,1996,1997,1998,1999,2000,2001,2002,2003,2004,2005,2006,2007,2008,2009,2010,2011,2012,2013,2014,2015,2016,2017,2018,2019,2020,2021,2022],\"xaxis\":\"x\",\"y\":[0.6879432624113475,0.6576923076923077,0.698051948051948,0.7362924281984334,0.7108108108108108,0.7401574803149606,0.7161125319693095,0.7195357833655706,0.7274368231046932,0.7393617021276596,0.7323717948717948,0.6837748344370861,0.7171145685997171,0.705718270571827,0.6771799628942486,0.7144992526158446,0.6746626686656672,0.6962843295638126,0.6807228915662651,0.6524822695035462,0.7231884057971014,0.6583941605839416,0.6661971830985915,0.6616022099447514,0.6370463078848561,0.6487935656836461,0.6891252955082743,0.7022411953041622,0.6955602536997886,0.6844827586206896,0.7133907595927956,0.7200259235255995,0.6872803935347856,0.6849656893325016,0.672264631043257,0.6725790987535955,0.6891694997571637,0.6663869072597566,0.6630518977536793,0.6565086531226486,0.6626551335088379,0.6483441447593035,0.661491731353358,0.6836638338054769,0.6567493112947659,0.6623018607856651,0.6506920057839289,0.6554039874081847,0.671933784800602,0.6663303060881265,0.6644087763216021,0.6545479871848446,0.648190501816225,0.6512080613763884,0.6450261780104712,0.6177665432878938,0.6204658605974396,0.621952988972722,0.6184416601409554,0.6151497695852535,0.615989263803681,0.6190707749436365,0.6137374771948917],\"yaxis\":\"y\",\"type\":\"bar\"},{\"hovertemplate\":\"x=%{x}\\u003cbr\\u003evalence=%{y}\\u003cextra\\u003e\\u003c\\u002fextra\\u003e\",\"legendgroup\":\"\",\"marker\":{\"color\":\"#636efa\",\"symbol\":\"circle\"},\"mode\":\"markers\",\"name\":\"\",\"orientation\":\"v\",\"showlegend\":false,\"x\":[\"1960-01-01T00:00:00\",\"1960-02-01T00:00:00\",\"1960-03-01T00:00:00\",\"1960-04-01T00:00:00\",\"1960-05-01T00:00:00\",\"1960-07-01T00:00:00\",\"1960-08-01T00:00:00\",\"1960-09-01T00:00:00\",\"1960-10-01T00:00:00\",\"1960-11-01T00:00:00\",\"1960-12-01T00:00:00\",\"1961-01-01T00:00:00\",\"1961-02-01T00:00:00\",\"1961-03-01T00:00:00\",\"1961-04-01T00:00:00\",\"1961-05-01T00:00:00\",\"1961-06-01T00:00:00\",\"1961-07-01T00:00:00\",\"1961-08-01T00:00:00\",\"1961-09-01T00:00:00\",\"1961-10-01T00:00:00\",\"1961-11-01T00:00:00\",\"1961-12-01T00:00:00\",\"1962-01-01T00:00:00\",\"1962-02-01T00:00:00\",\"1962-03-01T00:00:00\",\"1962-04-01T00:00:00\",\"1962-05-01T00:00:00\",\"1962-06-01T00:00:00\",\"1962-07-01T00:00:00\",\"1962-08-01T00:00:00\",\"1962-10-01T00:00:00\",\"1962-11-01T00:00:00\",\"1962-12-01T00:00:00\",\"1963-01-01T00:00:00\",\"1963-02-01T00:00:00\",\"1963-03-01T00:00:00\",\"1963-04-01T00:00:00\",\"1963-05-01T00:00:00\",\"1963-06-01T00:00:00\",\"1963-07-01T00:00:00\",\"1963-08-01T00:00:00\",\"1963-09-01T00:00:00\",\"1963-10-01T00:00:00\",\"1963-11-01T00:00:00\",\"1963-12-01T00:00:00\",\"1964-01-01T00:00:00\",\"1964-02-01T00:00:00\",\"1964-03-01T00:00:00\",\"1964-04-01T00:00:00\",\"1964-05-01T00:00:00\",\"1964-06-01T00:00:00\",\"1964-07-01T00:00:00\",\"1964-08-01T00:00:00\",\"1964-09-01T00:00:00\",\"1964-10-01T00:00:00\",\"1964-11-01T00:00:00\",\"1964-12-01T00:00:00\",\"1965-01-01T00:00:00\",\"1965-02-01T00:00:00\",\"1965-03-01T00:00:00\",\"1965-04-01T00:00:00\",\"1965-05-01T00:00:00\",\"1965-06-01T00:00:00\",\"1965-07-01T00:00:00\",\"1965-08-01T00:00:00\",\"1965-09-01T00:00:00\",\"1965-10-01T00:00:00\",\"1965-11-01T00:00:00\",\"1965-12-01T00:00:00\",\"1966-01-01T00:00:00\",\"1966-02-01T00:00:00\",\"1966-03-01T00:00:00\",\"1966-04-01T00:00:00\",\"1966-05-01T00:00:00\",\"1966-06-01T00:00:00\",\"1966-07-01T00:00:00\",\"1966-08-01T00:00:00\",\"1966-09-01T00:00:00\",\"1966-10-01T00:00:00\",\"1966-11-01T00:00:00\",\"1966-12-01T00:00:00\",\"1967-01-01T00:00:00\",\"1967-02-01T00:00:00\",\"1967-03-01T00:00:00\",\"1967-04-01T00:00:00\",\"1967-05-01T00:00:00\",\"1967-06-01T00:00:00\",\"1967-07-01T00:00:00\",\"1967-08-01T00:00:00\",\"1967-09-01T00:00:00\",\"1967-10-01T00:00:00\",\"1967-11-01T00:00:00\",\"1967-12-01T00:00:00\",\"1968-01-01T00:00:00\",\"1968-02-01T00:00:00\",\"1968-03-01T00:00:00\",\"1968-04-01T00:00:00\",\"1968-05-01T00:00:00\",\"1968-06-01T00:00:00\",\"1968-07-01T00:00:00\",\"1968-08-01T00:00:00\",\"1968-09-01T00:00:00\",\"1968-10-01T00:00:00\",\"1968-11-01T00:00:00\",\"1968-12-01T00:00:00\",\"1969-01-01T00:00:00\",\"1969-02-01T00:00:00\",\"1969-03-01T00:00:00\",\"1969-04-01T00:00:00\",\"1969-05-01T00:00:00\",\"1969-06-01T00:00:00\",\"1969-07-01T00:00:00\",\"1969-08-01T00:00:00\",\"1969-09-01T00:00:00\",\"1969-10-01T00:00:00\",\"1969-11-01T00:00:00\",\"1969-12-01T00:00:00\",\"1970-01-01T00:00:00\",\"1970-02-01T00:00:00\",\"1970-03-01T00:00:00\",\"1970-04-01T00:00:00\",\"1970-05-01T00:00:00\",\"1970-06-01T00:00:00\",\"1970-07-01T00:00:00\",\"1970-08-01T00:00:00\",\"1970-09-01T00:00:00\",\"1970-10-01T00:00:00\",\"1970-11-01T00:00:00\",\"1970-12-01T00:00:00\",\"1971-01-01T00:00:00\",\"1971-02-01T00:00:00\",\"1971-03-01T00:00:00\",\"1971-04-01T00:00:00\",\"1971-05-01T00:00:00\",\"1971-06-01T00:00:00\",\"1971-07-01T00:00:00\",\"1971-08-01T00:00:00\",\"1971-09-01T00:00:00\",\"1971-10-01T00:00:00\",\"1971-11-01T00:00:00\",\"1971-12-01T00:00:00\",\"1972-01-01T00:00:00\",\"1972-02-01T00:00:00\",\"1972-03-01T00:00:00\",\"1972-04-01T00:00:00\",\"1972-05-01T00:00:00\",\"1972-06-01T00:00:00\",\"1972-07-01T00:00:00\",\"1972-08-01T00:00:00\",\"1972-09-01T00:00:00\",\"1972-10-01T00:00:00\",\"1972-11-01T00:00:00\",\"1972-12-01T00:00:00\",\"1973-01-01T00:00:00\",\"1973-02-01T00:00:00\",\"1973-03-01T00:00:00\",\"1973-04-01T00:00:00\",\"1973-05-01T00:00:00\",\"1973-06-01T00:00:00\",\"1973-07-01T00:00:00\",\"1973-08-01T00:00:00\",\"1973-09-01T00:00:00\",\"1973-10-01T00:00:00\",\"1973-11-01T00:00:00\",\"1973-12-01T00:00:00\",\"1974-01-01T00:00:00\",\"1974-02-01T00:00:00\",\"1974-03-01T00:00:00\",\"1974-04-01T00:00:00\",\"1974-05-01T00:00:00\",\"1974-06-01T00:00:00\",\"1974-07-01T00:00:00\",\"1974-08-01T00:00:00\",\"1974-09-01T00:00:00\",\"1974-10-01T00:00:00\",\"1974-11-01T00:00:00\",\"1974-12-01T00:00:00\",\"1975-01-01T00:00:00\",\"1975-02-01T00:00:00\",\"1975-03-01T00:00:00\",\"1975-04-01T00:00:00\",\"1975-05-01T00:00:00\",\"1975-06-01T00:00:00\",\"1975-07-01T00:00:00\",\"1975-08-01T00:00:00\",\"1975-09-01T00:00:00\",\"1975-10-01T00:00:00\",\"1975-11-01T00:00:00\",\"1975-12-01T00:00:00\",\"1976-01-01T00:00:00\",\"1976-02-01T00:00:00\",\"1976-03-01T00:00:00\",\"1976-04-01T00:00:00\",\"1976-05-01T00:00:00\",\"1976-06-01T00:00:00\",\"1976-07-01T00:00:00\",\"1976-08-01T00:00:00\",\"1976-09-01T00:00:00\",\"1976-10-01T00:00:00\",\"1976-11-01T00:00:00\",\"1976-12-01T00:00:00\",\"1977-01-01T00:00:00\",\"1977-02-01T00:00:00\",\"1977-03-01T00:00:00\",\"1977-04-01T00:00:00\",\"1977-05-01T00:00:00\",\"1977-06-01T00:00:00\",\"1977-07-01T00:00:00\",\"1977-08-01T00:00:00\",\"1977-09-01T00:00:00\",\"1977-10-01T00:00:00\",\"1977-11-01T00:00:00\",\"1977-12-01T00:00:00\",\"1978-01-01T00:00:00\",\"1978-02-01T00:00:00\",\"1978-03-01T00:00:00\",\"1978-04-01T00:00:00\",\"1978-05-01T00:00:00\",\"1978-06-01T00:00:00\",\"1978-07-01T00:00:00\",\"1978-08-01T00:00:00\",\"1978-09-01T00:00:00\",\"1978-10-01T00:00:00\",\"1978-11-01T00:00:00\",\"1978-12-01T00:00:00\",\"1979-01-01T00:00:00\",\"1979-02-01T00:00:00\",\"1979-03-01T00:00:00\",\"1979-04-01T00:00:00\",\"1979-05-01T00:00:00\",\"1979-06-01T00:00:00\",\"1979-07-01T00:00:00\",\"1979-08-01T00:00:00\",\"1979-09-01T00:00:00\",\"1979-10-01T00:00:00\",\"1979-11-01T00:00:00\",\"1979-12-01T00:00:00\",\"1980-01-01T00:00:00\",\"1980-02-01T00:00:00\",\"1980-03-01T00:00:00\",\"1980-04-01T00:00:00\",\"1980-05-01T00:00:00\",\"1980-06-01T00:00:00\",\"1980-07-01T00:00:00\",\"1980-08-01T00:00:00\",\"1980-09-01T00:00:00\",\"1980-10-01T00:00:00\",\"1980-11-01T00:00:00\",\"1980-12-01T00:00:00\",\"1981-01-01T00:00:00\",\"1981-02-01T00:00:00\",\"1981-03-01T00:00:00\",\"1981-04-01T00:00:00\",\"1981-05-01T00:00:00\",\"1981-06-01T00:00:00\",\"1981-07-01T00:00:00\",\"1981-08-01T00:00:00\",\"1981-09-01T00:00:00\",\"1981-10-01T00:00:00\",\"1981-11-01T00:00:00\",\"1981-12-01T00:00:00\",\"1982-01-01T00:00:00\",\"1982-02-01T00:00:00\",\"1982-03-01T00:00:00\",\"1982-04-01T00:00:00\",\"1982-05-01T00:00:00\",\"1982-06-01T00:00:00\",\"1982-07-01T00:00:00\",\"1982-08-01T00:00:00\",\"1982-09-01T00:00:00\",\"1982-10-01T00:00:00\",\"1982-11-01T00:00:00\",\"1982-12-01T00:00:00\",\"1983-01-01T00:00:00\",\"1983-02-01T00:00:00\",\"1983-03-01T00:00:00\",\"1983-04-01T00:00:00\",\"1983-05-01T00:00:00\",\"1983-06-01T00:00:00\",\"1983-07-01T00:00:00\",\"1983-08-01T00:00:00\",\"1983-09-01T00:00:00\",\"1983-10-01T00:00:00\",\"1983-11-01T00:00:00\",\"1983-12-01T00:00:00\",\"1984-01-01T00:00:00\",\"1984-02-01T00:00:00\",\"1984-03-01T00:00:00\",\"1984-04-01T00:00:00\",\"1984-05-01T00:00:00\",\"1984-06-01T00:00:00\",\"1984-07-01T00:00:00\",\"1984-08-01T00:00:00\",\"1984-09-01T00:00:00\",\"1984-10-01T00:00:00\",\"1984-11-01T00:00:00\",\"1984-12-01T00:00:00\",\"1985-01-01T00:00:00\",\"1985-02-01T00:00:00\",\"1985-03-01T00:00:00\",\"1985-04-01T00:00:00\",\"1985-05-01T00:00:00\",\"1985-06-01T00:00:00\",\"1985-07-01T00:00:00\",\"1985-08-01T00:00:00\",\"1985-09-01T00:00:00\",\"1985-10-01T00:00:00\",\"1985-11-01T00:00:00\",\"1985-12-01T00:00:00\",\"1986-01-01T00:00:00\",\"1986-02-01T00:00:00\",\"1986-03-01T00:00:00\",\"1986-04-01T00:00:00\",\"1986-05-01T00:00:00\",\"1986-06-01T00:00:00\",\"1986-07-01T00:00:00\",\"1986-08-01T00:00:00\",\"1986-09-01T00:00:00\",\"1986-10-01T00:00:00\",\"1986-11-01T00:00:00\",\"1986-12-01T00:00:00\",\"1987-01-01T00:00:00\",\"1987-02-01T00:00:00\",\"1987-03-01T00:00:00\",\"1987-04-01T00:00:00\",\"1987-05-01T00:00:00\",\"1987-06-01T00:00:00\",\"1987-07-01T00:00:00\",\"1987-08-01T00:00:00\",\"1987-09-01T00:00:00\",\"1987-10-01T00:00:00\",\"1987-11-01T00:00:00\",\"1987-12-01T00:00:00\",\"1988-01-01T00:00:00\",\"1988-02-01T00:00:00\",\"1988-03-01T00:00:00\",\"1988-04-01T00:00:00\",\"1988-05-01T00:00:00\",\"1988-06-01T00:00:00\",\"1988-07-01T00:00:00\",\"1988-08-01T00:00:00\",\"1988-09-01T00:00:00\",\"1988-10-01T00:00:00\",\"1988-11-01T00:00:00\",\"1988-12-01T00:00:00\",\"1989-01-01T00:00:00\",\"1989-02-01T00:00:00\",\"1989-03-01T00:00:00\",\"1989-04-01T00:00:00\",\"1989-05-01T00:00:00\",\"1989-06-01T00:00:00\",\"1989-07-01T00:00:00\",\"1989-08-01T00:00:00\",\"1989-09-01T00:00:00\",\"1989-10-01T00:00:00\",\"1989-11-01T00:00:00\",\"1989-12-01T00:00:00\",\"1990-01-01T00:00:00\",\"1990-02-01T00:00:00\",\"1990-03-01T00:00:00\",\"1990-04-01T00:00:00\",\"1990-05-01T00:00:00\",\"1990-06-01T00:00:00\",\"1990-07-01T00:00:00\",\"1990-08-01T00:00:00\",\"1990-09-01T00:00:00\",\"1990-10-01T00:00:00\",\"1990-11-01T00:00:00\",\"1990-12-01T00:00:00\",\"1991-01-01T00:00:00\",\"1991-02-01T00:00:00\",\"1991-03-01T00:00:00\",\"1991-04-01T00:00:00\",\"1991-05-01T00:00:00\",\"1991-06-01T00:00:00\",\"1991-07-01T00:00:00\",\"1991-08-01T00:00:00\",\"1991-09-01T00:00:00\",\"1991-10-01T00:00:00\",\"1991-11-01T00:00:00\",\"1991-12-01T00:00:00\",\"1992-01-01T00:00:00\",\"1992-02-01T00:00:00\",\"1992-03-01T00:00:00\",\"1992-04-01T00:00:00\",\"1992-05-01T00:00:00\",\"1992-06-01T00:00:00\",\"1992-07-01T00:00:00\",\"1992-08-01T00:00:00\",\"1992-09-01T00:00:00\",\"1992-10-01T00:00:00\",\"1992-11-01T00:00:00\",\"1992-12-01T00:00:00\",\"1993-01-01T00:00:00\",\"1993-02-01T00:00:00\",\"1993-03-01T00:00:00\",\"1993-04-01T00:00:00\",\"1993-05-01T00:00:00\",\"1993-06-01T00:00:00\",\"1993-07-01T00:00:00\",\"1993-08-01T00:00:00\",\"1993-09-01T00:00:00\",\"1993-10-01T00:00:00\",\"1993-11-01T00:00:00\",\"1993-12-01T00:00:00\",\"1994-01-01T00:00:00\",\"1994-02-01T00:00:00\",\"1994-03-01T00:00:00\",\"1994-04-01T00:00:00\",\"1994-05-01T00:00:00\",\"1994-06-01T00:00:00\",\"1994-07-01T00:00:00\",\"1994-08-01T00:00:00\",\"1994-09-01T00:00:00\",\"1994-10-01T00:00:00\",\"1994-11-01T00:00:00\",\"1994-12-01T00:00:00\",\"1995-01-01T00:00:00\",\"1995-02-01T00:00:00\",\"1995-03-01T00:00:00\",\"1995-04-01T00:00:00\",\"1995-05-01T00:00:00\",\"1995-06-01T00:00:00\",\"1995-07-01T00:00:00\",\"1995-08-01T00:00:00\",\"1995-09-01T00:00:00\",\"1995-10-01T00:00:00\",\"1995-11-01T00:00:00\",\"1995-12-01T00:00:00\",\"1996-01-01T00:00:00\",\"1996-02-01T00:00:00\",\"1996-03-01T00:00:00\",\"1996-04-01T00:00:00\",\"1996-05-01T00:00:00\",\"1996-06-01T00:00:00\",\"1996-07-01T00:00:00\",\"1996-08-01T00:00:00\",\"1996-09-01T00:00:00\",\"1996-10-01T00:00:00\",\"1996-11-01T00:00:00\",\"1996-12-01T00:00:00\",\"1997-01-01T00:00:00\",\"1997-02-01T00:00:00\",\"1997-03-01T00:00:00\",\"1997-04-01T00:00:00\",\"1997-05-01T00:00:00\",\"1997-06-01T00:00:00\",\"1997-07-01T00:00:00\",\"1997-08-01T00:00:00\",\"1997-09-01T00:00:00\",\"1997-10-01T00:00:00\",\"1997-11-01T00:00:00\",\"1997-12-01T00:00:00\",\"1998-01-01T00:00:00\",\"1998-02-01T00:00:00\",\"1998-03-01T00:00:00\",\"1998-04-01T00:00:00\",\"1998-05-01T00:00:00\",\"1998-06-01T00:00:00\",\"1998-07-01T00:00:00\",\"1998-08-01T00:00:00\",\"1998-09-01T00:00:00\",\"1998-10-01T00:00:00\",\"1998-11-01T00:00:00\",\"1998-12-01T00:00:00\",\"1999-01-01T00:00:00\",\"1999-02-01T00:00:00\",\"1999-03-01T00:00:00\",\"1999-04-01T00:00:00\",\"1999-05-01T00:00:00\",\"1999-06-01T00:00:00\",\"1999-07-01T00:00:00\",\"1999-08-01T00:00:00\",\"1999-09-01T00:00:00\",\"1999-10-01T00:00:00\",\"1999-11-01T00:00:00\",\"1999-12-01T00:00:00\",\"2000-01-01T00:00:00\",\"2000-02-01T00:00:00\",\"2000-03-01T00:00:00\",\"2000-04-01T00:00:00\",\"2000-05-01T00:00:00\",\"2000-06-01T00:00:00\",\"2000-07-01T00:00:00\",\"2000-08-01T00:00:00\",\"2000-09-01T00:00:00\",\"2000-10-01T00:00:00\",\"2000-11-01T00:00:00\",\"2000-12-01T00:00:00\",\"2001-01-01T00:00:00\",\"2001-02-01T00:00:00\",\"2001-03-01T00:00:00\",\"2001-04-01T00:00:00\",\"2001-05-01T00:00:00\",\"2001-06-01T00:00:00\",\"2001-07-01T00:00:00\",\"2001-08-01T00:00:00\",\"2001-09-01T00:00:00\",\"2001-10-01T00:00:00\",\"2001-11-01T00:00:00\",\"2001-12-01T00:00:00\",\"2002-01-01T00:00:00\",\"2002-02-01T00:00:00\",\"2002-03-01T00:00:00\",\"2002-04-01T00:00:00\",\"2002-05-01T00:00:00\",\"2002-06-01T00:00:00\",\"2002-07-01T00:00:00\",\"2002-08-01T00:00:00\",\"2002-09-01T00:00:00\",\"2002-10-01T00:00:00\",\"2002-11-01T00:00:00\",\"2002-12-01T00:00:00\",\"2003-01-01T00:00:00\",\"2003-02-01T00:00:00\",\"2003-03-01T00:00:00\",\"2003-04-01T00:00:00\",\"2003-05-01T00:00:00\",\"2003-06-01T00:00:00\",\"2003-07-01T00:00:00\",\"2003-08-01T00:00:00\",\"2003-09-01T00:00:00\",\"2003-10-01T00:00:00\",\"2003-11-01T00:00:00\",\"2003-12-01T00:00:00\",\"2004-01-01T00:00:00\",\"2004-02-01T00:00:00\",\"2004-03-01T00:00:00\",\"2004-04-01T00:00:00\",\"2004-05-01T00:00:00\",\"2004-06-01T00:00:00\",\"2004-07-01T00:00:00\",\"2004-08-01T00:00:00\",\"2004-09-01T00:00:00\",\"2004-10-01T00:00:00\",\"2004-11-01T00:00:00\",\"2004-12-01T00:00:00\",\"2005-01-01T00:00:00\",\"2005-02-01T00:00:00\",\"2005-03-01T00:00:00\",\"2005-04-01T00:00:00\",\"2005-05-01T00:00:00\",\"2005-06-01T00:00:00\",\"2005-07-01T00:00:00\",\"2005-08-01T00:00:00\",\"2005-09-01T00:00:00\",\"2005-10-01T00:00:00\",\"2005-11-01T00:00:00\",\"2005-12-01T00:00:00\",\"2006-01-01T00:00:00\",\"2006-02-01T00:00:00\",\"2006-03-01T00:00:00\",\"2006-04-01T00:00:00\",\"2006-05-01T00:00:00\",\"2006-06-01T00:00:00\",\"2006-07-01T00:00:00\",\"2006-08-01T00:00:00\",\"2006-09-01T00:00:00\",\"2006-10-01T00:00:00\",\"2006-11-01T00:00:00\",\"2006-12-01T00:00:00\",\"2007-01-01T00:00:00\",\"2007-02-01T00:00:00\",\"2007-03-01T00:00:00\",\"2007-04-01T00:00:00\",\"2007-05-01T00:00:00\",\"2007-06-01T00:00:00\",\"2007-07-01T00:00:00\",\"2007-08-01T00:00:00\",\"2007-09-01T00:00:00\",\"2007-10-01T00:00:00\",\"2007-11-01T00:00:00\",\"2007-12-01T00:00:00\",\"2008-01-01T00:00:00\",\"2008-02-01T00:00:00\",\"2008-03-01T00:00:00\",\"2008-04-01T00:00:00\",\"2008-05-01T00:00:00\",\"2008-06-01T00:00:00\",\"2008-07-01T00:00:00\",\"2008-08-01T00:00:00\",\"2008-09-01T00:00:00\",\"2008-10-01T00:00:00\",\"2008-11-01T00:00:00\",\"2008-12-01T00:00:00\",\"2009-01-01T00:00:00\",\"2009-02-01T00:00:00\",\"2009-03-01T00:00:00\",\"2009-04-01T00:00:00\",\"2009-05-01T00:00:00\",\"2009-06-01T00:00:00\",\"2009-07-01T00:00:00\",\"2009-08-01T00:00:00\",\"2009-09-01T00:00:00\",\"2009-10-01T00:00:00\",\"2009-11-01T00:00:00\",\"2009-12-01T00:00:00\",\"2010-01-01T00:00:00\",\"2010-02-01T00:00:00\",\"2010-03-01T00:00:00\",\"2010-04-01T00:00:00\",\"2010-05-01T00:00:00\",\"2010-06-01T00:00:00\",\"2010-07-01T00:00:00\",\"2010-08-01T00:00:00\",\"2010-09-01T00:00:00\",\"2010-10-01T00:00:00\",\"2010-11-01T00:00:00\",\"2010-12-01T00:00:00\",\"2011-01-01T00:00:00\",\"2011-02-01T00:00:00\",\"2011-03-01T00:00:00\",\"2011-04-01T00:00:00\",\"2011-05-01T00:00:00\",\"2011-06-01T00:00:00\",\"2011-07-01T00:00:00\",\"2011-08-01T00:00:00\",\"2011-09-01T00:00:00\",\"2011-10-01T00:00:00\",\"2011-11-01T00:00:00\",\"2011-12-01T00:00:00\",\"2012-01-01T00:00:00\",\"2012-02-01T00:00:00\",\"2012-03-01T00:00:00\",\"2012-04-01T00:00:00\",\"2012-05-01T00:00:00\",\"2012-06-01T00:00:00\",\"2012-07-01T00:00:00\",\"2012-08-01T00:00:00\",\"2012-09-01T00:00:00\",\"2012-10-01T00:00:00\",\"2012-11-01T00:00:00\",\"2012-12-01T00:00:00\",\"2013-01-01T00:00:00\",\"2013-02-01T00:00:00\",\"2013-03-01T00:00:00\",\"2013-04-01T00:00:00\",\"2013-05-01T00:00:00\",\"2013-06-01T00:00:00\",\"2013-07-01T00:00:00\",\"2013-08-01T00:00:00\",\"2013-09-01T00:00:00\",\"2013-10-01T00:00:00\",\"2013-11-01T00:00:00\",\"2013-12-01T00:00:00\",\"2014-01-01T00:00:00\",\"2014-02-01T00:00:00\",\"2014-03-01T00:00:00\",\"2014-04-01T00:00:00\",\"2014-05-01T00:00:00\",\"2014-06-01T00:00:00\",\"2014-07-01T00:00:00\",\"2014-08-01T00:00:00\",\"2014-09-01T00:00:00\",\"2014-10-01T00:00:00\",\"2014-11-01T00:00:00\",\"2014-12-01T00:00:00\",\"2015-01-01T00:00:00\",\"2015-02-01T00:00:00\",\"2015-03-01T00:00:00\",\"2015-04-01T00:00:00\",\"2015-05-01T00:00:00\",\"2015-06-01T00:00:00\",\"2015-07-01T00:00:00\",\"2015-08-01T00:00:00\",\"2015-09-01T00:00:00\",\"2015-10-01T00:00:00\",\"2015-11-01T00:00:00\",\"2015-12-01T00:00:00\",\"2016-01-01T00:00:00\",\"2016-02-01T00:00:00\",\"2016-03-01T00:00:00\",\"2016-04-01T00:00:00\",\"2016-05-01T00:00:00\",\"2016-06-01T00:00:00\",\"2016-07-01T00:00:00\",\"2016-08-01T00:00:00\",\"2016-09-01T00:00:00\",\"2016-10-01T00:00:00\",\"2016-11-01T00:00:00\",\"2016-12-01T00:00:00\",\"2017-01-01T00:00:00\",\"2017-02-01T00:00:00\",\"2017-03-01T00:00:00\",\"2017-04-01T00:00:00\",\"2017-05-01T00:00:00\",\"2017-06-01T00:00:00\",\"2017-07-01T00:00:00\",\"2017-08-01T00:00:00\",\"2017-09-01T00:00:00\",\"2017-10-01T00:00:00\",\"2017-11-01T00:00:00\",\"2017-12-01T00:00:00\",\"2018-01-01T00:00:00\",\"2018-02-01T00:00:00\",\"2018-03-01T00:00:00\",\"2018-04-01T00:00:00\",\"2018-05-01T00:00:00\",\"2018-06-01T00:00:00\",\"2018-07-01T00:00:00\",\"2018-08-01T00:00:00\",\"2018-09-01T00:00:00\",\"2018-10-01T00:00:00\",\"2018-11-01T00:00:00\",\"2018-12-01T00:00:00\",\"2019-01-01T00:00:00\",\"2019-02-01T00:00:00\",\"2019-03-01T00:00:00\",\"2019-04-01T00:00:00\",\"2019-05-01T00:00:00\",\"2019-06-01T00:00:00\",\"2019-07-01T00:00:00\",\"2019-08-01T00:00:00\",\"2019-09-01T00:00:00\",\"2019-10-01T00:00:00\",\"2019-11-01T00:00:00\",\"2019-12-01T00:00:00\",\"2020-01-01T00:00:00\",\"2020-02-01T00:00:00\",\"2020-03-01T00:00:00\",\"2020-04-01T00:00:00\",\"2020-05-01T00:00:00\",\"2020-06-01T00:00:00\",\"2020-07-01T00:00:00\",\"2020-08-01T00:00:00\",\"2020-09-01T00:00:00\",\"2020-10-01T00:00:00\",\"2020-11-01T00:00:00\",\"2020-12-01T00:00:00\",\"2021-01-01T00:00:00\",\"2021-02-01T00:00:00\",\"2021-03-01T00:00:00\",\"2021-04-01T00:00:00\",\"2021-05-01T00:00:00\",\"2021-06-01T00:00:00\",\"2021-07-01T00:00:00\",\"2021-08-01T00:00:00\",\"2021-09-01T00:00:00\",\"2021-10-01T00:00:00\",\"2021-11-01T00:00:00\",\"2021-12-01T00:00:00\",\"2022-01-01T00:00:00\",\"2022-02-01T00:00:00\",\"2022-03-01T00:00:00\",\"2022-04-01T00:00:00\",\"2022-05-01T00:00:00\",\"2022-06-01T00:00:00\",\"2022-07-01T00:00:00\",\"2022-08-01T00:00:00\",\"2022-09-01T00:00:00\",\"2022-10-01T00:00:00\",\"2022-11-01T00:00:00\",\"2022-12-01T00:00:00\"],\"xaxis\":\"x2\",\"y\":[0.5541650273224044,0.6496000000000001,0.5846153846153845,0.5664533333333334,0.6900909090909091,0.35320714285714283,0.5006666666666667,0.549,0.6735714285714286,0.6738571428571428,0.6910000000000001,0.5604361702127659,0.6557142857142857,0.57475,0.5957,0.71,0.9566666666666667,0.7723333333333334,0.6303571428571428,0.37850000000000006,0.478125,0.577375,0.629375,0.5650721238938053,0.3741,0.45361,0.6705,0.5459999999999999,0.673375,0.8226666666666667,0.617,0.6491818181818182,0.3759333333333333,0.6070588235294118,0.508186936936937,0.4682142857142857,0.7476666666666667,0.869,0.4837142857142857,0.6927777777777777,0.5494615384615384,0.5598133333333333,0.6739999999999999,0.6302222222222222,0.7387314285714286,0.6595454545454545,0.5671514705882352,0.38833333333333336,0.679,0.5370476190476191,0.2366,0.5294166666666666,0.7391599999999999,0.6922631578947369,0.5013333333333333,0.6648333333333334,0.591,0.7056666666666667,0.5496812834224599,0.526,0.7185789473684211,0.6168571428571429,0.5914666666666667,0.5786428571428571,0.5911428571428571,0.6591,0.641888888888889,0.6332857142857142,0.6040588235294118,0.7001615384615385,0.6478149758454106,0.528,0.66175,0.6901818181818181,0.500775,0.6501288461538461,0.5055333333333334,0.634352380952381,0.5201833333333333,0.5492941176470588,0.643,0.58875,0.5705747967479675,0.5978620689655173,0.5931935483870967,0.593,0.489,0.5768148148148148,0.54075,0.4707,0.5790538461538461,0.45913529411764703,0.49154871794871796,0.5224074074074074,0.587078125,0.6508846153846153,0.43749000000000005,0.5613181818181818,0.6293333333333333,0.5250666666666667,0.5431025641025641,0.5831904761904761,0.37105238095238097,0.5176000000000001,0.5545833333333333,0.639,0.5799369402985075,0.3792,0.3941578947368421,0.5156086956521739,0.5436,0.5397142857142857,0.34428064516129037,0.5490241379310344,0.5189729166666667,0.4756138888888889,0.5400333333333334,0.5591333333333334,0.5889485815602836,0.529483870967742,0.5272857142857142,0.4574285714285714,0.5606470588235295,0.6196551724137931,0.69115,0.6051666666666667,0.5431739130434783,0.42811176470588236,0.6144512195121951,0.514085294117647,0.5371766355140186,0.47228333333333333,0.4640565217391304,0.57775,0.6086896551724138,0.5835454545454546,0.5373333333333333,0.5158888888888888,0.5616258064516129,0.5873333333333333,0.5014186046511628,0.5528571428571429,0.5675958737864077,0.5626333333333334,0.4779,0.5848421052631579,0.6187275862068966,0.5038880952380952,0.58904,0.6849166666666666,0.43244999999999995,0.5925357142857143,0.5427083333333333,0.6397,0.6057992167101828,0.5086096774193548,0.4232925925925926,0.624385294117647,0.5497857142857143,0.5345882352941176,0.6059310344827586,0.6044583333333333,0.5570766666666667,0.590638,0.6236785714285714,0.6803478260869565,0.5711528481012658,0.6163416666666667,0.6208,0.599764705882353,0.421,0.6767428571428571,0.6334375,0.49216666666666664,0.5364666666666666,0.5584761904761905,0.5570166666666666,0.6276666666666666,0.5586411347517731,0.5615173913043477,0.5042850000000001,0.570924,0.49391153846153846,0.5888421052631579,0.6501,0.5780000000000001,0.43993125,0.6323333333333333,0.5948085714285715,0.66067,0.5951321100917432,0.5324047619047619,0.565695652173913,0.644076923076923,0.4767047619047619,0.5882222222222222,0.6384545454545454,0.6885,0.5665135135135134,0.6099444444444444,0.5622380952380952,0.4108266666666667,0.5833058201058201,0.6514935483870968,0.4033185185185185,0.5539999999999999,0.5593333333333333,0.7398947368421053,0.6158904761904762,0.6512142857142857,0.6135541666666667,0.4943170731707317,0.6394344827586207,0.5529999999999999,0.63178,0.5946551724137932,0.5702941176470588,0.6854516129032258,0.6495,0.5644555555555555,0.5511538461538461,0.7176666666666667,0.7340416666666667,0.582358064516129,0.597265306122449,0.6665555555555556,0.6541653944020356,0.5531999999999999,0.6278620689655172,0.56042,0.7073333333333333,0.577767857142857,0.6372352941176471,0.71340625,0.621909090909091,0.6233157894736842,0.41391176470588237,0.5464100000000001,0.628992628992629,0.6847692307692307,0.688,0.61312,0.7293416666666667,0.5839090909090909,0.5586800000000001,0.54601875,0.5991710526315789,0.6358424242424243,0.5235483870967742,0.5100761904761905,0.5588062084257206,0.55194375,0.6523285714285715,0.5753,0.6182000000000001,0.6243888888888889,0.41811052631578943,0.6315666666666666,0.52125,0.6532608695652175,0.54309375,0.41700909090909094,0.5667599489795919,0.5342857142857143,0.6231899999999999,0.6455647058823529,0.58928125,0.5510757575757577,0.4743516129032258,0.7610666666666667,0.5181833333333333,0.6554761904761905,0.5449512195121952,0.7406666666666667,0.5443985915492958,0.6631176470588235,0.49972352941176473,0.746090909090909,0.7126333333333333,0.617125,0.4009606060606061,0.5470344827586208,0.6491619047619048,0.5694535714285714,0.6565944444444445,0.560392,0.543211320754717,0.6091764705882353,0.6402592592592592,0.6564705882352941,0.5947,0.5740106382978724,0.46422558139534886,0.4585535714285714,0.5088709677419355,0.6006204081632652,0.5275128205128206,0.4559068965517241,0.5608075723830735,0.5415277777777778,0.41722000000000004,0.4977782608695652,0.5869,0.6008064516129032,0.5203666666666666,0.7156666666666667,0.5542244444444445,0.553284375,0.5786176470588236,0.59645,0.49734906542056073,0.508621052631579,0.539176923076923,0.4950243243243243,0.6001923076923077,0.5412904761904762,0.5911722222222222,0.5504666666666667,0.47602307692307694,0.5550407407407407,0.4971017241379311,0.7872142857142856,0.543162271062271,0.67015,0.5171148936170213,0.5779473684210527,0.5984057142857142,0.4638269230769231,0.5756063829787234,0.6112162162162161,0.5839474576271186,0.4733179487179487,0.5542199999999999,0.5264888888888889,0.549387265917603,0.6016585365853658,0.6328891891891892,0.4563222222222223,0.5855675675675676,0.5884325581395349,0.6343736842105263,0.6112,0.5499842105263157,0.5435172413793103,0.5597894736842105,0.41502,0.528668085106383,0.688047619047619,0.5771724137931035,0.5139976190476191,0.5159867924528302,0.5256666666666666,0.45715500000000003,0.5802108108108108,0.5509267857142858,0.5451875,0.5525652173913044,0.702875,0.5318764227642276,0.5822119402985075,0.50802,0.5434577777777778,0.48150256410256415,0.6640810810810811,0.5642457627118644,0.514655,0.49246142857142855,0.5206923076923077,0.4913825,0.3783315789473684,0.538253274559194,0.4674034482758621,0.45753809523809524,0.5926680851063829,0.5913695652173913,0.38850222222222225,0.5373,0.48418850574712646,0.4712504,0.5347904109589041,0.4663678571428571,0.6083461538461539,0.501426923076923,0.4942016393442623,0.5383735294117648,0.46756,0.65185,0.49292054794520546,0.5505720000000001,0.5625423076923076,0.47700888888888887,0.47162173913043476,0.5787745454545454,0.4817033333333333,0.5242166874221669,0.5001019607843137,0.5157785714285714,0.47457407407407404,0.5288596153846153,0.49146260162601624,0.5418507462686567,0.5233031746031745,0.5400461538461538,0.4364254716981132,0.5616,0.6254418604651163,0.49907569791666667,0.5551619047619047,0.40551583333333335,0.46961348314606743,0.4889552380952381,0.5287765957446808,0.6482410526315789,0.46887685185185185,0.48346052631578945,0.48766363636363635,0.4874457831325301,0.4461942857142857,0.4897160450997398,0.5447274509803922,0.47229009900990104,0.47094912280701756,0.5401164383561644,0.4867,0.5882108695652174,0.4831211111111111,0.4332052631578947,0.5229506578947368,0.4659747368421053,0.3474047619047619,0.5221504486540379,0.5619604651162791,0.5532377049180328,0.5878136363636364,0.5085590909090909,0.4800840336134454,0.53454,0.4604976744186047,0.5362323308270677,0.4935902097902098,0.528059595959596,0.5083447368421052,0.5360453290008124,0.5268937499999999,0.48822879999999996,0.5322574999999999,0.4352607843137255,0.5012179856115109,0.33216565656565655,0.4590669014084507,0.5299065573770492,0.4792048780487805,0.4943740740740741,0.4391684210526316,0.5452563031161473,0.45057087378640776,0.5840357723577235,0.5091688888888889,0.5131578947368421,0.5602768595041322,0.5604329670329671,0.5195943548387096,0.5396797202797202,0.45489411764705884,0.5334126126126126,0.5781939393939394,0.5283724164724165,0.45985206611570245,0.49807391304347826,0.49316923076923075,0.4676762295081967,0.5211837209302325,0.6191041666666667,0.46913541666666664,0.48045069444444444,0.544826815642458,0.5315205128205128,0.47349523809523814,0.5338304163726182,0.57401,0.6012777777777778,0.5051274725274725,0.5184692307692308,0.5161391999999999,0.5716207317073171,0.5543010101010101,0.4970491525423729,0.5367747663551402,0.5375759124087591,0.5259058823529412,0.5349508650519031,0.5067176470588235,0.5301622641509434,0.513665,0.4970288343558282,0.5392881188118812,0.43737176470588235,0.541896062992126,0.5081584615384614,0.44788556701030924,0.5071654676258992,0.5260247311827957,0.5182983236621534,0.5792858757062147,0.5149117647058824,0.49942923076923074,0.5369541935483871,0.5475356521739131,0.5849495867768595,0.46859925373134326,0.5630669421487604,0.484898773006135,0.48747131782945735,0.47492615384615383,0.5208879863481228,0.46497066666666664,0.47296759776536307,0.5295905982905983,0.4489592,0.500134756097561,0.545236974789916,0.524397247706422,0.5366994845360824,0.49409378531073445,0.3831632850241546,0.5026929824561404,0.5279912790697674,0.5273656,0.5353767567567568,0.38196214689265534,0.4463780104712042,0.5074524064171123,0.6422078048780488,0.4691444444444445,0.45516436781609193,0.49813821656050955,0.44430000000000003,0.4631337209302326,0.5174658817373103,0.5650993243243243,0.48909714285714284,0.5882162601626016,0.5503329268292683,0.565904705882353,0.5286971014492753,0.5030100961538462,0.4893778947368421,0.4995147766323024,0.487861328125,0.48921605839416055,0.5164363146067416,0.5191923976608187,0.4815929245283019,0.5298204633204633,0.4897607382550336,0.5167755868544601,0.5729708994708995,0.5446,0.49180959752321984,0.4583057692307692,0.5128305418719212,0.51205,0.5178304371002131,0.5706496551724138,0.5528596899224806,0.5090877906976744,0.5306007092198581,0.5354935606060606,0.4909216783216784,0.5237797101449275,0.4532623853211009,0.5108056657223796,0.4922924603174603,0.5238701754385965,0.5045027860696517,0.5182953703703704,0.5152560311284047,0.5306606557377049,0.5126836538461539,0.5032482084690554,0.4983979094076655,0.49333576923076927,0.4807804469273743,0.5057910290237466,0.4599638483965014,0.5128674208144797,0.5263352463179279,0.5129875457875458,0.5376529157667387,0.5108230769230769,0.5244817438692099,0.5195888888888889,0.504666796875,0.4805677811550152,0.5068813333333333,0.47434677419354837,0.4840991847826087,0.4617857566765579,0.5280913551401869,0.5507053846153847,0.4557654989384289,0.5175775413711584,0.48429308035714286,0.5039568764568765,0.5065445054945056,0.4929965601965602,0.45832423875432526,0.5006756704980844,0.5302409972299169,0.45745107692307696,0.4807109950859951,0.448288231292517,0.46615105008077545,0.5014925430210325,0.4908081370449679,0.4743152014652014,0.5248042492917847,0.5197194303797469,0.48113024118738407,0.47143611111111106,0.4593368167202572,0.42408005115089514,0.46476311764705885,0.4372789592760181,0.4583190170940171,0.47229116022099443,0.4730739051094891,0.5013558386411889,0.4778695075757576,0.47991446078431377,0.46752283849918436,0.4603510039630119,0.42924051282051284,0.4570381081081081,0.454603793911007,0.4614230215827338,0.5033263532763533,0.44076499133448876,0.4672930194805195,0.4741618066561014,0.4652552158273381,0.4639494680851064,0.4511281118881119,0.44818988439306356,0.43273611898017,0.4999677725118484,0.4257813646702047,0.45678028616852145,0.46465700310559005,0.4545420054200542,0.48112649800266316,0.46810873485868104,0.44583787375415285,0.4829825072886298,0.4321733050847458,0.4564448579823702,0.4048140861466822,0.4313104234527687,0.4727159503342885,0.43962552825552825,0.4197784294234592,0.4395445497076023,0.4489523864959255,0.4378307262569832,0.45960635167464114,0.43251137440758297,0.38823677474402735,0.42369143341815096,0.43384380341880346,0.4063935331230284,0.4346503370786517,0.38728840048840046,0.4228862470862471,0.4184312174817898,0.43582875288683603,0.3917648217636023,0.4265596130592503,0.4149346871686108,0.4212298169136879,0.41824547118023786,0.4008771694214876,0.4407374074074074,0.4184465741728922,0.4016022517911976,0.42971270588235294,0.4191917552182163,0.43679520595968446,0.42538318367346933,0.43711840855106887,0.4350138712601994,0.4038366045845272,0.4157857372654155,0.40529940652818996,0.41268167002012074,0.39023410301953815,0.4001003493449781,0.39847634854771785,0.43087988782051284,0.4143962962962963,0.4263938527519657,0.43277332015810277,0.42292927161334243,0.4167501957713391,0.4096793113772455,0.42694617962466486,0.4233910375494071,0.4117748704663213,0.3943914438502674,0.4089585942936674,0.4173691874497184,0.42655261794019933,0.43637723930982747,0.4181587196969697,0.41555045454545453,0.4042499099099099,0.39460762222222223,0.4032226351351351,0.41531878865979377,0.3944130434782609,0.416259185282523,0.39460577383720935,0.39634128466707397,0.4122034730538922,0.40858500097560974,0.4176979469825155,0.4207427597195666,0.3943543379978472,0.41278115626309175,0.40459241533864543,0.4036427810760668,0.37500136391068195,0.4018355132641292,0.3969970782331027,0.37024691127098325,0.4122293667242372,0.42071952702702703,0.4143378532580811,0.4163623489553924,0.3973225996971227,0.38132753514180023,0.396742554973822,0.38694614990390774,0.3859795347564313,0.3920518140474987,0.38525043468365955,0.38551274662529095,0.38449311238337575,0.4037130434597358,0.42094008512213177,0.3865012090345439,0.39658626558603494,0.37258763784097504,0.3729308049624928,0.37211244351755307],\"yaxis\":\"y2\",\"type\":\"scatter\"},{\"hovertemplate\":\"\\u003cb\\u003eOLS trendline\\u003c\\u002fb\\u003e\\u003cbr\\u003evalence = -9.20539e-11 * x + 0.588592\\u003cbr\\u003eR\\u003csup\\u003e2\\u003c\\u002fsup\\u003e=0.367638\\u003cbr\\u003e\\u003cbr\\u003ex=%{x}\\u003cbr\\u003evalence=%{y} \\u003cb\\u003e(trend)\\u003c\\u002fb\\u003e\\u003cextra\\u003e\\u003c\\u002fextra\\u003e\",\"legendgroup\":\"\",\"line\":{\"color\":\"red\"},\"marker\":{\"color\":\"#636efa\",\"symbol\":\"circle\"},\"mode\":\"lines\",\"name\":\"\",\"showlegend\":false,\"x\":[\"1960-01-01T00:00:00\",\"1960-02-01T00:00:00\",\"1960-03-01T00:00:00\",\"1960-04-01T00:00:00\",\"1960-05-01T00:00:00\",\"1960-07-01T00:00:00\",\"1960-08-01T00:00:00\",\"1960-09-01T00:00:00\",\"1960-10-01T00:00:00\",\"1960-11-01T00:00:00\",\"1960-12-01T00:00:00\",\"1961-01-01T00:00:00\",\"1961-02-01T00:00:00\",\"1961-03-01T00:00:00\",\"1961-04-01T00:00:00\",\"1961-05-01T00:00:00\",\"1961-06-01T00:00:00\",\"1961-07-01T00:00:00\",\"1961-08-01T00:00:00\",\"1961-09-01T00:00:00\",\"1961-10-01T00:00:00\",\"1961-11-01T00:00:00\",\"1961-12-01T00:00:00\",\"1962-01-01T00:00:00\",\"1962-02-01T00:00:00\",\"1962-03-01T00:00:00\",\"1962-04-01T00:00:00\",\"1962-05-01T00:00:00\",\"1962-06-01T00:00:00\",\"1962-07-01T00:00:00\",\"1962-08-01T00:00:00\",\"1962-10-01T00:00:00\",\"1962-11-01T00:00:00\",\"1962-12-01T00:00:00\",\"1963-01-01T00:00:00\",\"1963-02-01T00:00:00\",\"1963-03-01T00:00:00\",\"1963-04-01T00:00:00\",\"1963-05-01T00:00:00\",\"1963-06-01T00:00:00\",\"1963-07-01T00:00:00\",\"1963-08-01T00:00:00\",\"1963-09-01T00:00:00\",\"1963-10-01T00:00:00\",\"1963-11-01T00:00:00\",\"1963-12-01T00:00:00\",\"1964-01-01T00:00:00\",\"1964-02-01T00:00:00\",\"1964-03-01T00:00:00\",\"1964-04-01T00:00:00\",\"1964-05-01T00:00:00\",\"1964-06-01T00:00:00\",\"1964-07-01T00:00:00\",\"1964-08-01T00:00:00\",\"1964-09-01T00:00:00\",\"1964-10-01T00:00:00\",\"1964-11-01T00:00:00\",\"1964-12-01T00:00:00\",\"1965-01-01T00:00:00\",\"1965-02-01T00:00:00\",\"1965-03-01T00:00:00\",\"1965-04-01T00:00:00\",\"1965-05-01T00:00:00\",\"1965-06-01T00:00:00\",\"1965-07-01T00:00:00\",\"1965-08-01T00:00:00\",\"1965-09-01T00:00:00\",\"1965-10-01T00:00:00\",\"1965-11-01T00:00:00\",\"1965-12-01T00:00:00\",\"1966-01-01T00:00:00\",\"1966-02-01T00:00:00\",\"1966-03-01T00:00:00\",\"1966-04-01T00:00:00\",\"1966-05-01T00:00:00\",\"1966-06-01T00:00:00\",\"1966-07-01T00:00:00\",\"1966-08-01T00:00:00\",\"1966-09-01T00:00:00\",\"1966-10-01T00:00:00\",\"1966-11-01T00:00:00\",\"1966-12-01T00:00:00\",\"1967-01-01T00:00:00\",\"1967-02-01T00:00:00\",\"1967-03-01T00:00:00\",\"1967-04-01T00:00:00\",\"1967-05-01T00:00:00\",\"1967-06-01T00:00:00\",\"1967-07-01T00:00:00\",\"1967-08-01T00:00:00\",\"1967-09-01T00:00:00\",\"1967-10-01T00:00:00\",\"1967-11-01T00:00:00\",\"1967-12-01T00:00:00\",\"1968-01-01T00:00:00\",\"1968-02-01T00:00:00\",\"1968-03-01T00:00:00\",\"1968-04-01T00:00:00\",\"1968-05-01T00:00:00\",\"1968-06-01T00:00:00\",\"1968-07-01T00:00:00\",\"1968-08-01T00:00:00\",\"1968-09-01T00:00:00\",\"1968-10-01T00:00:00\",\"1968-11-01T00:00:00\",\"1968-12-01T00:00:00\",\"1969-01-01T00:00:00\",\"1969-02-01T00:00:00\",\"1969-03-01T00:00:00\",\"1969-04-01T00:00:00\",\"1969-05-01T00:00:00\",\"1969-06-01T00:00:00\",\"1969-07-01T00:00:00\",\"1969-08-01T00:00:00\",\"1969-09-01T00:00:00\",\"1969-10-01T00:00:00\",\"1969-11-01T00:00:00\",\"1969-12-01T00:00:00\",\"1970-01-01T00:00:00\",\"1970-02-01T00:00:00\",\"1970-03-01T00:00:00\",\"1970-04-01T00:00:00\",\"1970-05-01T00:00:00\",\"1970-06-01T00:00:00\",\"1970-07-01T00:00:00\",\"1970-08-01T00:00:00\",\"1970-09-01T00:00:00\",\"1970-10-01T00:00:00\",\"1970-11-01T00:00:00\",\"1970-12-01T00:00:00\",\"1971-01-01T00:00:00\",\"1971-02-01T00:00:00\",\"1971-03-01T00:00:00\",\"1971-04-01T00:00:00\",\"1971-05-01T00:00:00\",\"1971-06-01T00:00:00\",\"1971-07-01T00:00:00\",\"1971-08-01T00:00:00\",\"1971-09-01T00:00:00\",\"1971-10-01T00:00:00\",\"1971-11-01T00:00:00\",\"1971-12-01T00:00:00\",\"1972-01-01T00:00:00\",\"1972-02-01T00:00:00\",\"1972-03-01T00:00:00\",\"1972-04-01T00:00:00\",\"1972-05-01T00:00:00\",\"1972-06-01T00:00:00\",\"1972-07-01T00:00:00\",\"1972-08-01T00:00:00\",\"1972-09-01T00:00:00\",\"1972-10-01T00:00:00\",\"1972-11-01T00:00:00\",\"1972-12-01T00:00:00\",\"1973-01-01T00:00:00\",\"1973-02-01T00:00:00\",\"1973-03-01T00:00:00\",\"1973-04-01T00:00:00\",\"1973-05-01T00:00:00\",\"1973-06-01T00:00:00\",\"1973-07-01T00:00:00\",\"1973-08-01T00:00:00\",\"1973-09-01T00:00:00\",\"1973-10-01T00:00:00\",\"1973-11-01T00:00:00\",\"1973-12-01T00:00:00\",\"1974-01-01T00:00:00\",\"1974-02-01T00:00:00\",\"1974-03-01T00:00:00\",\"1974-04-01T00:00:00\",\"1974-05-01T00:00:00\",\"1974-06-01T00:00:00\",\"1974-07-01T00:00:00\",\"1974-08-01T00:00:00\",\"1974-09-01T00:00:00\",\"1974-10-01T00:00:00\",\"1974-11-01T00:00:00\",\"1974-12-01T00:00:00\",\"1975-01-01T00:00:00\",\"1975-02-01T00:00:00\",\"1975-03-01T00:00:00\",\"1975-04-01T00:00:00\",\"1975-05-01T00:00:00\",\"1975-06-01T00:00:00\",\"1975-07-01T00:00:00\",\"1975-08-01T00:00:00\",\"1975-09-01T00:00:00\",\"1975-10-01T00:00:00\",\"1975-11-01T00:00:00\",\"1975-12-01T00:00:00\",\"1976-01-01T00:00:00\",\"1976-02-01T00:00:00\",\"1976-03-01T00:00:00\",\"1976-04-01T00:00:00\",\"1976-05-01T00:00:00\",\"1976-06-01T00:00:00\",\"1976-07-01T00:00:00\",\"1976-08-01T00:00:00\",\"1976-09-01T00:00:00\",\"1976-10-01T00:00:00\",\"1976-11-01T00:00:00\",\"1976-12-01T00:00:00\",\"1977-01-01T00:00:00\",\"1977-02-01T00:00:00\",\"1977-03-01T00:00:00\",\"1977-04-01T00:00:00\",\"1977-05-01T00:00:00\",\"1977-06-01T00:00:00\",\"1977-07-01T00:00:00\",\"1977-08-01T00:00:00\",\"1977-09-01T00:00:00\",\"1977-10-01T00:00:00\",\"1977-11-01T00:00:00\",\"1977-12-01T00:00:00\",\"1978-01-01T00:00:00\",\"1978-02-01T00:00:00\",\"1978-03-01T00:00:00\",\"1978-04-01T00:00:00\",\"1978-05-01T00:00:00\",\"1978-06-01T00:00:00\",\"1978-07-01T00:00:00\",\"1978-08-01T00:00:00\",\"1978-09-01T00:00:00\",\"1978-10-01T00:00:00\",\"1978-11-01T00:00:00\",\"1978-12-01T00:00:00\",\"1979-01-01T00:00:00\",\"1979-02-01T00:00:00\",\"1979-03-01T00:00:00\",\"1979-04-01T00:00:00\",\"1979-05-01T00:00:00\",\"1979-06-01T00:00:00\",\"1979-07-01T00:00:00\",\"1979-08-01T00:00:00\",\"1979-09-01T00:00:00\",\"1979-10-01T00:00:00\",\"1979-11-01T00:00:00\",\"1979-12-01T00:00:00\",\"1980-01-01T00:00:00\",\"1980-02-01T00:00:00\",\"1980-03-01T00:00:00\",\"1980-04-01T00:00:00\",\"1980-05-01T00:00:00\",\"1980-06-01T00:00:00\",\"1980-07-01T00:00:00\",\"1980-08-01T00:00:00\",\"1980-09-01T00:00:00\",\"1980-10-01T00:00:00\",\"1980-11-01T00:00:00\",\"1980-12-01T00:00:00\",\"1981-01-01T00:00:00\",\"1981-02-01T00:00:00\",\"1981-03-01T00:00:00\",\"1981-04-01T00:00:00\",\"1981-05-01T00:00:00\",\"1981-06-01T00:00:00\",\"1981-07-01T00:00:00\",\"1981-08-01T00:00:00\",\"1981-09-01T00:00:00\",\"1981-10-01T00:00:00\",\"1981-11-01T00:00:00\",\"1981-12-01T00:00:00\",\"1982-01-01T00:00:00\",\"1982-02-01T00:00:00\",\"1982-03-01T00:00:00\",\"1982-04-01T00:00:00\",\"1982-05-01T00:00:00\",\"1982-06-01T00:00:00\",\"1982-07-01T00:00:00\",\"1982-08-01T00:00:00\",\"1982-09-01T00:00:00\",\"1982-10-01T00:00:00\",\"1982-11-01T00:00:00\",\"1982-12-01T00:00:00\",\"1983-01-01T00:00:00\",\"1983-02-01T00:00:00\",\"1983-03-01T00:00:00\",\"1983-04-01T00:00:00\",\"1983-05-01T00:00:00\",\"1983-06-01T00:00:00\",\"1983-07-01T00:00:00\",\"1983-08-01T00:00:00\",\"1983-09-01T00:00:00\",\"1983-10-01T00:00:00\",\"1983-11-01T00:00:00\",\"1983-12-01T00:00:00\",\"1984-01-01T00:00:00\",\"1984-02-01T00:00:00\",\"1984-03-01T00:00:00\",\"1984-04-01T00:00:00\",\"1984-05-01T00:00:00\",\"1984-06-01T00:00:00\",\"1984-07-01T00:00:00\",\"1984-08-01T00:00:00\",\"1984-09-01T00:00:00\",\"1984-10-01T00:00:00\",\"1984-11-01T00:00:00\",\"1984-12-01T00:00:00\",\"1985-01-01T00:00:00\",\"1985-02-01T00:00:00\",\"1985-03-01T00:00:00\",\"1985-04-01T00:00:00\",\"1985-05-01T00:00:00\",\"1985-06-01T00:00:00\",\"1985-07-01T00:00:00\",\"1985-08-01T00:00:00\",\"1985-09-01T00:00:00\",\"1985-10-01T00:00:00\",\"1985-11-01T00:00:00\",\"1985-12-01T00:00:00\",\"1986-01-01T00:00:00\",\"1986-02-01T00:00:00\",\"1986-03-01T00:00:00\",\"1986-04-01T00:00:00\",\"1986-05-01T00:00:00\",\"1986-06-01T00:00:00\",\"1986-07-01T00:00:00\",\"1986-08-01T00:00:00\",\"1986-09-01T00:00:00\",\"1986-10-01T00:00:00\",\"1986-11-01T00:00:00\",\"1986-12-01T00:00:00\",\"1987-01-01T00:00:00\",\"1987-02-01T00:00:00\",\"1987-03-01T00:00:00\",\"1987-04-01T00:00:00\",\"1987-05-01T00:00:00\",\"1987-06-01T00:00:00\",\"1987-07-01T00:00:00\",\"1987-08-01T00:00:00\",\"1987-09-01T00:00:00\",\"1987-10-01T00:00:00\",\"1987-11-01T00:00:00\",\"1987-12-01T00:00:00\",\"1988-01-01T00:00:00\",\"1988-02-01T00:00:00\",\"1988-03-01T00:00:00\",\"1988-04-01T00:00:00\",\"1988-05-01T00:00:00\",\"1988-06-01T00:00:00\",\"1988-07-01T00:00:00\",\"1988-08-01T00:00:00\",\"1988-09-01T00:00:00\",\"1988-10-01T00:00:00\",\"1988-11-01T00:00:00\",\"1988-12-01T00:00:00\",\"1989-01-01T00:00:00\",\"1989-02-01T00:00:00\",\"1989-03-01T00:00:00\",\"1989-04-01T00:00:00\",\"1989-05-01T00:00:00\",\"1989-06-01T00:00:00\",\"1989-07-01T00:00:00\",\"1989-08-01T00:00:00\",\"1989-09-01T00:00:00\",\"1989-10-01T00:00:00\",\"1989-11-01T00:00:00\",\"1989-12-01T00:00:00\",\"1990-01-01T00:00:00\",\"1990-02-01T00:00:00\",\"1990-03-01T00:00:00\",\"1990-04-01T00:00:00\",\"1990-05-01T00:00:00\",\"1990-06-01T00:00:00\",\"1990-07-01T00:00:00\",\"1990-08-01T00:00:00\",\"1990-09-01T00:00:00\",\"1990-10-01T00:00:00\",\"1990-11-01T00:00:00\",\"1990-12-01T00:00:00\",\"1991-01-01T00:00:00\",\"1991-02-01T00:00:00\",\"1991-03-01T00:00:00\",\"1991-04-01T00:00:00\",\"1991-05-01T00:00:00\",\"1991-06-01T00:00:00\",\"1991-07-01T00:00:00\",\"1991-08-01T00:00:00\",\"1991-09-01T00:00:00\",\"1991-10-01T00:00:00\",\"1991-11-01T00:00:00\",\"1991-12-01T00:00:00\",\"1992-01-01T00:00:00\",\"1992-02-01T00:00:00\",\"1992-03-01T00:00:00\",\"1992-04-01T00:00:00\",\"1992-05-01T00:00:00\",\"1992-06-01T00:00:00\",\"1992-07-01T00:00:00\",\"1992-08-01T00:00:00\",\"1992-09-01T00:00:00\",\"1992-10-01T00:00:00\",\"1992-11-01T00:00:00\",\"1992-12-01T00:00:00\",\"1993-01-01T00:00:00\",\"1993-02-01T00:00:00\",\"1993-03-01T00:00:00\",\"1993-04-01T00:00:00\",\"1993-05-01T00:00:00\",\"1993-06-01T00:00:00\",\"1993-07-01T00:00:00\",\"1993-08-01T00:00:00\",\"1993-09-01T00:00:00\",\"1993-10-01T00:00:00\",\"1993-11-01T00:00:00\",\"1993-12-01T00:00:00\",\"1994-01-01T00:00:00\",\"1994-02-01T00:00:00\",\"1994-03-01T00:00:00\",\"1994-04-01T00:00:00\",\"1994-05-01T00:00:00\",\"1994-06-01T00:00:00\",\"1994-07-01T00:00:00\",\"1994-08-01T00:00:00\",\"1994-09-01T00:00:00\",\"1994-10-01T00:00:00\",\"1994-11-01T00:00:00\",\"1994-12-01T00:00:00\",\"1995-01-01T00:00:00\",\"1995-02-01T00:00:00\",\"1995-03-01T00:00:00\",\"1995-04-01T00:00:00\",\"1995-05-01T00:00:00\",\"1995-06-01T00:00:00\",\"1995-07-01T00:00:00\",\"1995-08-01T00:00:00\",\"1995-09-01T00:00:00\",\"1995-10-01T00:00:00\",\"1995-11-01T00:00:00\",\"1995-12-01T00:00:00\",\"1996-01-01T00:00:00\",\"1996-02-01T00:00:00\",\"1996-03-01T00:00:00\",\"1996-04-01T00:00:00\",\"1996-05-01T00:00:00\",\"1996-06-01T00:00:00\",\"1996-07-01T00:00:00\",\"1996-08-01T00:00:00\",\"1996-09-01T00:00:00\",\"1996-10-01T00:00:00\",\"1996-11-01T00:00:00\",\"1996-12-01T00:00:00\",\"1997-01-01T00:00:00\",\"1997-02-01T00:00:00\",\"1997-03-01T00:00:00\",\"1997-04-01T00:00:00\",\"1997-05-01T00:00:00\",\"1997-06-01T00:00:00\",\"1997-07-01T00:00:00\",\"1997-08-01T00:00:00\",\"1997-09-01T00:00:00\",\"1997-10-01T00:00:00\",\"1997-11-01T00:00:00\",\"1997-12-01T00:00:00\",\"1998-01-01T00:00:00\",\"1998-02-01T00:00:00\",\"1998-03-01T00:00:00\",\"1998-04-01T00:00:00\",\"1998-05-01T00:00:00\",\"1998-06-01T00:00:00\",\"1998-07-01T00:00:00\",\"1998-08-01T00:00:00\",\"1998-09-01T00:00:00\",\"1998-10-01T00:00:00\",\"1998-11-01T00:00:00\",\"1998-12-01T00:00:00\",\"1999-01-01T00:00:00\",\"1999-02-01T00:00:00\",\"1999-03-01T00:00:00\",\"1999-04-01T00:00:00\",\"1999-05-01T00:00:00\",\"1999-06-01T00:00:00\",\"1999-07-01T00:00:00\",\"1999-08-01T00:00:00\",\"1999-09-01T00:00:00\",\"1999-10-01T00:00:00\",\"1999-11-01T00:00:00\",\"1999-12-01T00:00:00\",\"2000-01-01T00:00:00\",\"2000-02-01T00:00:00\",\"2000-03-01T00:00:00\",\"2000-04-01T00:00:00\",\"2000-05-01T00:00:00\",\"2000-06-01T00:00:00\",\"2000-07-01T00:00:00\",\"2000-08-01T00:00:00\",\"2000-09-01T00:00:00\",\"2000-10-01T00:00:00\",\"2000-11-01T00:00:00\",\"2000-12-01T00:00:00\",\"2001-01-01T00:00:00\",\"2001-02-01T00:00:00\",\"2001-03-01T00:00:00\",\"2001-04-01T00:00:00\",\"2001-05-01T00:00:00\",\"2001-06-01T00:00:00\",\"2001-07-01T00:00:00\",\"2001-08-01T00:00:00\",\"2001-09-01T00:00:00\",\"2001-10-01T00:00:00\",\"2001-11-01T00:00:00\",\"2001-12-01T00:00:00\",\"2002-01-01T00:00:00\",\"2002-02-01T00:00:00\",\"2002-03-01T00:00:00\",\"2002-04-01T00:00:00\",\"2002-05-01T00:00:00\",\"2002-06-01T00:00:00\",\"2002-07-01T00:00:00\",\"2002-08-01T00:00:00\",\"2002-09-01T00:00:00\",\"2002-10-01T00:00:00\",\"2002-11-01T00:00:00\",\"2002-12-01T00:00:00\",\"2003-01-01T00:00:00\",\"2003-02-01T00:00:00\",\"2003-03-01T00:00:00\",\"2003-04-01T00:00:00\",\"2003-05-01T00:00:00\",\"2003-06-01T00:00:00\",\"2003-07-01T00:00:00\",\"2003-08-01T00:00:00\",\"2003-09-01T00:00:00\",\"2003-10-01T00:00:00\",\"2003-11-01T00:00:00\",\"2003-12-01T00:00:00\",\"2004-01-01T00:00:00\",\"2004-02-01T00:00:00\",\"2004-03-01T00:00:00\",\"2004-04-01T00:00:00\",\"2004-05-01T00:00:00\",\"2004-06-01T00:00:00\",\"2004-07-01T00:00:00\",\"2004-08-01T00:00:00\",\"2004-09-01T00:00:00\",\"2004-10-01T00:00:00\",\"2004-11-01T00:00:00\",\"2004-12-01T00:00:00\",\"2005-01-01T00:00:00\",\"2005-02-01T00:00:00\",\"2005-03-01T00:00:00\",\"2005-04-01T00:00:00\",\"2005-05-01T00:00:00\",\"2005-06-01T00:00:00\",\"2005-07-01T00:00:00\",\"2005-08-01T00:00:00\",\"2005-09-01T00:00:00\",\"2005-10-01T00:00:00\",\"2005-11-01T00:00:00\",\"2005-12-01T00:00:00\",\"2006-01-01T00:00:00\",\"2006-02-01T00:00:00\",\"2006-03-01T00:00:00\",\"2006-04-01T00:00:00\",\"2006-05-01T00:00:00\",\"2006-06-01T00:00:00\",\"2006-07-01T00:00:00\",\"2006-08-01T00:00:00\",\"2006-09-01T00:00:00\",\"2006-10-01T00:00:00\",\"2006-11-01T00:00:00\",\"2006-12-01T00:00:00\",\"2007-01-01T00:00:00\",\"2007-02-01T00:00:00\",\"2007-03-01T00:00:00\",\"2007-04-01T00:00:00\",\"2007-05-01T00:00:00\",\"2007-06-01T00:00:00\",\"2007-07-01T00:00:00\",\"2007-08-01T00:00:00\",\"2007-09-01T00:00:00\",\"2007-10-01T00:00:00\",\"2007-11-01T00:00:00\",\"2007-12-01T00:00:00\",\"2008-01-01T00:00:00\",\"2008-02-01T00:00:00\",\"2008-03-01T00:00:00\",\"2008-04-01T00:00:00\",\"2008-05-01T00:00:00\",\"2008-06-01T00:00:00\",\"2008-07-01T00:00:00\",\"2008-08-01T00:00:00\",\"2008-09-01T00:00:00\",\"2008-10-01T00:00:00\",\"2008-11-01T00:00:00\",\"2008-12-01T00:00:00\",\"2009-01-01T00:00:00\",\"2009-02-01T00:00:00\",\"2009-03-01T00:00:00\",\"2009-04-01T00:00:00\",\"2009-05-01T00:00:00\",\"2009-06-01T00:00:00\",\"2009-07-01T00:00:00\",\"2009-08-01T00:00:00\",\"2009-09-01T00:00:00\",\"2009-10-01T00:00:00\",\"2009-11-01T00:00:00\",\"2009-12-01T00:00:00\",\"2010-01-01T00:00:00\",\"2010-02-01T00:00:00\",\"2010-03-01T00:00:00\",\"2010-04-01T00:00:00\",\"2010-05-01T00:00:00\",\"2010-06-01T00:00:00\",\"2010-07-01T00:00:00\",\"2010-08-01T00:00:00\",\"2010-09-01T00:00:00\",\"2010-10-01T00:00:00\",\"2010-11-01T00:00:00\",\"2010-12-01T00:00:00\",\"2011-01-01T00:00:00\",\"2011-02-01T00:00:00\",\"2011-03-01T00:00:00\",\"2011-04-01T00:00:00\",\"2011-05-01T00:00:00\",\"2011-06-01T00:00:00\",\"2011-07-01T00:00:00\",\"2011-08-01T00:00:00\",\"2011-09-01T00:00:00\",\"2011-10-01T00:00:00\",\"2011-11-01T00:00:00\",\"2011-12-01T00:00:00\",\"2012-01-01T00:00:00\",\"2012-02-01T00:00:00\",\"2012-03-01T00:00:00\",\"2012-04-01T00:00:00\",\"2012-05-01T00:00:00\",\"2012-06-01T00:00:00\",\"2012-07-01T00:00:00\",\"2012-08-01T00:00:00\",\"2012-09-01T00:00:00\",\"2012-10-01T00:00:00\",\"2012-11-01T00:00:00\",\"2012-12-01T00:00:00\",\"2013-01-01T00:00:00\",\"2013-02-01T00:00:00\",\"2013-03-01T00:00:00\",\"2013-04-01T00:00:00\",\"2013-05-01T00:00:00\",\"2013-06-01T00:00:00\",\"2013-07-01T00:00:00\",\"2013-08-01T00:00:00\",\"2013-09-01T00:00:00\",\"2013-10-01T00:00:00\",\"2013-11-01T00:00:00\",\"2013-12-01T00:00:00\",\"2014-01-01T00:00:00\",\"2014-02-01T00:00:00\",\"2014-03-01T00:00:00\",\"2014-04-01T00:00:00\",\"2014-05-01T00:00:00\",\"2014-06-01T00:00:00\",\"2014-07-01T00:00:00\",\"2014-08-01T00:00:00\",\"2014-09-01T00:00:00\",\"2014-10-01T00:00:00\",\"2014-11-01T00:00:00\",\"2014-12-01T00:00:00\",\"2015-01-01T00:00:00\",\"2015-02-01T00:00:00\",\"2015-03-01T00:00:00\",\"2015-04-01T00:00:00\",\"2015-05-01T00:00:00\",\"2015-06-01T00:00:00\",\"2015-07-01T00:00:00\",\"2015-08-01T00:00:00\",\"2015-09-01T00:00:00\",\"2015-10-01T00:00:00\",\"2015-11-01T00:00:00\",\"2015-12-01T00:00:00\",\"2016-01-01T00:00:00\",\"2016-02-01T00:00:00\",\"2016-03-01T00:00:00\",\"2016-04-01T00:00:00\",\"2016-05-01T00:00:00\",\"2016-06-01T00:00:00\",\"2016-07-01T00:00:00\",\"2016-08-01T00:00:00\",\"2016-09-01T00:00:00\",\"2016-10-01T00:00:00\",\"2016-11-01T00:00:00\",\"2016-12-01T00:00:00\",\"2017-01-01T00:00:00\",\"2017-02-01T00:00:00\",\"2017-03-01T00:00:00\",\"2017-04-01T00:00:00\",\"2017-05-01T00:00:00\",\"2017-06-01T00:00:00\",\"2017-07-01T00:00:00\",\"2017-08-01T00:00:00\",\"2017-09-01T00:00:00\",\"2017-10-01T00:00:00\",\"2017-11-01T00:00:00\",\"2017-12-01T00:00:00\",\"2018-01-01T00:00:00\",\"2018-02-01T00:00:00\",\"2018-03-01T00:00:00\",\"2018-04-01T00:00:00\",\"2018-05-01T00:00:00\",\"2018-06-01T00:00:00\",\"2018-07-01T00:00:00\",\"2018-08-01T00:00:00\",\"2018-09-01T00:00:00\",\"2018-10-01T00:00:00\",\"2018-11-01T00:00:00\",\"2018-12-01T00:00:00\",\"2019-01-01T00:00:00\",\"2019-02-01T00:00:00\",\"2019-03-01T00:00:00\",\"2019-04-01T00:00:00\",\"2019-05-01T00:00:00\",\"2019-06-01T00:00:00\",\"2019-07-01T00:00:00\",\"2019-08-01T00:00:00\",\"2019-09-01T00:00:00\",\"2019-10-01T00:00:00\",\"2019-11-01T00:00:00\",\"2019-12-01T00:00:00\",\"2020-01-01T00:00:00\",\"2020-02-01T00:00:00\",\"2020-03-01T00:00:00\",\"2020-04-01T00:00:00\",\"2020-05-01T00:00:00\",\"2020-06-01T00:00:00\",\"2020-07-01T00:00:00\",\"2020-08-01T00:00:00\",\"2020-09-01T00:00:00\",\"2020-10-01T00:00:00\",\"2020-11-01T00:00:00\",\"2020-12-01T00:00:00\",\"2021-01-01T00:00:00\",\"2021-02-01T00:00:00\",\"2021-03-01T00:00:00\",\"2021-04-01T00:00:00\",\"2021-05-01T00:00:00\",\"2021-06-01T00:00:00\",\"2021-07-01T00:00:00\",\"2021-08-01T00:00:00\",\"2021-09-01T00:00:00\",\"2021-10-01T00:00:00\",\"2021-11-01T00:00:00\",\"2021-12-01T00:00:00\",\"2022-01-01T00:00:00\",\"2022-02-01T00:00:00\",\"2022-03-01T00:00:00\",\"2022-04-01T00:00:00\",\"2022-05-01T00:00:00\",\"2022-06-01T00:00:00\",\"2022-07-01T00:00:00\",\"2022-08-01T00:00:00\",\"2022-09-01T00:00:00\",\"2022-10-01T00:00:00\",\"2022-11-01T00:00:00\",\"2022-12-01T00:00:00\"],\"xaxis\":\"x2\",\"y\":[0.6176459169771183,0.6173993598351339,0.6171687096055356,0.6169221524635512,0.6166835487777598,0.616198387949984,0.6159518308079996,0.6157052736660151,0.6154666699802238,0.6152201128382394,0.614981509152448,0.6147349520104636,0.6144883948684792,0.6142656980950739,0.6140191409530895,0.6137805372672982,0.6135339801253137,0.6132953764395224,0.613048819297538,0.6128022621555536,0.6125636584697621,0.6123171013277777,0.6120784976419864,0.611831940500002,0.6115853833580176,0.6113626865846123,0.6111161294426278,0.6108775257568365,0.6106309686148521,0.6103923649290607,0.6101458077870763,0.6096606469593006,0.6094140898173162,0.6091754861315247,0.6089289289895403,0.6086823718475559,0.6084596750741507,0.6082131179321663,0.6079745142463748,0.6077279571043904,0.6074893534185991,0.6072427962766147,0.6069962391346303,0.6067576354488389,0.6065110783068545,0.6062724746210632,0.6060259174790787,0.6057793603370943,0.605548710107496,0.6053021529655116,0.6050635492797202,0.6048169921377358,0.6045783884519444,0.60433183130996,0.6040852741679756,0.6038466704821842,0.6036001133401998,0.6033615096544085,0.603114952512424,0.6028683953704396,0.6026456985970343,0.6023991414550499,0.6021605377692586,0.6019139806272742,0.6016753769414828,0.6014288197994984,0.601182262657514,0.6009436589717226,0.6006971018297381,0.6004584981439468,0.6002119410019624,0.599965383859978,0.5997426870865727,0.5994961299445883,0.5992575262587969,0.5990109691168125,0.5987723654310212,0.5985258082890367,0.5982792511470523,0.598040647461261,0.5977940903192765,0.5975554866334851,0.5973089294915007,0.5970623723495163,0.5968396755761111,0.5965931184341267,0.5963545147483353,0.5961079576063508,0.5958693539205595,0.5956227967785751,0.5953762396365907,0.5951376359507993,0.5948910788088149,0.5946524751230235,0.5944059179810391,0.5941593608390547,0.5939287106094564,0.593682153467472,0.5934435497816806,0.5931969926396962,0.5929583889539048,0.5927118318119204,0.592465274669936,0.5922266709841446,0.5919801138421602,0.5917415101563689,0.5914949530143845,0.5912483958724,0.5910256990989947,0.5907791419570103,0.590540538271219,0.5902939811292346,0.5900553774434432,0.5898088203014588,0.5895622631594744,0.589323659473683,0.5890771023316986,0.5888384986459072,0.5885919415039228,0.5883453843619384,0.5881226875885331,0.5878761304465487,0.5876375267607573,0.5873909696187729,0.5871523659329816,0.5869058087909972,0.5866592516490127,0.5864206479632214,0.586174090821237,0.5859354871354456,0.5856889299934611,0.5854423728514767,0.5852196760780715,0.584973118936087,0.5847345152502957,0.5844879581083113,0.5842493544225199,0.5840027972805355,0.5837562401385511,0.5835176364527597,0.5832710793107753,0.583032475624984,0.5827859184829995,0.5825393613410151,0.5823087111114168,0.5820621539694324,0.581823550283641,0.5815769931416566,0.5813383894558652,0.5810918323138808,0.5808452751718964,0.580606671486105,0.5803601143441206,0.5801215106583293,0.5798749535163449,0.5796283963743605,0.5794056996009551,0.5791591424589707,0.5789205387731794,0.578673981631195,0.5784353779454036,0.5781888208034192,0.5779422636614348,0.5777036599756434,0.577457102833659,0.5772184991478676,0.5769719420058832,0.5767253848638988,0.5765026880904935,0.5762561309485091,0.5760175272627177,0.5757709701207333,0.575532366434942,0.5752858092929576,0.5750392521509732,0.5748006484651818,0.5745540913231973,0.574315487637406,0.5740689304954216,0.5738223733534371,0.5735996765800319,0.5733531194380475,0.5731145157522561,0.5728679586102717,0.5726293549244803,0.5723827977824959,0.5721362406405115,0.5718976369547202,0.5716510798127357,0.5714124761269443,0.5711659189849599,0.5709193618429755,0.5706887116133772,0.5704421544713928,0.5702035507856014,0.569956993643617,0.5697183899578256,0.5694718328158412,0.5692252756738568,0.5689866719880654,0.568740114846081,0.5685015111602897,0.5682549540183053,0.5680083968763209,0.5677857001029155,0.5675391429609311,0.5673005392751398,0.5670539821331554,0.566815378447364,0.5665688213053796,0.5663222641633952,0.5660836604776038,0.5658371033356194,0.565598499649828,0.5653519425078436,0.5651053853658592,0.5648826885924539,0.5646361314504695,0.5643975277646781,0.5641509706226937,0.5639123669369024,0.563665809794918,0.5634192526529336,0.5631806489671422,0.5629340918251577,0.5626954881393664,0.562448930997382,0.5622023738553976,0.5619796770819923,0.5617331199400079,0.5614945162542165,0.5612479591122321,0.5610093554264407,0.5607627982844563,0.5605162411424719,0.5602776374566806,0.5600310803146962,0.5597924766289047,0.5595459194869203,0.5592993623449359,0.5590687121153376,0.5588221549733532,0.5585835512875619,0.5583369941455774,0.558098390459786,0.5578518333178016,0.5576052761758172,0.5573666724900258,0.5571201153480414,0.5568815116622501,0.5566349545202657,0.5563883973782813,0.556165700604876,0.5559191434628915,0.5556805397771002,0.5554339826351158,0.5551953789493245,0.55494882180734,0.5547022646653555,0.5544636609795642,0.5542171038375798,0.5539785001517884,0.553731943009804,0.5534853858678196,0.5532626890944143,0.5530161319524299,0.5527775282666385,0.5525309711246541,0.5522923674388628,0.5520458102968784,0.551799253154894,0.5515606494691025,0.5513140923271181,0.5510754886413268,0.5508289314993424,0.550582374357358,0.5503596775839527,0.5501131204419683,0.5498745167561769,0.5496279596141925,0.5493893559284011,0.5491427987864167,0.5488962416444323,0.548657637958641,0.5484110808166566,0.5481724771308651,0.5479259199888807,0.5476793628468963,0.547448712617298,0.5472021554753136,0.5469635517895223,0.5467169946475379,0.5464783909617464,0.546231833819762,0.5459852766777776,0.5457466729919863,0.5455001158500018,0.5452615121642105,0.5450149550222261,0.5447683978802417,0.5445457011068364,0.544299143964852,0.5440605402790606,0.5438139831370762,0.5435753794512849,0.5433288223093005,0.543082265167316,0.5428436614815246,0.5425971043395402,0.5423585006537488,0.5421119435117644,0.54186538636978,0.5416426895963747,0.5413961324543903,0.541157528768599,0.5409109716266145,0.5406723679408232,0.5404258107988388,0.5401792536568544,0.539940649971063,0.5396940928290785,0.5394554891432872,0.5392089320013028,0.5389623748593184,0.538739678085913,0.5384931209439286,0.5382545172581373,0.5380079601161529,0.5377693564303615,0.5375227992883771,0.5372762421463927,0.5370376384606014,0.536791081318617,0.5365524776328255,0.5363059204908411,0.5360593633488567,0.5358287131192584,0.535582155977274,0.5353435522914827,0.5350969951494983,0.5348583914637068,0.5346118343217224,0.534365277179738,0.5341266734939467,0.5338801163519623,0.5336415126661709,0.5333949555241865,0.5331483983822021,0.5329257016087968,0.5326791444668124,0.532440540781021,0.5321939836390366,0.5319553799532453,0.5317088228112609,0.5314622656692765,0.531223661983485,0.5309771048415006,0.5307385011557093,0.5304919440137248,0.5302453868717404,0.5300226900983351,0.5297761329563507,0.5295375292705594,0.529290972128575,0.5290523684427836,0.5288058113007992,0.5285592541588148,0.5283206504730233,0.5280740933310389,0.5278354896452476,0.5275889325032632,0.5273423753612788,0.5271196785878736,0.526873121445889,0.5266345177600977,0.5263879606181133,0.5261493569323219,0.5259027997903375,0.5256562426483531,0.5254176389625618,0.5251710818205774,0.5249324781347859,0.5246859209928015,0.5244393638508171,0.5242087136212188,0.5239621564792344,0.5237235527934431,0.5234769956514587,0.5232383919656672,0.5229918348236828,0.5227452776816984,0.5225066739959071,0.5222601168539227,0.5220215131681313,0.5217749560261469,0.5215283988841625,0.5213057021107572,0.5210591449687728,0.5208205412829814,0.520573984140997,0.5203353804552057,0.5200888233132213,0.5198422661712369,0.5196036624854454,0.519357105343461,0.5191185016576697,0.5188719445156853,0.5186253873737008,0.5184026906002955,0.5181561334583111,0.5179175297725198,0.5176709726305354,0.517432368944744,0.5171858118027596,0.5169392546607752,0.5167006509749839,0.5164540938329993,0.516215490147208,0.5159689330052236,0.5157223758632392,0.515499679089834,0.5152531219478496,0.5150145182620581,0.5147679611200737,0.5145293574342824,0.5142828002922979,0.5140362431503136,0.5137976394645222,0.5135510823225378,0.5133124786367464,0.5130659214947619,0.5128193643527775,0.5125887141231793,0.5123421569811948,0.5121035532954035,0.5118569961534191,0.5116183924676276,0.5113718353256432,0.5111252781836588,0.5108866744978675,0.5106401173558831,0.5104015136700917,0.5101549565281073,0.5099083993861229,0.5096857026127176,0.5094391454707332,0.5092005417849418,0.5089539846429574,0.5087153809571661,0.5084688238151817,0.5082222666731973,0.5079836629874058,0.5077371058454214,0.5074985021596301,0.5072519450176457,0.5070053878756613,0.5067826911022559,0.5065361339602715,0.5062975302744802,0.5060509731324958,0.5058123694467044,0.50556581230472,0.5053192551627356,0.5050806514769443,0.5048340943349598,0.5045954906491684,0.504348933507184,0.5041023763651996,0.5038796795917944,0.50363312244981,0.5033945187640185,0.5031479616220341,0.5029093579362428,0.5026628007942584,0.5024162436522739,0.5021776399664826,0.5019310828244982,0.5016924791387067,0.5014459219967224,0.5011993648547379,0.5009687146251396,0.5007221574831553,0.5004835537973639,0.5002369966553795,0.4999983929695881,0.4997518358276037,0.4995052786856193,0.4992666749998279,0.4990201178578435,0.49878151417205213,0.49853495703006767,0.49828839988808327,0.498065703114678,0.4978191459726936,0.49758054228690224,0.49733398514491783,0.49709538145912646,0.49684882431714206,0.49660226717515765,0.4963636634893663,0.4961171063473818,0.4958785026615905,0.4956319455196061,0.49538538837762164,0.4951626916042164,0.494916134462232,0.4946775307764406,0.4944309736344562,0.49419236994866483,0.4939458128066804,0.49369925566469597,0.49346065197890465,0.4932140948369202,0.4929754911511288,0.4927289340091444,0.49248237686716,0.49225968009375476,0.49201312295177035,0.4917745192659789,0.4915279621239945,0.4912893584382032,0.4910428012962188,0.49079624415423434,0.49055764046844297,0.49031108332645856,0.4900724796406672,0.4898259224986828,0.4895793653566984,0.48934871512710004,0.48910215798511564,0.48886355429932427,0.48861699715733986,0.4883783934715485,0.4881318363295641,0.4878852791875797,0.4876466755017883,0.4874001183598039,0.48716151467401253,0.4869149575320281,0.48666840039004367,0.4864457036166384,0.486199146474654,0.48596054278886264,0.48571398564687823,0.48547538196108686,0.48522882481910246,0.48498226767711805,0.4847436639913267,0.4844971068493423,0.4842585031635509,0.4840119460215665,0.4837653888795821,0.4835426921061768,0.4832961349641924,0.483057531278401,0.4828109741364166,0.48257237045062523,0.4823258133086408,0.48207925616665637,0.48184065248086505,0.48159409533888065,0.4813554916530892,0.4811089345111048,0.4808623773691204,0.48063968059571516,0.48039312345373075,0.4801545197679394,0.479907962625955,0.4796693589401636,0.4794228017981792,0.4791762446561948,0.47893764097040337,0.47869108382841896,0.47845248014262765,0.4782059230006432,0.4779593658586588,0.4777287156290605,0.47748215848707604,0.47724355480128466,0.47699699765930026,0.4767583939735089,0.4765118368315245,0.4762652796895401,0.4760266760037487,0.4757801188617643,0.47554151517597293,0.4752949580339885,0.4750484008920041,0.4748257041185988,0.4745791469766144,0.47434054329082304,0.47409398614883863,0.47385538246304726,0.47360882532106285,0.47336226817907845,0.4731236644932871,0.4728771073513027,0.4726385036655113,0.4723919465235269,0.4721453893815425,0.4719226926081372,0.4716761354661528,0.4714375317803614,0.471190974638377,0.47095237095258563,0.4707058138106012,0.4704592566686168,0.47022065298282545,0.46997409584084104,0.46973549215504967,0.46948893501306527,0.4692423778710808,0.46901968109767556,0.46877312395569115,0.4685345202698998,0.4682879631279154,0.468049359442124,0.4678028023001396,0.4675562451581552,0.4673176414723638,0.46707108433037936,0.46683248064458804,0.46658592350260364,0.4663393663606192,0.4661087161310209,0.4658621589890365,0.46562355530324506,0.46537699816126066,0.46513839447546934,0.46489183733348494,0.4646452801915005,0.4644066765057091,0.4641601193637247,0.4639215156779333,0.4636749585359489,0.4634284013939645,0.4632057046205592,0.4629591474785748,0.4627205437927835,0.4624739866507991,0.46223538296500766,0.46198882582302325,0.46174226868103885,0.4615036649952475,0.46125710785326307,0.4610185041674717,0.4607719470254873,0.4605253898835029,0.46030269311009764,0.4600561359681132,0.4598175322823218,0.4595709751403374,0.45933237145454603,0.4590858143125616,0.4588392571705772,0.45860065348478585,0.45835409634280144,0.45811549265701007,0.45786893551502567,0.4576223783730412,0.45739968159963595,0.45715312445765155,0.4569145207718602,0.4566679636298758,0.4564293599440844,0.4561828028021,0.4559362456601156,0.4556976419743242,0.45545108483233976,0.45521248114654844,0.45496592400456404,0.45471936686257963,0.4544887166329813,0.4542421594909969,0.4540035558052055,0.45375699866322106,0.45351839497742974,0.45327183783544533,0.45302528069346093,0.4527866770076695,0.4525401198656851,0.4523015161798938,0.4520549590379094,0.4518084018959249,0.4515857051225196,0.4513391479805352,0.4511005442947439,0.4508539871527595,0.45061538346696806,0.45036882632498365,0.45012226918299925,0.44988366549720793,0.44963710835522347,0.4493985046694321,0.4491519475274477,0.4489053903854633,0.44868269361205804,0.44843613647007363,0.4481975327842822,0.4479509756422978,0.4477123719565065,0.4474658148145221,0.4472192576725376,0.44698065398674625,0.44673409684476184,0.44649549315897047,0.44624893601698606,0.44600237887500166,0.44577968210159635,0.44553312495961195,0.44529452127382063,0.44504796413183617,0.4448093604460448,0.4445628033040604,0.444316246162076,0.4440776424762846,0.4438310853343002,0.44359248164850884,0.44334592450652444,0.44309936736454003,0.4428687171349417,0.4426221599929573,0.4423835563071659,0.4421369991651815,0.44189839547939014,0.44165183833740573,0.44140528119542133,0.4411666775096299,0.4409201203676455,0.4406815166818542,0.4404349595398698,0.44018840239788537,0.43996570562448006,0.4397191484824956,0.4394805447967043,0.4392339876547199,0.43899538396892845,0.43874882682694405,0.43850226968495964,0.43826366599916833,0.4380171088571839,0.4377785051713925,0.4375319480294081,0.4372853908874237,0.43706269411401844,0.43681613697203403,0.4365775332862426,0.4363309761442582,0.4360923724584669,0.4358458153164825,0.43559925817449807,0.43536065448870664,0.43511409734672224,0.4348754936609309],\"yaxis\":\"y2\",\"type\":\"scatter\"}],                        {\"template\":{\"data\":{\"histogram2dcontour\":[{\"type\":\"histogram2dcontour\",\"colorbar\":{\"outlinewidth\":0,\"ticks\":\"\"},\"colorscale\":[[0.0,\"#0d0887\"],[0.1111111111111111,\"#46039f\"],[0.2222222222222222,\"#7201a8\"],[0.3333333333333333,\"#9c179e\"],[0.4444444444444444,\"#bd3786\"],[0.5555555555555556,\"#d8576b\"],[0.6666666666666666,\"#ed7953\"],[0.7777777777777778,\"#fb9f3a\"],[0.8888888888888888,\"#fdca26\"],[1.0,\"#f0f921\"]]}],\"choropleth\":[{\"type\":\"choropleth\",\"colorbar\":{\"outlinewidth\":0,\"ticks\":\"\"}}],\"histogram2d\":[{\"type\":\"histogram2d\",\"colorbar\":{\"outlinewidth\":0,\"ticks\":\"\"},\"colorscale\":[[0.0,\"#0d0887\"],[0.1111111111111111,\"#46039f\"],[0.2222222222222222,\"#7201a8\"],[0.3333333333333333,\"#9c179e\"],[0.4444444444444444,\"#bd3786\"],[0.5555555555555556,\"#d8576b\"],[0.6666666666666666,\"#ed7953\"],[0.7777777777777778,\"#fb9f3a\"],[0.8888888888888888,\"#fdca26\"],[1.0,\"#f0f921\"]]}],\"heatmap\":[{\"type\":\"heatmap\",\"colorbar\":{\"outlinewidth\":0,\"ticks\":\"\"},\"colorscale\":[[0.0,\"#0d0887\"],[0.1111111111111111,\"#46039f\"],[0.2222222222222222,\"#7201a8\"],[0.3333333333333333,\"#9c179e\"],[0.4444444444444444,\"#bd3786\"],[0.5555555555555556,\"#d8576b\"],[0.6666666666666666,\"#ed7953\"],[0.7777777777777778,\"#fb9f3a\"],[0.8888888888888888,\"#fdca26\"],[1.0,\"#f0f921\"]]}],\"heatmapgl\":[{\"type\":\"heatmapgl\",\"colorbar\":{\"outlinewidth\":0,\"ticks\":\"\"},\"colorscale\":[[0.0,\"#0d0887\"],[0.1111111111111111,\"#46039f\"],[0.2222222222222222,\"#7201a8\"],[0.3333333333333333,\"#9c179e\"],[0.4444444444444444,\"#bd3786\"],[0.5555555555555556,\"#d8576b\"],[0.6666666666666666,\"#ed7953\"],[0.7777777777777778,\"#fb9f3a\"],[0.8888888888888888,\"#fdca26\"],[1.0,\"#f0f921\"]]}],\"contourcarpet\":[{\"type\":\"contourcarpet\",\"colorbar\":{\"outlinewidth\":0,\"ticks\":\"\"}}],\"contour\":[{\"type\":\"contour\",\"colorbar\":{\"outlinewidth\":0,\"ticks\":\"\"},\"colorscale\":[[0.0,\"#0d0887\"],[0.1111111111111111,\"#46039f\"],[0.2222222222222222,\"#7201a8\"],[0.3333333333333333,\"#9c179e\"],[0.4444444444444444,\"#bd3786\"],[0.5555555555555556,\"#d8576b\"],[0.6666666666666666,\"#ed7953\"],[0.7777777777777778,\"#fb9f3a\"],[0.8888888888888888,\"#fdca26\"],[1.0,\"#f0f921\"]]}],\"surface\":[{\"type\":\"surface\",\"colorbar\":{\"outlinewidth\":0,\"ticks\":\"\"},\"colorscale\":[[0.0,\"#0d0887\"],[0.1111111111111111,\"#46039f\"],[0.2222222222222222,\"#7201a8\"],[0.3333333333333333,\"#9c179e\"],[0.4444444444444444,\"#bd3786\"],[0.5555555555555556,\"#d8576b\"],[0.6666666666666666,\"#ed7953\"],[0.7777777777777778,\"#fb9f3a\"],[0.8888888888888888,\"#fdca26\"],[1.0,\"#f0f921\"]]}],\"mesh3d\":[{\"type\":\"mesh3d\",\"colorbar\":{\"outlinewidth\":0,\"ticks\":\"\"}}],\"scatter\":[{\"marker\":{\"line\":{\"color\":\"#283442\"}},\"type\":\"scatter\"}],\"parcoords\":[{\"type\":\"parcoords\",\"line\":{\"colorbar\":{\"outlinewidth\":0,\"ticks\":\"\"}}}],\"scatterpolargl\":[{\"type\":\"scatterpolargl\",\"marker\":{\"colorbar\":{\"outlinewidth\":0,\"ticks\":\"\"}}}],\"bar\":[{\"error_x\":{\"color\":\"#f2f5fa\"},\"error_y\":{\"color\":\"#f2f5fa\"},\"marker\":{\"line\":{\"color\":\"rgb(17,17,17)\",\"width\":0.5},\"pattern\":{\"fillmode\":\"overlay\",\"size\":10,\"solidity\":0.2}},\"type\":\"bar\"}],\"scattergeo\":[{\"type\":\"scattergeo\",\"marker\":{\"colorbar\":{\"outlinewidth\":0,\"ticks\":\"\"}}}],\"scatterpolar\":[{\"type\":\"scatterpolar\",\"marker\":{\"colorbar\":{\"outlinewidth\":0,\"ticks\":\"\"}}}],\"histogram\":[{\"marker\":{\"pattern\":{\"fillmode\":\"overlay\",\"size\":10,\"solidity\":0.2}},\"type\":\"histogram\"}],\"scattergl\":[{\"marker\":{\"line\":{\"color\":\"#283442\"}},\"type\":\"scattergl\"}],\"scatter3d\":[{\"type\":\"scatter3d\",\"line\":{\"colorbar\":{\"outlinewidth\":0,\"ticks\":\"\"}},\"marker\":{\"colorbar\":{\"outlinewidth\":0,\"ticks\":\"\"}}}],\"scattermapbox\":[{\"type\":\"scattermapbox\",\"marker\":{\"colorbar\":{\"outlinewidth\":0,\"ticks\":\"\"}}}],\"scatterternary\":[{\"type\":\"scatterternary\",\"marker\":{\"colorbar\":{\"outlinewidth\":0,\"ticks\":\"\"}}}],\"scattercarpet\":[{\"type\":\"scattercarpet\",\"marker\":{\"colorbar\":{\"outlinewidth\":0,\"ticks\":\"\"}}}],\"carpet\":[{\"aaxis\":{\"endlinecolor\":\"#A2B1C6\",\"gridcolor\":\"#506784\",\"linecolor\":\"#506784\",\"minorgridcolor\":\"#506784\",\"startlinecolor\":\"#A2B1C6\"},\"baxis\":{\"endlinecolor\":\"#A2B1C6\",\"gridcolor\":\"#506784\",\"linecolor\":\"#506784\",\"minorgridcolor\":\"#506784\",\"startlinecolor\":\"#A2B1C6\"},\"type\":\"carpet\"}],\"table\":[{\"cells\":{\"fill\":{\"color\":\"#506784\"},\"line\":{\"color\":\"rgb(17,17,17)\"}},\"header\":{\"fill\":{\"color\":\"#2a3f5f\"},\"line\":{\"color\":\"rgb(17,17,17)\"}},\"type\":\"table\"}],\"barpolar\":[{\"marker\":{\"line\":{\"color\":\"rgb(17,17,17)\",\"width\":0.5},\"pattern\":{\"fillmode\":\"overlay\",\"size\":10,\"solidity\":0.2}},\"type\":\"barpolar\"}],\"pie\":[{\"automargin\":true,\"type\":\"pie\"}]},\"layout\":{\"autotypenumbers\":\"strict\",\"colorway\":[\"#636efa\",\"#EF553B\",\"#00cc96\",\"#ab63fa\",\"#FFA15A\",\"#19d3f3\",\"#FF6692\",\"#B6E880\",\"#FF97FF\",\"#FECB52\"],\"font\":{\"color\":\"#f2f5fa\"},\"hovermode\":\"closest\",\"hoverlabel\":{\"align\":\"left\"},\"paper_bgcolor\":\"rgb(17,17,17)\",\"plot_bgcolor\":\"rgb(17,17,17)\",\"polar\":{\"bgcolor\":\"rgb(17,17,17)\",\"angularaxis\":{\"gridcolor\":\"#506784\",\"linecolor\":\"#506784\",\"ticks\":\"\"},\"radialaxis\":{\"gridcolor\":\"#506784\",\"linecolor\":\"#506784\",\"ticks\":\"\"}},\"ternary\":{\"bgcolor\":\"rgb(17,17,17)\",\"aaxis\":{\"gridcolor\":\"#506784\",\"linecolor\":\"#506784\",\"ticks\":\"\"},\"baxis\":{\"gridcolor\":\"#506784\",\"linecolor\":\"#506784\",\"ticks\":\"\"},\"caxis\":{\"gridcolor\":\"#506784\",\"linecolor\":\"#506784\",\"ticks\":\"\"}},\"coloraxis\":{\"colorbar\":{\"outlinewidth\":0,\"ticks\":\"\"}},\"colorscale\":{\"sequential\":[[0.0,\"#0d0887\"],[0.1111111111111111,\"#46039f\"],[0.2222222222222222,\"#7201a8\"],[0.3333333333333333,\"#9c179e\"],[0.4444444444444444,\"#bd3786\"],[0.5555555555555556,\"#d8576b\"],[0.6666666666666666,\"#ed7953\"],[0.7777777777777778,\"#fb9f3a\"],[0.8888888888888888,\"#fdca26\"],[1.0,\"#f0f921\"]],\"sequentialminus\":[[0.0,\"#0d0887\"],[0.1111111111111111,\"#46039f\"],[0.2222222222222222,\"#7201a8\"],[0.3333333333333333,\"#9c179e\"],[0.4444444444444444,\"#bd3786\"],[0.5555555555555556,\"#d8576b\"],[0.6666666666666666,\"#ed7953\"],[0.7777777777777778,\"#fb9f3a\"],[0.8888888888888888,\"#fdca26\"],[1.0,\"#f0f921\"]],\"diverging\":[[0,\"#8e0152\"],[0.1,\"#c51b7d\"],[0.2,\"#de77ae\"],[0.3,\"#f1b6da\"],[0.4,\"#fde0ef\"],[0.5,\"#f7f7f7\"],[0.6,\"#e6f5d0\"],[0.7,\"#b8e186\"],[0.8,\"#7fbc41\"],[0.9,\"#4d9221\"],[1,\"#276419\"]]},\"xaxis\":{\"gridcolor\":\"#283442\",\"linecolor\":\"#506784\",\"ticks\":\"\",\"title\":{\"standoff\":15},\"zerolinecolor\":\"#283442\",\"automargin\":true,\"zerolinewidth\":2},\"yaxis\":{\"gridcolor\":\"#283442\",\"linecolor\":\"#506784\",\"ticks\":\"\",\"title\":{\"standoff\":15},\"zerolinecolor\":\"#283442\",\"automargin\":true,\"zerolinewidth\":2},\"scene\":{\"xaxis\":{\"backgroundcolor\":\"rgb(17,17,17)\",\"gridcolor\":\"#506784\",\"linecolor\":\"#506784\",\"showbackground\":true,\"ticks\":\"\",\"zerolinecolor\":\"#C8D4E3\",\"gridwidth\":2},\"yaxis\":{\"backgroundcolor\":\"rgb(17,17,17)\",\"gridcolor\":\"#506784\",\"linecolor\":\"#506784\",\"showbackground\":true,\"ticks\":\"\",\"zerolinecolor\":\"#C8D4E3\",\"gridwidth\":2},\"zaxis\":{\"backgroundcolor\":\"rgb(17,17,17)\",\"gridcolor\":\"#506784\",\"linecolor\":\"#506784\",\"showbackground\":true,\"ticks\":\"\",\"zerolinecolor\":\"#C8D4E3\",\"gridwidth\":2}},\"shapedefaults\":{\"line\":{\"color\":\"#f2f5fa\"}},\"annotationdefaults\":{\"arrowcolor\":\"#f2f5fa\",\"arrowhead\":0,\"arrowwidth\":1},\"geo\":{\"bgcolor\":\"rgb(17,17,17)\",\"landcolor\":\"rgb(17,17,17)\",\"subunitcolor\":\"#506784\",\"showland\":true,\"showlakes\":true,\"lakecolor\":\"rgb(17,17,17)\"},\"title\":{\"x\":0.05},\"updatemenudefaults\":{\"bgcolor\":\"#506784\",\"borderwidth\":0},\"sliderdefaults\":{\"bgcolor\":\"#C8D4E3\",\"borderwidth\":1,\"bordercolor\":\"rgb(17,17,17)\",\"tickwidth\":0},\"mapbox\":{\"style\":\"dark\"}}},\"xaxis\":{\"anchor\":\"y\",\"domain\":[0.0,1.0],\"title\":{\"text\":\"Jaar\"}},\"yaxis\":{\"anchor\":\"x\",\"domain\":[0.625,1.0],\"title\":{\"text\":\"Percentage\"},\"tickformat\":\".0%\"},\"xaxis2\":{\"anchor\":\"y2\",\"domain\":[0.0,1.0],\"title\":{\"text\":\"Jaar\"}},\"yaxis2\":{\"anchor\":\"x2\",\"domain\":[0.0,0.375],\"title\":{\"text\":\"Percentiel\"}},\"annotations\":[{\"font\":{\"size\":16},\"showarrow\":false,\"text\":\"Percentage muziek in mineur en in majeur, per jaar\",\"x\":0.5,\"xanchor\":\"center\",\"xref\":\"paper\",\"y\":1.0,\"yanchor\":\"bottom\",\"yref\":\"paper\"},{\"font\":{\"size\":16},\"showarrow\":false,\"text\":\"Gemiddelde valence per maand, met trendlijn\",\"x\":0.5,\"xanchor\":\"center\",\"xref\":\"paper\",\"y\":0.375,\"yanchor\":\"bottom\",\"yref\":\"paper\"}],\"barmode\":\"stack\",\"legend\":{\"groupclick\":\"toggleitem\",\"itemdoubleclick\":false},\"height\":800,\"showlegend\":true},                        {\"responsive\": true}                    ).then(function(){\n",
       "                            \n",
       "var gd = document.getElementById('6031f099-ddec-4131-b5c2-5af97e9228c6');\n",
       "var x = new MutationObserver(function (mutations, observer) {{\n",
       "        var display = window.getComputedStyle(gd).display;\n",
       "        if (!display || display === 'none') {{\n",
       "            console.log([gd, 'removed!']);\n",
       "            Plotly.purge(gd);\n",
       "            observer.disconnect();\n",
       "        }}\n",
       "}});\n",
       "\n",
       "// Listen for the removal of the full notebook cells\n",
       "var notebookContainer = gd.closest('#notebook-container');\n",
       "if (notebookContainer) {{\n",
       "    x.observe(notebookContainer, {childList: true});\n",
       "}}\n",
       "\n",
       "// Listen for the clearing of the current output cell\n",
       "var outputEl = gd.closest('.output');\n",
       "if (outputEl) {{\n",
       "    x.observe(outputEl, {childList: true});\n",
       "}}\n",
       "\n",
       "                        })                };                });            </script>        </div>"
      ]
     },
     "metadata": {},
     "output_type": "display_data"
    }
   ],
   "source": [
    "#@title Plot de verschuiving van mineur en majeur\n",
    "mode_key_set = main_dataset[['mode', 'key', 'year']]\n",
    "grouped_df = mode_key_set.groupby(['year', 'mode']).size().reset_index(name='count')\n",
    "total_counts = grouped_df.groupby('year')['count'].sum()\n",
    "grouped_df['percentiel'] = grouped_df['count'] / grouped_df['year'].map(total_counts)\n",
    "grouped_df['mode'] = grouped_df['mode'].replace([1,0], ['Majeur', 'Mineur'])\n",
    "\n",
    "# Dit is modus met een percentage\n",
    "fig_mode = px.bar(grouped_df, x='year', y='percentiel', color='mode', barmode='stack',\n",
    "                  labels={'year': 'Jaar', 'percentage': 'Percentage', 'mode': 'Modus'},\n",
    "                  title='Percentage muziek in mineur en in majeur, per jaar',\n",
    "                  color_discrete_sequence=px.colors.qualitative.T10)\n",
    "\n",
    "# Plot de daling van valence over de jaren\n",
    "fig_valence = px.scatter(main_dataset.groupby('year_month').mean(numeric_only=True),\n",
    "                         x=main_dataset.groupby('year_month').mean(numeric_only=True).index.to_timestamp(),\n",
    "                         y='valence',\n",
    "                         title='Gemiddelde valence per maand, met trendlijn',\n",
    "                         trendline=\"ols\",\n",
    "                         trendline_color_override = 'red')\n",
    "fig_valence.update_layout(xaxis_title=\"Jaar\",)\n",
    "\n",
    "# Plot de gezamenlijke plot met mode en valence\n",
    "fig_combined_2 = sp.make_subplots(rows=2, cols=1, subplot_titles=['Percentage muziek in mineur en in majeur, per jaar', 'Gemiddelde valence per maand, met trendlijn'])\n",
    "\n",
    "\n",
    "#Voeg de traces toe van bovenstaande figuren\n",
    "fig_combined_2.add_traces(fig_mode.data, rows=1, cols=1)\n",
    "fig_combined_2.add_traces(fig_valence.data, rows=2, cols=1)\n",
    "fig_combined_2.update_layout(barmode='stack')\n",
    "\n",
    "#Update de x-axis labels\n",
    "fig_combined_2.update_xaxes(title_text=\"Jaar\", row=1, col=1)\n",
    "fig_combined_2.update_xaxes(title_text=\"Jaar\", row=2, col=1)\n",
    "\n",
    "\n",
    "\n",
    "#Update de y-axis labels\n",
    "fig_combined_2.update_yaxes(title_text=\"Percentage\", row=1, col=1, tickformat=\".0%\")\n",
    "fig_combined_2.update_yaxes(title_text=\"Percentiel\", row=2, col=1)\n",
    "\n",
    "fig_combined_2.update_layout(height=800, showlegend=True, legend={'groupclick':\"toggleitem\", 'itemdoubleclick':False})\n",
    "\n",
    "fig_combined_2.show()"
   ]
  },
  {
   "attachments": {},
   "cell_type": "markdown",
   "metadata": {
    "id": "hMDG4Lgqs0nX"
   },
   "source": [
    "In de inleiding werd vermeld dat deze sombere moderne mens minder gelukkig is dan 20 jaar geleden volgens cijfers van het CBS (2019). Hoe zit dat met muziek? Vrolijke muziek wordt vaak in majeur geschreven en droevige muziek in mineur. In de bovenstaande staafdiagram wordt de verdeling getoond tussen nummers die in mineur zijn geschreven en de nummers die in majeur zijn geschreven. Op de x-as staat het aantal jaren en op y-as staat majeur en mineur verdeeld in percentages. Wat opvalt aan dit diagram is dat er over het algemeen niet veel veranderd is over de jaren heen. Vanaf de jaren ‘10 is er echter wel een lichte stijging te zien in de hoeveelheid nummers die in mineur zijn geschreven. Dit zou dus kunnen betekenen dat er tegenwoordig meer droevige muziek wordt uitgebracht dan voorheen.\n",
    "\n",
    "\n",
    "\n",
    "Daarnaast is er ook iets wat opvalt bij de scatterplot met trendlijn over de gemiddelde 'valence' per maand. In deze subplot is op de x-as het jaar te zien en op de y-as is de valence-waarde tussen 0 en 1 te zien. De valence is de positiviteit of blijheid van een nummer gekwantificeerd door Spotify’s eigen API. Wat opvalt is het verschil in gemiddelde 'valance' van de jaren '60 en de jaren '10. De trendlijn toont namelijk een daling aan. Dit zou wederom kunnen betekenen dat er tegenwoordig meer droevige muziek wordt uitgebracht dan voorheen.\n",
    "\n",
    "Deze daling van de 'valence' samen met de stijging van het aantal nummers dat geschreven is in een mineur-toonsoort zou erop kunnen duiden dat de minder gelukkige moderne mens over het algemeen in de afgelopen 60 jaar steeds meer sombere muziek is gaan luisteren en maken. Muziek lijkt mee te veranderen.\n",
    "\n"
   ]
  },
  {
   "cell_type": "code",
   "execution_count": 5,
   "metadata": {
    "colab": {
     "base_uri": "https://localhost:8080/",
     "height": 542
    },
    "id": "G4KNC_hOBWCd",
    "outputId": "56ebf29b-c89c-4473-9366-73855d19565e",
    "tags": [
     "hide-input"
    ]
   },
   "outputs": [
    {
     "data": {
      "application/vnd.plotly.v1+json": {
       "config": {
        "plotlyServerURL": "https://plot.ly"
       },
       "data": [
        {
         "line": {
          "color": "#72B7B2"
         },
         "mode": "lines",
         "name": "Wereldwijde jaarlijkse levensvoldoening",
         "type": "scatter",
         "x": [
          2003,
          2004,
          2005,
          2006,
          2007,
          2008,
          2009,
          2010,
          2011,
          2012,
          2013,
          2014,
          2015,
          2016,
          2017,
          2018,
          2019,
          2020,
          2021
         ],
         "y": [
          0.644616424074074,
          0.5196935278651685,
          0.5418291405882354,
          0.541855397,
          0.5457640121052632,
          0.5496782150806452,
          0.5424087843150684,
          0.5443750546478874,
          0.5394567934306569,
          0.538902338275862,
          0.5404036588811189,
          0.5399414292957746,
          0.5460421471428571,
          0.5499453646478873,
          0.5570894445833334,
          0.5840611470526317,
          0.553283154362416,
          0.5553575342465753,
          0.5539755474452555
         ]
        },
        {
         "line": {
          "color": "#E45756"
         },
         "mode": "lines",
         "name": "Jaarlijkse gemiddelde valence",
         "type": "scatter",
         "x": [
          2003,
          2004,
          2005,
          2006,
          2007,
          2008,
          2009,
          2010,
          2011,
          2012,
          2013,
          2014,
          2015,
          2016,
          2017,
          2018,
          2019,
          2020,
          2021
         ],
         "y": [
          0.5025193264085616,
          0.5075461157024793,
          0.5197370319320009,
          0.5112161743441438,
          0.5149956977964323,
          0.5028842174567344,
          0.5102687352842247,
          0.5048491621263437,
          0.47824297534475557,
          0.4645650894658953,
          0.46115299438909885,
          0.4480653842931937,
          0.43296493454906565,
          0.41726647492887625,
          0.4194842411491585,
          0.4162682119551031,
          0.4115070103686636,
          0.40660736711081286,
          0.397116772865921
         ]
        }
       ],
       "layout": {
        "annotations": [
         {
          "align": "left",
          "bordercolor": "black",
          "borderwidth": 1,
          "font": {
           "size": 14
          },
          "showarrow": false,
          "text": "Correlations:",
          "x": 1.02,
          "xanchor": "left",
          "xref": "paper",
          "y": 0.75,
          "yref": "paper"
         },
         {
          "align": "left",
          "bordercolor": "black",
          "borderwidth": 1,
          "showarrow": false,
          "text": "Pearson Correlation: -0.09",
          "x": 1.03,
          "xanchor": "left",
          "xref": "paper",
          "y": 0.7,
          "yref": "paper"
         }
        ],
        "legend": {
         "title": {
          "text": "Variabelen"
         }
        },
        "template": {
         "data": {
          "bar": [
           {
            "error_x": {
             "color": "#f2f5fa"
            },
            "error_y": {
             "color": "#f2f5fa"
            },
            "marker": {
             "line": {
              "color": "rgb(17,17,17)",
              "width": 0.5
             },
             "pattern": {
              "fillmode": "overlay",
              "size": 10,
              "solidity": 0.2
             }
            },
            "type": "bar"
           }
          ],
          "barpolar": [
           {
            "marker": {
             "line": {
              "color": "rgb(17,17,17)",
              "width": 0.5
             },
             "pattern": {
              "fillmode": "overlay",
              "size": 10,
              "solidity": 0.2
             }
            },
            "type": "barpolar"
           }
          ],
          "carpet": [
           {
            "aaxis": {
             "endlinecolor": "#A2B1C6",
             "gridcolor": "#506784",
             "linecolor": "#506784",
             "minorgridcolor": "#506784",
             "startlinecolor": "#A2B1C6"
            },
            "baxis": {
             "endlinecolor": "#A2B1C6",
             "gridcolor": "#506784",
             "linecolor": "#506784",
             "minorgridcolor": "#506784",
             "startlinecolor": "#A2B1C6"
            },
            "type": "carpet"
           }
          ],
          "choropleth": [
           {
            "colorbar": {
             "outlinewidth": 0,
             "ticks": ""
            },
            "type": "choropleth"
           }
          ],
          "contour": [
           {
            "colorbar": {
             "outlinewidth": 0,
             "ticks": ""
            },
            "colorscale": [
             [
              0,
              "#0d0887"
             ],
             [
              0.1111111111111111,
              "#46039f"
             ],
             [
              0.2222222222222222,
              "#7201a8"
             ],
             [
              0.3333333333333333,
              "#9c179e"
             ],
             [
              0.4444444444444444,
              "#bd3786"
             ],
             [
              0.5555555555555556,
              "#d8576b"
             ],
             [
              0.6666666666666666,
              "#ed7953"
             ],
             [
              0.7777777777777778,
              "#fb9f3a"
             ],
             [
              0.8888888888888888,
              "#fdca26"
             ],
             [
              1,
              "#f0f921"
             ]
            ],
            "type": "contour"
           }
          ],
          "contourcarpet": [
           {
            "colorbar": {
             "outlinewidth": 0,
             "ticks": ""
            },
            "type": "contourcarpet"
           }
          ],
          "heatmap": [
           {
            "colorbar": {
             "outlinewidth": 0,
             "ticks": ""
            },
            "colorscale": [
             [
              0,
              "#0d0887"
             ],
             [
              0.1111111111111111,
              "#46039f"
             ],
             [
              0.2222222222222222,
              "#7201a8"
             ],
             [
              0.3333333333333333,
              "#9c179e"
             ],
             [
              0.4444444444444444,
              "#bd3786"
             ],
             [
              0.5555555555555556,
              "#d8576b"
             ],
             [
              0.6666666666666666,
              "#ed7953"
             ],
             [
              0.7777777777777778,
              "#fb9f3a"
             ],
             [
              0.8888888888888888,
              "#fdca26"
             ],
             [
              1,
              "#f0f921"
             ]
            ],
            "type": "heatmap"
           }
          ],
          "heatmapgl": [
           {
            "colorbar": {
             "outlinewidth": 0,
             "ticks": ""
            },
            "colorscale": [
             [
              0,
              "#0d0887"
             ],
             [
              0.1111111111111111,
              "#46039f"
             ],
             [
              0.2222222222222222,
              "#7201a8"
             ],
             [
              0.3333333333333333,
              "#9c179e"
             ],
             [
              0.4444444444444444,
              "#bd3786"
             ],
             [
              0.5555555555555556,
              "#d8576b"
             ],
             [
              0.6666666666666666,
              "#ed7953"
             ],
             [
              0.7777777777777778,
              "#fb9f3a"
             ],
             [
              0.8888888888888888,
              "#fdca26"
             ],
             [
              1,
              "#f0f921"
             ]
            ],
            "type": "heatmapgl"
           }
          ],
          "histogram": [
           {
            "marker": {
             "pattern": {
              "fillmode": "overlay",
              "size": 10,
              "solidity": 0.2
             }
            },
            "type": "histogram"
           }
          ],
          "histogram2d": [
           {
            "colorbar": {
             "outlinewidth": 0,
             "ticks": ""
            },
            "colorscale": [
             [
              0,
              "#0d0887"
             ],
             [
              0.1111111111111111,
              "#46039f"
             ],
             [
              0.2222222222222222,
              "#7201a8"
             ],
             [
              0.3333333333333333,
              "#9c179e"
             ],
             [
              0.4444444444444444,
              "#bd3786"
             ],
             [
              0.5555555555555556,
              "#d8576b"
             ],
             [
              0.6666666666666666,
              "#ed7953"
             ],
             [
              0.7777777777777778,
              "#fb9f3a"
             ],
             [
              0.8888888888888888,
              "#fdca26"
             ],
             [
              1,
              "#f0f921"
             ]
            ],
            "type": "histogram2d"
           }
          ],
          "histogram2dcontour": [
           {
            "colorbar": {
             "outlinewidth": 0,
             "ticks": ""
            },
            "colorscale": [
             [
              0,
              "#0d0887"
             ],
             [
              0.1111111111111111,
              "#46039f"
             ],
             [
              0.2222222222222222,
              "#7201a8"
             ],
             [
              0.3333333333333333,
              "#9c179e"
             ],
             [
              0.4444444444444444,
              "#bd3786"
             ],
             [
              0.5555555555555556,
              "#d8576b"
             ],
             [
              0.6666666666666666,
              "#ed7953"
             ],
             [
              0.7777777777777778,
              "#fb9f3a"
             ],
             [
              0.8888888888888888,
              "#fdca26"
             ],
             [
              1,
              "#f0f921"
             ]
            ],
            "type": "histogram2dcontour"
           }
          ],
          "mesh3d": [
           {
            "colorbar": {
             "outlinewidth": 0,
             "ticks": ""
            },
            "type": "mesh3d"
           }
          ],
          "parcoords": [
           {
            "line": {
             "colorbar": {
              "outlinewidth": 0,
              "ticks": ""
             }
            },
            "type": "parcoords"
           }
          ],
          "pie": [
           {
            "automargin": true,
            "type": "pie"
           }
          ],
          "scatter": [
           {
            "marker": {
             "line": {
              "color": "#283442"
             }
            },
            "type": "scatter"
           }
          ],
          "scatter3d": [
           {
            "line": {
             "colorbar": {
              "outlinewidth": 0,
              "ticks": ""
             }
            },
            "marker": {
             "colorbar": {
              "outlinewidth": 0,
              "ticks": ""
             }
            },
            "type": "scatter3d"
           }
          ],
          "scattercarpet": [
           {
            "marker": {
             "colorbar": {
              "outlinewidth": 0,
              "ticks": ""
             }
            },
            "type": "scattercarpet"
           }
          ],
          "scattergeo": [
           {
            "marker": {
             "colorbar": {
              "outlinewidth": 0,
              "ticks": ""
             }
            },
            "type": "scattergeo"
           }
          ],
          "scattergl": [
           {
            "marker": {
             "line": {
              "color": "#283442"
             }
            },
            "type": "scattergl"
           }
          ],
          "scattermapbox": [
           {
            "marker": {
             "colorbar": {
              "outlinewidth": 0,
              "ticks": ""
             }
            },
            "type": "scattermapbox"
           }
          ],
          "scatterpolar": [
           {
            "marker": {
             "colorbar": {
              "outlinewidth": 0,
              "ticks": ""
             }
            },
            "type": "scatterpolar"
           }
          ],
          "scatterpolargl": [
           {
            "marker": {
             "colorbar": {
              "outlinewidth": 0,
              "ticks": ""
             }
            },
            "type": "scatterpolargl"
           }
          ],
          "scatterternary": [
           {
            "marker": {
             "colorbar": {
              "outlinewidth": 0,
              "ticks": ""
             }
            },
            "type": "scatterternary"
           }
          ],
          "surface": [
           {
            "colorbar": {
             "outlinewidth": 0,
             "ticks": ""
            },
            "colorscale": [
             [
              0,
              "#0d0887"
             ],
             [
              0.1111111111111111,
              "#46039f"
             ],
             [
              0.2222222222222222,
              "#7201a8"
             ],
             [
              0.3333333333333333,
              "#9c179e"
             ],
             [
              0.4444444444444444,
              "#bd3786"
             ],
             [
              0.5555555555555556,
              "#d8576b"
             ],
             [
              0.6666666666666666,
              "#ed7953"
             ],
             [
              0.7777777777777778,
              "#fb9f3a"
             ],
             [
              0.8888888888888888,
              "#fdca26"
             ],
             [
              1,
              "#f0f921"
             ]
            ],
            "type": "surface"
           }
          ],
          "table": [
           {
            "cells": {
             "fill": {
              "color": "#506784"
             },
             "line": {
              "color": "rgb(17,17,17)"
             }
            },
            "header": {
             "fill": {
              "color": "#2a3f5f"
             },
             "line": {
              "color": "rgb(17,17,17)"
             }
            },
            "type": "table"
           }
          ]
         },
         "layout": {
          "annotationdefaults": {
           "arrowcolor": "#f2f5fa",
           "arrowhead": 0,
           "arrowwidth": 1
          },
          "autotypenumbers": "strict",
          "coloraxis": {
           "colorbar": {
            "outlinewidth": 0,
            "ticks": ""
           }
          },
          "colorscale": {
           "diverging": [
            [
             0,
             "#8e0152"
            ],
            [
             0.1,
             "#c51b7d"
            ],
            [
             0.2,
             "#de77ae"
            ],
            [
             0.3,
             "#f1b6da"
            ],
            [
             0.4,
             "#fde0ef"
            ],
            [
             0.5,
             "#f7f7f7"
            ],
            [
             0.6,
             "#e6f5d0"
            ],
            [
             0.7,
             "#b8e186"
            ],
            [
             0.8,
             "#7fbc41"
            ],
            [
             0.9,
             "#4d9221"
            ],
            [
             1,
             "#276419"
            ]
           ],
           "sequential": [
            [
             0,
             "#0d0887"
            ],
            [
             0.1111111111111111,
             "#46039f"
            ],
            [
             0.2222222222222222,
             "#7201a8"
            ],
            [
             0.3333333333333333,
             "#9c179e"
            ],
            [
             0.4444444444444444,
             "#bd3786"
            ],
            [
             0.5555555555555556,
             "#d8576b"
            ],
            [
             0.6666666666666666,
             "#ed7953"
            ],
            [
             0.7777777777777778,
             "#fb9f3a"
            ],
            [
             0.8888888888888888,
             "#fdca26"
            ],
            [
             1,
             "#f0f921"
            ]
           ],
           "sequentialminus": [
            [
             0,
             "#0d0887"
            ],
            [
             0.1111111111111111,
             "#46039f"
            ],
            [
             0.2222222222222222,
             "#7201a8"
            ],
            [
             0.3333333333333333,
             "#9c179e"
            ],
            [
             0.4444444444444444,
             "#bd3786"
            ],
            [
             0.5555555555555556,
             "#d8576b"
            ],
            [
             0.6666666666666666,
             "#ed7953"
            ],
            [
             0.7777777777777778,
             "#fb9f3a"
            ],
            [
             0.8888888888888888,
             "#fdca26"
            ],
            [
             1,
             "#f0f921"
            ]
           ]
          },
          "colorway": [
           "#636efa",
           "#EF553B",
           "#00cc96",
           "#ab63fa",
           "#FFA15A",
           "#19d3f3",
           "#FF6692",
           "#B6E880",
           "#FF97FF",
           "#FECB52"
          ],
          "font": {
           "color": "#f2f5fa"
          },
          "geo": {
           "bgcolor": "rgb(17,17,17)",
           "lakecolor": "rgb(17,17,17)",
           "landcolor": "rgb(17,17,17)",
           "showlakes": true,
           "showland": true,
           "subunitcolor": "#506784"
          },
          "hoverlabel": {
           "align": "left"
          },
          "hovermode": "closest",
          "mapbox": {
           "style": "dark"
          },
          "paper_bgcolor": "rgb(17,17,17)",
          "plot_bgcolor": "rgb(17,17,17)",
          "polar": {
           "angularaxis": {
            "gridcolor": "#506784",
            "linecolor": "#506784",
            "ticks": ""
           },
           "bgcolor": "rgb(17,17,17)",
           "radialaxis": {
            "gridcolor": "#506784",
            "linecolor": "#506784",
            "ticks": ""
           }
          },
          "scene": {
           "xaxis": {
            "backgroundcolor": "rgb(17,17,17)",
            "gridcolor": "#506784",
            "gridwidth": 2,
            "linecolor": "#506784",
            "showbackground": true,
            "ticks": "",
            "zerolinecolor": "#C8D4E3"
           },
           "yaxis": {
            "backgroundcolor": "rgb(17,17,17)",
            "gridcolor": "#506784",
            "gridwidth": 2,
            "linecolor": "#506784",
            "showbackground": true,
            "ticks": "",
            "zerolinecolor": "#C8D4E3"
           },
           "zaxis": {
            "backgroundcolor": "rgb(17,17,17)",
            "gridcolor": "#506784",
            "gridwidth": 2,
            "linecolor": "#506784",
            "showbackground": true,
            "ticks": "",
            "zerolinecolor": "#C8D4E3"
           }
          },
          "shapedefaults": {
           "line": {
            "color": "#f2f5fa"
           }
          },
          "sliderdefaults": {
           "bgcolor": "#C8D4E3",
           "bordercolor": "rgb(17,17,17)",
           "borderwidth": 1,
           "tickwidth": 0
          },
          "ternary": {
           "aaxis": {
            "gridcolor": "#506784",
            "linecolor": "#506784",
            "ticks": ""
           },
           "baxis": {
            "gridcolor": "#506784",
            "linecolor": "#506784",
            "ticks": ""
           },
           "bgcolor": "rgb(17,17,17)",
           "caxis": {
            "gridcolor": "#506784",
            "linecolor": "#506784",
            "ticks": ""
           }
          },
          "title": {
           "x": 0.05
          },
          "updatemenudefaults": {
           "bgcolor": "#506784",
           "borderwidth": 0
          },
          "xaxis": {
           "automargin": true,
           "gridcolor": "#283442",
           "linecolor": "#506784",
           "ticks": "",
           "title": {
            "standoff": 15
           },
           "zerolinecolor": "#283442",
           "zerolinewidth": 2
          },
          "yaxis": {
           "automargin": true,
           "gridcolor": "#283442",
           "linecolor": "#506784",
           "ticks": "",
           "title": {
            "standoff": 15
           },
           "zerolinecolor": "#283442",
           "zerolinewidth": 2
          }
         }
        },
        "title": {
         "text": "Jaarlijkse gemiddelde levensvoldoening vs Jaarlijkse gemiddelde valence"
        },
        "xaxis": {
         "title": {
          "text": "Jaar"
         }
        },
        "yaxis": {
         "title": {
          "text": "Percentiel"
         }
        }
       }
      },
      "text/html": [
       "<div>                            <div id=\"dc53cb71-79d7-4f9c-addc-2c094c717018\" class=\"plotly-graph-div\" style=\"height:525px; width:100%;\"></div>            <script type=\"text/javascript\">                require([\"plotly\"], function(Plotly) {                    window.PLOTLYENV=window.PLOTLYENV || {};                                    if (document.getElementById(\"dc53cb71-79d7-4f9c-addc-2c094c717018\")) {                    Plotly.newPlot(                        \"dc53cb71-79d7-4f9c-addc-2c094c717018\",                        [{\"line\":{\"color\":\"#72B7B2\"},\"mode\":\"lines\",\"name\":\"Wereldwijde jaarlijkse levensvoldoening\",\"x\":[2003,2004,2005,2006,2007,2008,2009,2010,2011,2012,2013,2014,2015,2016,2017,2018,2019,2020,2021],\"y\":[0.644616424074074,0.5196935278651685,0.5418291405882354,0.541855397,0.5457640121052632,0.5496782150806452,0.5424087843150684,0.5443750546478874,0.5394567934306569,0.538902338275862,0.5404036588811189,0.5399414292957746,0.5460421471428571,0.5499453646478873,0.5570894445833334,0.5840611470526317,0.553283154362416,0.5553575342465753,0.5539755474452555],\"type\":\"scatter\"},{\"line\":{\"color\":\"#E45756\"},\"mode\":\"lines\",\"name\":\"Jaarlijkse gemiddelde valence\",\"x\":[2003,2004,2005,2006,2007,2008,2009,2010,2011,2012,2013,2014,2015,2016,2017,2018,2019,2020,2021],\"y\":[0.5025193264085616,0.5075461157024793,0.5197370319320009,0.5112161743441438,0.5149956977964323,0.5028842174567344,0.5102687352842247,0.5048491621263437,0.47824297534475557,0.4645650894658953,0.46115299438909885,0.4480653842931937,0.43296493454906565,0.41726647492887625,0.4194842411491585,0.4162682119551031,0.4115070103686636,0.40660736711081286,0.397116772865921],\"type\":\"scatter\"}],                        {\"template\":{\"data\":{\"histogram2dcontour\":[{\"type\":\"histogram2dcontour\",\"colorbar\":{\"outlinewidth\":0,\"ticks\":\"\"},\"colorscale\":[[0.0,\"#0d0887\"],[0.1111111111111111,\"#46039f\"],[0.2222222222222222,\"#7201a8\"],[0.3333333333333333,\"#9c179e\"],[0.4444444444444444,\"#bd3786\"],[0.5555555555555556,\"#d8576b\"],[0.6666666666666666,\"#ed7953\"],[0.7777777777777778,\"#fb9f3a\"],[0.8888888888888888,\"#fdca26\"],[1.0,\"#f0f921\"]]}],\"choropleth\":[{\"type\":\"choropleth\",\"colorbar\":{\"outlinewidth\":0,\"ticks\":\"\"}}],\"histogram2d\":[{\"type\":\"histogram2d\",\"colorbar\":{\"outlinewidth\":0,\"ticks\":\"\"},\"colorscale\":[[0.0,\"#0d0887\"],[0.1111111111111111,\"#46039f\"],[0.2222222222222222,\"#7201a8\"],[0.3333333333333333,\"#9c179e\"],[0.4444444444444444,\"#bd3786\"],[0.5555555555555556,\"#d8576b\"],[0.6666666666666666,\"#ed7953\"],[0.7777777777777778,\"#fb9f3a\"],[0.8888888888888888,\"#fdca26\"],[1.0,\"#f0f921\"]]}],\"heatmap\":[{\"type\":\"heatmap\",\"colorbar\":{\"outlinewidth\":0,\"ticks\":\"\"},\"colorscale\":[[0.0,\"#0d0887\"],[0.1111111111111111,\"#46039f\"],[0.2222222222222222,\"#7201a8\"],[0.3333333333333333,\"#9c179e\"],[0.4444444444444444,\"#bd3786\"],[0.5555555555555556,\"#d8576b\"],[0.6666666666666666,\"#ed7953\"],[0.7777777777777778,\"#fb9f3a\"],[0.8888888888888888,\"#fdca26\"],[1.0,\"#f0f921\"]]}],\"heatmapgl\":[{\"type\":\"heatmapgl\",\"colorbar\":{\"outlinewidth\":0,\"ticks\":\"\"},\"colorscale\":[[0.0,\"#0d0887\"],[0.1111111111111111,\"#46039f\"],[0.2222222222222222,\"#7201a8\"],[0.3333333333333333,\"#9c179e\"],[0.4444444444444444,\"#bd3786\"],[0.5555555555555556,\"#d8576b\"],[0.6666666666666666,\"#ed7953\"],[0.7777777777777778,\"#fb9f3a\"],[0.8888888888888888,\"#fdca26\"],[1.0,\"#f0f921\"]]}],\"contourcarpet\":[{\"type\":\"contourcarpet\",\"colorbar\":{\"outlinewidth\":0,\"ticks\":\"\"}}],\"contour\":[{\"type\":\"contour\",\"colorbar\":{\"outlinewidth\":0,\"ticks\":\"\"},\"colorscale\":[[0.0,\"#0d0887\"],[0.1111111111111111,\"#46039f\"],[0.2222222222222222,\"#7201a8\"],[0.3333333333333333,\"#9c179e\"],[0.4444444444444444,\"#bd3786\"],[0.5555555555555556,\"#d8576b\"],[0.6666666666666666,\"#ed7953\"],[0.7777777777777778,\"#fb9f3a\"],[0.8888888888888888,\"#fdca26\"],[1.0,\"#f0f921\"]]}],\"surface\":[{\"type\":\"surface\",\"colorbar\":{\"outlinewidth\":0,\"ticks\":\"\"},\"colorscale\":[[0.0,\"#0d0887\"],[0.1111111111111111,\"#46039f\"],[0.2222222222222222,\"#7201a8\"],[0.3333333333333333,\"#9c179e\"],[0.4444444444444444,\"#bd3786\"],[0.5555555555555556,\"#d8576b\"],[0.6666666666666666,\"#ed7953\"],[0.7777777777777778,\"#fb9f3a\"],[0.8888888888888888,\"#fdca26\"],[1.0,\"#f0f921\"]]}],\"mesh3d\":[{\"type\":\"mesh3d\",\"colorbar\":{\"outlinewidth\":0,\"ticks\":\"\"}}],\"scatter\":[{\"marker\":{\"line\":{\"color\":\"#283442\"}},\"type\":\"scatter\"}],\"parcoords\":[{\"type\":\"parcoords\",\"line\":{\"colorbar\":{\"outlinewidth\":0,\"ticks\":\"\"}}}],\"scatterpolargl\":[{\"type\":\"scatterpolargl\",\"marker\":{\"colorbar\":{\"outlinewidth\":0,\"ticks\":\"\"}}}],\"bar\":[{\"error_x\":{\"color\":\"#f2f5fa\"},\"error_y\":{\"color\":\"#f2f5fa\"},\"marker\":{\"line\":{\"color\":\"rgb(17,17,17)\",\"width\":0.5},\"pattern\":{\"fillmode\":\"overlay\",\"size\":10,\"solidity\":0.2}},\"type\":\"bar\"}],\"scattergeo\":[{\"type\":\"scattergeo\",\"marker\":{\"colorbar\":{\"outlinewidth\":0,\"ticks\":\"\"}}}],\"scatterpolar\":[{\"type\":\"scatterpolar\",\"marker\":{\"colorbar\":{\"outlinewidth\":0,\"ticks\":\"\"}}}],\"histogram\":[{\"marker\":{\"pattern\":{\"fillmode\":\"overlay\",\"size\":10,\"solidity\":0.2}},\"type\":\"histogram\"}],\"scattergl\":[{\"marker\":{\"line\":{\"color\":\"#283442\"}},\"type\":\"scattergl\"}],\"scatter3d\":[{\"type\":\"scatter3d\",\"line\":{\"colorbar\":{\"outlinewidth\":0,\"ticks\":\"\"}},\"marker\":{\"colorbar\":{\"outlinewidth\":0,\"ticks\":\"\"}}}],\"scattermapbox\":[{\"type\":\"scattermapbox\",\"marker\":{\"colorbar\":{\"outlinewidth\":0,\"ticks\":\"\"}}}],\"scatterternary\":[{\"type\":\"scatterternary\",\"marker\":{\"colorbar\":{\"outlinewidth\":0,\"ticks\":\"\"}}}],\"scattercarpet\":[{\"type\":\"scattercarpet\",\"marker\":{\"colorbar\":{\"outlinewidth\":0,\"ticks\":\"\"}}}],\"carpet\":[{\"aaxis\":{\"endlinecolor\":\"#A2B1C6\",\"gridcolor\":\"#506784\",\"linecolor\":\"#506784\",\"minorgridcolor\":\"#506784\",\"startlinecolor\":\"#A2B1C6\"},\"baxis\":{\"endlinecolor\":\"#A2B1C6\",\"gridcolor\":\"#506784\",\"linecolor\":\"#506784\",\"minorgridcolor\":\"#506784\",\"startlinecolor\":\"#A2B1C6\"},\"type\":\"carpet\"}],\"table\":[{\"cells\":{\"fill\":{\"color\":\"#506784\"},\"line\":{\"color\":\"rgb(17,17,17)\"}},\"header\":{\"fill\":{\"color\":\"#2a3f5f\"},\"line\":{\"color\":\"rgb(17,17,17)\"}},\"type\":\"table\"}],\"barpolar\":[{\"marker\":{\"line\":{\"color\":\"rgb(17,17,17)\",\"width\":0.5},\"pattern\":{\"fillmode\":\"overlay\",\"size\":10,\"solidity\":0.2}},\"type\":\"barpolar\"}],\"pie\":[{\"automargin\":true,\"type\":\"pie\"}]},\"layout\":{\"autotypenumbers\":\"strict\",\"colorway\":[\"#636efa\",\"#EF553B\",\"#00cc96\",\"#ab63fa\",\"#FFA15A\",\"#19d3f3\",\"#FF6692\",\"#B6E880\",\"#FF97FF\",\"#FECB52\"],\"font\":{\"color\":\"#f2f5fa\"},\"hovermode\":\"closest\",\"hoverlabel\":{\"align\":\"left\"},\"paper_bgcolor\":\"rgb(17,17,17)\",\"plot_bgcolor\":\"rgb(17,17,17)\",\"polar\":{\"bgcolor\":\"rgb(17,17,17)\",\"angularaxis\":{\"gridcolor\":\"#506784\",\"linecolor\":\"#506784\",\"ticks\":\"\"},\"radialaxis\":{\"gridcolor\":\"#506784\",\"linecolor\":\"#506784\",\"ticks\":\"\"}},\"ternary\":{\"bgcolor\":\"rgb(17,17,17)\",\"aaxis\":{\"gridcolor\":\"#506784\",\"linecolor\":\"#506784\",\"ticks\":\"\"},\"baxis\":{\"gridcolor\":\"#506784\",\"linecolor\":\"#506784\",\"ticks\":\"\"},\"caxis\":{\"gridcolor\":\"#506784\",\"linecolor\":\"#506784\",\"ticks\":\"\"}},\"coloraxis\":{\"colorbar\":{\"outlinewidth\":0,\"ticks\":\"\"}},\"colorscale\":{\"sequential\":[[0.0,\"#0d0887\"],[0.1111111111111111,\"#46039f\"],[0.2222222222222222,\"#7201a8\"],[0.3333333333333333,\"#9c179e\"],[0.4444444444444444,\"#bd3786\"],[0.5555555555555556,\"#d8576b\"],[0.6666666666666666,\"#ed7953\"],[0.7777777777777778,\"#fb9f3a\"],[0.8888888888888888,\"#fdca26\"],[1.0,\"#f0f921\"]],\"sequentialminus\":[[0.0,\"#0d0887\"],[0.1111111111111111,\"#46039f\"],[0.2222222222222222,\"#7201a8\"],[0.3333333333333333,\"#9c179e\"],[0.4444444444444444,\"#bd3786\"],[0.5555555555555556,\"#d8576b\"],[0.6666666666666666,\"#ed7953\"],[0.7777777777777778,\"#fb9f3a\"],[0.8888888888888888,\"#fdca26\"],[1.0,\"#f0f921\"]],\"diverging\":[[0,\"#8e0152\"],[0.1,\"#c51b7d\"],[0.2,\"#de77ae\"],[0.3,\"#f1b6da\"],[0.4,\"#fde0ef\"],[0.5,\"#f7f7f7\"],[0.6,\"#e6f5d0\"],[0.7,\"#b8e186\"],[0.8,\"#7fbc41\"],[0.9,\"#4d9221\"],[1,\"#276419\"]]},\"xaxis\":{\"gridcolor\":\"#283442\",\"linecolor\":\"#506784\",\"ticks\":\"\",\"title\":{\"standoff\":15},\"zerolinecolor\":\"#283442\",\"automargin\":true,\"zerolinewidth\":2},\"yaxis\":{\"gridcolor\":\"#283442\",\"linecolor\":\"#506784\",\"ticks\":\"\",\"title\":{\"standoff\":15},\"zerolinecolor\":\"#283442\",\"automargin\":true,\"zerolinewidth\":2},\"scene\":{\"xaxis\":{\"backgroundcolor\":\"rgb(17,17,17)\",\"gridcolor\":\"#506784\",\"linecolor\":\"#506784\",\"showbackground\":true,\"ticks\":\"\",\"zerolinecolor\":\"#C8D4E3\",\"gridwidth\":2},\"yaxis\":{\"backgroundcolor\":\"rgb(17,17,17)\",\"gridcolor\":\"#506784\",\"linecolor\":\"#506784\",\"showbackground\":true,\"ticks\":\"\",\"zerolinecolor\":\"#C8D4E3\",\"gridwidth\":2},\"zaxis\":{\"backgroundcolor\":\"rgb(17,17,17)\",\"gridcolor\":\"#506784\",\"linecolor\":\"#506784\",\"showbackground\":true,\"ticks\":\"\",\"zerolinecolor\":\"#C8D4E3\",\"gridwidth\":2}},\"shapedefaults\":{\"line\":{\"color\":\"#f2f5fa\"}},\"annotationdefaults\":{\"arrowcolor\":\"#f2f5fa\",\"arrowhead\":0,\"arrowwidth\":1},\"geo\":{\"bgcolor\":\"rgb(17,17,17)\",\"landcolor\":\"rgb(17,17,17)\",\"subunitcolor\":\"#506784\",\"showland\":true,\"showlakes\":true,\"lakecolor\":\"rgb(17,17,17)\"},\"title\":{\"x\":0.05},\"updatemenudefaults\":{\"bgcolor\":\"#506784\",\"borderwidth\":0},\"sliderdefaults\":{\"bgcolor\":\"#C8D4E3\",\"borderwidth\":1,\"bordercolor\":\"rgb(17,17,17)\",\"tickwidth\":0},\"mapbox\":{\"style\":\"dark\"}}},\"title\":{\"text\":\"Jaarlijkse gemiddelde levensvoldoening vs Jaarlijkse gemiddelde valence\"},\"xaxis\":{\"title\":{\"text\":\"Jaar\"}},\"yaxis\":{\"title\":{\"text\":\"Percentiel\"}},\"legend\":{\"title\":{\"text\":\"Variabelen\"}},\"annotations\":[{\"align\":\"left\",\"bordercolor\":\"black\",\"borderwidth\":1,\"font\":{\"size\":14},\"showarrow\":false,\"text\":\"Correlations:\",\"x\":1.02,\"xanchor\":\"left\",\"xref\":\"paper\",\"y\":0.75,\"yref\":\"paper\"},{\"align\":\"left\",\"bordercolor\":\"black\",\"borderwidth\":1,\"showarrow\":false,\"text\":\"Pearson Correlation: -0.09\",\"x\":1.03,\"xanchor\":\"left\",\"xref\":\"paper\",\"y\":0.7,\"yref\":\"paper\"}]},                        {\"responsive\": true}                    ).then(function(){\n",
       "                            \n",
       "var gd = document.getElementById('dc53cb71-79d7-4f9c-addc-2c094c717018');\n",
       "var x = new MutationObserver(function (mutations, observer) {{\n",
       "        var display = window.getComputedStyle(gd).display;\n",
       "        if (!display || display === 'none') {{\n",
       "            console.log([gd, 'removed!']);\n",
       "            Plotly.purge(gd);\n",
       "            observer.disconnect();\n",
       "        }}\n",
       "}});\n",
       "\n",
       "// Listen for the removal of the full notebook cells\n",
       "var notebookContainer = gd.closest('#notebook-container');\n",
       "if (notebookContainer) {{\n",
       "    x.observe(notebookContainer, {childList: true});\n",
       "}}\n",
       "\n",
       "// Listen for the clearing of the current output cell\n",
       "var outputEl = gd.closest('.output');\n",
       "if (outputEl) {{\n",
       "    x.observe(outputEl, {childList: true});\n",
       "}}\n",
       "\n",
       "                        })                };                });            </script>        </div>"
      ]
     },
     "metadata": {},
     "output_type": "display_data"
    }
   ],
   "source": [
    "#@title Plot met blijheidsdata en correlaties\n",
    "test_series = happiness_dataset.groupby('Year').mean(numeric_only=True)['Cantril ladder score']\n",
    "test_series = test_series.map(lambda x: x/10)\n",
    "#test_series = test_series.map(lambda x: (x - test_series.min())/(test_series.max() - test_series.min()))\n",
    "\n",
    "test_series2 = main_dataset[(main_dataset['year'] >= 2003) & (main_dataset['year'] <= 2021)].groupby('year').mean(numeric_only=True)['valence']\n",
    "#test_series2 = test_series2.map(lambda x: (x - test_series2.min())/(test_series2.max() - test_series2.min()))\n",
    "\n",
    "correlation_pearson = test_series.corr(test_series2, method='pearson')\n",
    "correlation_spearman = test_series.corr(test_series2, method='spearman')\n",
    "\n",
    "fig_happiness_valence = go.Figure()\n",
    "\n",
    "fig_happiness_valence.add_trace(go.Scatter(x= main_dataset[(main_dataset['year'] >= 2003) & (main_dataset['year'] <= 2021)].groupby('year').mean(numeric_only=True).index,\n",
    "                                           y= test_series,\n",
    "                                           name='Wereldwijde jaarlijkse levensvoldoening',\n",
    "                                           mode = 'lines',\n",
    "                                           line_color=px.colors.qualitative.T10[3]\n",
    "                                           ))\n",
    "\n",
    "fig_happiness_valence.add_trace(go.Scatter(x=main_dataset[(main_dataset['year'] >= 2003) & (main_dataset['year'] <= 2021)].groupby('year').mean(numeric_only=True).index,\n",
    "                                           y=test_series2,\n",
    "                                           name='Jaarlijkse gemiddelde valence',\n",
    "                                           mode='lines',\n",
    "                                           line_color=px.colors.qualitative.T10[2]\n",
    "                                           ))\n",
    "\n",
    "\n",
    "fig_happiness_valence.update_layout(title='Jaarlijkse gemiddelde levensvoldoening vs Jaarlijkse gemiddelde valence',\n",
    "                                    xaxis_title=\"Jaar\",\n",
    "                                    yaxis_title=\"Percentiel\",\n",
    "                                    legend_title=\"Variabelen\",)\n",
    "\n",
    "\n",
    "fig_happiness_valence.add_annotation(text=f'Correlations:',\n",
    "                                     align='left',\n",
    "                                     showarrow=False,\n",
    "                                     xref='paper',\n",
    "                                     yref='paper',\n",
    "                                     x=1.02,\n",
    "                                     y=0.75,\n",
    "                                     font_size = 14,\n",
    "                                     bordercolor='black',\n",
    "                                     borderwidth=1,\n",
    "                                     xanchor=\"left\")\n",
    "\n",
    "fig_happiness_valence.add_annotation(text=f'Pearson Correlation: {correlation_pearson:.2f}',\n",
    "                                     align='left',\n",
    "                                     showarrow=False,\n",
    "                                     xref='paper',\n",
    "                                     yref='paper',\n",
    "                                     x=1.03,\n",
    "                                     y=0.7,\n",
    "                                     bordercolor='black',\n",
    "                                     borderwidth=1,\n",
    "                                     xanchor=\"left\")\n",
    "fig_happiness_valence.show()"
   ]
  },
  {
   "attachments": {},
   "cell_type": "markdown",
   "metadata": {
    "id": "tUwymQlx3lDp"
   },
   "source": [
    "In het bovenstaande plot zijn de wereldwijde gemiddelde levensvoldoening en de valence van muziek tegenover elkaar geplot. De wereldwijde jaarlijkse levensvoldoening was eerst op een schaal van 1-10 gegeven, maar om het beter visueel te kunnen vergelijken met de valence is deze omgezet tot een schaal van 0-1. Op de x-as zijn de jaartallen vanaf 2004 te zien en op de y-as zijn dus de waarden tussen de 0 en 1 te zien van de twee verschillende variabelen. Ook is de Pearson correlatiecoëfficiënt tussen deze twee variabelen getoond. Hieruit blijkt dat er geen correlatie te vinden is tussen de twee variabelen. Het lijkt er dus op dat de gemiddelde levensvoldoening per jaar niet samenhangt met de gemiddelde valence per jaar.\n",
    "Wat ook opvalt is dat de jaarlijkse gemiddelde levensvoldoening eigenlijk na een dip in 2004 redelijk stabiel blijft. Dit komt ook niet helemaal overeen met de bevindingen uit onze introductie dat de moderne mens steeds ongelukkiger wordt (CBS, 2019). Al met al ontwikkelen deze twee variabelen zich dus onafhankelijk van elkaar en kan er niet simpelweg gesteld worden dat meer sombere muziek leidt tot minder gelukkige mensen of andersom.\n"
   ]
  },
  {
   "attachments": {},
   "cell_type": "markdown",
   "metadata": {
    "id": "5delDvYnd9aV"
   },
   "source": [
    "## De muziekindustrie en de opkomst van het internet"
   ]
  },
  {
   "cell_type": "code",
   "execution_count": 6,
   "metadata": {
    "colab": {
     "base_uri": "https://localhost:8080/",
     "height": 542
    },
    "id": "zHOlRhazqKV9",
    "outputId": "242381ea-c199-486a-a96c-5f46702cdee3",
    "tags": [
     "hide-input"
    ]
   },
   "outputs": [
    {
     "data": {
      "application/vnd.plotly.v1+json": {
       "config": {
        "plotlyServerURL": "https://plot.ly"
       },
       "data": [
        {
         "fill": "tozeroy",
         "marker": {
          "color": "#F58518"
         },
         "mode": "lines",
         "type": "scatter",
         "x": [
          1960,
          1961,
          1962,
          1963,
          1964,
          1965,
          1966,
          1967,
          1968,
          1969,
          1970,
          1971,
          1972,
          1973,
          1974,
          1975,
          1976,
          1977,
          1978,
          1979,
          1980,
          1981,
          1982,
          1983,
          1984,
          1985,
          1986,
          1987,
          1988,
          1989,
          1990,
          1991,
          1992,
          1993,
          1994,
          1995,
          1996,
          1997,
          1998,
          1999,
          2000,
          2001,
          2002,
          2003,
          2004,
          2005,
          2006,
          2007,
          2008,
          2009,
          2010,
          2011,
          2012,
          2013,
          2014,
          2015,
          2016,
          2017,
          2018,
          2019,
          2020,
          2021,
          2022
         ],
         "y": [
          123,
          114,
          124,
          152,
          157,
          153,
          174,
          201,
          225,
          214,
          254,
          250,
          330,
          340,
          289,
          337,
          328,
          305,
          352,
          343,
          357,
          351,
          378,
          370,
          377,
          370,
          382,
          421,
          474,
          534,
          634,
          671,
          716,
          783,
          882,
          980,
          1037,
          1067,
          1122,
          1220,
          1307,
          1273,
          1364,
          1494,
          1640,
          1903,
          2069,
          2157,
          2338,
          2501,
          2753,
          3126,
          3365,
          3781,
          4406,
          5078,
          5628,
          6935,
          7932,
          9594,
          12105,
          13661,
          19288
         ]
        }
       ],
       "layout": {
        "template": {
         "data": {
          "bar": [
           {
            "error_x": {
             "color": "#f2f5fa"
            },
            "error_y": {
             "color": "#f2f5fa"
            },
            "marker": {
             "line": {
              "color": "rgb(17,17,17)",
              "width": 0.5
             },
             "pattern": {
              "fillmode": "overlay",
              "size": 10,
              "solidity": 0.2
             }
            },
            "type": "bar"
           }
          ],
          "barpolar": [
           {
            "marker": {
             "line": {
              "color": "rgb(17,17,17)",
              "width": 0.5
             },
             "pattern": {
              "fillmode": "overlay",
              "size": 10,
              "solidity": 0.2
             }
            },
            "type": "barpolar"
           }
          ],
          "carpet": [
           {
            "aaxis": {
             "endlinecolor": "#A2B1C6",
             "gridcolor": "#506784",
             "linecolor": "#506784",
             "minorgridcolor": "#506784",
             "startlinecolor": "#A2B1C6"
            },
            "baxis": {
             "endlinecolor": "#A2B1C6",
             "gridcolor": "#506784",
             "linecolor": "#506784",
             "minorgridcolor": "#506784",
             "startlinecolor": "#A2B1C6"
            },
            "type": "carpet"
           }
          ],
          "choropleth": [
           {
            "colorbar": {
             "outlinewidth": 0,
             "ticks": ""
            },
            "type": "choropleth"
           }
          ],
          "contour": [
           {
            "colorbar": {
             "outlinewidth": 0,
             "ticks": ""
            },
            "colorscale": [
             [
              0,
              "#0d0887"
             ],
             [
              0.1111111111111111,
              "#46039f"
             ],
             [
              0.2222222222222222,
              "#7201a8"
             ],
             [
              0.3333333333333333,
              "#9c179e"
             ],
             [
              0.4444444444444444,
              "#bd3786"
             ],
             [
              0.5555555555555556,
              "#d8576b"
             ],
             [
              0.6666666666666666,
              "#ed7953"
             ],
             [
              0.7777777777777778,
              "#fb9f3a"
             ],
             [
              0.8888888888888888,
              "#fdca26"
             ],
             [
              1,
              "#f0f921"
             ]
            ],
            "type": "contour"
           }
          ],
          "contourcarpet": [
           {
            "colorbar": {
             "outlinewidth": 0,
             "ticks": ""
            },
            "type": "contourcarpet"
           }
          ],
          "heatmap": [
           {
            "colorbar": {
             "outlinewidth": 0,
             "ticks": ""
            },
            "colorscale": [
             [
              0,
              "#0d0887"
             ],
             [
              0.1111111111111111,
              "#46039f"
             ],
             [
              0.2222222222222222,
              "#7201a8"
             ],
             [
              0.3333333333333333,
              "#9c179e"
             ],
             [
              0.4444444444444444,
              "#bd3786"
             ],
             [
              0.5555555555555556,
              "#d8576b"
             ],
             [
              0.6666666666666666,
              "#ed7953"
             ],
             [
              0.7777777777777778,
              "#fb9f3a"
             ],
             [
              0.8888888888888888,
              "#fdca26"
             ],
             [
              1,
              "#f0f921"
             ]
            ],
            "type": "heatmap"
           }
          ],
          "heatmapgl": [
           {
            "colorbar": {
             "outlinewidth": 0,
             "ticks": ""
            },
            "colorscale": [
             [
              0,
              "#0d0887"
             ],
             [
              0.1111111111111111,
              "#46039f"
             ],
             [
              0.2222222222222222,
              "#7201a8"
             ],
             [
              0.3333333333333333,
              "#9c179e"
             ],
             [
              0.4444444444444444,
              "#bd3786"
             ],
             [
              0.5555555555555556,
              "#d8576b"
             ],
             [
              0.6666666666666666,
              "#ed7953"
             ],
             [
              0.7777777777777778,
              "#fb9f3a"
             ],
             [
              0.8888888888888888,
              "#fdca26"
             ],
             [
              1,
              "#f0f921"
             ]
            ],
            "type": "heatmapgl"
           }
          ],
          "histogram": [
           {
            "marker": {
             "pattern": {
              "fillmode": "overlay",
              "size": 10,
              "solidity": 0.2
             }
            },
            "type": "histogram"
           }
          ],
          "histogram2d": [
           {
            "colorbar": {
             "outlinewidth": 0,
             "ticks": ""
            },
            "colorscale": [
             [
              0,
              "#0d0887"
             ],
             [
              0.1111111111111111,
              "#46039f"
             ],
             [
              0.2222222222222222,
              "#7201a8"
             ],
             [
              0.3333333333333333,
              "#9c179e"
             ],
             [
              0.4444444444444444,
              "#bd3786"
             ],
             [
              0.5555555555555556,
              "#d8576b"
             ],
             [
              0.6666666666666666,
              "#ed7953"
             ],
             [
              0.7777777777777778,
              "#fb9f3a"
             ],
             [
              0.8888888888888888,
              "#fdca26"
             ],
             [
              1,
              "#f0f921"
             ]
            ],
            "type": "histogram2d"
           }
          ],
          "histogram2dcontour": [
           {
            "colorbar": {
             "outlinewidth": 0,
             "ticks": ""
            },
            "colorscale": [
             [
              0,
              "#0d0887"
             ],
             [
              0.1111111111111111,
              "#46039f"
             ],
             [
              0.2222222222222222,
              "#7201a8"
             ],
             [
              0.3333333333333333,
              "#9c179e"
             ],
             [
              0.4444444444444444,
              "#bd3786"
             ],
             [
              0.5555555555555556,
              "#d8576b"
             ],
             [
              0.6666666666666666,
              "#ed7953"
             ],
             [
              0.7777777777777778,
              "#fb9f3a"
             ],
             [
              0.8888888888888888,
              "#fdca26"
             ],
             [
              1,
              "#f0f921"
             ]
            ],
            "type": "histogram2dcontour"
           }
          ],
          "mesh3d": [
           {
            "colorbar": {
             "outlinewidth": 0,
             "ticks": ""
            },
            "type": "mesh3d"
           }
          ],
          "parcoords": [
           {
            "line": {
             "colorbar": {
              "outlinewidth": 0,
              "ticks": ""
             }
            },
            "type": "parcoords"
           }
          ],
          "pie": [
           {
            "automargin": true,
            "type": "pie"
           }
          ],
          "scatter": [
           {
            "marker": {
             "line": {
              "color": "#283442"
             }
            },
            "type": "scatter"
           }
          ],
          "scatter3d": [
           {
            "line": {
             "colorbar": {
              "outlinewidth": 0,
              "ticks": ""
             }
            },
            "marker": {
             "colorbar": {
              "outlinewidth": 0,
              "ticks": ""
             }
            },
            "type": "scatter3d"
           }
          ],
          "scattercarpet": [
           {
            "marker": {
             "colorbar": {
              "outlinewidth": 0,
              "ticks": ""
             }
            },
            "type": "scattercarpet"
           }
          ],
          "scattergeo": [
           {
            "marker": {
             "colorbar": {
              "outlinewidth": 0,
              "ticks": ""
             }
            },
            "type": "scattergeo"
           }
          ],
          "scattergl": [
           {
            "marker": {
             "line": {
              "color": "#283442"
             }
            },
            "type": "scattergl"
           }
          ],
          "scattermapbox": [
           {
            "marker": {
             "colorbar": {
              "outlinewidth": 0,
              "ticks": ""
             }
            },
            "type": "scattermapbox"
           }
          ],
          "scatterpolar": [
           {
            "marker": {
             "colorbar": {
              "outlinewidth": 0,
              "ticks": ""
             }
            },
            "type": "scatterpolar"
           }
          ],
          "scatterpolargl": [
           {
            "marker": {
             "colorbar": {
              "outlinewidth": 0,
              "ticks": ""
             }
            },
            "type": "scatterpolargl"
           }
          ],
          "scatterternary": [
           {
            "marker": {
             "colorbar": {
              "outlinewidth": 0,
              "ticks": ""
             }
            },
            "type": "scatterternary"
           }
          ],
          "surface": [
           {
            "colorbar": {
             "outlinewidth": 0,
             "ticks": ""
            },
            "colorscale": [
             [
              0,
              "#0d0887"
             ],
             [
              0.1111111111111111,
              "#46039f"
             ],
             [
              0.2222222222222222,
              "#7201a8"
             ],
             [
              0.3333333333333333,
              "#9c179e"
             ],
             [
              0.4444444444444444,
              "#bd3786"
             ],
             [
              0.5555555555555556,
              "#d8576b"
             ],
             [
              0.6666666666666666,
              "#ed7953"
             ],
             [
              0.7777777777777778,
              "#fb9f3a"
             ],
             [
              0.8888888888888888,
              "#fdca26"
             ],
             [
              1,
              "#f0f921"
             ]
            ],
            "type": "surface"
           }
          ],
          "table": [
           {
            "cells": {
             "fill": {
              "color": "#506784"
             },
             "line": {
              "color": "rgb(17,17,17)"
             }
            },
            "header": {
             "fill": {
              "color": "#2a3f5f"
             },
             "line": {
              "color": "rgb(17,17,17)"
             }
            },
            "type": "table"
           }
          ]
         },
         "layout": {
          "annotationdefaults": {
           "arrowcolor": "#f2f5fa",
           "arrowhead": 0,
           "arrowwidth": 1
          },
          "autotypenumbers": "strict",
          "coloraxis": {
           "colorbar": {
            "outlinewidth": 0,
            "ticks": ""
           }
          },
          "colorscale": {
           "diverging": [
            [
             0,
             "#8e0152"
            ],
            [
             0.1,
             "#c51b7d"
            ],
            [
             0.2,
             "#de77ae"
            ],
            [
             0.3,
             "#f1b6da"
            ],
            [
             0.4,
             "#fde0ef"
            ],
            [
             0.5,
             "#f7f7f7"
            ],
            [
             0.6,
             "#e6f5d0"
            ],
            [
             0.7,
             "#b8e186"
            ],
            [
             0.8,
             "#7fbc41"
            ],
            [
             0.9,
             "#4d9221"
            ],
            [
             1,
             "#276419"
            ]
           ],
           "sequential": [
            [
             0,
             "#0d0887"
            ],
            [
             0.1111111111111111,
             "#46039f"
            ],
            [
             0.2222222222222222,
             "#7201a8"
            ],
            [
             0.3333333333333333,
             "#9c179e"
            ],
            [
             0.4444444444444444,
             "#bd3786"
            ],
            [
             0.5555555555555556,
             "#d8576b"
            ],
            [
             0.6666666666666666,
             "#ed7953"
            ],
            [
             0.7777777777777778,
             "#fb9f3a"
            ],
            [
             0.8888888888888888,
             "#fdca26"
            ],
            [
             1,
             "#f0f921"
            ]
           ],
           "sequentialminus": [
            [
             0,
             "#0d0887"
            ],
            [
             0.1111111111111111,
             "#46039f"
            ],
            [
             0.2222222222222222,
             "#7201a8"
            ],
            [
             0.3333333333333333,
             "#9c179e"
            ],
            [
             0.4444444444444444,
             "#bd3786"
            ],
            [
             0.5555555555555556,
             "#d8576b"
            ],
            [
             0.6666666666666666,
             "#ed7953"
            ],
            [
             0.7777777777777778,
             "#fb9f3a"
            ],
            [
             0.8888888888888888,
             "#fdca26"
            ],
            [
             1,
             "#f0f921"
            ]
           ]
          },
          "colorway": [
           "#636efa",
           "#EF553B",
           "#00cc96",
           "#ab63fa",
           "#FFA15A",
           "#19d3f3",
           "#FF6692",
           "#B6E880",
           "#FF97FF",
           "#FECB52"
          ],
          "font": {
           "color": "#f2f5fa"
          },
          "geo": {
           "bgcolor": "rgb(17,17,17)",
           "lakecolor": "rgb(17,17,17)",
           "landcolor": "rgb(17,17,17)",
           "showlakes": true,
           "showland": true,
           "subunitcolor": "#506784"
          },
          "hoverlabel": {
           "align": "left"
          },
          "hovermode": "closest",
          "mapbox": {
           "style": "dark"
          },
          "paper_bgcolor": "rgb(17,17,17)",
          "plot_bgcolor": "rgb(17,17,17)",
          "polar": {
           "angularaxis": {
            "gridcolor": "#506784",
            "linecolor": "#506784",
            "ticks": ""
           },
           "bgcolor": "rgb(17,17,17)",
           "radialaxis": {
            "gridcolor": "#506784",
            "linecolor": "#506784",
            "ticks": ""
           }
          },
          "scene": {
           "xaxis": {
            "backgroundcolor": "rgb(17,17,17)",
            "gridcolor": "#506784",
            "gridwidth": 2,
            "linecolor": "#506784",
            "showbackground": true,
            "ticks": "",
            "zerolinecolor": "#C8D4E3"
           },
           "yaxis": {
            "backgroundcolor": "rgb(17,17,17)",
            "gridcolor": "#506784",
            "gridwidth": 2,
            "linecolor": "#506784",
            "showbackground": true,
            "ticks": "",
            "zerolinecolor": "#C8D4E3"
           },
           "zaxis": {
            "backgroundcolor": "rgb(17,17,17)",
            "gridcolor": "#506784",
            "gridwidth": 2,
            "linecolor": "#506784",
            "showbackground": true,
            "ticks": "",
            "zerolinecolor": "#C8D4E3"
           }
          },
          "shapedefaults": {
           "line": {
            "color": "#f2f5fa"
           }
          },
          "sliderdefaults": {
           "bgcolor": "#C8D4E3",
           "bordercolor": "rgb(17,17,17)",
           "borderwidth": 1,
           "tickwidth": 0
          },
          "ternary": {
           "aaxis": {
            "gridcolor": "#506784",
            "linecolor": "#506784",
            "ticks": ""
           },
           "baxis": {
            "gridcolor": "#506784",
            "linecolor": "#506784",
            "ticks": ""
           },
           "bgcolor": "rgb(17,17,17)",
           "caxis": {
            "gridcolor": "#506784",
            "linecolor": "#506784",
            "ticks": ""
           }
          },
          "title": {
           "x": 0.05
          },
          "updatemenudefaults": {
           "bgcolor": "#506784",
           "borderwidth": 0
          },
          "xaxis": {
           "automargin": true,
           "gridcolor": "#283442",
           "linecolor": "#506784",
           "ticks": "",
           "title": {
            "standoff": 15
           },
           "zerolinecolor": "#283442",
           "zerolinewidth": 2
          },
          "yaxis": {
           "automargin": true,
           "gridcolor": "#283442",
           "linecolor": "#506784",
           "ticks": "",
           "title": {
            "standoff": 15
           },
           "zerolinecolor": "#283442",
           "zerolinewidth": 2
          }
         }
        },
        "title": {
         "text": "Jaarlijks aantal artiesten dat muziek heeft uitgebracht"
        },
        "xaxis": {
         "title": {
          "text": "Jaar"
         }
        },
        "yaxis": {
         "title": {
          "text": "Hoeveelheid"
         }
        }
       }
      },
      "text/html": [
       "<div>                            <div id=\"fc55dd34-83bf-4409-a5ea-4fe6bc0bf42f\" class=\"plotly-graph-div\" style=\"height:525px; width:100%;\"></div>            <script type=\"text/javascript\">                require([\"plotly\"], function(Plotly) {                    window.PLOTLYENV=window.PLOTLYENV || {};                                    if (document.getElementById(\"fc55dd34-83bf-4409-a5ea-4fe6bc0bf42f\")) {                    Plotly.newPlot(                        \"fc55dd34-83bf-4409-a5ea-4fe6bc0bf42f\",                        [{\"fill\":\"tozeroy\",\"marker\":{\"color\":\"#F58518\"},\"mode\":\"lines\",\"x\":[1960,1961,1962,1963,1964,1965,1966,1967,1968,1969,1970,1971,1972,1973,1974,1975,1976,1977,1978,1979,1980,1981,1982,1983,1984,1985,1986,1987,1988,1989,1990,1991,1992,1993,1994,1995,1996,1997,1998,1999,2000,2001,2002,2003,2004,2005,2006,2007,2008,2009,2010,2011,2012,2013,2014,2015,2016,2017,2018,2019,2020,2021,2022],\"y\":[123,114,124,152,157,153,174,201,225,214,254,250,330,340,289,337,328,305,352,343,357,351,378,370,377,370,382,421,474,534,634,671,716,783,882,980,1037,1067,1122,1220,1307,1273,1364,1494,1640,1903,2069,2157,2338,2501,2753,3126,3365,3781,4406,5078,5628,6935,7932,9594,12105,13661,19288],\"type\":\"scatter\"}],                        {\"template\":{\"data\":{\"histogram2dcontour\":[{\"type\":\"histogram2dcontour\",\"colorbar\":{\"outlinewidth\":0,\"ticks\":\"\"},\"colorscale\":[[0.0,\"#0d0887\"],[0.1111111111111111,\"#46039f\"],[0.2222222222222222,\"#7201a8\"],[0.3333333333333333,\"#9c179e\"],[0.4444444444444444,\"#bd3786\"],[0.5555555555555556,\"#d8576b\"],[0.6666666666666666,\"#ed7953\"],[0.7777777777777778,\"#fb9f3a\"],[0.8888888888888888,\"#fdca26\"],[1.0,\"#f0f921\"]]}],\"choropleth\":[{\"type\":\"choropleth\",\"colorbar\":{\"outlinewidth\":0,\"ticks\":\"\"}}],\"histogram2d\":[{\"type\":\"histogram2d\",\"colorbar\":{\"outlinewidth\":0,\"ticks\":\"\"},\"colorscale\":[[0.0,\"#0d0887\"],[0.1111111111111111,\"#46039f\"],[0.2222222222222222,\"#7201a8\"],[0.3333333333333333,\"#9c179e\"],[0.4444444444444444,\"#bd3786\"],[0.5555555555555556,\"#d8576b\"],[0.6666666666666666,\"#ed7953\"],[0.7777777777777778,\"#fb9f3a\"],[0.8888888888888888,\"#fdca26\"],[1.0,\"#f0f921\"]]}],\"heatmap\":[{\"type\":\"heatmap\",\"colorbar\":{\"outlinewidth\":0,\"ticks\":\"\"},\"colorscale\":[[0.0,\"#0d0887\"],[0.1111111111111111,\"#46039f\"],[0.2222222222222222,\"#7201a8\"],[0.3333333333333333,\"#9c179e\"],[0.4444444444444444,\"#bd3786\"],[0.5555555555555556,\"#d8576b\"],[0.6666666666666666,\"#ed7953\"],[0.7777777777777778,\"#fb9f3a\"],[0.8888888888888888,\"#fdca26\"],[1.0,\"#f0f921\"]]}],\"heatmapgl\":[{\"type\":\"heatmapgl\",\"colorbar\":{\"outlinewidth\":0,\"ticks\":\"\"},\"colorscale\":[[0.0,\"#0d0887\"],[0.1111111111111111,\"#46039f\"],[0.2222222222222222,\"#7201a8\"],[0.3333333333333333,\"#9c179e\"],[0.4444444444444444,\"#bd3786\"],[0.5555555555555556,\"#d8576b\"],[0.6666666666666666,\"#ed7953\"],[0.7777777777777778,\"#fb9f3a\"],[0.8888888888888888,\"#fdca26\"],[1.0,\"#f0f921\"]]}],\"contourcarpet\":[{\"type\":\"contourcarpet\",\"colorbar\":{\"outlinewidth\":0,\"ticks\":\"\"}}],\"contour\":[{\"type\":\"contour\",\"colorbar\":{\"outlinewidth\":0,\"ticks\":\"\"},\"colorscale\":[[0.0,\"#0d0887\"],[0.1111111111111111,\"#46039f\"],[0.2222222222222222,\"#7201a8\"],[0.3333333333333333,\"#9c179e\"],[0.4444444444444444,\"#bd3786\"],[0.5555555555555556,\"#d8576b\"],[0.6666666666666666,\"#ed7953\"],[0.7777777777777778,\"#fb9f3a\"],[0.8888888888888888,\"#fdca26\"],[1.0,\"#f0f921\"]]}],\"surface\":[{\"type\":\"surface\",\"colorbar\":{\"outlinewidth\":0,\"ticks\":\"\"},\"colorscale\":[[0.0,\"#0d0887\"],[0.1111111111111111,\"#46039f\"],[0.2222222222222222,\"#7201a8\"],[0.3333333333333333,\"#9c179e\"],[0.4444444444444444,\"#bd3786\"],[0.5555555555555556,\"#d8576b\"],[0.6666666666666666,\"#ed7953\"],[0.7777777777777778,\"#fb9f3a\"],[0.8888888888888888,\"#fdca26\"],[1.0,\"#f0f921\"]]}],\"mesh3d\":[{\"type\":\"mesh3d\",\"colorbar\":{\"outlinewidth\":0,\"ticks\":\"\"}}],\"scatter\":[{\"marker\":{\"line\":{\"color\":\"#283442\"}},\"type\":\"scatter\"}],\"parcoords\":[{\"type\":\"parcoords\",\"line\":{\"colorbar\":{\"outlinewidth\":0,\"ticks\":\"\"}}}],\"scatterpolargl\":[{\"type\":\"scatterpolargl\",\"marker\":{\"colorbar\":{\"outlinewidth\":0,\"ticks\":\"\"}}}],\"bar\":[{\"error_x\":{\"color\":\"#f2f5fa\"},\"error_y\":{\"color\":\"#f2f5fa\"},\"marker\":{\"line\":{\"color\":\"rgb(17,17,17)\",\"width\":0.5},\"pattern\":{\"fillmode\":\"overlay\",\"size\":10,\"solidity\":0.2}},\"type\":\"bar\"}],\"scattergeo\":[{\"type\":\"scattergeo\",\"marker\":{\"colorbar\":{\"outlinewidth\":0,\"ticks\":\"\"}}}],\"scatterpolar\":[{\"type\":\"scatterpolar\",\"marker\":{\"colorbar\":{\"outlinewidth\":0,\"ticks\":\"\"}}}],\"histogram\":[{\"marker\":{\"pattern\":{\"fillmode\":\"overlay\",\"size\":10,\"solidity\":0.2}},\"type\":\"histogram\"}],\"scattergl\":[{\"marker\":{\"line\":{\"color\":\"#283442\"}},\"type\":\"scattergl\"}],\"scatter3d\":[{\"type\":\"scatter3d\",\"line\":{\"colorbar\":{\"outlinewidth\":0,\"ticks\":\"\"}},\"marker\":{\"colorbar\":{\"outlinewidth\":0,\"ticks\":\"\"}}}],\"scattermapbox\":[{\"type\":\"scattermapbox\",\"marker\":{\"colorbar\":{\"outlinewidth\":0,\"ticks\":\"\"}}}],\"scatterternary\":[{\"type\":\"scatterternary\",\"marker\":{\"colorbar\":{\"outlinewidth\":0,\"ticks\":\"\"}}}],\"scattercarpet\":[{\"type\":\"scattercarpet\",\"marker\":{\"colorbar\":{\"outlinewidth\":0,\"ticks\":\"\"}}}],\"carpet\":[{\"aaxis\":{\"endlinecolor\":\"#A2B1C6\",\"gridcolor\":\"#506784\",\"linecolor\":\"#506784\",\"minorgridcolor\":\"#506784\",\"startlinecolor\":\"#A2B1C6\"},\"baxis\":{\"endlinecolor\":\"#A2B1C6\",\"gridcolor\":\"#506784\",\"linecolor\":\"#506784\",\"minorgridcolor\":\"#506784\",\"startlinecolor\":\"#A2B1C6\"},\"type\":\"carpet\"}],\"table\":[{\"cells\":{\"fill\":{\"color\":\"#506784\"},\"line\":{\"color\":\"rgb(17,17,17)\"}},\"header\":{\"fill\":{\"color\":\"#2a3f5f\"},\"line\":{\"color\":\"rgb(17,17,17)\"}},\"type\":\"table\"}],\"barpolar\":[{\"marker\":{\"line\":{\"color\":\"rgb(17,17,17)\",\"width\":0.5},\"pattern\":{\"fillmode\":\"overlay\",\"size\":10,\"solidity\":0.2}},\"type\":\"barpolar\"}],\"pie\":[{\"automargin\":true,\"type\":\"pie\"}]},\"layout\":{\"autotypenumbers\":\"strict\",\"colorway\":[\"#636efa\",\"#EF553B\",\"#00cc96\",\"#ab63fa\",\"#FFA15A\",\"#19d3f3\",\"#FF6692\",\"#B6E880\",\"#FF97FF\",\"#FECB52\"],\"font\":{\"color\":\"#f2f5fa\"},\"hovermode\":\"closest\",\"hoverlabel\":{\"align\":\"left\"},\"paper_bgcolor\":\"rgb(17,17,17)\",\"plot_bgcolor\":\"rgb(17,17,17)\",\"polar\":{\"bgcolor\":\"rgb(17,17,17)\",\"angularaxis\":{\"gridcolor\":\"#506784\",\"linecolor\":\"#506784\",\"ticks\":\"\"},\"radialaxis\":{\"gridcolor\":\"#506784\",\"linecolor\":\"#506784\",\"ticks\":\"\"}},\"ternary\":{\"bgcolor\":\"rgb(17,17,17)\",\"aaxis\":{\"gridcolor\":\"#506784\",\"linecolor\":\"#506784\",\"ticks\":\"\"},\"baxis\":{\"gridcolor\":\"#506784\",\"linecolor\":\"#506784\",\"ticks\":\"\"},\"caxis\":{\"gridcolor\":\"#506784\",\"linecolor\":\"#506784\",\"ticks\":\"\"}},\"coloraxis\":{\"colorbar\":{\"outlinewidth\":0,\"ticks\":\"\"}},\"colorscale\":{\"sequential\":[[0.0,\"#0d0887\"],[0.1111111111111111,\"#46039f\"],[0.2222222222222222,\"#7201a8\"],[0.3333333333333333,\"#9c179e\"],[0.4444444444444444,\"#bd3786\"],[0.5555555555555556,\"#d8576b\"],[0.6666666666666666,\"#ed7953\"],[0.7777777777777778,\"#fb9f3a\"],[0.8888888888888888,\"#fdca26\"],[1.0,\"#f0f921\"]],\"sequentialminus\":[[0.0,\"#0d0887\"],[0.1111111111111111,\"#46039f\"],[0.2222222222222222,\"#7201a8\"],[0.3333333333333333,\"#9c179e\"],[0.4444444444444444,\"#bd3786\"],[0.5555555555555556,\"#d8576b\"],[0.6666666666666666,\"#ed7953\"],[0.7777777777777778,\"#fb9f3a\"],[0.8888888888888888,\"#fdca26\"],[1.0,\"#f0f921\"]],\"diverging\":[[0,\"#8e0152\"],[0.1,\"#c51b7d\"],[0.2,\"#de77ae\"],[0.3,\"#f1b6da\"],[0.4,\"#fde0ef\"],[0.5,\"#f7f7f7\"],[0.6,\"#e6f5d0\"],[0.7,\"#b8e186\"],[0.8,\"#7fbc41\"],[0.9,\"#4d9221\"],[1,\"#276419\"]]},\"xaxis\":{\"gridcolor\":\"#283442\",\"linecolor\":\"#506784\",\"ticks\":\"\",\"title\":{\"standoff\":15},\"zerolinecolor\":\"#283442\",\"automargin\":true,\"zerolinewidth\":2},\"yaxis\":{\"gridcolor\":\"#283442\",\"linecolor\":\"#506784\",\"ticks\":\"\",\"title\":{\"standoff\":15},\"zerolinecolor\":\"#283442\",\"automargin\":true,\"zerolinewidth\":2},\"scene\":{\"xaxis\":{\"backgroundcolor\":\"rgb(17,17,17)\",\"gridcolor\":\"#506784\",\"linecolor\":\"#506784\",\"showbackground\":true,\"ticks\":\"\",\"zerolinecolor\":\"#C8D4E3\",\"gridwidth\":2},\"yaxis\":{\"backgroundcolor\":\"rgb(17,17,17)\",\"gridcolor\":\"#506784\",\"linecolor\":\"#506784\",\"showbackground\":true,\"ticks\":\"\",\"zerolinecolor\":\"#C8D4E3\",\"gridwidth\":2},\"zaxis\":{\"backgroundcolor\":\"rgb(17,17,17)\",\"gridcolor\":\"#506784\",\"linecolor\":\"#506784\",\"showbackground\":true,\"ticks\":\"\",\"zerolinecolor\":\"#C8D4E3\",\"gridwidth\":2}},\"shapedefaults\":{\"line\":{\"color\":\"#f2f5fa\"}},\"annotationdefaults\":{\"arrowcolor\":\"#f2f5fa\",\"arrowhead\":0,\"arrowwidth\":1},\"geo\":{\"bgcolor\":\"rgb(17,17,17)\",\"landcolor\":\"rgb(17,17,17)\",\"subunitcolor\":\"#506784\",\"showland\":true,\"showlakes\":true,\"lakecolor\":\"rgb(17,17,17)\"},\"title\":{\"x\":0.05},\"updatemenudefaults\":{\"bgcolor\":\"#506784\",\"borderwidth\":0},\"sliderdefaults\":{\"bgcolor\":\"#C8D4E3\",\"borderwidth\":1,\"bordercolor\":\"rgb(17,17,17)\",\"tickwidth\":0},\"mapbox\":{\"style\":\"dark\"}}},\"title\":{\"text\":\"Jaarlijks aantal artiesten dat muziek heeft uitgebracht\"},\"xaxis\":{\"title\":{\"text\":\"Jaar\"}},\"yaxis\":{\"title\":{\"text\":\"Hoeveelheid\"}}},                        {\"responsive\": true}                    ).then(function(){\n",
       "                            \n",
       "var gd = document.getElementById('fc55dd34-83bf-4409-a5ea-4fe6bc0bf42f');\n",
       "var x = new MutationObserver(function (mutations, observer) {{\n",
       "        var display = window.getComputedStyle(gd).display;\n",
       "        if (!display || display === 'none') {{\n",
       "            console.log([gd, 'removed!']);\n",
       "            Plotly.purge(gd);\n",
       "            observer.disconnect();\n",
       "        }}\n",
       "}});\n",
       "\n",
       "// Listen for the removal of the full notebook cells\n",
       "var notebookContainer = gd.closest('#notebook-container');\n",
       "if (notebookContainer) {{\n",
       "    x.observe(notebookContainer, {childList: true});\n",
       "}}\n",
       "\n",
       "// Listen for the clearing of the current output cell\n",
       "var outputEl = gd.closest('.output');\n",
       "if (outputEl) {{\n",
       "    x.observe(outputEl, {childList: true});\n",
       "}}\n",
       "\n",
       "                        })                };                });            </script>        </div>"
      ]
     },
     "metadata": {},
     "output_type": "display_data"
    }
   ],
   "source": [
    "#@title Plot aantal unieke artiesten per jaar\n",
    "# Converteer de 'artists_names'-kolom naar een tuple\n",
    "main_dataset['artists_names'] = main_dataset['artists_names'].apply(tuple)\n",
    "\n",
    "# Groepeer de dataset per jaar ('year') en tel het aantal unieke artiesten ('artists_names')\n",
    "num_artists_per_year = main_dataset.groupby('year')['artists_names'].nunique().reset_index(name='num_artists')\n",
    "\n",
    "#Maak de grafiek\n",
    "\n",
    "\n",
    "fig_num_artists = go.Figure(go.Scatter(x=num_artists_per_year['year'],\n",
    "                                       y=num_artists_per_year['num_artists'],\n",
    "                                       mode='lines',\n",
    "                                       fill='tozeroy',\n",
    "                                       marker=dict(color=px.colors.qualitative.T10[1])))\n",
    "\n",
    "fig_num_artists.update_layout(title='Jaarlijks aantal artiesten dat muziek heeft uitgebracht',\n",
    "                              xaxis_title=\"Jaar\",\n",
    "                              yaxis_title=\"Hoeveelheid\")\n",
    "fig_num_artists.show()"
   ]
  },
  {
   "attachments": {},
   "cell_type": "markdown",
   "metadata": {
    "id": "BQhY3D0keBik"
   },
   "source": [
    "In de bovenstaande plot is de hoeveelheid artiesten te zien die muziek hebben uitgebracht per jaar. Op de x-as zijn de jaartallen te zien en op de y-as is de hoeveelheid artiesten te zien. Wat al snel opvalt is dat de hoeveelheid artiesten dat muziek uitbrengt exponentieel toeneemt. Een mogelijke verklaring hiervoor is de opkomst van het internet. Deze grote verandering heeft het waarschijnlijk toegankelijker gemaakt voor (beginnende) artiesten om nieuwe muziek uit te brengen. Daarnaast zal de opkomst van muziekstreamingdiensten zoals Spotify hier waarschijnlijk aan hebben bijgedragen. Al met al lijkt het er dus op dat de opkomst van het internet een positieve invloed heeft gehad op de muziekindustrie door het gemakkelijker te maken om muziek uit te brengen."
   ]
  },
  {
   "cell_type": "code",
   "execution_count": 7,
   "metadata": {
    "id": "ThozLA9PX7VB",
    "tags": [
     "hide-input"
    ]
   },
   "outputs": [],
   "source": [
    "#@title Create Artist-[Genres] Series\n",
    "#Create series with structure: artists - genres_from_artists, for every song\n",
    "artist_name_genres = main_dataset.loc[:, ['artists_names', 'artists_genres']]\n",
    "\n",
    "#Create dict with structure: artist - [genres_from_artist]\n",
    "artist_genres = dict()\n",
    "for i in artist_name_genres.index:\n",
    "    for name_index in range(len(artist_name_genres.loc[i, 'artists_names'])):\n",
    "        artist_genres[artist_name_genres.loc[i, 'artists_names'][name_index]] = artist_name_genres.loc[i, 'artists_genres'][name_index]\n",
    "\n",
    "#Create series from artist-genres dict\n",
    "artist_genres_series = pd.Series(artist_genres)"
   ]
  },
  {
   "cell_type": "code",
   "execution_count": 8,
   "metadata": {
    "id": "TWd4e6rZX8R7",
    "tags": [
     "hide-input"
    ]
   },
   "outputs": [],
   "source": [
    "#@title Create Year-Genre-Percentile Dataframe\n",
    "year_genre = pd.DataFrame(columns=['year', 'genre', 'percentile'])\n",
    "\n",
    "for year in range(1960, 2023, 1):\n",
    "    #filter dataset on year\n",
    "    artists_year = main_dataset[main_dataset['release_date'].dt.year == year]\n",
    "    \n",
    "    #create name_set based on artists in specific year\n",
    "    name_set_year = set()\n",
    "    for name_list in artists_year['artists_names']:\n",
    "        for name in name_list:\n",
    "            name_set_year = name_set_year | {name}\n",
    "\n",
    "    #Create series with structure artist-[genres] from only specific year\n",
    "    artist_genres_series_year = artist_genres_series.loc[list(name_set_year)]\n",
    "\n",
    "    #Create set with every genre in the specific year\n",
    "    genre_set_year = set()\n",
    "    for i in artist_genres_series_year:\n",
    "        for j in i:\n",
    "            genre_set_year = genre_set_year | {j}\n",
    "\n",
    "    #Make dict from the set with the count as values\n",
    "    genre_dict_year = {genre:0 for genre in genre_set_year}\n",
    "\n",
    "    #Count the amount of genres in the specific year and add them to the dict\n",
    "    for i in artist_genres_series_year:\n",
    "        for j in i:\n",
    "            genre_dict_year[j] += 1\n",
    "\n",
    "    amount_genres_year = sum([y[1] for y in sorted(genre_dict_year.items(), key=lambda x:x[1], reverse=True)])\n",
    "    #Add most popular genre to series\n",
    "    year_genre = pd.concat([year_genre, pd.DataFrame({'year':year,\n",
    "                                                    'genre': [x[0] for x in sorted(genre_dict_year.items(), key=lambda x:x[1], reverse=True)[:5]],\n",
    "                                                    'percentile': [(x[1]/amount_genres_year) for x in sorted(genre_dict_year.items(), key=lambda x:x[1], reverse=True)[:5]]})])\n",
    "\n",
    "year_genre = year_genre.reset_index()"
   ]
  },
  {
   "cell_type": "code",
   "execution_count": 9,
   "metadata": {
    "colab": {
     "base_uri": "https://localhost:8080/",
     "height": 542
    },
    "id": "AZ6JtNFbX_tX",
    "outputId": "881f87f1-ed3e-4fb3-e67d-a9278bfd6672",
    "tags": [
     "hide-input"
    ]
   },
   "outputs": [
    {
     "data": {
      "application/vnd.plotly.v1+json": {
       "config": {
        "plotlyServerURL": "https://plot.ly"
       },
       "data": [
        {
         "legendgroup": "adult standards",
         "marker": {
          "color": "rgb(102, 197, 204)"
         },
         "name": "adult standards",
         "showlegend": true,
         "type": "bar",
         "x": [
          1960
         ],
         "y": [
          0.06457925636007827
         ]
        },
        {
         "legendgroup": "jazz",
         "marker": {
          "color": "rgb(246, 207, 113)"
         },
         "name": "jazz",
         "showlegend": true,
         "type": "bar",
         "x": [
          1960
         ],
         "y": [
          0.050880626223091974
         ]
        },
        {
         "legendgroup": "bebop",
         "marker": {
          "color": "rgb(248, 156, 116)"
         },
         "name": "bebop",
         "showlegend": true,
         "type": "bar",
         "x": [
          1960
         ],
         "y": [
          0.04892367906066536
         ]
        },
        {
         "legendgroup": "hard bop",
         "marker": {
          "color": "rgb(220, 176, 242)"
         },
         "name": "hard bop",
         "showlegend": true,
         "type": "bar",
         "x": [
          1960
         ],
         "y": [
          0.046966731898238745
         ]
        },
        {
         "legendgroup": "lounge",
         "marker": {
          "color": "rgb(135, 197, 95)"
         },
         "name": "lounge",
         "showlegend": true,
         "type": "bar",
         "x": [
          1960
         ],
         "y": [
          0.04500978473581213
         ]
        },
        {
         "legendgroup": "adult standards",
         "marker": {
          "color": "rgb(102, 197, 204)"
         },
         "name": "adult standards",
         "showlegend": false,
         "type": "bar",
         "x": [
          1961
         ],
         "y": [
          0.06273764258555133
         ]
        },
        {
         "legendgroup": "jazz",
         "marker": {
          "color": "rgb(246, 207, 113)"
         },
         "name": "jazz",
         "showlegend": false,
         "type": "bar",
         "x": [
          1961
         ],
         "y": [
          0.060836501901140684
         ]
        },
        {
         "legendgroup": "bebop",
         "marker": {
          "color": "rgb(248, 156, 116)"
         },
         "name": "bebop",
         "showlegend": false,
         "type": "bar",
         "x": [
          1961
         ],
         "y": [
          0.055133079847908745
         ]
        },
        {
         "legendgroup": "hard bop",
         "marker": {
          "color": "rgb(220, 176, 242)"
         },
         "name": "hard bop",
         "showlegend": false,
         "type": "bar",
         "x": [
          1961
         ],
         "y": [
          0.045627376425855515
         ]
        },
        {
         "legendgroup": "lounge",
         "marker": {
          "color": "rgb(135, 197, 95)"
         },
         "name": "lounge",
         "showlegend": false,
         "type": "bar",
         "x": [
          1961
         ],
         "y": [
          0.03802281368821293
         ]
        },
        {
         "legendgroup": "adult standards",
         "marker": {
          "color": "rgb(102, 197, 204)"
         },
         "name": "adult standards",
         "showlegend": false,
         "type": "bar",
         "x": [
          1962
         ],
         "y": [
          0.07233273056057866
         ]
        },
        {
         "legendgroup": "lounge",
         "marker": {
          "color": "rgb(135, 197, 95)"
         },
         "name": "lounge",
         "showlegend": false,
         "type": "bar",
         "x": [
          1962
         ],
         "y": [
          0.05244122965641953
         ]
        },
        {
         "legendgroup": "jazz",
         "marker": {
          "color": "rgb(246, 207, 113)"
         },
         "name": "jazz",
         "showlegend": false,
         "type": "bar",
         "x": [
          1962
         ],
         "y": [
          0.039783001808318265
         ]
        },
        {
         "legendgroup": "bebop",
         "marker": {
          "color": "rgb(248, 156, 116)"
         },
         "name": "bebop",
         "showlegend": false,
         "type": "bar",
         "x": [
          1962
         ],
         "y": [
          0.03616636528028933
         ]
        },
        {
         "legendgroup": "rock-and-roll",
         "marker": {
          "color": "rgb(158, 185, 243)"
         },
         "name": "rock-and-roll",
         "showlegend": true,
         "type": "bar",
         "x": [
          1962
         ],
         "y": [
          0.03616636528028933
         ]
        },
        {
         "legendgroup": "adult standards",
         "marker": {
          "color": "rgb(102, 197, 204)"
         },
         "name": "adult standards",
         "showlegend": false,
         "type": "bar",
         "x": [
          1963
         ],
         "y": [
          0.05646359583952452
         ]
        },
        {
         "legendgroup": "jazz",
         "marker": {
          "color": "rgb(246, 207, 113)"
         },
         "name": "jazz",
         "showlegend": false,
         "type": "bar",
         "x": [
          1963
         ],
         "y": [
          0.04606240713224369
         ]
        },
        {
         "legendgroup": "lounge",
         "marker": {
          "color": "rgb(135, 197, 95)"
         },
         "name": "lounge",
         "showlegend": false,
         "type": "bar",
         "x": [
          1963
         ],
         "y": [
          0.03863298662704309
         ]
        },
        {
         "legendgroup": "bebop",
         "marker": {
          "color": "rgb(248, 156, 116)"
         },
         "name": "bebop",
         "showlegend": false,
         "type": "bar",
         "x": [
          1963
         ],
         "y": [
          0.03417533432392273
         ]
        },
        {
         "legendgroup": "vocal jazz",
         "marker": {
          "color": "rgb(254, 136, 177)"
         },
         "name": "vocal jazz",
         "showlegend": true,
         "type": "bar",
         "x": [
          1963
         ],
         "y": [
          0.031203566121842496
         ]
        },
        {
         "legendgroup": "adult standards",
         "marker": {
          "color": "rgb(102, 197, 204)"
         },
         "name": "adult standards",
         "showlegend": false,
         "type": "bar",
         "x": [
          1964
         ],
         "y": [
          0.05763688760806916
         ]
        },
        {
         "legendgroup": "jazz",
         "marker": {
          "color": "rgb(246, 207, 113)"
         },
         "name": "jazz",
         "showlegend": false,
         "type": "bar",
         "x": [
          1964
         ],
         "y": [
          0.043227665706051875
         ]
        },
        {
         "legendgroup": "lounge",
         "marker": {
          "color": "rgb(135, 197, 95)"
         },
         "name": "lounge",
         "showlegend": false,
         "type": "bar",
         "x": [
          1964
         ],
         "y": [
          0.040345821325648415
         ]
        },
        {
         "legendgroup": "bebop",
         "marker": {
          "color": "rgb(248, 156, 116)"
         },
         "name": "bebop",
         "showlegend": false,
         "type": "bar",
         "x": [
          1964
         ],
         "y": [
          0.03314121037463977
         ]
        },
        {
         "legendgroup": "vocal jazz",
         "marker": {
          "color": "rgb(254, 136, 177)"
         },
         "name": "vocal jazz",
         "showlegend": false,
         "type": "bar",
         "x": [
          1964
         ],
         "y": [
          0.03025936599423631
         ]
        },
        {
         "legendgroup": "adult standards",
         "marker": {
          "color": "rgb(102, 197, 204)"
         },
         "name": "adult standards",
         "showlegend": false,
         "type": "bar",
         "x": [
          1965
         ],
         "y": [
          0.04103967168262654
         ]
        },
        {
         "legendgroup": "folk rock",
         "marker": {
          "color": "rgb(201, 219, 116)"
         },
         "name": "folk rock",
         "showlegend": true,
         "type": "bar",
         "x": [
          1965
         ],
         "y": [
          0.030095759233926128
         ]
        },
        {
         "legendgroup": "classic rock",
         "marker": {
          "color": "rgb(139, 224, 164)"
         },
         "name": "classic rock",
         "showlegend": true,
         "type": "bar",
         "x": [
          1965
         ],
         "y": [
          0.025991792065663474
         ]
        },
        {
         "legendgroup": "lounge",
         "marker": {
          "color": "rgb(135, 197, 95)"
         },
         "name": "lounge",
         "showlegend": false,
         "type": "bar",
         "x": [
          1965
         ],
         "y": [
          0.025991792065663474
         ]
        },
        {
         "legendgroup": "british invasion",
         "marker": {
          "color": "rgb(180, 151, 231)"
         },
         "name": "british invasion",
         "showlegend": true,
         "type": "bar",
         "x": [
          1965
         ],
         "y": [
          0.024623803009575923
         ]
        },
        {
         "legendgroup": "classic rock",
         "marker": {
          "color": "rgb(139, 224, 164)"
         },
         "name": "classic rock",
         "showlegend": false,
         "type": "bar",
         "x": [
          1966
         ],
         "y": [
          0.038901601830663615
         ]
        },
        {
         "legendgroup": "psychedelic rock",
         "marker": {
          "color": "rgb(179, 179, 179)"
         },
         "name": "psychedelic rock",
         "showlegend": true,
         "type": "bar",
         "x": [
          1966
         ],
         "y": [
          0.036613272311212815
         ]
        },
        {
         "legendgroup": "soul",
         "marker": {
          "color": "#4C78A8"
         },
         "name": "soul",
         "showlegend": true,
         "type": "bar",
         "x": [
          1966
         ],
         "y": [
          0.03318077803203661
         ]
        },
        {
         "legendgroup": "folk rock",
         "marker": {
          "color": "rgb(201, 219, 116)"
         },
         "name": "folk rock",
         "showlegend": false,
         "type": "bar",
         "x": [
          1966
         ],
         "y": [
          0.029748283752860413
         ]
        },
        {
         "legendgroup": "bubblegum pop",
         "marker": {
          "color": "#F58518"
         },
         "name": "bubblegum pop",
         "showlegend": true,
         "type": "bar",
         "x": [
          1966
         ],
         "y": [
          0.02517162471395881
         ]
        },
        {
         "legendgroup": "classic rock",
         "marker": {
          "color": "rgb(139, 224, 164)"
         },
         "name": "classic rock",
         "showlegend": false,
         "type": "bar",
         "x": [
          1967
         ],
         "y": [
          0.051756007393715345
         ]
        },
        {
         "legendgroup": "folk rock",
         "marker": {
          "color": "rgb(201, 219, 116)"
         },
         "name": "folk rock",
         "showlegend": false,
         "type": "bar",
         "x": [
          1967
         ],
         "y": [
          0.04621072088724584
         ]
        },
        {
         "legendgroup": "psychedelic rock",
         "marker": {
          "color": "rgb(179, 179, 179)"
         },
         "name": "psychedelic rock",
         "showlegend": false,
         "type": "bar",
         "x": [
          1967
         ],
         "y": [
          0.04066543438077634
         ]
        },
        {
         "legendgroup": "rock",
         "marker": {
          "color": "#E45756"
         },
         "name": "rock",
         "showlegend": true,
         "type": "bar",
         "x": [
          1967
         ],
         "y": [
          0.03234750462107209
         ]
        },
        {
         "legendgroup": "bubblegum pop",
         "marker": {
          "color": "#F58518"
         },
         "name": "bubblegum pop",
         "showlegend": false,
         "type": "bar",
         "x": [
          1967
         ],
         "y": [
          0.02865064695009242
         ]
        },
        {
         "legendgroup": "classic rock",
         "marker": {
          "color": "rgb(139, 224, 164)"
         },
         "name": "classic rock",
         "showlegend": false,
         "type": "bar",
         "x": [
          1968
         ],
         "y": [
          0.04556962025316456
         ]
        },
        {
         "legendgroup": "psychedelic rock",
         "marker": {
          "color": "rgb(179, 179, 179)"
         },
         "name": "psychedelic rock",
         "showlegend": false,
         "type": "bar",
         "x": [
          1968
         ],
         "y": [
          0.038818565400843885
         ]
        },
        {
         "legendgroup": "folk rock",
         "marker": {
          "color": "rgb(201, 219, 116)"
         },
         "name": "folk rock",
         "showlegend": false,
         "type": "bar",
         "x": [
          1968
         ],
         "y": [
          0.035443037974683546
         ]
        },
        {
         "legendgroup": "rock",
         "marker": {
          "color": "#E45756"
         },
         "name": "rock",
         "showlegend": false,
         "type": "bar",
         "x": [
          1968
         ],
         "y": [
          0.031223628691983123
         ]
        },
        {
         "legendgroup": "adult standards",
         "marker": {
          "color": "rgb(102, 197, 204)"
         },
         "name": "adult standards",
         "showlegend": false,
         "type": "bar",
         "x": [
          1968
         ],
         "y": [
          0.02869198312236287
         ]
        },
        {
         "legendgroup": "classic rock",
         "marker": {
          "color": "rgb(139, 224, 164)"
         },
         "name": "classic rock",
         "showlegend": false,
         "type": "bar",
         "x": [
          1969
         ],
         "y": [
          0.04968383017163505
         ]
        },
        {
         "legendgroup": "folk rock",
         "marker": {
          "color": "rgb(201, 219, 116)"
         },
         "name": "folk rock",
         "showlegend": false,
         "type": "bar",
         "x": [
          1969
         ],
         "y": [
          0.03432700993676603
         ]
        },
        {
         "legendgroup": "rock",
         "marker": {
          "color": "#E45756"
         },
         "name": "rock",
         "showlegend": false,
         "type": "bar",
         "x": [
          1969
         ],
         "y": [
          0.031616982836495035
         ]
        },
        {
         "legendgroup": "blues rock",
         "marker": {
          "color": "#72B7B2"
         },
         "name": "blues rock",
         "showlegend": true,
         "type": "bar",
         "x": [
          1969
         ],
         "y": [
          0.02981029810298103
         ]
        },
        {
         "legendgroup": "psychedelic rock",
         "marker": {
          "color": "rgb(179, 179, 179)"
         },
         "name": "psychedelic rock",
         "showlegend": false,
         "type": "bar",
         "x": [
          1969
         ],
         "y": [
          0.026196928635953028
         ]
        },
        {
         "legendgroup": "classic rock",
         "marker": {
          "color": "rgb(139, 224, 164)"
         },
         "name": "classic rock",
         "showlegend": false,
         "type": "bar",
         "x": [
          1970
         ],
         "y": [
          0.057692307692307696
         ]
        },
        {
         "legendgroup": "rock",
         "marker": {
          "color": "#E45756"
         },
         "name": "rock",
         "showlegend": false,
         "type": "bar",
         "x": [
          1970
         ],
         "y": [
          0.04131054131054131
         ]
        },
        {
         "legendgroup": "folk rock",
         "marker": {
          "color": "rgb(201, 219, 116)"
         },
         "name": "folk rock",
         "showlegend": false,
         "type": "bar",
         "x": [
          1970
         ],
         "y": [
          0.03917378917378917
         ]
        },
        {
         "legendgroup": "psychedelic rock",
         "marker": {
          "color": "rgb(179, 179, 179)"
         },
         "name": "psychedelic rock",
         "showlegend": false,
         "type": "bar",
         "x": [
          1970
         ],
         "y": [
          0.03418803418803419
         ]
        },
        {
         "legendgroup": "mellow gold",
         "marker": {
          "color": "#54A24B"
         },
         "name": "mellow gold",
         "showlegend": true,
         "type": "bar",
         "x": [
          1970
         ],
         "y": [
          0.03276353276353276
         ]
        },
        {
         "legendgroup": "classic rock",
         "marker": {
          "color": "rgb(139, 224, 164)"
         },
         "name": "classic rock",
         "showlegend": false,
         "type": "bar",
         "x": [
          1971
         ],
         "y": [
          0.054615384615384614
         ]
        },
        {
         "legendgroup": "folk rock",
         "marker": {
          "color": "rgb(201, 219, 116)"
         },
         "name": "folk rock",
         "showlegend": false,
         "type": "bar",
         "x": [
          1971
         ],
         "y": [
          0.036923076923076927
         ]
        },
        {
         "legendgroup": "rock",
         "marker": {
          "color": "#E45756"
         },
         "name": "rock",
         "showlegend": false,
         "type": "bar",
         "x": [
          1971
         ],
         "y": [
          0.036153846153846154
         ]
        },
        {
         "legendgroup": "country rock",
         "marker": {
          "color": "#EECA3B"
         },
         "name": "country rock",
         "showlegend": true,
         "type": "bar",
         "x": [
          1971
         ],
         "y": [
          0.031538461538461536
         ]
        },
        {
         "legendgroup": "mellow gold",
         "marker": {
          "color": "#54A24B"
         },
         "name": "mellow gold",
         "showlegend": false,
         "type": "bar",
         "x": [
          1971
         ],
         "y": [
          0.03076923076923077
         ]
        },
        {
         "legendgroup": "classic rock",
         "marker": {
          "color": "rgb(139, 224, 164)"
         },
         "name": "classic rock",
         "showlegend": false,
         "type": "bar",
         "x": [
          1972
         ],
         "y": [
          0.0471584038694075
         ]
        },
        {
         "legendgroup": "folk rock",
         "marker": {
          "color": "rgb(201, 219, 116)"
         },
         "name": "folk rock",
         "showlegend": false,
         "type": "bar",
         "x": [
          1972
         ],
         "y": [
          0.036275695284159616
         ]
        },
        {
         "legendgroup": "country rock",
         "marker": {
          "color": "#EECA3B"
         },
         "name": "country rock",
         "showlegend": false,
         "type": "bar",
         "x": [
          1972
         ],
         "y": [
          0.036275695284159616
         ]
        },
        {
         "legendgroup": "rock",
         "marker": {
          "color": "#E45756"
         },
         "name": "rock",
         "showlegend": false,
         "type": "bar",
         "x": [
          1972
         ],
         "y": [
          0.03083434099153567
         ]
        },
        {
         "legendgroup": "mellow gold",
         "marker": {
          "color": "#54A24B"
         },
         "name": "mellow gold",
         "showlegend": false,
         "type": "bar",
         "x": [
          1972
         ],
         "y": [
          0.030229746070133012
         ]
        },
        {
         "legendgroup": "classic rock",
         "marker": {
          "color": "rgb(139, 224, 164)"
         },
         "name": "classic rock",
         "showlegend": false,
         "type": "bar",
         "x": [
          1973
         ],
         "y": [
          0.048642533936651584
         ]
        },
        {
         "legendgroup": "rock",
         "marker": {
          "color": "#E45756"
         },
         "name": "rock",
         "showlegend": false,
         "type": "bar",
         "x": [
          1973
         ],
         "y": [
          0.03506787330316742
         ]
        },
        {
         "legendgroup": "mellow gold",
         "marker": {
          "color": "#54A24B"
         },
         "name": "mellow gold",
         "showlegend": false,
         "type": "bar",
         "x": [
          1973
         ],
         "y": [
          0.03167420814479638
         ]
        },
        {
         "legendgroup": "album rock",
         "marker": {
          "color": "#B279A2"
         },
         "name": "album rock",
         "showlegend": true,
         "type": "bar",
         "x": [
          1973
         ],
         "y": [
          0.030542986425339366
         ]
        },
        {
         "legendgroup": "country rock",
         "marker": {
          "color": "#EECA3B"
         },
         "name": "country rock",
         "showlegend": false,
         "type": "bar",
         "x": [
          1973
         ],
         "y": [
          0.02997737556561086
         ]
        },
        {
         "legendgroup": "classic rock",
         "marker": {
          "color": "rgb(139, 224, 164)"
         },
         "name": "classic rock",
         "showlegend": false,
         "type": "bar",
         "x": [
          1974
         ],
         "y": [
          0.04513888888888889
         ]
        },
        {
         "legendgroup": "rock",
         "marker": {
          "color": "#E45756"
         },
         "name": "rock",
         "showlegend": false,
         "type": "bar",
         "x": [
          1974
         ],
         "y": [
          0.035416666666666666
         ]
        },
        {
         "legendgroup": "folk rock",
         "marker": {
          "color": "rgb(201, 219, 116)"
         },
         "name": "folk rock",
         "showlegend": false,
         "type": "bar",
         "x": [
          1974
         ],
         "y": [
          0.03125
         ]
        },
        {
         "legendgroup": "mellow gold",
         "marker": {
          "color": "#54A24B"
         },
         "name": "mellow gold",
         "showlegend": false,
         "type": "bar",
         "x": [
          1974
         ],
         "y": [
          0.030555555555555555
         ]
        },
        {
         "legendgroup": "country rock",
         "marker": {
          "color": "#EECA3B"
         },
         "name": "country rock",
         "showlegend": false,
         "type": "bar",
         "x": [
          1974
         ],
         "y": [
          0.030555555555555555
         ]
        },
        {
         "legendgroup": "classic rock",
         "marker": {
          "color": "rgb(139, 224, 164)"
         },
         "name": "classic rock",
         "showlegend": false,
         "type": "bar",
         "x": [
          1975
         ],
         "y": [
          0.04288377874456184
         ]
        },
        {
         "legendgroup": "mellow gold",
         "marker": {
          "color": "#54A24B"
         },
         "name": "mellow gold",
         "showlegend": false,
         "type": "bar",
         "x": [
          1975
         ],
         "y": [
          0.03356121814791796
         ]
        },
        {
         "legendgroup": "album rock",
         "marker": {
          "color": "#B279A2"
         },
         "name": "album rock",
         "showlegend": false,
         "type": "bar",
         "x": [
          1975
         ],
         "y": [
          0.032939714108141706
         ]
        },
        {
         "legendgroup": "rock",
         "marker": {
          "color": "#E45756"
         },
         "name": "rock",
         "showlegend": false,
         "type": "bar",
         "x": [
          1975
         ],
         "y": [
          0.032939714108141706
         ]
        },
        {
         "legendgroup": "soft rock",
         "marker": {
          "color": "#FF9DA6"
         },
         "name": "soft rock",
         "showlegend": true,
         "type": "bar",
         "x": [
          1975
         ],
         "y": [
          0.031075201988812928
         ]
        },
        {
         "legendgroup": "classic rock",
         "marker": {
          "color": "rgb(139, 224, 164)"
         },
         "name": "classic rock",
         "showlegend": false,
         "type": "bar",
         "x": [
          1976
         ],
         "y": [
          0.04151177199504337
         ]
        },
        {
         "legendgroup": "mellow gold",
         "marker": {
          "color": "#54A24B"
         },
         "name": "mellow gold",
         "showlegend": false,
         "type": "bar",
         "x": [
          1976
         ],
         "y": [
          0.03593556381660471
         ]
        },
        {
         "legendgroup": "soft rock",
         "marker": {
          "color": "#FF9DA6"
         },
         "name": "soft rock",
         "showlegend": false,
         "type": "bar",
         "x": [
          1976
         ],
         "y": [
          0.03531598513011153
         ]
        },
        {
         "legendgroup": "rock",
         "marker": {
          "color": "#E45756"
         },
         "name": "rock",
         "showlegend": false,
         "type": "bar",
         "x": [
          1976
         ],
         "y": [
          0.0322180916976456
         ]
        },
        {
         "legendgroup": "album rock",
         "marker": {
          "color": "#B279A2"
         },
         "name": "album rock",
         "showlegend": false,
         "type": "bar",
         "x": [
          1976
         ],
         "y": [
          0.030359355638166045
         ]
        },
        {
         "legendgroup": "classic rock",
         "marker": {
          "color": "rgb(139, 224, 164)"
         },
         "name": "classic rock",
         "showlegend": false,
         "type": "bar",
         "x": [
          1977
         ],
         "y": [
          0.04437086092715232
         ]
        },
        {
         "legendgroup": "mellow gold",
         "marker": {
          "color": "#54A24B"
         },
         "name": "mellow gold",
         "showlegend": false,
         "type": "bar",
         "x": [
          1977
         ],
         "y": [
          0.03708609271523179
         ]
        },
        {
         "legendgroup": "rock",
         "marker": {
          "color": "#E45756"
         },
         "name": "rock",
         "showlegend": false,
         "type": "bar",
         "x": [
          1977
         ],
         "y": [
          0.03708609271523179
         ]
        },
        {
         "legendgroup": "album rock",
         "marker": {
          "color": "#B279A2"
         },
         "name": "album rock",
         "showlegend": false,
         "type": "bar",
         "x": [
          1977
         ],
         "y": [
          0.035099337748344374
         ]
        },
        {
         "legendgroup": "soft rock",
         "marker": {
          "color": "#FF9DA6"
         },
         "name": "soft rock",
         "showlegend": false,
         "type": "bar",
         "x": [
          1977
         ],
         "y": [
          0.033112582781456956
         ]
        },
        {
         "legendgroup": "mellow gold",
         "marker": {
          "color": "#54A24B"
         },
         "name": "mellow gold",
         "showlegend": false,
         "type": "bar",
         "x": [
          1978
         ],
         "y": [
          0.04352872896111434
         ]
        },
        {
         "legendgroup": "classic rock",
         "marker": {
          "color": "rgb(139, 224, 164)"
         },
         "name": "classic rock",
         "showlegend": false,
         "type": "bar",
         "x": [
          1978
         ],
         "y": [
          0.04352872896111434
         ]
        },
        {
         "legendgroup": "soft rock",
         "marker": {
          "color": "#FF9DA6"
         },
         "name": "soft rock",
         "showlegend": false,
         "type": "bar",
         "x": [
          1978
         ],
         "y": [
          0.0412071967498549
         ]
        },
        {
         "legendgroup": "rock",
         "marker": {
          "color": "#E45756"
         },
         "name": "rock",
         "showlegend": false,
         "type": "bar",
         "x": [
          1978
         ],
         "y": [
          0.0371445153801509
         ]
        },
        {
         "legendgroup": "album rock",
         "marker": {
          "color": "#B279A2"
         },
         "name": "album rock",
         "showlegend": false,
         "type": "bar",
         "x": [
          1978
         ],
         "y": [
          0.03366221706326175
         ]
        },
        {
         "legendgroup": "rock",
         "marker": {
          "color": "#E45756"
         },
         "name": "rock",
         "showlegend": false,
         "type": "bar",
         "x": [
          1979
         ],
         "y": [
          0.0337798485730926
         ]
        },
        {
         "legendgroup": "classic rock",
         "marker": {
          "color": "rgb(139, 224, 164)"
         },
         "name": "classic rock",
         "showlegend": false,
         "type": "bar",
         "x": [
          1979
         ],
         "y": [
          0.0337798485730926
         ]
        },
        {
         "legendgroup": "mellow gold",
         "marker": {
          "color": "#54A24B"
         },
         "name": "mellow gold",
         "showlegend": false,
         "type": "bar",
         "x": [
          1979
         ],
         "y": [
          0.0320326150262085
         ]
        },
        {
         "legendgroup": "soft rock",
         "marker": {
          "color": "#FF9DA6"
         },
         "name": "soft rock",
         "showlegend": false,
         "type": "bar",
         "x": [
          1979
         ],
         "y": [
          0.0320326150262085
         ]
        },
        {
         "legendgroup": "album rock",
         "marker": {
          "color": "#B279A2"
         },
         "name": "album rock",
         "showlegend": false,
         "type": "bar",
         "x": [
          1979
         ],
         "y": [
          0.030867792661619105
         ]
        },
        {
         "legendgroup": "rock",
         "marker": {
          "color": "#E45756"
         },
         "name": "rock",
         "showlegend": false,
         "type": "bar",
         "x": [
          1980
         ],
         "y": [
          0.038117927337701016
         ]
        },
        {
         "legendgroup": "classic rock",
         "marker": {
          "color": "rgb(139, 224, 164)"
         },
         "name": "classic rock",
         "showlegend": false,
         "type": "bar",
         "x": [
          1980
         ],
         "y": [
          0.03633114949374628
         ]
        },
        {
         "legendgroup": "mellow gold",
         "marker": {
          "color": "#54A24B"
         },
         "name": "mellow gold",
         "showlegend": false,
         "type": "bar",
         "x": [
          1980
         ],
         "y": [
          0.029779630732578916
         ]
        },
        {
         "legendgroup": "album rock",
         "marker": {
          "color": "#B279A2"
         },
         "name": "album rock",
         "showlegend": false,
         "type": "bar",
         "x": [
          1980
         ],
         "y": [
          0.02799285288862418
         ]
        },
        {
         "legendgroup": "soft rock",
         "marker": {
          "color": "#FF9DA6"
         },
         "name": "soft rock",
         "showlegend": false,
         "type": "bar",
         "x": [
          1980
         ],
         "y": [
          0.0273972602739726
         ]
        },
        {
         "legendgroup": "rock",
         "marker": {
          "color": "#E45756"
         },
         "name": "rock",
         "showlegend": false,
         "type": "bar",
         "x": [
          1981
         ],
         "y": [
          0.036180308422301306
         ]
        },
        {
         "legendgroup": "mellow gold",
         "marker": {
          "color": "#54A24B"
         },
         "name": "mellow gold",
         "showlegend": false,
         "type": "bar",
         "x": [
          1981
         ],
         "y": [
          0.033214709371293
         ]
        },
        {
         "legendgroup": "soft rock",
         "marker": {
          "color": "#FF9DA6"
         },
         "name": "soft rock",
         "showlegend": false,
         "type": "bar",
         "x": [
          1981
         ],
         "y": [
          0.03143534994068802
         ]
        },
        {
         "legendgroup": "classic rock",
         "marker": {
          "color": "rgb(139, 224, 164)"
         },
         "name": "classic rock",
         "showlegend": false,
         "type": "bar",
         "x": [
          1981
         ],
         "y": [
          0.030249110320284697
         ]
        },
        {
         "legendgroup": "album rock",
         "marker": {
          "color": "#B279A2"
         },
         "name": "album rock",
         "showlegend": false,
         "type": "bar",
         "x": [
          1981
         ],
         "y": [
          0.029062870699881376
         ]
        },
        {
         "legendgroup": "rock",
         "marker": {
          "color": "#E45756"
         },
         "name": "rock",
         "showlegend": false,
         "type": "bar",
         "x": [
          1982
         ],
         "y": [
          0.037037037037037035
         ]
        },
        {
         "legendgroup": "classic rock",
         "marker": {
          "color": "rgb(139, 224, 164)"
         },
         "name": "classic rock",
         "showlegend": false,
         "type": "bar",
         "x": [
          1982
         ],
         "y": [
          0.03198653198653199
         ]
        },
        {
         "legendgroup": "soft rock",
         "marker": {
          "color": "#FF9DA6"
         },
         "name": "soft rock",
         "showlegend": false,
         "type": "bar",
         "x": [
          1982
         ],
         "y": [
          0.031425364758698095
         ]
        },
        {
         "legendgroup": "mellow gold",
         "marker": {
          "color": "#54A24B"
         },
         "name": "mellow gold",
         "showlegend": false,
         "type": "bar",
         "x": [
          1982
         ],
         "y": [
          0.030864197530864196
         ]
        },
        {
         "legendgroup": "album rock",
         "marker": {
          "color": "#B279A2"
         },
         "name": "album rock",
         "showlegend": false,
         "type": "bar",
         "x": [
          1982
         ],
         "y": [
          0.030303030303030304
         ]
        },
        {
         "legendgroup": "rock",
         "marker": {
          "color": "#E45756"
         },
         "name": "rock",
         "showlegend": false,
         "type": "bar",
         "x": [
          1983
         ],
         "y": [
          0.03641618497109827
         ]
        },
        {
         "legendgroup": "album rock",
         "marker": {
          "color": "#B279A2"
         },
         "name": "album rock",
         "showlegend": false,
         "type": "bar",
         "x": [
          1983
         ],
         "y": [
          0.028323699421965318
         ]
        },
        {
         "legendgroup": "soft rock",
         "marker": {
          "color": "#FF9DA6"
         },
         "name": "soft rock",
         "showlegend": false,
         "type": "bar",
         "x": [
          1983
         ],
         "y": [
          0.028323699421965318
         ]
        },
        {
         "legendgroup": "mellow gold",
         "marker": {
          "color": "#54A24B"
         },
         "name": "mellow gold",
         "showlegend": false,
         "type": "bar",
         "x": [
          1983
         ],
         "y": [
          0.025433526011560695
         ]
        },
        {
         "legendgroup": "classic rock",
         "marker": {
          "color": "rgb(139, 224, 164)"
         },
         "name": "classic rock",
         "showlegend": false,
         "type": "bar",
         "x": [
          1983
         ],
         "y": [
          0.025433526011560695
         ]
        },
        {
         "legendgroup": "rock",
         "marker": {
          "color": "#E45756"
         },
         "name": "rock",
         "showlegend": false,
         "type": "bar",
         "x": [
          1984
         ],
         "y": [
          0.031638418079096044
         ]
        },
        {
         "legendgroup": "album rock",
         "marker": {
          "color": "#B279A2"
         },
         "name": "album rock",
         "showlegend": false,
         "type": "bar",
         "x": [
          1984
         ],
         "y": [
          0.02768361581920904
         ]
        },
        {
         "legendgroup": "soft rock",
         "marker": {
          "color": "#FF9DA6"
         },
         "name": "soft rock",
         "showlegend": false,
         "type": "bar",
         "x": [
          1984
         ],
         "y": [
          0.02598870056497175
         ]
        },
        {
         "legendgroup": "mellow gold",
         "marker": {
          "color": "#54A24B"
         },
         "name": "mellow gold",
         "showlegend": false,
         "type": "bar",
         "x": [
          1984
         ],
         "y": [
          0.022598870056497175
         ]
        },
        {
         "legendgroup": "hard rock",
         "marker": {
          "color": "#9D755D"
         },
         "name": "hard rock",
         "showlegend": true,
         "type": "bar",
         "x": [
          1984
         ],
         "y": [
          0.022033898305084745
         ]
        },
        {
         "legendgroup": "new wave pop",
         "marker": {
          "color": "#BAB0AC"
         },
         "name": "new wave pop",
         "showlegend": true,
         "type": "bar",
         "x": [
          1985
         ],
         "y": [
          0.029428736295441432
         ]
        },
        {
         "legendgroup": "new wave",
         "marker": {
          "color": "rgb(102, 197, 204)"
         },
         "name": "new wave",
         "showlegend": true,
         "type": "bar",
         "x": [
          1985
         ],
         "y": [
          0.028851702250432775
         ]
        },
        {
         "legendgroup": "rock",
         "marker": {
          "color": "#E45756"
         },
         "name": "rock",
         "showlegend": false,
         "type": "bar",
         "x": [
          1985
         ],
         "y": [
          0.02827466820542412
         ]
        },
        {
         "legendgroup": "new romantic",
         "marker": {
          "color": "rgb(246, 207, 113)"
         },
         "name": "new romantic",
         "showlegend": true,
         "type": "bar",
         "x": [
          1985
         ],
         "y": [
          0.026543566070398154
         ]
        },
        {
         "legendgroup": "soft rock",
         "marker": {
          "color": "#FF9DA6"
         },
         "name": "soft rock",
         "showlegend": false,
         "type": "bar",
         "x": [
          1985
         ],
         "y": [
          0.024235429890363532
         ]
        },
        {
         "legendgroup": "rock",
         "marker": {
          "color": "#E45756"
         },
         "name": "rock",
         "showlegend": false,
         "type": "bar",
         "x": [
          1986
         ],
         "y": [
          0.03234802007808143
         ]
        },
        {
         "legendgroup": "new wave pop",
         "marker": {
          "color": "#BAB0AC"
         },
         "name": "new wave pop",
         "showlegend": false,
         "type": "bar",
         "x": [
          1986
         ],
         "y": [
          0.025655326268823202
         ]
        },
        {
         "legendgroup": "soft rock",
         "marker": {
          "color": "#FF9DA6"
         },
         "name": "soft rock",
         "showlegend": false,
         "type": "bar",
         "x": [
          1986
         ],
         "y": [
          0.02509760178471835
         ]
        },
        {
         "legendgroup": "new wave",
         "marker": {
          "color": "rgb(102, 197, 204)"
         },
         "name": "new wave",
         "showlegend": false,
         "type": "bar",
         "x": [
          1986
         ],
         "y": [
          0.023982152816508645
         ]
        },
        {
         "legendgroup": "mellow gold",
         "marker": {
          "color": "#54A24B"
         },
         "name": "mellow gold",
         "showlegend": false,
         "type": "bar",
         "x": [
          1986
         ],
         "y": [
          0.021193530395984383
         ]
        },
        {
         "legendgroup": "rock",
         "marker": {
          "color": "#E45756"
         },
         "name": "rock",
         "showlegend": false,
         "type": "bar",
         "x": [
          1987
         ],
         "y": [
          0.026539809714571858
         ]
        },
        {
         "legendgroup": "new wave pop",
         "marker": {
          "color": "#BAB0AC"
         },
         "name": "new wave pop",
         "showlegend": false,
         "type": "bar",
         "x": [
          1987
         ],
         "y": [
          0.01902854281422133
         ]
        },
        {
         "legendgroup": "classical performance",
         "marker": {
          "color": "rgb(248, 156, 116)"
         },
         "name": "classical performance",
         "showlegend": true,
         "type": "bar",
         "x": [
          1987
         ],
         "y": [
          0.018527791687531298
         ]
        },
        {
         "legendgroup": "classic rock",
         "marker": {
          "color": "rgb(139, 224, 164)"
         },
         "name": "classic rock",
         "showlegend": false,
         "type": "bar",
         "x": [
          1987
         ],
         "y": [
          0.018027040560841263
         ]
        },
        {
         "legendgroup": "hard rock",
         "marker": {
          "color": "#9D755D"
         },
         "name": "hard rock",
         "showlegend": false,
         "type": "bar",
         "x": [
          1987
         ],
         "y": [
          0.017526289434151226
         ]
        },
        {
         "legendgroup": "rock",
         "marker": {
          "color": "#E45756"
         },
         "name": "rock",
         "showlegend": false,
         "type": "bar",
         "x": [
          1988
         ],
         "y": [
          0.03047960555804572
         ]
        },
        {
         "legendgroup": "new wave pop",
         "marker": {
          "color": "#BAB0AC"
         },
         "name": "new wave pop",
         "showlegend": false,
         "type": "bar",
         "x": [
          1988
         ],
         "y": [
          0.0210667861945316
         ]
        },
        {
         "legendgroup": "hard rock",
         "marker": {
          "color": "#9D755D"
         },
         "name": "hard rock",
         "showlegend": false,
         "type": "bar",
         "x": [
          1988
         ],
         "y": [
          0.020170327207530255
         ]
        },
        {
         "legendgroup": "soft rock",
         "marker": {
          "color": "#FF9DA6"
         },
         "name": "soft rock",
         "showlegend": false,
         "type": "bar",
         "x": [
          1988
         ],
         "y": [
          0.017929179740026894
         ]
        },
        {
         "legendgroup": "album rock",
         "marker": {
          "color": "#B279A2"
         },
         "name": "album rock",
         "showlegend": false,
         "type": "bar",
         "x": [
          1988
         ],
         "y": [
          0.01748095024652622
         ]
        },
        {
         "legendgroup": "rock",
         "marker": {
          "color": "#E45756"
         },
         "name": "rock",
         "showlegend": false,
         "type": "bar",
         "x": [
          1989
         ],
         "y": [
          0.02880481513327601
         ]
        },
        {
         "legendgroup": "hard rock",
         "marker": {
          "color": "#9D755D"
         },
         "name": "hard rock",
         "showlegend": false,
         "type": "bar",
         "x": [
          1989
         ],
         "y": [
          0.02063628546861565
         ]
        },
        {
         "legendgroup": "soft rock",
         "marker": {
          "color": "#FF9DA6"
         },
         "name": "soft rock",
         "showlegend": false,
         "type": "bar",
         "x": [
          1989
         ],
         "y": [
          0.018056749785038694
         ]
        },
        {
         "legendgroup": "mellow gold",
         "marker": {
          "color": "#54A24B"
         },
         "name": "mellow gold",
         "showlegend": false,
         "type": "bar",
         "x": [
          1989
         ],
         "y": [
          0.0176268271711092
         ]
        },
        {
         "legendgroup": "new wave pop",
         "marker": {
          "color": "#BAB0AC"
         },
         "name": "new wave pop",
         "showlegend": false,
         "type": "bar",
         "x": [
          1989
         ],
         "y": [
          0.0176268271711092
         ]
        },
        {
         "legendgroup": "rock",
         "marker": {
          "color": "#E45756"
         },
         "name": "rock",
         "showlegend": false,
         "type": "bar",
         "x": [
          1990
         ],
         "y": [
          0.023272995936461028
         ]
        },
        {
         "legendgroup": "hard rock",
         "marker": {
          "color": "#9D755D"
         },
         "name": "hard rock",
         "showlegend": false,
         "type": "bar",
         "x": [
          1990
         ],
         "y": [
          0.016623568526043592
         ]
        },
        {
         "legendgroup": "classical performance",
         "marker": {
          "color": "rgb(248, 156, 116)"
         },
         "name": "classical performance",
         "showlegend": false,
         "type": "bar",
         "x": [
          1990
         ],
         "y": [
          0.012929442186922793
         ]
        },
        {
         "legendgroup": "new wave pop",
         "marker": {
          "color": "#BAB0AC"
         },
         "name": "new wave pop",
         "showlegend": false,
         "type": "bar",
         "x": [
          1990
         ],
         "y": [
          0.012560029553010712
         ]
        },
        {
         "legendgroup": "alternative rock",
         "marker": {
          "color": "rgb(220, 176, 242)"
         },
         "name": "alternative rock",
         "showlegend": true,
         "type": "bar",
         "x": [
          1990
         ],
         "y": [
          0.011821204285186553
         ]
        },
        {
         "legendgroup": "rock",
         "marker": {
          "color": "#E45756"
         },
         "name": "rock",
         "showlegend": false,
         "type": "bar",
         "x": [
          1991
         ],
         "y": [
          0.01998572448251249
         ]
        },
        {
         "legendgroup": "mellow gold",
         "marker": {
          "color": "#54A24B"
         },
         "name": "mellow gold",
         "showlegend": false,
         "type": "bar",
         "x": [
          1991
         ],
         "y": [
          0.013561741613133477
         ]
        },
        {
         "legendgroup": "classic rock",
         "marker": {
          "color": "rgb(139, 224, 164)"
         },
         "name": "classic rock",
         "showlegend": false,
         "type": "bar",
         "x": [
          1991
         ],
         "y": [
          0.013204853675945753
         ]
        },
        {
         "legendgroup": "adult standards",
         "marker": {
          "color": "rgb(102, 197, 204)"
         },
         "name": "adult standards",
         "showlegend": false,
         "type": "bar",
         "x": [
          1991
         ],
         "y": [
          0.013204853675945753
         ]
        },
        {
         "legendgroup": "country rock",
         "marker": {
          "color": "#EECA3B"
         },
         "name": "country rock",
         "showlegend": false,
         "type": "bar",
         "x": [
          1991
         ],
         "y": [
          0.01284796573875803
         ]
        },
        {
         "legendgroup": "rock",
         "marker": {
          "color": "#E45756"
         },
         "name": "rock",
         "showlegend": false,
         "type": "bar",
         "x": [
          1992
         ],
         "y": [
          0.02531645569620253
         ]
        },
        {
         "legendgroup": "alternative rock",
         "marker": {
          "color": "rgb(220, 176, 242)"
         },
         "name": "alternative rock",
         "showlegend": false,
         "type": "bar",
         "x": [
          1992
         ],
         "y": [
          0.015323117921385743
         ]
        },
        {
         "legendgroup": "classic rock",
         "marker": {
          "color": "rgb(139, 224, 164)"
         },
         "name": "classic rock",
         "showlegend": false,
         "type": "bar",
         "x": [
          1992
         ],
         "y": [
          0.012658227848101266
         ]
        },
        {
         "legendgroup": "hard rock",
         "marker": {
          "color": "#9D755D"
         },
         "name": "hard rock",
         "showlegend": false,
         "type": "bar",
         "x": [
          1992
         ],
         "y": [
          0.011992005329780146
         ]
        },
        {
         "legendgroup": "classical",
         "marker": {
          "color": "rgb(135, 197, 95)"
         },
         "name": "classical",
         "showlegend": true,
         "type": "bar",
         "x": [
          1992
         ],
         "y": [
          0.011658894070619586
         ]
        },
        {
         "legendgroup": "rock",
         "marker": {
          "color": "#E45756"
         },
         "name": "rock",
         "showlegend": false,
         "type": "bar",
         "x": [
          1993
         ],
         "y": [
          0.01740989615149664
         ]
        },
        {
         "legendgroup": "alternative rock",
         "marker": {
          "color": "rgb(220, 176, 242)"
         },
         "name": "alternative rock",
         "showlegend": false,
         "type": "bar",
         "x": [
          1993
         ],
         "y": [
          0.013744654856444716
         ]
        },
        {
         "legendgroup": "hip hop",
         "marker": {
          "color": "rgb(158, 185, 243)"
         },
         "name": "hip hop",
         "showlegend": true,
         "type": "bar",
         "x": [
          1993
         ],
         "y": [
          0.010690287110568112
         ]
        },
        {
         "legendgroup": "classical",
         "marker": {
          "color": "rgb(135, 197, 95)"
         },
         "name": "classical",
         "showlegend": false,
         "type": "bar",
         "x": [
          1993
         ],
         "y": [
          0.010690287110568112
         ]
        },
        {
         "legendgroup": "pop rock",
         "marker": {
          "color": "rgb(254, 136, 177)"
         },
         "name": "pop rock",
         "showlegend": true,
         "type": "bar",
         "x": [
          1993
         ],
         "y": [
          0.009773976786805132
         ]
        },
        {
         "legendgroup": "rock",
         "marker": {
          "color": "#E45756"
         },
         "name": "rock",
         "showlegend": false,
         "type": "bar",
         "x": [
          1994
         ],
         "y": [
          0.020471993176002276
         ]
        },
        {
         "legendgroup": "alternative rock",
         "marker": {
          "color": "rgb(220, 176, 242)"
         },
         "name": "alternative rock",
         "showlegend": false,
         "type": "bar",
         "x": [
          1994
         ],
         "y": [
          0.017059994313335228
         ]
        },
        {
         "legendgroup": "hip hop",
         "marker": {
          "color": "rgb(158, 185, 243)"
         },
         "name": "hip hop",
         "showlegend": false,
         "type": "bar",
         "x": [
          1994
         ],
         "y": [
          0.012226329257890247
         ]
        },
        {
         "legendgroup": "pop rock",
         "marker": {
          "color": "rgb(254, 136, 177)"
         },
         "name": "pop rock",
         "showlegend": false,
         "type": "bar",
         "x": [
          1994
         ],
         "y": [
          0.011373329542223486
         ]
        },
        {
         "legendgroup": "gangster rap",
         "marker": {
          "color": "rgb(201, 219, 116)"
         },
         "name": "gangster rap",
         "showlegend": true,
         "type": "bar",
         "x": [
          1994
         ],
         "y": [
          0.010804663065112312
         ]
        },
        {
         "legendgroup": "rock",
         "marker": {
          "color": "#E45756"
         },
         "name": "rock",
         "showlegend": false,
         "type": "bar",
         "x": [
          1995
         ],
         "y": [
          0.01655795283492223
         ]
        },
        {
         "legendgroup": "alternative rock",
         "marker": {
          "color": "rgb(220, 176, 242)"
         },
         "name": "alternative rock",
         "showlegend": false,
         "type": "bar",
         "x": [
          1995
         ],
         "y": [
          0.014550928248871048
         ]
        },
        {
         "legendgroup": "pop rock",
         "marker": {
          "color": "rgb(254, 136, 177)"
         },
         "name": "pop rock",
         "showlegend": false,
         "type": "bar",
         "x": [
          1995
         ],
         "y": [
          0.012794781736076268
         ]
        },
        {
         "legendgroup": "hip hop",
         "marker": {
          "color": "rgb(158, 185, 243)"
         },
         "name": "hip hop",
         "showlegend": false,
         "type": "bar",
         "x": [
          1995
         ],
         "y": [
          0.012293025589563472
         ]
        },
        {
         "legendgroup": "classical performance",
         "marker": {
          "color": "rgb(248, 156, 116)"
         },
         "name": "classical performance",
         "showlegend": false,
         "type": "bar",
         "x": [
          1995
         ],
         "y": [
          0.012293025589563472
         ]
        },
        {
         "legendgroup": "rock",
         "marker": {
          "color": "#E45756"
         },
         "name": "rock",
         "showlegend": false,
         "type": "bar",
         "x": [
          1996
         ],
         "y": [
          0.015410146989094358
         ]
        },
        {
         "legendgroup": "alternative rock",
         "marker": {
          "color": "rgb(220, 176, 242)"
         },
         "name": "alternative rock",
         "showlegend": false,
         "type": "bar",
         "x": [
          1996
         ],
         "y": [
          0.012565196775723092
         ]
        },
        {
         "legendgroup": "hip hop",
         "marker": {
          "color": "rgb(158, 185, 243)"
         },
         "name": "hip hop",
         "showlegend": false,
         "type": "bar",
         "x": [
          1996
         ],
         "y": [
          0.01209103840682788
         ]
        },
        {
         "legendgroup": "pop rock",
         "marker": {
          "color": "rgb(254, 136, 177)"
         },
         "name": "pop rock",
         "showlegend": false,
         "type": "bar",
         "x": [
          1996
         ],
         "y": [
          0.011616880037932669
         ]
        },
        {
         "legendgroup": "adult standards",
         "marker": {
          "color": "rgb(102, 197, 204)"
         },
         "name": "adult standards",
         "showlegend": false,
         "type": "bar",
         "x": [
          1996
         ],
         "y": [
          0.010431484115694643
         ]
        },
        {
         "legendgroup": "rock",
         "marker": {
          "color": "#E45756"
         },
         "name": "rock",
         "showlegend": false,
         "type": "bar",
         "x": [
          1997
         ],
         "y": [
          0.016369411189836307
         ]
        },
        {
         "legendgroup": "pop rock",
         "marker": {
          "color": "rgb(254, 136, 177)"
         },
         "name": "pop rock",
         "showlegend": false,
         "type": "bar",
         "x": [
          1997
         ],
         "y": [
          0.012460298069875397
         ]
        },
        {
         "legendgroup": "alternative rock",
         "marker": {
          "color": "rgb(220, 176, 242)"
         },
         "name": "alternative rock",
         "showlegend": false,
         "type": "bar",
         "x": [
          1997
         ],
         "y": [
          0.010505741509894943
         ]
        },
        {
         "legendgroup": "jazz",
         "marker": {
          "color": "rgb(246, 207, 113)"
         },
         "name": "jazz",
         "showlegend": false,
         "type": "bar",
         "x": [
          1997
         ],
         "y": [
          0.009772782799902272
         ]
        },
        {
         "legendgroup": "classical performance",
         "marker": {
          "color": "rgb(248, 156, 116)"
         },
         "name": "classical performance",
         "showlegend": false,
         "type": "bar",
         "x": [
          1997
         ],
         "y": [
          0.009528463229904716
         ]
        },
        {
         "legendgroup": "classical performance",
         "marker": {
          "color": "rgb(248, 156, 116)"
         },
         "name": "classical performance",
         "showlegend": false,
         "type": "bar",
         "x": [
          1998
         ],
         "y": [
          0.01269691982130261
         ]
        },
        {
         "legendgroup": "rock",
         "marker": {
          "color": "#E45756"
         },
         "name": "rock",
         "showlegend": false,
         "type": "bar",
         "x": [
          1998
         ],
         "y": [
          0.011991535386785799
         ]
        },
        {
         "legendgroup": "pop rock",
         "marker": {
          "color": "rgb(254, 136, 177)"
         },
         "name": "pop rock",
         "showlegend": false,
         "type": "bar",
         "x": [
          1998
         ],
         "y": [
          0.011051022807430049
         ]
        },
        {
         "legendgroup": "hip hop",
         "marker": {
          "color": "rgb(158, 185, 243)"
         },
         "name": "hip hop",
         "showlegend": false,
         "type": "bar",
         "x": [
          1998
         ],
         "y": [
          0.0101105102280743
         ]
        },
        {
         "legendgroup": "classical",
         "marker": {
          "color": "rgb(135, 197, 95)"
         },
         "name": "classical",
         "showlegend": false,
         "type": "bar",
         "x": [
          1998
         ],
         "y": [
          0.009405125793557489
         ]
        },
        {
         "legendgroup": "rock",
         "marker": {
          "color": "#E45756"
         },
         "name": "rock",
         "showlegend": false,
         "type": "bar",
         "x": [
          1999
         ],
         "y": [
          0.015941404566996983
         ]
        },
        {
         "legendgroup": "pop rock",
         "marker": {
          "color": "rgb(254, 136, 177)"
         },
         "name": "pop rock",
         "showlegend": false,
         "type": "bar",
         "x": [
          1999
         ],
         "y": [
          0.013140887548470486
         ]
        },
        {
         "legendgroup": "hip hop",
         "marker": {
          "color": "rgb(158, 185, 243)"
         },
         "name": "hip hop",
         "showlegend": false,
         "type": "bar",
         "x": [
          1999
         ],
         "y": [
          0.011848341232227487
         ]
        },
        {
         "legendgroup": "gangster rap",
         "marker": {
          "color": "rgb(201, 219, 116)"
         },
         "name": "gangster rap",
         "showlegend": false,
         "type": "bar",
         "x": [
          1999
         ],
         "y": [
          0.009478672985781991
         ]
        },
        {
         "legendgroup": "alternative rock",
         "marker": {
          "color": "rgb(220, 176, 242)"
         },
         "name": "alternative rock",
         "showlegend": false,
         "type": "bar",
         "x": [
          1999
         ],
         "y": [
          0.00904782421370099
         ]
        },
        {
         "legendgroup": "rock",
         "marker": {
          "color": "#E45756"
         },
         "name": "rock",
         "showlegend": false,
         "type": "bar",
         "x": [
          2000
         ],
         "y": [
          0.012703040399833403
         ]
        },
        {
         "legendgroup": "hip hop",
         "marker": {
          "color": "rgb(158, 185, 243)"
         },
         "name": "hip hop",
         "showlegend": false,
         "type": "bar",
         "x": [
          2000
         ],
         "y": [
          0.011453561016243232
         ]
        },
        {
         "legendgroup": "pop rock",
         "marker": {
          "color": "rgb(254, 136, 177)"
         },
         "name": "pop rock",
         "showlegend": false,
         "type": "bar",
         "x": [
          2000
         ],
         "y": [
          0.009787588504789672
         ]
        },
        {
         "legendgroup": "classical performance",
         "marker": {
          "color": "rgb(248, 156, 116)"
         },
         "name": "classical performance",
         "showlegend": false,
         "type": "bar",
         "x": [
          2000
         ],
         "y": [
          0.009371095376926281
         ]
        },
        {
         "legendgroup": "dance pop",
         "marker": {
          "color": "rgb(139, 224, 164)"
         },
         "name": "dance pop",
         "showlegend": true,
         "type": "bar",
         "x": [
          2000
         ],
         "y": [
          0.009162848812994586
         ]
        },
        {
         "legendgroup": "hip hop",
         "marker": {
          "color": "rgb(158, 185, 243)"
         },
         "name": "hip hop",
         "showlegend": false,
         "type": "bar",
         "x": [
          2001
         ],
         "y": [
          0.013762439127673089
         ]
        },
        {
         "legendgroup": "rock",
         "marker": {
          "color": "#E45756"
         },
         "name": "rock",
         "showlegend": false,
         "type": "bar",
         "x": [
          2001
         ],
         "y": [
          0.01291551979673936
         ]
        },
        {
         "legendgroup": "pop rock",
         "marker": {
          "color": "rgb(254, 136, 177)"
         },
         "name": "pop rock",
         "showlegend": false,
         "type": "bar",
         "x": [
          2001
         ],
         "y": [
          0.011856870633072199
         ]
        },
        {
         "legendgroup": "gangster rap",
         "marker": {
          "color": "rgb(201, 219, 116)"
         },
         "name": "gangster rap",
         "showlegend": false,
         "type": "bar",
         "x": [
          2001
         ],
         "y": [
          0.011221681134871904
         ]
        },
        {
         "legendgroup": "dance pop",
         "marker": {
          "color": "rgb(139, 224, 164)"
         },
         "name": "dance pop",
         "showlegend": false,
         "type": "bar",
         "x": [
          2001
         ],
         "y": [
          0.01079822146940504
         ]
        },
        {
         "legendgroup": "rock",
         "marker": {
          "color": "#E45756"
         },
         "name": "rock",
         "showlegend": false,
         "type": "bar",
         "x": [
          2002
         ],
         "y": [
          0.012326354920759147
         ]
        },
        {
         "legendgroup": "hip hop",
         "marker": {
          "color": "rgb(158, 185, 243)"
         },
         "name": "hip hop",
         "showlegend": false,
         "type": "bar",
         "x": [
          2002
         ],
         "y": [
          0.010761103502250048
         ]
        },
        {
         "legendgroup": "classical performance",
         "marker": {
          "color": "rgb(248, 156, 116)"
         },
         "name": "classical performance",
         "showlegend": false,
         "type": "bar",
         "x": [
          2002
         ],
         "y": [
          0.00919585208374095
         ]
        },
        {
         "legendgroup": "pop rock",
         "marker": {
          "color": "rgb(254, 136, 177)"
         },
         "name": "pop rock",
         "showlegend": false,
         "type": "bar",
         "x": [
          2002
         ],
         "y": [
          0.009000195656427314
         ]
        },
        {
         "legendgroup": "urban contemporary",
         "marker": {
          "color": "rgb(180, 151, 231)"
         },
         "name": "urban contemporary",
         "showlegend": true,
         "type": "bar",
         "x": [
          2002
         ],
         "y": [
          0.007239287810604579
         ]
        },
        {
         "legendgroup": "rock",
         "marker": {
          "color": "#E45756"
         },
         "name": "rock",
         "showlegend": false,
         "type": "bar",
         "x": [
          2003
         ],
         "y": [
          0.012563252486477055
         ]
        },
        {
         "legendgroup": "dance pop",
         "marker": {
          "color": "rgb(139, 224, 164)"
         },
         "name": "dance pop",
         "showlegend": false,
         "type": "bar",
         "x": [
          2003
         ],
         "y": [
          0.010818356307799686
         ]
        },
        {
         "legendgroup": "hip hop",
         "marker": {
          "color": "rgb(158, 185, 243)"
         },
         "name": "hip hop",
         "showlegend": false,
         "type": "bar",
         "x": [
          2003
         ],
         "y": [
          0.009771418600593265
         ]
        },
        {
         "legendgroup": "country rock",
         "marker": {
          "color": "#EECA3B"
         },
         "name": "country rock",
         "showlegend": false,
         "type": "bar",
         "x": [
          2003
         ],
         "y": [
          0.009422439364857791
         ]
        },
        {
         "legendgroup": "alternative metal",
         "marker": {
          "color": "rgb(179, 179, 179)"
         },
         "name": "alternative metal",
         "showlegend": true,
         "type": "bar",
         "x": [
          2003
         ],
         "y": [
          0.00837550165765137
         ]
        },
        {
         "legendgroup": "rock",
         "marker": {
          "color": "#E45756"
         },
         "name": "rock",
         "showlegend": false,
         "type": "bar",
         "x": [
          2004
         ],
         "y": [
          0.012891027844620144
         ]
        },
        {
         "legendgroup": "hip hop",
         "marker": {
          "color": "rgb(158, 185, 243)"
         },
         "name": "hip hop",
         "showlegend": false,
         "type": "bar",
         "x": [
          2004
         ],
         "y": [
          0.010312822275696116
         ]
        },
        {
         "legendgroup": "adult standards",
         "marker": {
          "color": "rgb(102, 197, 204)"
         },
         "name": "adult standards",
         "showlegend": false,
         "type": "bar",
         "x": [
          2004
         ],
         "y": [
          0.009281540048126504
         ]
        },
        {
         "legendgroup": "pop rock",
         "marker": {
          "color": "rgb(254, 136, 177)"
         },
         "name": "pop rock",
         "showlegend": false,
         "type": "bar",
         "x": [
          2004
         ],
         "y": [
          0.008594018563080097
         ]
        },
        {
         "legendgroup": "gangster rap",
         "marker": {
          "color": "rgb(201, 219, 116)"
         },
         "name": "gangster rap",
         "showlegend": false,
         "type": "bar",
         "x": [
          2004
         ],
         "y": [
          0.008422138191818494
         ]
        },
        {
         "legendgroup": "rock",
         "marker": {
          "color": "#E45756"
         },
         "name": "rock",
         "showlegend": false,
         "type": "bar",
         "x": [
          2005
         ],
         "y": [
          0.011077102463197784
         ]
        },
        {
         "legendgroup": "hip hop",
         "marker": {
          "color": "rgb(158, 185, 243)"
         },
         "name": "hip hop",
         "showlegend": false,
         "type": "bar",
         "x": [
          2005
         ],
         "y": [
          0.010056843025797988
         ]
        },
        {
         "legendgroup": "adult standards",
         "marker": {
          "color": "rgb(102, 197, 204)"
         },
         "name": "adult standards",
         "showlegend": false,
         "type": "bar",
         "x": [
          2005
         ],
         "y": [
          0.009473837632998106
         ]
        },
        {
         "legendgroup": "pop rock",
         "marker": {
          "color": "rgb(254, 136, 177)"
         },
         "name": "pop rock",
         "showlegend": false,
         "type": "bar",
         "x": [
          2005
         ],
         "y": [
          0.009036583588398192
         ]
        },
        {
         "legendgroup": "dance pop",
         "marker": {
          "color": "rgb(139, 224, 164)"
         },
         "name": "dance pop",
         "showlegend": false,
         "type": "bar",
         "x": [
          2005
         ],
         "y": [
          0.008307826847398338
         ]
        },
        {
         "legendgroup": "rock",
         "marker": {
          "color": "#E45756"
         },
         "name": "rock",
         "showlegend": false,
         "type": "bar",
         "x": [
          2006
         ],
         "y": [
          0.011690276440654656
         ]
        },
        {
         "legendgroup": "dance pop",
         "marker": {
          "color": "rgb(139, 224, 164)"
         },
         "name": "dance pop",
         "showlegend": false,
         "type": "bar",
         "x": [
          2006
         ],
         "y": [
          0.008664557832485216
         ]
        },
        {
         "legendgroup": "hip hop",
         "marker": {
          "color": "rgb(158, 185, 243)"
         },
         "name": "hip hop",
         "showlegend": false,
         "type": "bar",
         "x": [
          2006
         ],
         "y": [
          0.007976894512446707
         ]
        },
        {
         "legendgroup": "rap",
         "marker": {
          "color": "#4C78A8"
         },
         "name": "rap",
         "showlegend": true,
         "type": "bar",
         "x": [
          2006
         ],
         "y": [
          0.007151698528400495
         ]
        },
        {
         "legendgroup": "electronica",
         "marker": {
          "color": "#F58518"
         },
         "name": "electronica",
         "showlegend": true,
         "type": "bar",
         "x": [
          2006
         ],
         "y": [
          0.007151698528400495
         ]
        },
        {
         "legendgroup": "rock",
         "marker": {
          "color": "#E45756"
         },
         "name": "rock",
         "showlegend": false,
         "type": "bar",
         "x": [
          2007
         ],
         "y": [
          0.012363929579357613
         ]
        },
        {
         "legendgroup": "dance pop",
         "marker": {
          "color": "rgb(139, 224, 164)"
         },
         "name": "dance pop",
         "showlegend": false,
         "type": "bar",
         "x": [
          2007
         ],
         "y": [
          0.008332213412175783
         ]
        },
        {
         "legendgroup": "adult standards",
         "marker": {
          "color": "rgb(102, 197, 204)"
         },
         "name": "adult standards",
         "showlegend": false,
         "type": "bar",
         "x": [
          2007
         ],
         "y": [
          0.007257089100927295
         ]
        },
        {
         "legendgroup": "rap",
         "marker": {
          "color": "#4C78A8"
         },
         "name": "rap",
         "showlegend": false,
         "type": "bar",
         "x": [
          2007
         ],
         "y": [
          0.007257089100927295
         ]
        },
        {
         "legendgroup": "modern rock",
         "marker": {
          "color": "#E45756"
         },
         "name": "modern rock",
         "showlegend": true,
         "type": "bar",
         "x": [
          2007
         ],
         "y": [
          0.006853917484209111
         ]
        },
        {
         "legendgroup": "rock",
         "marker": {
          "color": "#E45756"
         },
         "name": "rock",
         "showlegend": false,
         "type": "bar",
         "x": [
          2008
         ],
         "y": [
          0.009684266383656142
         ]
        },
        {
         "legendgroup": "dance pop",
         "marker": {
          "color": "rgb(139, 224, 164)"
         },
         "name": "dance pop",
         "showlegend": false,
         "type": "bar",
         "x": [
          2008
         ],
         "y": [
          0.009020960466967366
         ]
        },
        {
         "legendgroup": "classical performance",
         "marker": {
          "color": "rgb(248, 156, 116)"
         },
         "name": "classical performance",
         "showlegend": false,
         "type": "bar",
         "x": [
          2008
         ],
         "y": [
          0.00835765455027859
         ]
        },
        {
         "legendgroup": "christian alternative rock",
         "marker": {
          "color": "#72B7B2"
         },
         "name": "christian alternative rock",
         "showlegend": true,
         "type": "bar",
         "x": [
          2008
         ],
         "y": [
          0.0070310427169010346
         ]
        },
        {
         "legendgroup": "modern rock",
         "marker": {
          "color": "#E45756"
         },
         "name": "modern rock",
         "showlegend": false,
         "type": "bar",
         "x": [
          2008
         ],
         "y": [
          0.006500397983550013
         ]
        },
        {
         "legendgroup": "rock",
         "marker": {
          "color": "#E45756"
         },
         "name": "rock",
         "showlegend": false,
         "type": "bar",
         "x": [
          2009
         ],
         "y": [
          0.010566037735849057
         ]
        },
        {
         "legendgroup": "dance pop",
         "marker": {
          "color": "rgb(139, 224, 164)"
         },
         "name": "dance pop",
         "showlegend": false,
         "type": "bar",
         "x": [
          2009
         ],
         "y": [
          0.010062893081761006
         ]
        },
        {
         "legendgroup": "pop rap",
         "marker": {
          "color": "#54A24B"
         },
         "name": "pop rap",
         "showlegend": true,
         "type": "bar",
         "x": [
          2009
         ],
         "y": [
          0.007169811320754717
         ]
        },
        {
         "legendgroup": "indie rock",
         "marker": {
          "color": "#EECA3B"
         },
         "name": "indie rock",
         "showlegend": true,
         "type": "bar",
         "x": [
          2009
         ],
         "y": [
          0.007044025157232704
         ]
        },
        {
         "legendgroup": "hip hop",
         "marker": {
          "color": "rgb(158, 185, 243)"
         },
         "name": "hip hop",
         "showlegend": false,
         "type": "bar",
         "x": [
          2009
         ],
         "y": [
          0.006666666666666667
         ]
        },
        {
         "legendgroup": "dance pop",
         "marker": {
          "color": "rgb(139, 224, 164)"
         },
         "name": "dance pop",
         "showlegend": false,
         "type": "bar",
         "x": [
          2010
         ],
         "y": [
          0.009720388815552622
         ]
        },
        {
         "legendgroup": "rock",
         "marker": {
          "color": "#E45756"
         },
         "name": "rock",
         "showlegend": false,
         "type": "bar",
         "x": [
          2010
         ],
         "y": [
          0.008520340813632545
         ]
        },
        {
         "legendgroup": "pop",
         "marker": {
          "color": "#B279A2"
         },
         "name": "pop",
         "showlegend": true,
         "type": "bar",
         "x": [
          2010
         ],
         "y": [
          0.006480259210368415
         ]
        },
        {
         "legendgroup": "indie rock",
         "marker": {
          "color": "#EECA3B"
         },
         "name": "indie rock",
         "showlegend": false,
         "type": "bar",
         "x": [
          2010
         ],
         "y": [
          0.006360254410176407
         ]
        },
        {
         "legendgroup": "modern rock",
         "marker": {
          "color": "#E45756"
         },
         "name": "modern rock",
         "showlegend": false,
         "type": "bar",
         "x": [
          2010
         ],
         "y": [
          0.005880235209408376
         ]
        },
        {
         "legendgroup": "rock",
         "marker": {
          "color": "#E45756"
         },
         "name": "rock",
         "showlegend": false,
         "type": "bar",
         "x": [
          2011
         ],
         "y": [
          0.009082268454958286
         ]
        },
        {
         "legendgroup": "dance pop",
         "marker": {
          "color": "rgb(139, 224, 164)"
         },
         "name": "dance pop",
         "showlegend": false,
         "type": "bar",
         "x": [
          2011
         ],
         "y": [
          0.0082374062731017
         ]
        },
        {
         "legendgroup": "pop rap",
         "marker": {
          "color": "#54A24B"
         },
         "name": "pop rap",
         "showlegend": false,
         "type": "bar",
         "x": [
          2011
         ],
         "y": [
          0.0068645052275847504
         ]
        },
        {
         "legendgroup": "pop",
         "marker": {
          "color": "#B279A2"
         },
         "name": "pop",
         "showlegend": false,
         "type": "bar",
         "x": [
          2011
         ],
         "y": [
          0.006230858591192312
         ]
        },
        {
         "legendgroup": "modern rock",
         "marker": {
          "color": "#E45756"
         },
         "name": "modern rock",
         "showlegend": false,
         "type": "bar",
         "x": [
          2011
         ],
         "y": [
          0.005597211954799873
         ]
        },
        {
         "legendgroup": "dance pop",
         "marker": {
          "color": "rgb(139, 224, 164)"
         },
         "name": "dance pop",
         "showlegend": false,
         "type": "bar",
         "x": [
          2012
         ],
         "y": [
          0.010484668644906034
         ]
        },
        {
         "legendgroup": "pop",
         "marker": {
          "color": "#B279A2"
         },
         "name": "pop",
         "showlegend": false,
         "type": "bar",
         "x": [
          2012
         ],
         "y": [
          0.008803165182987141
         ]
        },
        {
         "legendgroup": "pop rap",
         "marker": {
          "color": "#54A24B"
         },
         "name": "pop rap",
         "showlegend": false,
         "type": "bar",
         "x": [
          2012
         ],
         "y": [
          0.006528189910979229
         ]
        },
        {
         "legendgroup": "edm",
         "marker": {
          "color": "#FF9DA6"
         },
         "name": "edm",
         "showlegend": true,
         "type": "bar",
         "x": [
          2012
         ],
         "y": [
          0.006429277942631058
         ]
        },
        {
         "legendgroup": "rock",
         "marker": {
          "color": "#E45756"
         },
         "name": "rock",
         "showlegend": false,
         "type": "bar",
         "x": [
          2012
         ],
         "y": [
          0.006231454005934718
         ]
        },
        {
         "legendgroup": "dance pop",
         "marker": {
          "color": "rgb(139, 224, 164)"
         },
         "name": "dance pop",
         "showlegend": false,
         "type": "bar",
         "x": [
          2013
         ],
         "y": [
          0.009195402298850575
         ]
        },
        {
         "legendgroup": "pop",
         "marker": {
          "color": "#B279A2"
         },
         "name": "pop",
         "showlegend": false,
         "type": "bar",
         "x": [
          2013
         ],
         "y": [
          0.009195402298850575
         ]
        },
        {
         "legendgroup": "edm",
         "marker": {
          "color": "#FF9DA6"
         },
         "name": "edm",
         "showlegend": false,
         "type": "bar",
         "x": [
          2013
         ],
         "y": [
          0.008399646330680813
         ]
        },
        {
         "legendgroup": "modern rock",
         "marker": {
          "color": "#E45756"
         },
         "name": "modern rock",
         "showlegend": false,
         "type": "bar",
         "x": [
          2013
         ],
         "y": [
          0.007427055702917772
         ]
        },
        {
         "legendgroup": "pop rap",
         "marker": {
          "color": "#54A24B"
         },
         "name": "pop rap",
         "showlegend": false,
         "type": "bar",
         "x": [
          2013
         ],
         "y": [
          0.007073386383731211
         ]
        },
        {
         "legendgroup": "pop",
         "marker": {
          "color": "#B279A2"
         },
         "name": "pop",
         "showlegend": false,
         "type": "bar",
         "x": [
          2014
         ],
         "y": [
          0.011481683980317113
         ]
        },
        {
         "legendgroup": "dance pop",
         "marker": {
          "color": "rgb(139, 224, 164)"
         },
         "name": "dance pop",
         "showlegend": false,
         "type": "bar",
         "x": [
          2014
         ],
         "y": [
          0.010856830430367883
         ]
        },
        {
         "legendgroup": "edm",
         "marker": {
          "color": "#FF9DA6"
         },
         "name": "edm",
         "showlegend": false,
         "type": "bar",
         "x": [
          2014
         ],
         "y": [
          0.010700617042880575
         ]
        },
        {
         "legendgroup": "electro house",
         "marker": {
          "color": "#9D755D"
         },
         "name": "electro house",
         "showlegend": true,
         "type": "bar",
         "x": [
          2014
         ],
         "y": [
          0.008826056393032883
         ]
        },
        {
         "legendgroup": "pop dance",
         "marker": {
          "color": "#BAB0AC"
         },
         "name": "pop dance",
         "showlegend": true,
         "type": "bar",
         "x": [
          2014
         ],
         "y": [
          0.008669843005545574
         ]
        },
        {
         "legendgroup": "edm",
         "marker": {
          "color": "#FF9DA6"
         },
         "name": "edm",
         "showlegend": false,
         "type": "bar",
         "x": [
          2015
         ],
         "y": [
          0.013992863639543832
         ]
        },
        {
         "legendgroup": "electro house",
         "marker": {
          "color": "#9D755D"
         },
         "name": "electro house",
         "showlegend": false,
         "type": "bar",
         "x": [
          2015
         ],
         "y": [
          0.012873434548380327
         ]
        },
        {
         "legendgroup": "pop",
         "marker": {
          "color": "#B279A2"
         },
         "name": "pop",
         "showlegend": false,
         "type": "bar",
         "x": [
          2015
         ],
         "y": [
          0.012593577275589449
         ]
        },
        {
         "legendgroup": "pop dance",
         "marker": {
          "color": "#BAB0AC"
         },
         "name": "pop dance",
         "showlegend": false,
         "type": "bar",
         "x": [
          2015
         ],
         "y": [
          0.01175400545721682
         ]
        },
        {
         "legendgroup": "dance pop",
         "marker": {
          "color": "rgb(139, 224, 164)"
         },
         "name": "dance pop",
         "showlegend": false,
         "type": "bar",
         "x": [
          2015
         ],
         "y": [
          0.011684041139019101
         ]
        },
        {
         "legendgroup": "pop",
         "marker": {
          "color": "#B279A2"
         },
         "name": "pop",
         "showlegend": false,
         "type": "bar",
         "x": [
          2016
         ],
         "y": [
          0.014646530399687541
         ]
        },
        {
         "legendgroup": "edm",
         "marker": {
          "color": "#FF9DA6"
         },
         "name": "edm",
         "showlegend": false,
         "type": "bar",
         "x": [
          2016
         ],
         "y": [
          0.013604999349043093
         ]
        },
        {
         "legendgroup": "electro house",
         "marker": {
          "color": "#9D755D"
         },
         "name": "electro house",
         "showlegend": false,
         "type": "bar",
         "x": [
          2016
         ],
         "y": [
          0.011652128629084754
         ]
        },
        {
         "legendgroup": "dance pop",
         "marker": {
          "color": "rgb(139, 224, 164)"
         },
         "name": "dance pop",
         "showlegend": false,
         "type": "bar",
         "x": [
          2016
         ],
         "y": [
          0.011131363103762532
         ]
        },
        {
         "legendgroup": "pop dance",
         "marker": {
          "color": "#BAB0AC"
         },
         "name": "pop dance",
         "showlegend": false,
         "type": "bar",
         "x": [
          2016
         ],
         "y": [
          0.010089832053118083
         ]
        },
        {
         "legendgroup": "pop",
         "marker": {
          "color": "#B279A2"
         },
         "name": "pop",
         "showlegend": false,
         "type": "bar",
         "x": [
          2017
         ],
         "y": [
          0.014649787163469511
         ]
        },
        {
         "legendgroup": "edm",
         "marker": {
          "color": "#FF9DA6"
         },
         "name": "edm",
         "showlegend": false,
         "type": "bar",
         "x": [
          2017
         ],
         "y": [
          0.011885676377909226
         ]
        },
        {
         "legendgroup": "dance pop",
         "marker": {
          "color": "rgb(139, 224, 164)"
         },
         "name": "dance pop",
         "showlegend": false,
         "type": "bar",
         "x": [
          2017
         ],
         "y": [
          0.0106694676322627
         ]
        },
        {
         "legendgroup": "electro house",
         "marker": {
          "color": "#9D755D"
         },
         "name": "electro house",
         "showlegend": false,
         "type": "bar",
         "x": [
          2017
         ],
         "y": [
          0.01017192769086185
         ]
        },
        {
         "legendgroup": "pop dance",
         "marker": {
          "color": "#BAB0AC"
         },
         "name": "pop dance",
         "showlegend": false,
         "type": "bar",
         "x": [
          2017
         ],
         "y": [
          0.009287412239482559
         ]
        },
        {
         "legendgroup": "pop",
         "marker": {
          "color": "#B279A2"
         },
         "name": "pop",
         "showlegend": false,
         "type": "bar",
         "x": [
          2018
         ],
         "y": [
          0.01636577507287884
         ]
        },
        {
         "legendgroup": "edm",
         "marker": {
          "color": "#FF9DA6"
         },
         "name": "edm",
         "showlegend": false,
         "type": "bar",
         "x": [
          2018
         ],
         "y": [
          0.01329719224671406
         ]
        },
        {
         "legendgroup": "electro house",
         "marker": {
          "color": "#9D755D"
         },
         "name": "electro house",
         "showlegend": false,
         "type": "bar",
         "x": [
          2018
         ],
         "y": [
          0.012530046540172864
         ]
        },
        {
         "legendgroup": "dance pop",
         "marker": {
          "color": "rgb(139, 224, 164)"
         },
         "name": "dance pop",
         "showlegend": false,
         "type": "bar",
         "x": [
          2018
         ],
         "y": [
          0.010586610750268502
         ]
        },
        {
         "legendgroup": "pop dance",
         "marker": {
          "color": "#BAB0AC"
         },
         "name": "pop dance",
         "showlegend": false,
         "type": "bar",
         "x": [
          2018
         ],
         "y": [
          0.010279752467652023
         ]
        },
        {
         "legendgroup": "pop",
         "marker": {
          "color": "#B279A2"
         },
         "name": "pop",
         "showlegend": false,
         "type": "bar",
         "x": [
          2019
         ],
         "y": [
          0.018096768096768096
         ]
        },
        {
         "legendgroup": "edm",
         "marker": {
          "color": "#FF9DA6"
         },
         "name": "edm",
         "showlegend": false,
         "type": "bar",
         "x": [
          2019
         ],
         "y": [
          0.013135513135513135
         ]
        },
        {
         "legendgroup": "electro house",
         "marker": {
          "color": "#9D755D"
         },
         "name": "electro house",
         "showlegend": false,
         "type": "bar",
         "x": [
          2019
         ],
         "y": [
          0.012237762237762238
         ]
        },
        {
         "legendgroup": "dance pop",
         "marker": {
          "color": "rgb(139, 224, 164)"
         },
         "name": "dance pop",
         "showlegend": false,
         "type": "bar",
         "x": [
          2019
         ],
         "y": [
          0.011056511056511056
         ]
        },
        {
         "legendgroup": "pop dance",
         "marker": {
          "color": "#BAB0AC"
         },
         "name": "pop dance",
         "showlegend": false,
         "type": "bar",
         "x": [
          2019
         ],
         "y": [
          0.010347760347760348
         ]
        },
        {
         "legendgroup": "pop",
         "marker": {
          "color": "#B279A2"
         },
         "name": "pop",
         "showlegend": false,
         "type": "bar",
         "x": [
          2020
         ],
         "y": [
          0.015521628498727735
         ]
        },
        {
         "legendgroup": "edm",
         "marker": {
          "color": "#FF9DA6"
         },
         "name": "edm",
         "showlegend": false,
         "type": "bar",
         "x": [
          2020
         ],
         "y": [
          0.011450381679389313
         ]
        },
        {
         "legendgroup": "dance pop",
         "marker": {
          "color": "rgb(139, 224, 164)"
         },
         "name": "dance pop",
         "showlegend": false,
         "type": "bar",
         "x": [
          2020
         ],
         "y": [
          0.009923664122137405
         ]
        },
        {
         "legendgroup": "electro house",
         "marker": {
          "color": "#9D755D"
         },
         "name": "electro house",
         "showlegend": false,
         "type": "bar",
         "x": [
          2020
         ],
         "y": [
          0.009669211195928753
         ]
        },
        {
         "legendgroup": "pop dance",
         "marker": {
          "color": "#BAB0AC"
         },
         "name": "pop dance",
         "showlegend": false,
         "type": "bar",
         "x": [
          2020
         ],
         "y": [
          0.009414758269720101
         ]
        },
        {
         "legendgroup": "pop",
         "marker": {
          "color": "#B279A2"
         },
         "name": "pop",
         "showlegend": false,
         "type": "bar",
         "x": [
          2021
         ],
         "y": [
          0.015332571830243388
         ]
        },
        {
         "legendgroup": "edm",
         "marker": {
          "color": "#FF9DA6"
         },
         "name": "edm",
         "showlegend": false,
         "type": "bar",
         "x": [
          2021
         ],
         "y": [
          0.010851419031719533
         ]
        },
        {
         "legendgroup": "dance pop",
         "marker": {
          "color": "rgb(139, 224, 164)"
         },
         "name": "dance pop",
         "showlegend": false,
         "type": "bar",
         "x": [
          2021
         ],
         "y": [
          0.009181969949916527
         ]
        },
        {
         "legendgroup": "pop dance",
         "marker": {
          "color": "#BAB0AC"
         },
         "name": "pop dance",
         "showlegend": false,
         "type": "bar",
         "x": [
          2021
         ],
         "y": [
          0.009006238467621474
         ]
        },
        {
         "legendgroup": "tropical house",
         "marker": {
          "color": "rgb(102, 197, 204)"
         },
         "name": "tropical house",
         "showlegend": true,
         "type": "bar",
         "x": [
          2021
         ],
         "y": [
          0.008259379667867498
         ]
        },
        {
         "legendgroup": "pop",
         "marker": {
          "color": "#B279A2"
         },
         "name": "pop",
         "showlegend": false,
         "type": "bar",
         "x": [
          2022
         ],
         "y": [
          0.013711530493087732
         ]
        },
        {
         "legendgroup": "edm",
         "marker": {
          "color": "#FF9DA6"
         },
         "name": "edm",
         "showlegend": false,
         "type": "bar",
         "x": [
          2022
         ],
         "y": [
          0.011338380984668701
         ]
        },
        {
         "legendgroup": "pop dance",
         "marker": {
          "color": "#BAB0AC"
         },
         "name": "pop dance",
         "showlegend": false,
         "type": "bar",
         "x": [
          2022
         ],
         "y": [
          0.009718612272573172
         ]
        },
        {
         "legendgroup": "electro house",
         "marker": {
          "color": "#9D755D"
         },
         "name": "electro house",
         "showlegend": false,
         "type": "bar",
         "x": [
          2022
         ],
         "y": [
          0.009341921874411421
         ]
        },
        {
         "legendgroup": "dance pop",
         "marker": {
          "color": "rgb(139, 224, 164)"
         },
         "name": "dance pop",
         "showlegend": false,
         "type": "bar",
         "x": [
          2022
         ],
         "y": [
          0.00919124571514672
         ]
        }
       ],
       "layout": {
        "barmode": "stack",
        "template": {
         "data": {
          "bar": [
           {
            "error_x": {
             "color": "#f2f5fa"
            },
            "error_y": {
             "color": "#f2f5fa"
            },
            "marker": {
             "line": {
              "color": "rgb(17,17,17)",
              "width": 0.5
             },
             "pattern": {
              "fillmode": "overlay",
              "size": 10,
              "solidity": 0.2
             }
            },
            "type": "bar"
           }
          ],
          "barpolar": [
           {
            "marker": {
             "line": {
              "color": "rgb(17,17,17)",
              "width": 0.5
             },
             "pattern": {
              "fillmode": "overlay",
              "size": 10,
              "solidity": 0.2
             }
            },
            "type": "barpolar"
           }
          ],
          "carpet": [
           {
            "aaxis": {
             "endlinecolor": "#A2B1C6",
             "gridcolor": "#506784",
             "linecolor": "#506784",
             "minorgridcolor": "#506784",
             "startlinecolor": "#A2B1C6"
            },
            "baxis": {
             "endlinecolor": "#A2B1C6",
             "gridcolor": "#506784",
             "linecolor": "#506784",
             "minorgridcolor": "#506784",
             "startlinecolor": "#A2B1C6"
            },
            "type": "carpet"
           }
          ],
          "choropleth": [
           {
            "colorbar": {
             "outlinewidth": 0,
             "ticks": ""
            },
            "type": "choropleth"
           }
          ],
          "contour": [
           {
            "colorbar": {
             "outlinewidth": 0,
             "ticks": ""
            },
            "colorscale": [
             [
              0,
              "#0d0887"
             ],
             [
              0.1111111111111111,
              "#46039f"
             ],
             [
              0.2222222222222222,
              "#7201a8"
             ],
             [
              0.3333333333333333,
              "#9c179e"
             ],
             [
              0.4444444444444444,
              "#bd3786"
             ],
             [
              0.5555555555555556,
              "#d8576b"
             ],
             [
              0.6666666666666666,
              "#ed7953"
             ],
             [
              0.7777777777777778,
              "#fb9f3a"
             ],
             [
              0.8888888888888888,
              "#fdca26"
             ],
             [
              1,
              "#f0f921"
             ]
            ],
            "type": "contour"
           }
          ],
          "contourcarpet": [
           {
            "colorbar": {
             "outlinewidth": 0,
             "ticks": ""
            },
            "type": "contourcarpet"
           }
          ],
          "heatmap": [
           {
            "colorbar": {
             "outlinewidth": 0,
             "ticks": ""
            },
            "colorscale": [
             [
              0,
              "#0d0887"
             ],
             [
              0.1111111111111111,
              "#46039f"
             ],
             [
              0.2222222222222222,
              "#7201a8"
             ],
             [
              0.3333333333333333,
              "#9c179e"
             ],
             [
              0.4444444444444444,
              "#bd3786"
             ],
             [
              0.5555555555555556,
              "#d8576b"
             ],
             [
              0.6666666666666666,
              "#ed7953"
             ],
             [
              0.7777777777777778,
              "#fb9f3a"
             ],
             [
              0.8888888888888888,
              "#fdca26"
             ],
             [
              1,
              "#f0f921"
             ]
            ],
            "type": "heatmap"
           }
          ],
          "heatmapgl": [
           {
            "colorbar": {
             "outlinewidth": 0,
             "ticks": ""
            },
            "colorscale": [
             [
              0,
              "#0d0887"
             ],
             [
              0.1111111111111111,
              "#46039f"
             ],
             [
              0.2222222222222222,
              "#7201a8"
             ],
             [
              0.3333333333333333,
              "#9c179e"
             ],
             [
              0.4444444444444444,
              "#bd3786"
             ],
             [
              0.5555555555555556,
              "#d8576b"
             ],
             [
              0.6666666666666666,
              "#ed7953"
             ],
             [
              0.7777777777777778,
              "#fb9f3a"
             ],
             [
              0.8888888888888888,
              "#fdca26"
             ],
             [
              1,
              "#f0f921"
             ]
            ],
            "type": "heatmapgl"
           }
          ],
          "histogram": [
           {
            "marker": {
             "pattern": {
              "fillmode": "overlay",
              "size": 10,
              "solidity": 0.2
             }
            },
            "type": "histogram"
           }
          ],
          "histogram2d": [
           {
            "colorbar": {
             "outlinewidth": 0,
             "ticks": ""
            },
            "colorscale": [
             [
              0,
              "#0d0887"
             ],
             [
              0.1111111111111111,
              "#46039f"
             ],
             [
              0.2222222222222222,
              "#7201a8"
             ],
             [
              0.3333333333333333,
              "#9c179e"
             ],
             [
              0.4444444444444444,
              "#bd3786"
             ],
             [
              0.5555555555555556,
              "#d8576b"
             ],
             [
              0.6666666666666666,
              "#ed7953"
             ],
             [
              0.7777777777777778,
              "#fb9f3a"
             ],
             [
              0.8888888888888888,
              "#fdca26"
             ],
             [
              1,
              "#f0f921"
             ]
            ],
            "type": "histogram2d"
           }
          ],
          "histogram2dcontour": [
           {
            "colorbar": {
             "outlinewidth": 0,
             "ticks": ""
            },
            "colorscale": [
             [
              0,
              "#0d0887"
             ],
             [
              0.1111111111111111,
              "#46039f"
             ],
             [
              0.2222222222222222,
              "#7201a8"
             ],
             [
              0.3333333333333333,
              "#9c179e"
             ],
             [
              0.4444444444444444,
              "#bd3786"
             ],
             [
              0.5555555555555556,
              "#d8576b"
             ],
             [
              0.6666666666666666,
              "#ed7953"
             ],
             [
              0.7777777777777778,
              "#fb9f3a"
             ],
             [
              0.8888888888888888,
              "#fdca26"
             ],
             [
              1,
              "#f0f921"
             ]
            ],
            "type": "histogram2dcontour"
           }
          ],
          "mesh3d": [
           {
            "colorbar": {
             "outlinewidth": 0,
             "ticks": ""
            },
            "type": "mesh3d"
           }
          ],
          "parcoords": [
           {
            "line": {
             "colorbar": {
              "outlinewidth": 0,
              "ticks": ""
             }
            },
            "type": "parcoords"
           }
          ],
          "pie": [
           {
            "automargin": true,
            "type": "pie"
           }
          ],
          "scatter": [
           {
            "marker": {
             "line": {
              "color": "#283442"
             }
            },
            "type": "scatter"
           }
          ],
          "scatter3d": [
           {
            "line": {
             "colorbar": {
              "outlinewidth": 0,
              "ticks": ""
             }
            },
            "marker": {
             "colorbar": {
              "outlinewidth": 0,
              "ticks": ""
             }
            },
            "type": "scatter3d"
           }
          ],
          "scattercarpet": [
           {
            "marker": {
             "colorbar": {
              "outlinewidth": 0,
              "ticks": ""
             }
            },
            "type": "scattercarpet"
           }
          ],
          "scattergeo": [
           {
            "marker": {
             "colorbar": {
              "outlinewidth": 0,
              "ticks": ""
             }
            },
            "type": "scattergeo"
           }
          ],
          "scattergl": [
           {
            "marker": {
             "line": {
              "color": "#283442"
             }
            },
            "type": "scattergl"
           }
          ],
          "scattermapbox": [
           {
            "marker": {
             "colorbar": {
              "outlinewidth": 0,
              "ticks": ""
             }
            },
            "type": "scattermapbox"
           }
          ],
          "scatterpolar": [
           {
            "marker": {
             "colorbar": {
              "outlinewidth": 0,
              "ticks": ""
             }
            },
            "type": "scatterpolar"
           }
          ],
          "scatterpolargl": [
           {
            "marker": {
             "colorbar": {
              "outlinewidth": 0,
              "ticks": ""
             }
            },
            "type": "scatterpolargl"
           }
          ],
          "scatterternary": [
           {
            "marker": {
             "colorbar": {
              "outlinewidth": 0,
              "ticks": ""
             }
            },
            "type": "scatterternary"
           }
          ],
          "surface": [
           {
            "colorbar": {
             "outlinewidth": 0,
             "ticks": ""
            },
            "colorscale": [
             [
              0,
              "#0d0887"
             ],
             [
              0.1111111111111111,
              "#46039f"
             ],
             [
              0.2222222222222222,
              "#7201a8"
             ],
             [
              0.3333333333333333,
              "#9c179e"
             ],
             [
              0.4444444444444444,
              "#bd3786"
             ],
             [
              0.5555555555555556,
              "#d8576b"
             ],
             [
              0.6666666666666666,
              "#ed7953"
             ],
             [
              0.7777777777777778,
              "#fb9f3a"
             ],
             [
              0.8888888888888888,
              "#fdca26"
             ],
             [
              1,
              "#f0f921"
             ]
            ],
            "type": "surface"
           }
          ],
          "table": [
           {
            "cells": {
             "fill": {
              "color": "#506784"
             },
             "line": {
              "color": "rgb(17,17,17)"
             }
            },
            "header": {
             "fill": {
              "color": "#2a3f5f"
             },
             "line": {
              "color": "rgb(17,17,17)"
             }
            },
            "type": "table"
           }
          ]
         },
         "layout": {
          "annotationdefaults": {
           "arrowcolor": "#f2f5fa",
           "arrowhead": 0,
           "arrowwidth": 1
          },
          "autotypenumbers": "strict",
          "coloraxis": {
           "colorbar": {
            "outlinewidth": 0,
            "ticks": ""
           }
          },
          "colorscale": {
           "diverging": [
            [
             0,
             "#8e0152"
            ],
            [
             0.1,
             "#c51b7d"
            ],
            [
             0.2,
             "#de77ae"
            ],
            [
             0.3,
             "#f1b6da"
            ],
            [
             0.4,
             "#fde0ef"
            ],
            [
             0.5,
             "#f7f7f7"
            ],
            [
             0.6,
             "#e6f5d0"
            ],
            [
             0.7,
             "#b8e186"
            ],
            [
             0.8,
             "#7fbc41"
            ],
            [
             0.9,
             "#4d9221"
            ],
            [
             1,
             "#276419"
            ]
           ],
           "sequential": [
            [
             0,
             "#0d0887"
            ],
            [
             0.1111111111111111,
             "#46039f"
            ],
            [
             0.2222222222222222,
             "#7201a8"
            ],
            [
             0.3333333333333333,
             "#9c179e"
            ],
            [
             0.4444444444444444,
             "#bd3786"
            ],
            [
             0.5555555555555556,
             "#d8576b"
            ],
            [
             0.6666666666666666,
             "#ed7953"
            ],
            [
             0.7777777777777778,
             "#fb9f3a"
            ],
            [
             0.8888888888888888,
             "#fdca26"
            ],
            [
             1,
             "#f0f921"
            ]
           ],
           "sequentialminus": [
            [
             0,
             "#0d0887"
            ],
            [
             0.1111111111111111,
             "#46039f"
            ],
            [
             0.2222222222222222,
             "#7201a8"
            ],
            [
             0.3333333333333333,
             "#9c179e"
            ],
            [
             0.4444444444444444,
             "#bd3786"
            ],
            [
             0.5555555555555556,
             "#d8576b"
            ],
            [
             0.6666666666666666,
             "#ed7953"
            ],
            [
             0.7777777777777778,
             "#fb9f3a"
            ],
            [
             0.8888888888888888,
             "#fdca26"
            ],
            [
             1,
             "#f0f921"
            ]
           ]
          },
          "colorway": [
           "#636efa",
           "#EF553B",
           "#00cc96",
           "#ab63fa",
           "#FFA15A",
           "#19d3f3",
           "#FF6692",
           "#B6E880",
           "#FF97FF",
           "#FECB52"
          ],
          "font": {
           "color": "#f2f5fa"
          },
          "geo": {
           "bgcolor": "rgb(17,17,17)",
           "lakecolor": "rgb(17,17,17)",
           "landcolor": "rgb(17,17,17)",
           "showlakes": true,
           "showland": true,
           "subunitcolor": "#506784"
          },
          "hoverlabel": {
           "align": "left"
          },
          "hovermode": "closest",
          "mapbox": {
           "style": "dark"
          },
          "paper_bgcolor": "rgb(17,17,17)",
          "plot_bgcolor": "rgb(17,17,17)",
          "polar": {
           "angularaxis": {
            "gridcolor": "#506784",
            "linecolor": "#506784",
            "ticks": ""
           },
           "bgcolor": "rgb(17,17,17)",
           "radialaxis": {
            "gridcolor": "#506784",
            "linecolor": "#506784",
            "ticks": ""
           }
          },
          "scene": {
           "xaxis": {
            "backgroundcolor": "rgb(17,17,17)",
            "gridcolor": "#506784",
            "gridwidth": 2,
            "linecolor": "#506784",
            "showbackground": true,
            "ticks": "",
            "zerolinecolor": "#C8D4E3"
           },
           "yaxis": {
            "backgroundcolor": "rgb(17,17,17)",
            "gridcolor": "#506784",
            "gridwidth": 2,
            "linecolor": "#506784",
            "showbackground": true,
            "ticks": "",
            "zerolinecolor": "#C8D4E3"
           },
           "zaxis": {
            "backgroundcolor": "rgb(17,17,17)",
            "gridcolor": "#506784",
            "gridwidth": 2,
            "linecolor": "#506784",
            "showbackground": true,
            "ticks": "",
            "zerolinecolor": "#C8D4E3"
           }
          },
          "shapedefaults": {
           "line": {
            "color": "#f2f5fa"
           }
          },
          "sliderdefaults": {
           "bgcolor": "#C8D4E3",
           "bordercolor": "rgb(17,17,17)",
           "borderwidth": 1,
           "tickwidth": 0
          },
          "ternary": {
           "aaxis": {
            "gridcolor": "#506784",
            "linecolor": "#506784",
            "ticks": ""
           },
           "baxis": {
            "gridcolor": "#506784",
            "linecolor": "#506784",
            "ticks": ""
           },
           "bgcolor": "rgb(17,17,17)",
           "caxis": {
            "gridcolor": "#506784",
            "linecolor": "#506784",
            "ticks": ""
           }
          },
          "title": {
           "x": 0.05
          },
          "updatemenudefaults": {
           "bgcolor": "#506784",
           "borderwidth": 0
          },
          "xaxis": {
           "automargin": true,
           "gridcolor": "#283442",
           "linecolor": "#506784",
           "ticks": "",
           "title": {
            "standoff": 15
           },
           "zerolinecolor": "#283442",
           "zerolinewidth": 2
          },
          "yaxis": {
           "automargin": true,
           "gridcolor": "#283442",
           "linecolor": "#506784",
           "ticks": "",
           "title": {
            "standoff": 15
           },
           "zerolinecolor": "#283442",
           "zerolinewidth": 2
          }
         }
        },
        "title": {
         "text": "Top 5 meestgebruikte genres door artiesten, per jaar"
        },
        "xaxis": {
         "title": {
          "text": "year"
         },
         "type": "category"
        },
        "yaxis": {
         "tickformat": "0%",
         "title": {
          "text": "percentage"
         }
        }
       }
      },
      "text/html": [
       "<div>                            <div id=\"d52c88e1-b73f-4d1e-8fdd-2dd52c0b73e0\" class=\"plotly-graph-div\" style=\"height:525px; width:100%;\"></div>            <script type=\"text/javascript\">                require([\"plotly\"], function(Plotly) {                    window.PLOTLYENV=window.PLOTLYENV || {};                                    if (document.getElementById(\"d52c88e1-b73f-4d1e-8fdd-2dd52c0b73e0\")) {                    Plotly.newPlot(                        \"d52c88e1-b73f-4d1e-8fdd-2dd52c0b73e0\",                        [{\"legendgroup\":\"adult standards\",\"marker\":{\"color\":\"rgb(102, 197, 204)\"},\"name\":\"adult standards\",\"showlegend\":true,\"x\":[1960],\"y\":[0.06457925636007827],\"type\":\"bar\"},{\"legendgroup\":\"jazz\",\"marker\":{\"color\":\"rgb(246, 207, 113)\"},\"name\":\"jazz\",\"showlegend\":true,\"x\":[1960],\"y\":[0.050880626223091974],\"type\":\"bar\"},{\"legendgroup\":\"bebop\",\"marker\":{\"color\":\"rgb(248, 156, 116)\"},\"name\":\"bebop\",\"showlegend\":true,\"x\":[1960],\"y\":[0.04892367906066536],\"type\":\"bar\"},{\"legendgroup\":\"hard bop\",\"marker\":{\"color\":\"rgb(220, 176, 242)\"},\"name\":\"hard bop\",\"showlegend\":true,\"x\":[1960],\"y\":[0.046966731898238745],\"type\":\"bar\"},{\"legendgroup\":\"lounge\",\"marker\":{\"color\":\"rgb(135, 197, 95)\"},\"name\":\"lounge\",\"showlegend\":true,\"x\":[1960],\"y\":[0.04500978473581213],\"type\":\"bar\"},{\"legendgroup\":\"adult standards\",\"marker\":{\"color\":\"rgb(102, 197, 204)\"},\"name\":\"adult standards\",\"showlegend\":false,\"x\":[1961],\"y\":[0.06273764258555133],\"type\":\"bar\"},{\"legendgroup\":\"jazz\",\"marker\":{\"color\":\"rgb(246, 207, 113)\"},\"name\":\"jazz\",\"showlegend\":false,\"x\":[1961],\"y\":[0.060836501901140684],\"type\":\"bar\"},{\"legendgroup\":\"bebop\",\"marker\":{\"color\":\"rgb(248, 156, 116)\"},\"name\":\"bebop\",\"showlegend\":false,\"x\":[1961],\"y\":[0.055133079847908745],\"type\":\"bar\"},{\"legendgroup\":\"hard bop\",\"marker\":{\"color\":\"rgb(220, 176, 242)\"},\"name\":\"hard bop\",\"showlegend\":false,\"x\":[1961],\"y\":[0.045627376425855515],\"type\":\"bar\"},{\"legendgroup\":\"lounge\",\"marker\":{\"color\":\"rgb(135, 197, 95)\"},\"name\":\"lounge\",\"showlegend\":false,\"x\":[1961],\"y\":[0.03802281368821293],\"type\":\"bar\"},{\"legendgroup\":\"adult standards\",\"marker\":{\"color\":\"rgb(102, 197, 204)\"},\"name\":\"adult standards\",\"showlegend\":false,\"x\":[1962],\"y\":[0.07233273056057866],\"type\":\"bar\"},{\"legendgroup\":\"lounge\",\"marker\":{\"color\":\"rgb(135, 197, 95)\"},\"name\":\"lounge\",\"showlegend\":false,\"x\":[1962],\"y\":[0.05244122965641953],\"type\":\"bar\"},{\"legendgroup\":\"jazz\",\"marker\":{\"color\":\"rgb(246, 207, 113)\"},\"name\":\"jazz\",\"showlegend\":false,\"x\":[1962],\"y\":[0.039783001808318265],\"type\":\"bar\"},{\"legendgroup\":\"bebop\",\"marker\":{\"color\":\"rgb(248, 156, 116)\"},\"name\":\"bebop\",\"showlegend\":false,\"x\":[1962],\"y\":[0.03616636528028933],\"type\":\"bar\"},{\"legendgroup\":\"rock-and-roll\",\"marker\":{\"color\":\"rgb(158, 185, 243)\"},\"name\":\"rock-and-roll\",\"showlegend\":true,\"x\":[1962],\"y\":[0.03616636528028933],\"type\":\"bar\"},{\"legendgroup\":\"adult standards\",\"marker\":{\"color\":\"rgb(102, 197, 204)\"},\"name\":\"adult standards\",\"showlegend\":false,\"x\":[1963],\"y\":[0.05646359583952452],\"type\":\"bar\"},{\"legendgroup\":\"jazz\",\"marker\":{\"color\":\"rgb(246, 207, 113)\"},\"name\":\"jazz\",\"showlegend\":false,\"x\":[1963],\"y\":[0.04606240713224369],\"type\":\"bar\"},{\"legendgroup\":\"lounge\",\"marker\":{\"color\":\"rgb(135, 197, 95)\"},\"name\":\"lounge\",\"showlegend\":false,\"x\":[1963],\"y\":[0.03863298662704309],\"type\":\"bar\"},{\"legendgroup\":\"bebop\",\"marker\":{\"color\":\"rgb(248, 156, 116)\"},\"name\":\"bebop\",\"showlegend\":false,\"x\":[1963],\"y\":[0.03417533432392273],\"type\":\"bar\"},{\"legendgroup\":\"vocal jazz\",\"marker\":{\"color\":\"rgb(254, 136, 177)\"},\"name\":\"vocal jazz\",\"showlegend\":true,\"x\":[1963],\"y\":[0.031203566121842496],\"type\":\"bar\"},{\"legendgroup\":\"adult standards\",\"marker\":{\"color\":\"rgb(102, 197, 204)\"},\"name\":\"adult standards\",\"showlegend\":false,\"x\":[1964],\"y\":[0.05763688760806916],\"type\":\"bar\"},{\"legendgroup\":\"jazz\",\"marker\":{\"color\":\"rgb(246, 207, 113)\"},\"name\":\"jazz\",\"showlegend\":false,\"x\":[1964],\"y\":[0.043227665706051875],\"type\":\"bar\"},{\"legendgroup\":\"lounge\",\"marker\":{\"color\":\"rgb(135, 197, 95)\"},\"name\":\"lounge\",\"showlegend\":false,\"x\":[1964],\"y\":[0.040345821325648415],\"type\":\"bar\"},{\"legendgroup\":\"bebop\",\"marker\":{\"color\":\"rgb(248, 156, 116)\"},\"name\":\"bebop\",\"showlegend\":false,\"x\":[1964],\"y\":[0.03314121037463977],\"type\":\"bar\"},{\"legendgroup\":\"vocal jazz\",\"marker\":{\"color\":\"rgb(254, 136, 177)\"},\"name\":\"vocal jazz\",\"showlegend\":false,\"x\":[1964],\"y\":[0.03025936599423631],\"type\":\"bar\"},{\"legendgroup\":\"adult standards\",\"marker\":{\"color\":\"rgb(102, 197, 204)\"},\"name\":\"adult standards\",\"showlegend\":false,\"x\":[1965],\"y\":[0.04103967168262654],\"type\":\"bar\"},{\"legendgroup\":\"folk rock\",\"marker\":{\"color\":\"rgb(201, 219, 116)\"},\"name\":\"folk rock\",\"showlegend\":true,\"x\":[1965],\"y\":[0.030095759233926128],\"type\":\"bar\"},{\"legendgroup\":\"classic rock\",\"marker\":{\"color\":\"rgb(139, 224, 164)\"},\"name\":\"classic rock\",\"showlegend\":true,\"x\":[1965],\"y\":[0.025991792065663474],\"type\":\"bar\"},{\"legendgroup\":\"lounge\",\"marker\":{\"color\":\"rgb(135, 197, 95)\"},\"name\":\"lounge\",\"showlegend\":false,\"x\":[1965],\"y\":[0.025991792065663474],\"type\":\"bar\"},{\"legendgroup\":\"british invasion\",\"marker\":{\"color\":\"rgb(180, 151, 231)\"},\"name\":\"british invasion\",\"showlegend\":true,\"x\":[1965],\"y\":[0.024623803009575923],\"type\":\"bar\"},{\"legendgroup\":\"classic rock\",\"marker\":{\"color\":\"rgb(139, 224, 164)\"},\"name\":\"classic rock\",\"showlegend\":false,\"x\":[1966],\"y\":[0.038901601830663615],\"type\":\"bar\"},{\"legendgroup\":\"psychedelic rock\",\"marker\":{\"color\":\"rgb(179, 179, 179)\"},\"name\":\"psychedelic rock\",\"showlegend\":true,\"x\":[1966],\"y\":[0.036613272311212815],\"type\":\"bar\"},{\"legendgroup\":\"soul\",\"marker\":{\"color\":\"#4C78A8\"},\"name\":\"soul\",\"showlegend\":true,\"x\":[1966],\"y\":[0.03318077803203661],\"type\":\"bar\"},{\"legendgroup\":\"folk rock\",\"marker\":{\"color\":\"rgb(201, 219, 116)\"},\"name\":\"folk rock\",\"showlegend\":false,\"x\":[1966],\"y\":[0.029748283752860413],\"type\":\"bar\"},{\"legendgroup\":\"bubblegum pop\",\"marker\":{\"color\":\"#F58518\"},\"name\":\"bubblegum pop\",\"showlegend\":true,\"x\":[1966],\"y\":[0.02517162471395881],\"type\":\"bar\"},{\"legendgroup\":\"classic rock\",\"marker\":{\"color\":\"rgb(139, 224, 164)\"},\"name\":\"classic rock\",\"showlegend\":false,\"x\":[1967],\"y\":[0.051756007393715345],\"type\":\"bar\"},{\"legendgroup\":\"folk rock\",\"marker\":{\"color\":\"rgb(201, 219, 116)\"},\"name\":\"folk rock\",\"showlegend\":false,\"x\":[1967],\"y\":[0.04621072088724584],\"type\":\"bar\"},{\"legendgroup\":\"psychedelic rock\",\"marker\":{\"color\":\"rgb(179, 179, 179)\"},\"name\":\"psychedelic rock\",\"showlegend\":false,\"x\":[1967],\"y\":[0.04066543438077634],\"type\":\"bar\"},{\"legendgroup\":\"rock\",\"marker\":{\"color\":\"#E45756\"},\"name\":\"rock\",\"showlegend\":true,\"x\":[1967],\"y\":[0.03234750462107209],\"type\":\"bar\"},{\"legendgroup\":\"bubblegum pop\",\"marker\":{\"color\":\"#F58518\"},\"name\":\"bubblegum pop\",\"showlegend\":false,\"x\":[1967],\"y\":[0.02865064695009242],\"type\":\"bar\"},{\"legendgroup\":\"classic rock\",\"marker\":{\"color\":\"rgb(139, 224, 164)\"},\"name\":\"classic rock\",\"showlegend\":false,\"x\":[1968],\"y\":[0.04556962025316456],\"type\":\"bar\"},{\"legendgroup\":\"psychedelic rock\",\"marker\":{\"color\":\"rgb(179, 179, 179)\"},\"name\":\"psychedelic rock\",\"showlegend\":false,\"x\":[1968],\"y\":[0.038818565400843885],\"type\":\"bar\"},{\"legendgroup\":\"folk rock\",\"marker\":{\"color\":\"rgb(201, 219, 116)\"},\"name\":\"folk rock\",\"showlegend\":false,\"x\":[1968],\"y\":[0.035443037974683546],\"type\":\"bar\"},{\"legendgroup\":\"rock\",\"marker\":{\"color\":\"#E45756\"},\"name\":\"rock\",\"showlegend\":false,\"x\":[1968],\"y\":[0.031223628691983123],\"type\":\"bar\"},{\"legendgroup\":\"adult standards\",\"marker\":{\"color\":\"rgb(102, 197, 204)\"},\"name\":\"adult standards\",\"showlegend\":false,\"x\":[1968],\"y\":[0.02869198312236287],\"type\":\"bar\"},{\"legendgroup\":\"classic rock\",\"marker\":{\"color\":\"rgb(139, 224, 164)\"},\"name\":\"classic rock\",\"showlegend\":false,\"x\":[1969],\"y\":[0.04968383017163505],\"type\":\"bar\"},{\"legendgroup\":\"folk rock\",\"marker\":{\"color\":\"rgb(201, 219, 116)\"},\"name\":\"folk rock\",\"showlegend\":false,\"x\":[1969],\"y\":[0.03432700993676603],\"type\":\"bar\"},{\"legendgroup\":\"rock\",\"marker\":{\"color\":\"#E45756\"},\"name\":\"rock\",\"showlegend\":false,\"x\":[1969],\"y\":[0.031616982836495035],\"type\":\"bar\"},{\"legendgroup\":\"blues rock\",\"marker\":{\"color\":\"#72B7B2\"},\"name\":\"blues rock\",\"showlegend\":true,\"x\":[1969],\"y\":[0.02981029810298103],\"type\":\"bar\"},{\"legendgroup\":\"psychedelic rock\",\"marker\":{\"color\":\"rgb(179, 179, 179)\"},\"name\":\"psychedelic rock\",\"showlegend\":false,\"x\":[1969],\"y\":[0.026196928635953028],\"type\":\"bar\"},{\"legendgroup\":\"classic rock\",\"marker\":{\"color\":\"rgb(139, 224, 164)\"},\"name\":\"classic rock\",\"showlegend\":false,\"x\":[1970],\"y\":[0.057692307692307696],\"type\":\"bar\"},{\"legendgroup\":\"rock\",\"marker\":{\"color\":\"#E45756\"},\"name\":\"rock\",\"showlegend\":false,\"x\":[1970],\"y\":[0.04131054131054131],\"type\":\"bar\"},{\"legendgroup\":\"folk rock\",\"marker\":{\"color\":\"rgb(201, 219, 116)\"},\"name\":\"folk rock\",\"showlegend\":false,\"x\":[1970],\"y\":[0.03917378917378917],\"type\":\"bar\"},{\"legendgroup\":\"psychedelic rock\",\"marker\":{\"color\":\"rgb(179, 179, 179)\"},\"name\":\"psychedelic rock\",\"showlegend\":false,\"x\":[1970],\"y\":[0.03418803418803419],\"type\":\"bar\"},{\"legendgroup\":\"mellow gold\",\"marker\":{\"color\":\"#54A24B\"},\"name\":\"mellow gold\",\"showlegend\":true,\"x\":[1970],\"y\":[0.03276353276353276],\"type\":\"bar\"},{\"legendgroup\":\"classic rock\",\"marker\":{\"color\":\"rgb(139, 224, 164)\"},\"name\":\"classic rock\",\"showlegend\":false,\"x\":[1971],\"y\":[0.054615384615384614],\"type\":\"bar\"},{\"legendgroup\":\"folk rock\",\"marker\":{\"color\":\"rgb(201, 219, 116)\"},\"name\":\"folk rock\",\"showlegend\":false,\"x\":[1971],\"y\":[0.036923076923076927],\"type\":\"bar\"},{\"legendgroup\":\"rock\",\"marker\":{\"color\":\"#E45756\"},\"name\":\"rock\",\"showlegend\":false,\"x\":[1971],\"y\":[0.036153846153846154],\"type\":\"bar\"},{\"legendgroup\":\"country rock\",\"marker\":{\"color\":\"#EECA3B\"},\"name\":\"country rock\",\"showlegend\":true,\"x\":[1971],\"y\":[0.031538461538461536],\"type\":\"bar\"},{\"legendgroup\":\"mellow gold\",\"marker\":{\"color\":\"#54A24B\"},\"name\":\"mellow gold\",\"showlegend\":false,\"x\":[1971],\"y\":[0.03076923076923077],\"type\":\"bar\"},{\"legendgroup\":\"classic rock\",\"marker\":{\"color\":\"rgb(139, 224, 164)\"},\"name\":\"classic rock\",\"showlegend\":false,\"x\":[1972],\"y\":[0.0471584038694075],\"type\":\"bar\"},{\"legendgroup\":\"folk rock\",\"marker\":{\"color\":\"rgb(201, 219, 116)\"},\"name\":\"folk rock\",\"showlegend\":false,\"x\":[1972],\"y\":[0.036275695284159616],\"type\":\"bar\"},{\"legendgroup\":\"country rock\",\"marker\":{\"color\":\"#EECA3B\"},\"name\":\"country rock\",\"showlegend\":false,\"x\":[1972],\"y\":[0.036275695284159616],\"type\":\"bar\"},{\"legendgroup\":\"rock\",\"marker\":{\"color\":\"#E45756\"},\"name\":\"rock\",\"showlegend\":false,\"x\":[1972],\"y\":[0.03083434099153567],\"type\":\"bar\"},{\"legendgroup\":\"mellow gold\",\"marker\":{\"color\":\"#54A24B\"},\"name\":\"mellow gold\",\"showlegend\":false,\"x\":[1972],\"y\":[0.030229746070133012],\"type\":\"bar\"},{\"legendgroup\":\"classic rock\",\"marker\":{\"color\":\"rgb(139, 224, 164)\"},\"name\":\"classic rock\",\"showlegend\":false,\"x\":[1973],\"y\":[0.048642533936651584],\"type\":\"bar\"},{\"legendgroup\":\"rock\",\"marker\":{\"color\":\"#E45756\"},\"name\":\"rock\",\"showlegend\":false,\"x\":[1973],\"y\":[0.03506787330316742],\"type\":\"bar\"},{\"legendgroup\":\"mellow gold\",\"marker\":{\"color\":\"#54A24B\"},\"name\":\"mellow gold\",\"showlegend\":false,\"x\":[1973],\"y\":[0.03167420814479638],\"type\":\"bar\"},{\"legendgroup\":\"album rock\",\"marker\":{\"color\":\"#B279A2\"},\"name\":\"album rock\",\"showlegend\":true,\"x\":[1973],\"y\":[0.030542986425339366],\"type\":\"bar\"},{\"legendgroup\":\"country rock\",\"marker\":{\"color\":\"#EECA3B\"},\"name\":\"country rock\",\"showlegend\":false,\"x\":[1973],\"y\":[0.02997737556561086],\"type\":\"bar\"},{\"legendgroup\":\"classic rock\",\"marker\":{\"color\":\"rgb(139, 224, 164)\"},\"name\":\"classic rock\",\"showlegend\":false,\"x\":[1974],\"y\":[0.04513888888888889],\"type\":\"bar\"},{\"legendgroup\":\"rock\",\"marker\":{\"color\":\"#E45756\"},\"name\":\"rock\",\"showlegend\":false,\"x\":[1974],\"y\":[0.035416666666666666],\"type\":\"bar\"},{\"legendgroup\":\"folk rock\",\"marker\":{\"color\":\"rgb(201, 219, 116)\"},\"name\":\"folk rock\",\"showlegend\":false,\"x\":[1974],\"y\":[0.03125],\"type\":\"bar\"},{\"legendgroup\":\"mellow gold\",\"marker\":{\"color\":\"#54A24B\"},\"name\":\"mellow gold\",\"showlegend\":false,\"x\":[1974],\"y\":[0.030555555555555555],\"type\":\"bar\"},{\"legendgroup\":\"country rock\",\"marker\":{\"color\":\"#EECA3B\"},\"name\":\"country rock\",\"showlegend\":false,\"x\":[1974],\"y\":[0.030555555555555555],\"type\":\"bar\"},{\"legendgroup\":\"classic rock\",\"marker\":{\"color\":\"rgb(139, 224, 164)\"},\"name\":\"classic rock\",\"showlegend\":false,\"x\":[1975],\"y\":[0.04288377874456184],\"type\":\"bar\"},{\"legendgroup\":\"mellow gold\",\"marker\":{\"color\":\"#54A24B\"},\"name\":\"mellow gold\",\"showlegend\":false,\"x\":[1975],\"y\":[0.03356121814791796],\"type\":\"bar\"},{\"legendgroup\":\"album rock\",\"marker\":{\"color\":\"#B279A2\"},\"name\":\"album rock\",\"showlegend\":false,\"x\":[1975],\"y\":[0.032939714108141706],\"type\":\"bar\"},{\"legendgroup\":\"rock\",\"marker\":{\"color\":\"#E45756\"},\"name\":\"rock\",\"showlegend\":false,\"x\":[1975],\"y\":[0.032939714108141706],\"type\":\"bar\"},{\"legendgroup\":\"soft rock\",\"marker\":{\"color\":\"#FF9DA6\"},\"name\":\"soft rock\",\"showlegend\":true,\"x\":[1975],\"y\":[0.031075201988812928],\"type\":\"bar\"},{\"legendgroup\":\"classic rock\",\"marker\":{\"color\":\"rgb(139, 224, 164)\"},\"name\":\"classic rock\",\"showlegend\":false,\"x\":[1976],\"y\":[0.04151177199504337],\"type\":\"bar\"},{\"legendgroup\":\"mellow gold\",\"marker\":{\"color\":\"#54A24B\"},\"name\":\"mellow gold\",\"showlegend\":false,\"x\":[1976],\"y\":[0.03593556381660471],\"type\":\"bar\"},{\"legendgroup\":\"soft rock\",\"marker\":{\"color\":\"#FF9DA6\"},\"name\":\"soft rock\",\"showlegend\":false,\"x\":[1976],\"y\":[0.03531598513011153],\"type\":\"bar\"},{\"legendgroup\":\"rock\",\"marker\":{\"color\":\"#E45756\"},\"name\":\"rock\",\"showlegend\":false,\"x\":[1976],\"y\":[0.0322180916976456],\"type\":\"bar\"},{\"legendgroup\":\"album rock\",\"marker\":{\"color\":\"#B279A2\"},\"name\":\"album rock\",\"showlegend\":false,\"x\":[1976],\"y\":[0.030359355638166045],\"type\":\"bar\"},{\"legendgroup\":\"classic rock\",\"marker\":{\"color\":\"rgb(139, 224, 164)\"},\"name\":\"classic rock\",\"showlegend\":false,\"x\":[1977],\"y\":[0.04437086092715232],\"type\":\"bar\"},{\"legendgroup\":\"mellow gold\",\"marker\":{\"color\":\"#54A24B\"},\"name\":\"mellow gold\",\"showlegend\":false,\"x\":[1977],\"y\":[0.03708609271523179],\"type\":\"bar\"},{\"legendgroup\":\"rock\",\"marker\":{\"color\":\"#E45756\"},\"name\":\"rock\",\"showlegend\":false,\"x\":[1977],\"y\":[0.03708609271523179],\"type\":\"bar\"},{\"legendgroup\":\"album rock\",\"marker\":{\"color\":\"#B279A2\"},\"name\":\"album rock\",\"showlegend\":false,\"x\":[1977],\"y\":[0.035099337748344374],\"type\":\"bar\"},{\"legendgroup\":\"soft rock\",\"marker\":{\"color\":\"#FF9DA6\"},\"name\":\"soft rock\",\"showlegend\":false,\"x\":[1977],\"y\":[0.033112582781456956],\"type\":\"bar\"},{\"legendgroup\":\"mellow gold\",\"marker\":{\"color\":\"#54A24B\"},\"name\":\"mellow gold\",\"showlegend\":false,\"x\":[1978],\"y\":[0.04352872896111434],\"type\":\"bar\"},{\"legendgroup\":\"classic rock\",\"marker\":{\"color\":\"rgb(139, 224, 164)\"},\"name\":\"classic rock\",\"showlegend\":false,\"x\":[1978],\"y\":[0.04352872896111434],\"type\":\"bar\"},{\"legendgroup\":\"soft rock\",\"marker\":{\"color\":\"#FF9DA6\"},\"name\":\"soft rock\",\"showlegend\":false,\"x\":[1978],\"y\":[0.0412071967498549],\"type\":\"bar\"},{\"legendgroup\":\"rock\",\"marker\":{\"color\":\"#E45756\"},\"name\":\"rock\",\"showlegend\":false,\"x\":[1978],\"y\":[0.0371445153801509],\"type\":\"bar\"},{\"legendgroup\":\"album rock\",\"marker\":{\"color\":\"#B279A2\"},\"name\":\"album rock\",\"showlegend\":false,\"x\":[1978],\"y\":[0.03366221706326175],\"type\":\"bar\"},{\"legendgroup\":\"rock\",\"marker\":{\"color\":\"#E45756\"},\"name\":\"rock\",\"showlegend\":false,\"x\":[1979],\"y\":[0.0337798485730926],\"type\":\"bar\"},{\"legendgroup\":\"classic rock\",\"marker\":{\"color\":\"rgb(139, 224, 164)\"},\"name\":\"classic rock\",\"showlegend\":false,\"x\":[1979],\"y\":[0.0337798485730926],\"type\":\"bar\"},{\"legendgroup\":\"mellow gold\",\"marker\":{\"color\":\"#54A24B\"},\"name\":\"mellow gold\",\"showlegend\":false,\"x\":[1979],\"y\":[0.0320326150262085],\"type\":\"bar\"},{\"legendgroup\":\"soft rock\",\"marker\":{\"color\":\"#FF9DA6\"},\"name\":\"soft rock\",\"showlegend\":false,\"x\":[1979],\"y\":[0.0320326150262085],\"type\":\"bar\"},{\"legendgroup\":\"album rock\",\"marker\":{\"color\":\"#B279A2\"},\"name\":\"album rock\",\"showlegend\":false,\"x\":[1979],\"y\":[0.030867792661619105],\"type\":\"bar\"},{\"legendgroup\":\"rock\",\"marker\":{\"color\":\"#E45756\"},\"name\":\"rock\",\"showlegend\":false,\"x\":[1980],\"y\":[0.038117927337701016],\"type\":\"bar\"},{\"legendgroup\":\"classic rock\",\"marker\":{\"color\":\"rgb(139, 224, 164)\"},\"name\":\"classic rock\",\"showlegend\":false,\"x\":[1980],\"y\":[0.03633114949374628],\"type\":\"bar\"},{\"legendgroup\":\"mellow gold\",\"marker\":{\"color\":\"#54A24B\"},\"name\":\"mellow gold\",\"showlegend\":false,\"x\":[1980],\"y\":[0.029779630732578916],\"type\":\"bar\"},{\"legendgroup\":\"album rock\",\"marker\":{\"color\":\"#B279A2\"},\"name\":\"album rock\",\"showlegend\":false,\"x\":[1980],\"y\":[0.02799285288862418],\"type\":\"bar\"},{\"legendgroup\":\"soft rock\",\"marker\":{\"color\":\"#FF9DA6\"},\"name\":\"soft rock\",\"showlegend\":false,\"x\":[1980],\"y\":[0.0273972602739726],\"type\":\"bar\"},{\"legendgroup\":\"rock\",\"marker\":{\"color\":\"#E45756\"},\"name\":\"rock\",\"showlegend\":false,\"x\":[1981],\"y\":[0.036180308422301306],\"type\":\"bar\"},{\"legendgroup\":\"mellow gold\",\"marker\":{\"color\":\"#54A24B\"},\"name\":\"mellow gold\",\"showlegend\":false,\"x\":[1981],\"y\":[0.033214709371293],\"type\":\"bar\"},{\"legendgroup\":\"soft rock\",\"marker\":{\"color\":\"#FF9DA6\"},\"name\":\"soft rock\",\"showlegend\":false,\"x\":[1981],\"y\":[0.03143534994068802],\"type\":\"bar\"},{\"legendgroup\":\"classic rock\",\"marker\":{\"color\":\"rgb(139, 224, 164)\"},\"name\":\"classic rock\",\"showlegend\":false,\"x\":[1981],\"y\":[0.030249110320284697],\"type\":\"bar\"},{\"legendgroup\":\"album rock\",\"marker\":{\"color\":\"#B279A2\"},\"name\":\"album rock\",\"showlegend\":false,\"x\":[1981],\"y\":[0.029062870699881376],\"type\":\"bar\"},{\"legendgroup\":\"rock\",\"marker\":{\"color\":\"#E45756\"},\"name\":\"rock\",\"showlegend\":false,\"x\":[1982],\"y\":[0.037037037037037035],\"type\":\"bar\"},{\"legendgroup\":\"classic rock\",\"marker\":{\"color\":\"rgb(139, 224, 164)\"},\"name\":\"classic rock\",\"showlegend\":false,\"x\":[1982],\"y\":[0.03198653198653199],\"type\":\"bar\"},{\"legendgroup\":\"soft rock\",\"marker\":{\"color\":\"#FF9DA6\"},\"name\":\"soft rock\",\"showlegend\":false,\"x\":[1982],\"y\":[0.031425364758698095],\"type\":\"bar\"},{\"legendgroup\":\"mellow gold\",\"marker\":{\"color\":\"#54A24B\"},\"name\":\"mellow gold\",\"showlegend\":false,\"x\":[1982],\"y\":[0.030864197530864196],\"type\":\"bar\"},{\"legendgroup\":\"album rock\",\"marker\":{\"color\":\"#B279A2\"},\"name\":\"album rock\",\"showlegend\":false,\"x\":[1982],\"y\":[0.030303030303030304],\"type\":\"bar\"},{\"legendgroup\":\"rock\",\"marker\":{\"color\":\"#E45756\"},\"name\":\"rock\",\"showlegend\":false,\"x\":[1983],\"y\":[0.03641618497109827],\"type\":\"bar\"},{\"legendgroup\":\"album rock\",\"marker\":{\"color\":\"#B279A2\"},\"name\":\"album rock\",\"showlegend\":false,\"x\":[1983],\"y\":[0.028323699421965318],\"type\":\"bar\"},{\"legendgroup\":\"soft rock\",\"marker\":{\"color\":\"#FF9DA6\"},\"name\":\"soft rock\",\"showlegend\":false,\"x\":[1983],\"y\":[0.028323699421965318],\"type\":\"bar\"},{\"legendgroup\":\"mellow gold\",\"marker\":{\"color\":\"#54A24B\"},\"name\":\"mellow gold\",\"showlegend\":false,\"x\":[1983],\"y\":[0.025433526011560695],\"type\":\"bar\"},{\"legendgroup\":\"classic rock\",\"marker\":{\"color\":\"rgb(139, 224, 164)\"},\"name\":\"classic rock\",\"showlegend\":false,\"x\":[1983],\"y\":[0.025433526011560695],\"type\":\"bar\"},{\"legendgroup\":\"rock\",\"marker\":{\"color\":\"#E45756\"},\"name\":\"rock\",\"showlegend\":false,\"x\":[1984],\"y\":[0.031638418079096044],\"type\":\"bar\"},{\"legendgroup\":\"album rock\",\"marker\":{\"color\":\"#B279A2\"},\"name\":\"album rock\",\"showlegend\":false,\"x\":[1984],\"y\":[0.02768361581920904],\"type\":\"bar\"},{\"legendgroup\":\"soft rock\",\"marker\":{\"color\":\"#FF9DA6\"},\"name\":\"soft rock\",\"showlegend\":false,\"x\":[1984],\"y\":[0.02598870056497175],\"type\":\"bar\"},{\"legendgroup\":\"mellow gold\",\"marker\":{\"color\":\"#54A24B\"},\"name\":\"mellow gold\",\"showlegend\":false,\"x\":[1984],\"y\":[0.022598870056497175],\"type\":\"bar\"},{\"legendgroup\":\"hard rock\",\"marker\":{\"color\":\"#9D755D\"},\"name\":\"hard rock\",\"showlegend\":true,\"x\":[1984],\"y\":[0.022033898305084745],\"type\":\"bar\"},{\"legendgroup\":\"new wave pop\",\"marker\":{\"color\":\"#BAB0AC\"},\"name\":\"new wave pop\",\"showlegend\":true,\"x\":[1985],\"y\":[0.029428736295441432],\"type\":\"bar\"},{\"legendgroup\":\"new wave\",\"marker\":{\"color\":\"rgb(102, 197, 204)\"},\"name\":\"new wave\",\"showlegend\":true,\"x\":[1985],\"y\":[0.028851702250432775],\"type\":\"bar\"},{\"legendgroup\":\"rock\",\"marker\":{\"color\":\"#E45756\"},\"name\":\"rock\",\"showlegend\":false,\"x\":[1985],\"y\":[0.02827466820542412],\"type\":\"bar\"},{\"legendgroup\":\"new romantic\",\"marker\":{\"color\":\"rgb(246, 207, 113)\"},\"name\":\"new romantic\",\"showlegend\":true,\"x\":[1985],\"y\":[0.026543566070398154],\"type\":\"bar\"},{\"legendgroup\":\"soft rock\",\"marker\":{\"color\":\"#FF9DA6\"},\"name\":\"soft rock\",\"showlegend\":false,\"x\":[1985],\"y\":[0.024235429890363532],\"type\":\"bar\"},{\"legendgroup\":\"rock\",\"marker\":{\"color\":\"#E45756\"},\"name\":\"rock\",\"showlegend\":false,\"x\":[1986],\"y\":[0.03234802007808143],\"type\":\"bar\"},{\"legendgroup\":\"new wave pop\",\"marker\":{\"color\":\"#BAB0AC\"},\"name\":\"new wave pop\",\"showlegend\":false,\"x\":[1986],\"y\":[0.025655326268823202],\"type\":\"bar\"},{\"legendgroup\":\"soft rock\",\"marker\":{\"color\":\"#FF9DA6\"},\"name\":\"soft rock\",\"showlegend\":false,\"x\":[1986],\"y\":[0.02509760178471835],\"type\":\"bar\"},{\"legendgroup\":\"new wave\",\"marker\":{\"color\":\"rgb(102, 197, 204)\"},\"name\":\"new wave\",\"showlegend\":false,\"x\":[1986],\"y\":[0.023982152816508645],\"type\":\"bar\"},{\"legendgroup\":\"mellow gold\",\"marker\":{\"color\":\"#54A24B\"},\"name\":\"mellow gold\",\"showlegend\":false,\"x\":[1986],\"y\":[0.021193530395984383],\"type\":\"bar\"},{\"legendgroup\":\"rock\",\"marker\":{\"color\":\"#E45756\"},\"name\":\"rock\",\"showlegend\":false,\"x\":[1987],\"y\":[0.026539809714571858],\"type\":\"bar\"},{\"legendgroup\":\"new wave pop\",\"marker\":{\"color\":\"#BAB0AC\"},\"name\":\"new wave pop\",\"showlegend\":false,\"x\":[1987],\"y\":[0.01902854281422133],\"type\":\"bar\"},{\"legendgroup\":\"classical performance\",\"marker\":{\"color\":\"rgb(248, 156, 116)\"},\"name\":\"classical performance\",\"showlegend\":true,\"x\":[1987],\"y\":[0.018527791687531298],\"type\":\"bar\"},{\"legendgroup\":\"classic rock\",\"marker\":{\"color\":\"rgb(139, 224, 164)\"},\"name\":\"classic rock\",\"showlegend\":false,\"x\":[1987],\"y\":[0.018027040560841263],\"type\":\"bar\"},{\"legendgroup\":\"hard rock\",\"marker\":{\"color\":\"#9D755D\"},\"name\":\"hard rock\",\"showlegend\":false,\"x\":[1987],\"y\":[0.017526289434151226],\"type\":\"bar\"},{\"legendgroup\":\"rock\",\"marker\":{\"color\":\"#E45756\"},\"name\":\"rock\",\"showlegend\":false,\"x\":[1988],\"y\":[0.03047960555804572],\"type\":\"bar\"},{\"legendgroup\":\"new wave pop\",\"marker\":{\"color\":\"#BAB0AC\"},\"name\":\"new wave pop\",\"showlegend\":false,\"x\":[1988],\"y\":[0.0210667861945316],\"type\":\"bar\"},{\"legendgroup\":\"hard rock\",\"marker\":{\"color\":\"#9D755D\"},\"name\":\"hard rock\",\"showlegend\":false,\"x\":[1988],\"y\":[0.020170327207530255],\"type\":\"bar\"},{\"legendgroup\":\"soft rock\",\"marker\":{\"color\":\"#FF9DA6\"},\"name\":\"soft rock\",\"showlegend\":false,\"x\":[1988],\"y\":[0.017929179740026894],\"type\":\"bar\"},{\"legendgroup\":\"album rock\",\"marker\":{\"color\":\"#B279A2\"},\"name\":\"album rock\",\"showlegend\":false,\"x\":[1988],\"y\":[0.01748095024652622],\"type\":\"bar\"},{\"legendgroup\":\"rock\",\"marker\":{\"color\":\"#E45756\"},\"name\":\"rock\",\"showlegend\":false,\"x\":[1989],\"y\":[0.02880481513327601],\"type\":\"bar\"},{\"legendgroup\":\"hard rock\",\"marker\":{\"color\":\"#9D755D\"},\"name\":\"hard rock\",\"showlegend\":false,\"x\":[1989],\"y\":[0.02063628546861565],\"type\":\"bar\"},{\"legendgroup\":\"soft rock\",\"marker\":{\"color\":\"#FF9DA6\"},\"name\":\"soft rock\",\"showlegend\":false,\"x\":[1989],\"y\":[0.018056749785038694],\"type\":\"bar\"},{\"legendgroup\":\"mellow gold\",\"marker\":{\"color\":\"#54A24B\"},\"name\":\"mellow gold\",\"showlegend\":false,\"x\":[1989],\"y\":[0.0176268271711092],\"type\":\"bar\"},{\"legendgroup\":\"new wave pop\",\"marker\":{\"color\":\"#BAB0AC\"},\"name\":\"new wave pop\",\"showlegend\":false,\"x\":[1989],\"y\":[0.0176268271711092],\"type\":\"bar\"},{\"legendgroup\":\"rock\",\"marker\":{\"color\":\"#E45756\"},\"name\":\"rock\",\"showlegend\":false,\"x\":[1990],\"y\":[0.023272995936461028],\"type\":\"bar\"},{\"legendgroup\":\"hard rock\",\"marker\":{\"color\":\"#9D755D\"},\"name\":\"hard rock\",\"showlegend\":false,\"x\":[1990],\"y\":[0.016623568526043592],\"type\":\"bar\"},{\"legendgroup\":\"classical performance\",\"marker\":{\"color\":\"rgb(248, 156, 116)\"},\"name\":\"classical performance\",\"showlegend\":false,\"x\":[1990],\"y\":[0.012929442186922793],\"type\":\"bar\"},{\"legendgroup\":\"new wave pop\",\"marker\":{\"color\":\"#BAB0AC\"},\"name\":\"new wave pop\",\"showlegend\":false,\"x\":[1990],\"y\":[0.012560029553010712],\"type\":\"bar\"},{\"legendgroup\":\"alternative rock\",\"marker\":{\"color\":\"rgb(220, 176, 242)\"},\"name\":\"alternative rock\",\"showlegend\":true,\"x\":[1990],\"y\":[0.011821204285186553],\"type\":\"bar\"},{\"legendgroup\":\"rock\",\"marker\":{\"color\":\"#E45756\"},\"name\":\"rock\",\"showlegend\":false,\"x\":[1991],\"y\":[0.01998572448251249],\"type\":\"bar\"},{\"legendgroup\":\"mellow gold\",\"marker\":{\"color\":\"#54A24B\"},\"name\":\"mellow gold\",\"showlegend\":false,\"x\":[1991],\"y\":[0.013561741613133477],\"type\":\"bar\"},{\"legendgroup\":\"classic rock\",\"marker\":{\"color\":\"rgb(139, 224, 164)\"},\"name\":\"classic rock\",\"showlegend\":false,\"x\":[1991],\"y\":[0.013204853675945753],\"type\":\"bar\"},{\"legendgroup\":\"adult standards\",\"marker\":{\"color\":\"rgb(102, 197, 204)\"},\"name\":\"adult standards\",\"showlegend\":false,\"x\":[1991],\"y\":[0.013204853675945753],\"type\":\"bar\"},{\"legendgroup\":\"country rock\",\"marker\":{\"color\":\"#EECA3B\"},\"name\":\"country rock\",\"showlegend\":false,\"x\":[1991],\"y\":[0.01284796573875803],\"type\":\"bar\"},{\"legendgroup\":\"rock\",\"marker\":{\"color\":\"#E45756\"},\"name\":\"rock\",\"showlegend\":false,\"x\":[1992],\"y\":[0.02531645569620253],\"type\":\"bar\"},{\"legendgroup\":\"alternative rock\",\"marker\":{\"color\":\"rgb(220, 176, 242)\"},\"name\":\"alternative rock\",\"showlegend\":false,\"x\":[1992],\"y\":[0.015323117921385743],\"type\":\"bar\"},{\"legendgroup\":\"classic rock\",\"marker\":{\"color\":\"rgb(139, 224, 164)\"},\"name\":\"classic rock\",\"showlegend\":false,\"x\":[1992],\"y\":[0.012658227848101266],\"type\":\"bar\"},{\"legendgroup\":\"hard rock\",\"marker\":{\"color\":\"#9D755D\"},\"name\":\"hard rock\",\"showlegend\":false,\"x\":[1992],\"y\":[0.011992005329780146],\"type\":\"bar\"},{\"legendgroup\":\"classical\",\"marker\":{\"color\":\"rgb(135, 197, 95)\"},\"name\":\"classical\",\"showlegend\":true,\"x\":[1992],\"y\":[0.011658894070619586],\"type\":\"bar\"},{\"legendgroup\":\"rock\",\"marker\":{\"color\":\"#E45756\"},\"name\":\"rock\",\"showlegend\":false,\"x\":[1993],\"y\":[0.01740989615149664],\"type\":\"bar\"},{\"legendgroup\":\"alternative rock\",\"marker\":{\"color\":\"rgb(220, 176, 242)\"},\"name\":\"alternative rock\",\"showlegend\":false,\"x\":[1993],\"y\":[0.013744654856444716],\"type\":\"bar\"},{\"legendgroup\":\"hip hop\",\"marker\":{\"color\":\"rgb(158, 185, 243)\"},\"name\":\"hip hop\",\"showlegend\":true,\"x\":[1993],\"y\":[0.010690287110568112],\"type\":\"bar\"},{\"legendgroup\":\"classical\",\"marker\":{\"color\":\"rgb(135, 197, 95)\"},\"name\":\"classical\",\"showlegend\":false,\"x\":[1993],\"y\":[0.010690287110568112],\"type\":\"bar\"},{\"legendgroup\":\"pop rock\",\"marker\":{\"color\":\"rgb(254, 136, 177)\"},\"name\":\"pop rock\",\"showlegend\":true,\"x\":[1993],\"y\":[0.009773976786805132],\"type\":\"bar\"},{\"legendgroup\":\"rock\",\"marker\":{\"color\":\"#E45756\"},\"name\":\"rock\",\"showlegend\":false,\"x\":[1994],\"y\":[0.020471993176002276],\"type\":\"bar\"},{\"legendgroup\":\"alternative rock\",\"marker\":{\"color\":\"rgb(220, 176, 242)\"},\"name\":\"alternative rock\",\"showlegend\":false,\"x\":[1994],\"y\":[0.017059994313335228],\"type\":\"bar\"},{\"legendgroup\":\"hip hop\",\"marker\":{\"color\":\"rgb(158, 185, 243)\"},\"name\":\"hip hop\",\"showlegend\":false,\"x\":[1994],\"y\":[0.012226329257890247],\"type\":\"bar\"},{\"legendgroup\":\"pop rock\",\"marker\":{\"color\":\"rgb(254, 136, 177)\"},\"name\":\"pop rock\",\"showlegend\":false,\"x\":[1994],\"y\":[0.011373329542223486],\"type\":\"bar\"},{\"legendgroup\":\"gangster rap\",\"marker\":{\"color\":\"rgb(201, 219, 116)\"},\"name\":\"gangster rap\",\"showlegend\":true,\"x\":[1994],\"y\":[0.010804663065112312],\"type\":\"bar\"},{\"legendgroup\":\"rock\",\"marker\":{\"color\":\"#E45756\"},\"name\":\"rock\",\"showlegend\":false,\"x\":[1995],\"y\":[0.01655795283492223],\"type\":\"bar\"},{\"legendgroup\":\"alternative rock\",\"marker\":{\"color\":\"rgb(220, 176, 242)\"},\"name\":\"alternative rock\",\"showlegend\":false,\"x\":[1995],\"y\":[0.014550928248871048],\"type\":\"bar\"},{\"legendgroup\":\"pop rock\",\"marker\":{\"color\":\"rgb(254, 136, 177)\"},\"name\":\"pop rock\",\"showlegend\":false,\"x\":[1995],\"y\":[0.012794781736076268],\"type\":\"bar\"},{\"legendgroup\":\"hip hop\",\"marker\":{\"color\":\"rgb(158, 185, 243)\"},\"name\":\"hip hop\",\"showlegend\":false,\"x\":[1995],\"y\":[0.012293025589563472],\"type\":\"bar\"},{\"legendgroup\":\"classical performance\",\"marker\":{\"color\":\"rgb(248, 156, 116)\"},\"name\":\"classical performance\",\"showlegend\":false,\"x\":[1995],\"y\":[0.012293025589563472],\"type\":\"bar\"},{\"legendgroup\":\"rock\",\"marker\":{\"color\":\"#E45756\"},\"name\":\"rock\",\"showlegend\":false,\"x\":[1996],\"y\":[0.015410146989094358],\"type\":\"bar\"},{\"legendgroup\":\"alternative rock\",\"marker\":{\"color\":\"rgb(220, 176, 242)\"},\"name\":\"alternative rock\",\"showlegend\":false,\"x\":[1996],\"y\":[0.012565196775723092],\"type\":\"bar\"},{\"legendgroup\":\"hip hop\",\"marker\":{\"color\":\"rgb(158, 185, 243)\"},\"name\":\"hip hop\",\"showlegend\":false,\"x\":[1996],\"y\":[0.01209103840682788],\"type\":\"bar\"},{\"legendgroup\":\"pop rock\",\"marker\":{\"color\":\"rgb(254, 136, 177)\"},\"name\":\"pop rock\",\"showlegend\":false,\"x\":[1996],\"y\":[0.011616880037932669],\"type\":\"bar\"},{\"legendgroup\":\"adult standards\",\"marker\":{\"color\":\"rgb(102, 197, 204)\"},\"name\":\"adult standards\",\"showlegend\":false,\"x\":[1996],\"y\":[0.010431484115694643],\"type\":\"bar\"},{\"legendgroup\":\"rock\",\"marker\":{\"color\":\"#E45756\"},\"name\":\"rock\",\"showlegend\":false,\"x\":[1997],\"y\":[0.016369411189836307],\"type\":\"bar\"},{\"legendgroup\":\"pop rock\",\"marker\":{\"color\":\"rgb(254, 136, 177)\"},\"name\":\"pop rock\",\"showlegend\":false,\"x\":[1997],\"y\":[0.012460298069875397],\"type\":\"bar\"},{\"legendgroup\":\"alternative rock\",\"marker\":{\"color\":\"rgb(220, 176, 242)\"},\"name\":\"alternative rock\",\"showlegend\":false,\"x\":[1997],\"y\":[0.010505741509894943],\"type\":\"bar\"},{\"legendgroup\":\"jazz\",\"marker\":{\"color\":\"rgb(246, 207, 113)\"},\"name\":\"jazz\",\"showlegend\":false,\"x\":[1997],\"y\":[0.009772782799902272],\"type\":\"bar\"},{\"legendgroup\":\"classical performance\",\"marker\":{\"color\":\"rgb(248, 156, 116)\"},\"name\":\"classical performance\",\"showlegend\":false,\"x\":[1997],\"y\":[0.009528463229904716],\"type\":\"bar\"},{\"legendgroup\":\"classical performance\",\"marker\":{\"color\":\"rgb(248, 156, 116)\"},\"name\":\"classical performance\",\"showlegend\":false,\"x\":[1998],\"y\":[0.01269691982130261],\"type\":\"bar\"},{\"legendgroup\":\"rock\",\"marker\":{\"color\":\"#E45756\"},\"name\":\"rock\",\"showlegend\":false,\"x\":[1998],\"y\":[0.011991535386785799],\"type\":\"bar\"},{\"legendgroup\":\"pop rock\",\"marker\":{\"color\":\"rgb(254, 136, 177)\"},\"name\":\"pop rock\",\"showlegend\":false,\"x\":[1998],\"y\":[0.011051022807430049],\"type\":\"bar\"},{\"legendgroup\":\"hip hop\",\"marker\":{\"color\":\"rgb(158, 185, 243)\"},\"name\":\"hip hop\",\"showlegend\":false,\"x\":[1998],\"y\":[0.0101105102280743],\"type\":\"bar\"},{\"legendgroup\":\"classical\",\"marker\":{\"color\":\"rgb(135, 197, 95)\"},\"name\":\"classical\",\"showlegend\":false,\"x\":[1998],\"y\":[0.009405125793557489],\"type\":\"bar\"},{\"legendgroup\":\"rock\",\"marker\":{\"color\":\"#E45756\"},\"name\":\"rock\",\"showlegend\":false,\"x\":[1999],\"y\":[0.015941404566996983],\"type\":\"bar\"},{\"legendgroup\":\"pop rock\",\"marker\":{\"color\":\"rgb(254, 136, 177)\"},\"name\":\"pop rock\",\"showlegend\":false,\"x\":[1999],\"y\":[0.013140887548470486],\"type\":\"bar\"},{\"legendgroup\":\"hip hop\",\"marker\":{\"color\":\"rgb(158, 185, 243)\"},\"name\":\"hip hop\",\"showlegend\":false,\"x\":[1999],\"y\":[0.011848341232227487],\"type\":\"bar\"},{\"legendgroup\":\"gangster rap\",\"marker\":{\"color\":\"rgb(201, 219, 116)\"},\"name\":\"gangster rap\",\"showlegend\":false,\"x\":[1999],\"y\":[0.009478672985781991],\"type\":\"bar\"},{\"legendgroup\":\"alternative rock\",\"marker\":{\"color\":\"rgb(220, 176, 242)\"},\"name\":\"alternative rock\",\"showlegend\":false,\"x\":[1999],\"y\":[0.00904782421370099],\"type\":\"bar\"},{\"legendgroup\":\"rock\",\"marker\":{\"color\":\"#E45756\"},\"name\":\"rock\",\"showlegend\":false,\"x\":[2000],\"y\":[0.012703040399833403],\"type\":\"bar\"},{\"legendgroup\":\"hip hop\",\"marker\":{\"color\":\"rgb(158, 185, 243)\"},\"name\":\"hip hop\",\"showlegend\":false,\"x\":[2000],\"y\":[0.011453561016243232],\"type\":\"bar\"},{\"legendgroup\":\"pop rock\",\"marker\":{\"color\":\"rgb(254, 136, 177)\"},\"name\":\"pop rock\",\"showlegend\":false,\"x\":[2000],\"y\":[0.009787588504789672],\"type\":\"bar\"},{\"legendgroup\":\"classical performance\",\"marker\":{\"color\":\"rgb(248, 156, 116)\"},\"name\":\"classical performance\",\"showlegend\":false,\"x\":[2000],\"y\":[0.009371095376926281],\"type\":\"bar\"},{\"legendgroup\":\"dance pop\",\"marker\":{\"color\":\"rgb(139, 224, 164)\"},\"name\":\"dance pop\",\"showlegend\":true,\"x\":[2000],\"y\":[0.009162848812994586],\"type\":\"bar\"},{\"legendgroup\":\"hip hop\",\"marker\":{\"color\":\"rgb(158, 185, 243)\"},\"name\":\"hip hop\",\"showlegend\":false,\"x\":[2001],\"y\":[0.013762439127673089],\"type\":\"bar\"},{\"legendgroup\":\"rock\",\"marker\":{\"color\":\"#E45756\"},\"name\":\"rock\",\"showlegend\":false,\"x\":[2001],\"y\":[0.01291551979673936],\"type\":\"bar\"},{\"legendgroup\":\"pop rock\",\"marker\":{\"color\":\"rgb(254, 136, 177)\"},\"name\":\"pop rock\",\"showlegend\":false,\"x\":[2001],\"y\":[0.011856870633072199],\"type\":\"bar\"},{\"legendgroup\":\"gangster rap\",\"marker\":{\"color\":\"rgb(201, 219, 116)\"},\"name\":\"gangster rap\",\"showlegend\":false,\"x\":[2001],\"y\":[0.011221681134871904],\"type\":\"bar\"},{\"legendgroup\":\"dance pop\",\"marker\":{\"color\":\"rgb(139, 224, 164)\"},\"name\":\"dance pop\",\"showlegend\":false,\"x\":[2001],\"y\":[0.01079822146940504],\"type\":\"bar\"},{\"legendgroup\":\"rock\",\"marker\":{\"color\":\"#E45756\"},\"name\":\"rock\",\"showlegend\":false,\"x\":[2002],\"y\":[0.012326354920759147],\"type\":\"bar\"},{\"legendgroup\":\"hip hop\",\"marker\":{\"color\":\"rgb(158, 185, 243)\"},\"name\":\"hip hop\",\"showlegend\":false,\"x\":[2002],\"y\":[0.010761103502250048],\"type\":\"bar\"},{\"legendgroup\":\"classical performance\",\"marker\":{\"color\":\"rgb(248, 156, 116)\"},\"name\":\"classical performance\",\"showlegend\":false,\"x\":[2002],\"y\":[0.00919585208374095],\"type\":\"bar\"},{\"legendgroup\":\"pop rock\",\"marker\":{\"color\":\"rgb(254, 136, 177)\"},\"name\":\"pop rock\",\"showlegend\":false,\"x\":[2002],\"y\":[0.009000195656427314],\"type\":\"bar\"},{\"legendgroup\":\"urban contemporary\",\"marker\":{\"color\":\"rgb(180, 151, 231)\"},\"name\":\"urban contemporary\",\"showlegend\":true,\"x\":[2002],\"y\":[0.007239287810604579],\"type\":\"bar\"},{\"legendgroup\":\"rock\",\"marker\":{\"color\":\"#E45756\"},\"name\":\"rock\",\"showlegend\":false,\"x\":[2003],\"y\":[0.012563252486477055],\"type\":\"bar\"},{\"legendgroup\":\"dance pop\",\"marker\":{\"color\":\"rgb(139, 224, 164)\"},\"name\":\"dance pop\",\"showlegend\":false,\"x\":[2003],\"y\":[0.010818356307799686],\"type\":\"bar\"},{\"legendgroup\":\"hip hop\",\"marker\":{\"color\":\"rgb(158, 185, 243)\"},\"name\":\"hip hop\",\"showlegend\":false,\"x\":[2003],\"y\":[0.009771418600593265],\"type\":\"bar\"},{\"legendgroup\":\"country rock\",\"marker\":{\"color\":\"#EECA3B\"},\"name\":\"country rock\",\"showlegend\":false,\"x\":[2003],\"y\":[0.009422439364857791],\"type\":\"bar\"},{\"legendgroup\":\"alternative metal\",\"marker\":{\"color\":\"rgb(179, 179, 179)\"},\"name\":\"alternative metal\",\"showlegend\":true,\"x\":[2003],\"y\":[0.00837550165765137],\"type\":\"bar\"},{\"legendgroup\":\"rock\",\"marker\":{\"color\":\"#E45756\"},\"name\":\"rock\",\"showlegend\":false,\"x\":[2004],\"y\":[0.012891027844620144],\"type\":\"bar\"},{\"legendgroup\":\"hip hop\",\"marker\":{\"color\":\"rgb(158, 185, 243)\"},\"name\":\"hip hop\",\"showlegend\":false,\"x\":[2004],\"y\":[0.010312822275696116],\"type\":\"bar\"},{\"legendgroup\":\"adult standards\",\"marker\":{\"color\":\"rgb(102, 197, 204)\"},\"name\":\"adult standards\",\"showlegend\":false,\"x\":[2004],\"y\":[0.009281540048126504],\"type\":\"bar\"},{\"legendgroup\":\"pop rock\",\"marker\":{\"color\":\"rgb(254, 136, 177)\"},\"name\":\"pop rock\",\"showlegend\":false,\"x\":[2004],\"y\":[0.008594018563080097],\"type\":\"bar\"},{\"legendgroup\":\"gangster rap\",\"marker\":{\"color\":\"rgb(201, 219, 116)\"},\"name\":\"gangster rap\",\"showlegend\":false,\"x\":[2004],\"y\":[0.008422138191818494],\"type\":\"bar\"},{\"legendgroup\":\"rock\",\"marker\":{\"color\":\"#E45756\"},\"name\":\"rock\",\"showlegend\":false,\"x\":[2005],\"y\":[0.011077102463197784],\"type\":\"bar\"},{\"legendgroup\":\"hip hop\",\"marker\":{\"color\":\"rgb(158, 185, 243)\"},\"name\":\"hip hop\",\"showlegend\":false,\"x\":[2005],\"y\":[0.010056843025797988],\"type\":\"bar\"},{\"legendgroup\":\"adult standards\",\"marker\":{\"color\":\"rgb(102, 197, 204)\"},\"name\":\"adult standards\",\"showlegend\":false,\"x\":[2005],\"y\":[0.009473837632998106],\"type\":\"bar\"},{\"legendgroup\":\"pop rock\",\"marker\":{\"color\":\"rgb(254, 136, 177)\"},\"name\":\"pop rock\",\"showlegend\":false,\"x\":[2005],\"y\":[0.009036583588398192],\"type\":\"bar\"},{\"legendgroup\":\"dance pop\",\"marker\":{\"color\":\"rgb(139, 224, 164)\"},\"name\":\"dance pop\",\"showlegend\":false,\"x\":[2005],\"y\":[0.008307826847398338],\"type\":\"bar\"},{\"legendgroup\":\"rock\",\"marker\":{\"color\":\"#E45756\"},\"name\":\"rock\",\"showlegend\":false,\"x\":[2006],\"y\":[0.011690276440654656],\"type\":\"bar\"},{\"legendgroup\":\"dance pop\",\"marker\":{\"color\":\"rgb(139, 224, 164)\"},\"name\":\"dance pop\",\"showlegend\":false,\"x\":[2006],\"y\":[0.008664557832485216],\"type\":\"bar\"},{\"legendgroup\":\"hip hop\",\"marker\":{\"color\":\"rgb(158, 185, 243)\"},\"name\":\"hip hop\",\"showlegend\":false,\"x\":[2006],\"y\":[0.007976894512446707],\"type\":\"bar\"},{\"legendgroup\":\"rap\",\"marker\":{\"color\":\"#4C78A8\"},\"name\":\"rap\",\"showlegend\":true,\"x\":[2006],\"y\":[0.007151698528400495],\"type\":\"bar\"},{\"legendgroup\":\"electronica\",\"marker\":{\"color\":\"#F58518\"},\"name\":\"electronica\",\"showlegend\":true,\"x\":[2006],\"y\":[0.007151698528400495],\"type\":\"bar\"},{\"legendgroup\":\"rock\",\"marker\":{\"color\":\"#E45756\"},\"name\":\"rock\",\"showlegend\":false,\"x\":[2007],\"y\":[0.012363929579357613],\"type\":\"bar\"},{\"legendgroup\":\"dance pop\",\"marker\":{\"color\":\"rgb(139, 224, 164)\"},\"name\":\"dance pop\",\"showlegend\":false,\"x\":[2007],\"y\":[0.008332213412175783],\"type\":\"bar\"},{\"legendgroup\":\"adult standards\",\"marker\":{\"color\":\"rgb(102, 197, 204)\"},\"name\":\"adult standards\",\"showlegend\":false,\"x\":[2007],\"y\":[0.007257089100927295],\"type\":\"bar\"},{\"legendgroup\":\"rap\",\"marker\":{\"color\":\"#4C78A8\"},\"name\":\"rap\",\"showlegend\":false,\"x\":[2007],\"y\":[0.007257089100927295],\"type\":\"bar\"},{\"legendgroup\":\"modern rock\",\"marker\":{\"color\":\"#E45756\"},\"name\":\"modern rock\",\"showlegend\":true,\"x\":[2007],\"y\":[0.006853917484209111],\"type\":\"bar\"},{\"legendgroup\":\"rock\",\"marker\":{\"color\":\"#E45756\"},\"name\":\"rock\",\"showlegend\":false,\"x\":[2008],\"y\":[0.009684266383656142],\"type\":\"bar\"},{\"legendgroup\":\"dance pop\",\"marker\":{\"color\":\"rgb(139, 224, 164)\"},\"name\":\"dance pop\",\"showlegend\":false,\"x\":[2008],\"y\":[0.009020960466967366],\"type\":\"bar\"},{\"legendgroup\":\"classical performance\",\"marker\":{\"color\":\"rgb(248, 156, 116)\"},\"name\":\"classical performance\",\"showlegend\":false,\"x\":[2008],\"y\":[0.00835765455027859],\"type\":\"bar\"},{\"legendgroup\":\"christian alternative rock\",\"marker\":{\"color\":\"#72B7B2\"},\"name\":\"christian alternative rock\",\"showlegend\":true,\"x\":[2008],\"y\":[0.0070310427169010346],\"type\":\"bar\"},{\"legendgroup\":\"modern rock\",\"marker\":{\"color\":\"#E45756\"},\"name\":\"modern rock\",\"showlegend\":false,\"x\":[2008],\"y\":[0.006500397983550013],\"type\":\"bar\"},{\"legendgroup\":\"rock\",\"marker\":{\"color\":\"#E45756\"},\"name\":\"rock\",\"showlegend\":false,\"x\":[2009],\"y\":[0.010566037735849057],\"type\":\"bar\"},{\"legendgroup\":\"dance pop\",\"marker\":{\"color\":\"rgb(139, 224, 164)\"},\"name\":\"dance pop\",\"showlegend\":false,\"x\":[2009],\"y\":[0.010062893081761006],\"type\":\"bar\"},{\"legendgroup\":\"pop rap\",\"marker\":{\"color\":\"#54A24B\"},\"name\":\"pop rap\",\"showlegend\":true,\"x\":[2009],\"y\":[0.007169811320754717],\"type\":\"bar\"},{\"legendgroup\":\"indie rock\",\"marker\":{\"color\":\"#EECA3B\"},\"name\":\"indie rock\",\"showlegend\":true,\"x\":[2009],\"y\":[0.007044025157232704],\"type\":\"bar\"},{\"legendgroup\":\"hip hop\",\"marker\":{\"color\":\"rgb(158, 185, 243)\"},\"name\":\"hip hop\",\"showlegend\":false,\"x\":[2009],\"y\":[0.006666666666666667],\"type\":\"bar\"},{\"legendgroup\":\"dance pop\",\"marker\":{\"color\":\"rgb(139, 224, 164)\"},\"name\":\"dance pop\",\"showlegend\":false,\"x\":[2010],\"y\":[0.009720388815552622],\"type\":\"bar\"},{\"legendgroup\":\"rock\",\"marker\":{\"color\":\"#E45756\"},\"name\":\"rock\",\"showlegend\":false,\"x\":[2010],\"y\":[0.008520340813632545],\"type\":\"bar\"},{\"legendgroup\":\"pop\",\"marker\":{\"color\":\"#B279A2\"},\"name\":\"pop\",\"showlegend\":true,\"x\":[2010],\"y\":[0.006480259210368415],\"type\":\"bar\"},{\"legendgroup\":\"indie rock\",\"marker\":{\"color\":\"#EECA3B\"},\"name\":\"indie rock\",\"showlegend\":false,\"x\":[2010],\"y\":[0.006360254410176407],\"type\":\"bar\"},{\"legendgroup\":\"modern rock\",\"marker\":{\"color\":\"#E45756\"},\"name\":\"modern rock\",\"showlegend\":false,\"x\":[2010],\"y\":[0.005880235209408376],\"type\":\"bar\"},{\"legendgroup\":\"rock\",\"marker\":{\"color\":\"#E45756\"},\"name\":\"rock\",\"showlegend\":false,\"x\":[2011],\"y\":[0.009082268454958286],\"type\":\"bar\"},{\"legendgroup\":\"dance pop\",\"marker\":{\"color\":\"rgb(139, 224, 164)\"},\"name\":\"dance pop\",\"showlegend\":false,\"x\":[2011],\"y\":[0.0082374062731017],\"type\":\"bar\"},{\"legendgroup\":\"pop rap\",\"marker\":{\"color\":\"#54A24B\"},\"name\":\"pop rap\",\"showlegend\":false,\"x\":[2011],\"y\":[0.0068645052275847504],\"type\":\"bar\"},{\"legendgroup\":\"pop\",\"marker\":{\"color\":\"#B279A2\"},\"name\":\"pop\",\"showlegend\":false,\"x\":[2011],\"y\":[0.006230858591192312],\"type\":\"bar\"},{\"legendgroup\":\"modern rock\",\"marker\":{\"color\":\"#E45756\"},\"name\":\"modern rock\",\"showlegend\":false,\"x\":[2011],\"y\":[0.005597211954799873],\"type\":\"bar\"},{\"legendgroup\":\"dance pop\",\"marker\":{\"color\":\"rgb(139, 224, 164)\"},\"name\":\"dance pop\",\"showlegend\":false,\"x\":[2012],\"y\":[0.010484668644906034],\"type\":\"bar\"},{\"legendgroup\":\"pop\",\"marker\":{\"color\":\"#B279A2\"},\"name\":\"pop\",\"showlegend\":false,\"x\":[2012],\"y\":[0.008803165182987141],\"type\":\"bar\"},{\"legendgroup\":\"pop rap\",\"marker\":{\"color\":\"#54A24B\"},\"name\":\"pop rap\",\"showlegend\":false,\"x\":[2012],\"y\":[0.006528189910979229],\"type\":\"bar\"},{\"legendgroup\":\"edm\",\"marker\":{\"color\":\"#FF9DA6\"},\"name\":\"edm\",\"showlegend\":true,\"x\":[2012],\"y\":[0.006429277942631058],\"type\":\"bar\"},{\"legendgroup\":\"rock\",\"marker\":{\"color\":\"#E45756\"},\"name\":\"rock\",\"showlegend\":false,\"x\":[2012],\"y\":[0.006231454005934718],\"type\":\"bar\"},{\"legendgroup\":\"dance pop\",\"marker\":{\"color\":\"rgb(139, 224, 164)\"},\"name\":\"dance pop\",\"showlegend\":false,\"x\":[2013],\"y\":[0.009195402298850575],\"type\":\"bar\"},{\"legendgroup\":\"pop\",\"marker\":{\"color\":\"#B279A2\"},\"name\":\"pop\",\"showlegend\":false,\"x\":[2013],\"y\":[0.009195402298850575],\"type\":\"bar\"},{\"legendgroup\":\"edm\",\"marker\":{\"color\":\"#FF9DA6\"},\"name\":\"edm\",\"showlegend\":false,\"x\":[2013],\"y\":[0.008399646330680813],\"type\":\"bar\"},{\"legendgroup\":\"modern rock\",\"marker\":{\"color\":\"#E45756\"},\"name\":\"modern rock\",\"showlegend\":false,\"x\":[2013],\"y\":[0.007427055702917772],\"type\":\"bar\"},{\"legendgroup\":\"pop rap\",\"marker\":{\"color\":\"#54A24B\"},\"name\":\"pop rap\",\"showlegend\":false,\"x\":[2013],\"y\":[0.007073386383731211],\"type\":\"bar\"},{\"legendgroup\":\"pop\",\"marker\":{\"color\":\"#B279A2\"},\"name\":\"pop\",\"showlegend\":false,\"x\":[2014],\"y\":[0.011481683980317113],\"type\":\"bar\"},{\"legendgroup\":\"dance pop\",\"marker\":{\"color\":\"rgb(139, 224, 164)\"},\"name\":\"dance pop\",\"showlegend\":false,\"x\":[2014],\"y\":[0.010856830430367883],\"type\":\"bar\"},{\"legendgroup\":\"edm\",\"marker\":{\"color\":\"#FF9DA6\"},\"name\":\"edm\",\"showlegend\":false,\"x\":[2014],\"y\":[0.010700617042880575],\"type\":\"bar\"},{\"legendgroup\":\"electro house\",\"marker\":{\"color\":\"#9D755D\"},\"name\":\"electro house\",\"showlegend\":true,\"x\":[2014],\"y\":[0.008826056393032883],\"type\":\"bar\"},{\"legendgroup\":\"pop dance\",\"marker\":{\"color\":\"#BAB0AC\"},\"name\":\"pop dance\",\"showlegend\":true,\"x\":[2014],\"y\":[0.008669843005545574],\"type\":\"bar\"},{\"legendgroup\":\"edm\",\"marker\":{\"color\":\"#FF9DA6\"},\"name\":\"edm\",\"showlegend\":false,\"x\":[2015],\"y\":[0.013992863639543832],\"type\":\"bar\"},{\"legendgroup\":\"electro house\",\"marker\":{\"color\":\"#9D755D\"},\"name\":\"electro house\",\"showlegend\":false,\"x\":[2015],\"y\":[0.012873434548380327],\"type\":\"bar\"},{\"legendgroup\":\"pop\",\"marker\":{\"color\":\"#B279A2\"},\"name\":\"pop\",\"showlegend\":false,\"x\":[2015],\"y\":[0.012593577275589449],\"type\":\"bar\"},{\"legendgroup\":\"pop dance\",\"marker\":{\"color\":\"#BAB0AC\"},\"name\":\"pop dance\",\"showlegend\":false,\"x\":[2015],\"y\":[0.01175400545721682],\"type\":\"bar\"},{\"legendgroup\":\"dance pop\",\"marker\":{\"color\":\"rgb(139, 224, 164)\"},\"name\":\"dance pop\",\"showlegend\":false,\"x\":[2015],\"y\":[0.011684041139019101],\"type\":\"bar\"},{\"legendgroup\":\"pop\",\"marker\":{\"color\":\"#B279A2\"},\"name\":\"pop\",\"showlegend\":false,\"x\":[2016],\"y\":[0.014646530399687541],\"type\":\"bar\"},{\"legendgroup\":\"edm\",\"marker\":{\"color\":\"#FF9DA6\"},\"name\":\"edm\",\"showlegend\":false,\"x\":[2016],\"y\":[0.013604999349043093],\"type\":\"bar\"},{\"legendgroup\":\"electro house\",\"marker\":{\"color\":\"#9D755D\"},\"name\":\"electro house\",\"showlegend\":false,\"x\":[2016],\"y\":[0.011652128629084754],\"type\":\"bar\"},{\"legendgroup\":\"dance pop\",\"marker\":{\"color\":\"rgb(139, 224, 164)\"},\"name\":\"dance pop\",\"showlegend\":false,\"x\":[2016],\"y\":[0.011131363103762532],\"type\":\"bar\"},{\"legendgroup\":\"pop dance\",\"marker\":{\"color\":\"#BAB0AC\"},\"name\":\"pop dance\",\"showlegend\":false,\"x\":[2016],\"y\":[0.010089832053118083],\"type\":\"bar\"},{\"legendgroup\":\"pop\",\"marker\":{\"color\":\"#B279A2\"},\"name\":\"pop\",\"showlegend\":false,\"x\":[2017],\"y\":[0.014649787163469511],\"type\":\"bar\"},{\"legendgroup\":\"edm\",\"marker\":{\"color\":\"#FF9DA6\"},\"name\":\"edm\",\"showlegend\":false,\"x\":[2017],\"y\":[0.011885676377909226],\"type\":\"bar\"},{\"legendgroup\":\"dance pop\",\"marker\":{\"color\":\"rgb(139, 224, 164)\"},\"name\":\"dance pop\",\"showlegend\":false,\"x\":[2017],\"y\":[0.0106694676322627],\"type\":\"bar\"},{\"legendgroup\":\"electro house\",\"marker\":{\"color\":\"#9D755D\"},\"name\":\"electro house\",\"showlegend\":false,\"x\":[2017],\"y\":[0.01017192769086185],\"type\":\"bar\"},{\"legendgroup\":\"pop dance\",\"marker\":{\"color\":\"#BAB0AC\"},\"name\":\"pop dance\",\"showlegend\":false,\"x\":[2017],\"y\":[0.009287412239482559],\"type\":\"bar\"},{\"legendgroup\":\"pop\",\"marker\":{\"color\":\"#B279A2\"},\"name\":\"pop\",\"showlegend\":false,\"x\":[2018],\"y\":[0.01636577507287884],\"type\":\"bar\"},{\"legendgroup\":\"edm\",\"marker\":{\"color\":\"#FF9DA6\"},\"name\":\"edm\",\"showlegend\":false,\"x\":[2018],\"y\":[0.01329719224671406],\"type\":\"bar\"},{\"legendgroup\":\"electro house\",\"marker\":{\"color\":\"#9D755D\"},\"name\":\"electro house\",\"showlegend\":false,\"x\":[2018],\"y\":[0.012530046540172864],\"type\":\"bar\"},{\"legendgroup\":\"dance pop\",\"marker\":{\"color\":\"rgb(139, 224, 164)\"},\"name\":\"dance pop\",\"showlegend\":false,\"x\":[2018],\"y\":[0.010586610750268502],\"type\":\"bar\"},{\"legendgroup\":\"pop dance\",\"marker\":{\"color\":\"#BAB0AC\"},\"name\":\"pop dance\",\"showlegend\":false,\"x\":[2018],\"y\":[0.010279752467652023],\"type\":\"bar\"},{\"legendgroup\":\"pop\",\"marker\":{\"color\":\"#B279A2\"},\"name\":\"pop\",\"showlegend\":false,\"x\":[2019],\"y\":[0.018096768096768096],\"type\":\"bar\"},{\"legendgroup\":\"edm\",\"marker\":{\"color\":\"#FF9DA6\"},\"name\":\"edm\",\"showlegend\":false,\"x\":[2019],\"y\":[0.013135513135513135],\"type\":\"bar\"},{\"legendgroup\":\"electro house\",\"marker\":{\"color\":\"#9D755D\"},\"name\":\"electro house\",\"showlegend\":false,\"x\":[2019],\"y\":[0.012237762237762238],\"type\":\"bar\"},{\"legendgroup\":\"dance pop\",\"marker\":{\"color\":\"rgb(139, 224, 164)\"},\"name\":\"dance pop\",\"showlegend\":false,\"x\":[2019],\"y\":[0.011056511056511056],\"type\":\"bar\"},{\"legendgroup\":\"pop dance\",\"marker\":{\"color\":\"#BAB0AC\"},\"name\":\"pop dance\",\"showlegend\":false,\"x\":[2019],\"y\":[0.010347760347760348],\"type\":\"bar\"},{\"legendgroup\":\"pop\",\"marker\":{\"color\":\"#B279A2\"},\"name\":\"pop\",\"showlegend\":false,\"x\":[2020],\"y\":[0.015521628498727735],\"type\":\"bar\"},{\"legendgroup\":\"edm\",\"marker\":{\"color\":\"#FF9DA6\"},\"name\":\"edm\",\"showlegend\":false,\"x\":[2020],\"y\":[0.011450381679389313],\"type\":\"bar\"},{\"legendgroup\":\"dance pop\",\"marker\":{\"color\":\"rgb(139, 224, 164)\"},\"name\":\"dance pop\",\"showlegend\":false,\"x\":[2020],\"y\":[0.009923664122137405],\"type\":\"bar\"},{\"legendgroup\":\"electro house\",\"marker\":{\"color\":\"#9D755D\"},\"name\":\"electro house\",\"showlegend\":false,\"x\":[2020],\"y\":[0.009669211195928753],\"type\":\"bar\"},{\"legendgroup\":\"pop dance\",\"marker\":{\"color\":\"#BAB0AC\"},\"name\":\"pop dance\",\"showlegend\":false,\"x\":[2020],\"y\":[0.009414758269720101],\"type\":\"bar\"},{\"legendgroup\":\"pop\",\"marker\":{\"color\":\"#B279A2\"},\"name\":\"pop\",\"showlegend\":false,\"x\":[2021],\"y\":[0.015332571830243388],\"type\":\"bar\"},{\"legendgroup\":\"edm\",\"marker\":{\"color\":\"#FF9DA6\"},\"name\":\"edm\",\"showlegend\":false,\"x\":[2021],\"y\":[0.010851419031719533],\"type\":\"bar\"},{\"legendgroup\":\"dance pop\",\"marker\":{\"color\":\"rgb(139, 224, 164)\"},\"name\":\"dance pop\",\"showlegend\":false,\"x\":[2021],\"y\":[0.009181969949916527],\"type\":\"bar\"},{\"legendgroup\":\"pop dance\",\"marker\":{\"color\":\"#BAB0AC\"},\"name\":\"pop dance\",\"showlegend\":false,\"x\":[2021],\"y\":[0.009006238467621474],\"type\":\"bar\"},{\"legendgroup\":\"tropical house\",\"marker\":{\"color\":\"rgb(102, 197, 204)\"},\"name\":\"tropical house\",\"showlegend\":true,\"x\":[2021],\"y\":[0.008259379667867498],\"type\":\"bar\"},{\"legendgroup\":\"pop\",\"marker\":{\"color\":\"#B279A2\"},\"name\":\"pop\",\"showlegend\":false,\"x\":[2022],\"y\":[0.013711530493087732],\"type\":\"bar\"},{\"legendgroup\":\"edm\",\"marker\":{\"color\":\"#FF9DA6\"},\"name\":\"edm\",\"showlegend\":false,\"x\":[2022],\"y\":[0.011338380984668701],\"type\":\"bar\"},{\"legendgroup\":\"pop dance\",\"marker\":{\"color\":\"#BAB0AC\"},\"name\":\"pop dance\",\"showlegend\":false,\"x\":[2022],\"y\":[0.009718612272573172],\"type\":\"bar\"},{\"legendgroup\":\"electro house\",\"marker\":{\"color\":\"#9D755D\"},\"name\":\"electro house\",\"showlegend\":false,\"x\":[2022],\"y\":[0.009341921874411421],\"type\":\"bar\"},{\"legendgroup\":\"dance pop\",\"marker\":{\"color\":\"rgb(139, 224, 164)\"},\"name\":\"dance pop\",\"showlegend\":false,\"x\":[2022],\"y\":[0.00919124571514672],\"type\":\"bar\"}],                        {\"barmode\":\"stack\",\"title\":{\"text\":\"Top 5 meestgebruikte genres door artiesten, per jaar\"},\"xaxis\":{\"title\":{\"text\":\"year\"},\"type\":\"category\"},\"yaxis\":{\"tickformat\":\"0%\",\"title\":{\"text\":\"percentage\"}},\"template\":{\"data\":{\"histogram2dcontour\":[{\"type\":\"histogram2dcontour\",\"colorbar\":{\"outlinewidth\":0,\"ticks\":\"\"},\"colorscale\":[[0.0,\"#0d0887\"],[0.1111111111111111,\"#46039f\"],[0.2222222222222222,\"#7201a8\"],[0.3333333333333333,\"#9c179e\"],[0.4444444444444444,\"#bd3786\"],[0.5555555555555556,\"#d8576b\"],[0.6666666666666666,\"#ed7953\"],[0.7777777777777778,\"#fb9f3a\"],[0.8888888888888888,\"#fdca26\"],[1.0,\"#f0f921\"]]}],\"choropleth\":[{\"type\":\"choropleth\",\"colorbar\":{\"outlinewidth\":0,\"ticks\":\"\"}}],\"histogram2d\":[{\"type\":\"histogram2d\",\"colorbar\":{\"outlinewidth\":0,\"ticks\":\"\"},\"colorscale\":[[0.0,\"#0d0887\"],[0.1111111111111111,\"#46039f\"],[0.2222222222222222,\"#7201a8\"],[0.3333333333333333,\"#9c179e\"],[0.4444444444444444,\"#bd3786\"],[0.5555555555555556,\"#d8576b\"],[0.6666666666666666,\"#ed7953\"],[0.7777777777777778,\"#fb9f3a\"],[0.8888888888888888,\"#fdca26\"],[1.0,\"#f0f921\"]]}],\"heatmap\":[{\"type\":\"heatmap\",\"colorbar\":{\"outlinewidth\":0,\"ticks\":\"\"},\"colorscale\":[[0.0,\"#0d0887\"],[0.1111111111111111,\"#46039f\"],[0.2222222222222222,\"#7201a8\"],[0.3333333333333333,\"#9c179e\"],[0.4444444444444444,\"#bd3786\"],[0.5555555555555556,\"#d8576b\"],[0.6666666666666666,\"#ed7953\"],[0.7777777777777778,\"#fb9f3a\"],[0.8888888888888888,\"#fdca26\"],[1.0,\"#f0f921\"]]}],\"heatmapgl\":[{\"type\":\"heatmapgl\",\"colorbar\":{\"outlinewidth\":0,\"ticks\":\"\"},\"colorscale\":[[0.0,\"#0d0887\"],[0.1111111111111111,\"#46039f\"],[0.2222222222222222,\"#7201a8\"],[0.3333333333333333,\"#9c179e\"],[0.4444444444444444,\"#bd3786\"],[0.5555555555555556,\"#d8576b\"],[0.6666666666666666,\"#ed7953\"],[0.7777777777777778,\"#fb9f3a\"],[0.8888888888888888,\"#fdca26\"],[1.0,\"#f0f921\"]]}],\"contourcarpet\":[{\"type\":\"contourcarpet\",\"colorbar\":{\"outlinewidth\":0,\"ticks\":\"\"}}],\"contour\":[{\"type\":\"contour\",\"colorbar\":{\"outlinewidth\":0,\"ticks\":\"\"},\"colorscale\":[[0.0,\"#0d0887\"],[0.1111111111111111,\"#46039f\"],[0.2222222222222222,\"#7201a8\"],[0.3333333333333333,\"#9c179e\"],[0.4444444444444444,\"#bd3786\"],[0.5555555555555556,\"#d8576b\"],[0.6666666666666666,\"#ed7953\"],[0.7777777777777778,\"#fb9f3a\"],[0.8888888888888888,\"#fdca26\"],[1.0,\"#f0f921\"]]}],\"surface\":[{\"type\":\"surface\",\"colorbar\":{\"outlinewidth\":0,\"ticks\":\"\"},\"colorscale\":[[0.0,\"#0d0887\"],[0.1111111111111111,\"#46039f\"],[0.2222222222222222,\"#7201a8\"],[0.3333333333333333,\"#9c179e\"],[0.4444444444444444,\"#bd3786\"],[0.5555555555555556,\"#d8576b\"],[0.6666666666666666,\"#ed7953\"],[0.7777777777777778,\"#fb9f3a\"],[0.8888888888888888,\"#fdca26\"],[1.0,\"#f0f921\"]]}],\"mesh3d\":[{\"type\":\"mesh3d\",\"colorbar\":{\"outlinewidth\":0,\"ticks\":\"\"}}],\"scatter\":[{\"marker\":{\"line\":{\"color\":\"#283442\"}},\"type\":\"scatter\"}],\"parcoords\":[{\"type\":\"parcoords\",\"line\":{\"colorbar\":{\"outlinewidth\":0,\"ticks\":\"\"}}}],\"scatterpolargl\":[{\"type\":\"scatterpolargl\",\"marker\":{\"colorbar\":{\"outlinewidth\":0,\"ticks\":\"\"}}}],\"bar\":[{\"error_x\":{\"color\":\"#f2f5fa\"},\"error_y\":{\"color\":\"#f2f5fa\"},\"marker\":{\"line\":{\"color\":\"rgb(17,17,17)\",\"width\":0.5},\"pattern\":{\"fillmode\":\"overlay\",\"size\":10,\"solidity\":0.2}},\"type\":\"bar\"}],\"scattergeo\":[{\"type\":\"scattergeo\",\"marker\":{\"colorbar\":{\"outlinewidth\":0,\"ticks\":\"\"}}}],\"scatterpolar\":[{\"type\":\"scatterpolar\",\"marker\":{\"colorbar\":{\"outlinewidth\":0,\"ticks\":\"\"}}}],\"histogram\":[{\"marker\":{\"pattern\":{\"fillmode\":\"overlay\",\"size\":10,\"solidity\":0.2}},\"type\":\"histogram\"}],\"scattergl\":[{\"marker\":{\"line\":{\"color\":\"#283442\"}},\"type\":\"scattergl\"}],\"scatter3d\":[{\"type\":\"scatter3d\",\"line\":{\"colorbar\":{\"outlinewidth\":0,\"ticks\":\"\"}},\"marker\":{\"colorbar\":{\"outlinewidth\":0,\"ticks\":\"\"}}}],\"scattermapbox\":[{\"type\":\"scattermapbox\",\"marker\":{\"colorbar\":{\"outlinewidth\":0,\"ticks\":\"\"}}}],\"scatterternary\":[{\"type\":\"scatterternary\",\"marker\":{\"colorbar\":{\"outlinewidth\":0,\"ticks\":\"\"}}}],\"scattercarpet\":[{\"type\":\"scattercarpet\",\"marker\":{\"colorbar\":{\"outlinewidth\":0,\"ticks\":\"\"}}}],\"carpet\":[{\"aaxis\":{\"endlinecolor\":\"#A2B1C6\",\"gridcolor\":\"#506784\",\"linecolor\":\"#506784\",\"minorgridcolor\":\"#506784\",\"startlinecolor\":\"#A2B1C6\"},\"baxis\":{\"endlinecolor\":\"#A2B1C6\",\"gridcolor\":\"#506784\",\"linecolor\":\"#506784\",\"minorgridcolor\":\"#506784\",\"startlinecolor\":\"#A2B1C6\"},\"type\":\"carpet\"}],\"table\":[{\"cells\":{\"fill\":{\"color\":\"#506784\"},\"line\":{\"color\":\"rgb(17,17,17)\"}},\"header\":{\"fill\":{\"color\":\"#2a3f5f\"},\"line\":{\"color\":\"rgb(17,17,17)\"}},\"type\":\"table\"}],\"barpolar\":[{\"marker\":{\"line\":{\"color\":\"rgb(17,17,17)\",\"width\":0.5},\"pattern\":{\"fillmode\":\"overlay\",\"size\":10,\"solidity\":0.2}},\"type\":\"barpolar\"}],\"pie\":[{\"automargin\":true,\"type\":\"pie\"}]},\"layout\":{\"autotypenumbers\":\"strict\",\"colorway\":[\"#636efa\",\"#EF553B\",\"#00cc96\",\"#ab63fa\",\"#FFA15A\",\"#19d3f3\",\"#FF6692\",\"#B6E880\",\"#FF97FF\",\"#FECB52\"],\"font\":{\"color\":\"#f2f5fa\"},\"hovermode\":\"closest\",\"hoverlabel\":{\"align\":\"left\"},\"paper_bgcolor\":\"rgb(17,17,17)\",\"plot_bgcolor\":\"rgb(17,17,17)\",\"polar\":{\"bgcolor\":\"rgb(17,17,17)\",\"angularaxis\":{\"gridcolor\":\"#506784\",\"linecolor\":\"#506784\",\"ticks\":\"\"},\"radialaxis\":{\"gridcolor\":\"#506784\",\"linecolor\":\"#506784\",\"ticks\":\"\"}},\"ternary\":{\"bgcolor\":\"rgb(17,17,17)\",\"aaxis\":{\"gridcolor\":\"#506784\",\"linecolor\":\"#506784\",\"ticks\":\"\"},\"baxis\":{\"gridcolor\":\"#506784\",\"linecolor\":\"#506784\",\"ticks\":\"\"},\"caxis\":{\"gridcolor\":\"#506784\",\"linecolor\":\"#506784\",\"ticks\":\"\"}},\"coloraxis\":{\"colorbar\":{\"outlinewidth\":0,\"ticks\":\"\"}},\"colorscale\":{\"sequential\":[[0.0,\"#0d0887\"],[0.1111111111111111,\"#46039f\"],[0.2222222222222222,\"#7201a8\"],[0.3333333333333333,\"#9c179e\"],[0.4444444444444444,\"#bd3786\"],[0.5555555555555556,\"#d8576b\"],[0.6666666666666666,\"#ed7953\"],[0.7777777777777778,\"#fb9f3a\"],[0.8888888888888888,\"#fdca26\"],[1.0,\"#f0f921\"]],\"sequentialminus\":[[0.0,\"#0d0887\"],[0.1111111111111111,\"#46039f\"],[0.2222222222222222,\"#7201a8\"],[0.3333333333333333,\"#9c179e\"],[0.4444444444444444,\"#bd3786\"],[0.5555555555555556,\"#d8576b\"],[0.6666666666666666,\"#ed7953\"],[0.7777777777777778,\"#fb9f3a\"],[0.8888888888888888,\"#fdca26\"],[1.0,\"#f0f921\"]],\"diverging\":[[0,\"#8e0152\"],[0.1,\"#c51b7d\"],[0.2,\"#de77ae\"],[0.3,\"#f1b6da\"],[0.4,\"#fde0ef\"],[0.5,\"#f7f7f7\"],[0.6,\"#e6f5d0\"],[0.7,\"#b8e186\"],[0.8,\"#7fbc41\"],[0.9,\"#4d9221\"],[1,\"#276419\"]]},\"xaxis\":{\"gridcolor\":\"#283442\",\"linecolor\":\"#506784\",\"ticks\":\"\",\"title\":{\"standoff\":15},\"zerolinecolor\":\"#283442\",\"automargin\":true,\"zerolinewidth\":2},\"yaxis\":{\"gridcolor\":\"#283442\",\"linecolor\":\"#506784\",\"ticks\":\"\",\"title\":{\"standoff\":15},\"zerolinecolor\":\"#283442\",\"automargin\":true,\"zerolinewidth\":2},\"scene\":{\"xaxis\":{\"backgroundcolor\":\"rgb(17,17,17)\",\"gridcolor\":\"#506784\",\"linecolor\":\"#506784\",\"showbackground\":true,\"ticks\":\"\",\"zerolinecolor\":\"#C8D4E3\",\"gridwidth\":2},\"yaxis\":{\"backgroundcolor\":\"rgb(17,17,17)\",\"gridcolor\":\"#506784\",\"linecolor\":\"#506784\",\"showbackground\":true,\"ticks\":\"\",\"zerolinecolor\":\"#C8D4E3\",\"gridwidth\":2},\"zaxis\":{\"backgroundcolor\":\"rgb(17,17,17)\",\"gridcolor\":\"#506784\",\"linecolor\":\"#506784\",\"showbackground\":true,\"ticks\":\"\",\"zerolinecolor\":\"#C8D4E3\",\"gridwidth\":2}},\"shapedefaults\":{\"line\":{\"color\":\"#f2f5fa\"}},\"annotationdefaults\":{\"arrowcolor\":\"#f2f5fa\",\"arrowhead\":0,\"arrowwidth\":1},\"geo\":{\"bgcolor\":\"rgb(17,17,17)\",\"landcolor\":\"rgb(17,17,17)\",\"subunitcolor\":\"#506784\",\"showland\":true,\"showlakes\":true,\"lakecolor\":\"rgb(17,17,17)\"},\"title\":{\"x\":0.05},\"updatemenudefaults\":{\"bgcolor\":\"#506784\",\"borderwidth\":0},\"sliderdefaults\":{\"bgcolor\":\"#C8D4E3\",\"borderwidth\":1,\"bordercolor\":\"rgb(17,17,17)\",\"tickwidth\":0},\"mapbox\":{\"style\":\"dark\"}}}},                        {\"responsive\": true}                    ).then(function(){\n",
       "                            \n",
       "var gd = document.getElementById('d52c88e1-b73f-4d1e-8fdd-2dd52c0b73e0');\n",
       "var x = new MutationObserver(function (mutations, observer) {{\n",
       "        var display = window.getComputedStyle(gd).display;\n",
       "        if (!display || display === 'none') {{\n",
       "            console.log([gd, 'removed!']);\n",
       "            Plotly.purge(gd);\n",
       "            observer.disconnect();\n",
       "        }}\n",
       "}});\n",
       "\n",
       "// Listen for the removal of the full notebook cells\n",
       "var notebookContainer = gd.closest('#notebook-container');\n",
       "if (notebookContainer) {{\n",
       "    x.observe(notebookContainer, {childList: true});\n",
       "}}\n",
       "\n",
       "// Listen for the clearing of the current output cell\n",
       "var outputEl = gd.closest('.output');\n",
       "if (outputEl) {{\n",
       "    x.observe(outputEl, {childList: true});\n",
       "}}\n",
       "\n",
       "                        })                };                });            </script>        </div>"
      ]
     },
     "metadata": {},
     "output_type": "display_data"
    }
   ],
   "source": [
    "#@title Plot Graph: Top 5 meestgebruikte genres door artiesten, per jaar\n",
    "# colors\n",
    "color_sequence = px.colors.qualitative.Pastel + px.colors.qualitative.T10\n",
    "colors = dict()\n",
    "i = 0\n",
    "for genre in [genre for genre in year_genre['genre'].unique()]:\n",
    "    colors[genre] = (color_sequence)[i % len(color_sequence)]\n",
    "    i += 1\n",
    "\n",
    "# traces\n",
    "data = []\n",
    "\n",
    "# loop across the different years\n",
    "for i in range(year_genre.shape[0]):\n",
    "\n",
    "    #add a separate trace for each year, ordered from smallest to largest\n",
    "    data.append(go.Bar(x=[year_genre.loc[i,'year']],\n",
    "                        y=[year_genre.loc[i,'percentile']],\n",
    "                        name=year_genre.loc[i,'genre'],\n",
    "                        marker= dict(color=colors[year_genre.loc[i,'genre']]),\n",
    "                        legendgroup=year_genre.loc[i,'genre'],\n",
    "                        showlegend= year_genre.loc[i,'genre'] not in {data[x]['name'] for x in range(len(data))})) # show the legend only once for each trace\n",
    "\n",
    "# layout\n",
    "layout = dict(barmode='stack',\n",
    "              yaxis={'title': 'percentage', 'tickformat' : \"0%\"},\n",
    "              xaxis={'type': 'category', 'title': 'year'},\n",
    "              title='Top 5 meestgebruikte genres door artiesten, per jaar')\n",
    "\n",
    "# figure\n",
    "fig_genres = go.Figure(data=data, layout=layout)\n",
    "\n",
    "fig_genres.show()"
   ]
  },
  {
   "attachments": {},
   "cell_type": "markdown",
   "metadata": {
    "id": "Yf01DNnpbE_c"
   },
   "source": [
    "Deze toename van artiesten heeft echter niet alleen positieve kanten. In het bovenstaande plot is een grote versplintering van de muziekgenres te zien. Op de x-as staan de jaartallen en op de y-as staan percentages. In het plot is gevisualiseerd wat de 5 meest gebruikte genres door artiesten van dat jaar waren en hoeveel procent deze innemen van het totale aantal genres van dat gegeven jaar. Aan het begin van de jaren ‘60 namen de 5 grootste genres nog meer dan 25% van de genres in, na het jaar 2000 nemen de top 5 genres nog maar rond de 5% in. Er is dus een flinke versplintering van het aantal genres waarin artiesten muziek maken."
   ]
  },
  {
   "cell_type": "code",
   "execution_count": 10,
   "metadata": {
    "id": "odPkKVrhOUaL",
    "tags": [
     "hide-input"
    ]
   },
   "outputs": [],
   "source": [
    "#Create set with all genres in the genre column\n",
    "genre_set = set()\n",
    "for i in main_dataset['artists_genres']:\n",
    "    for l in i:\n",
    "        genre_set = genre_set | set(l)"
   ]
  },
  {
   "cell_type": "code",
   "execution_count": 11,
   "metadata": {
    "colab": {
     "base_uri": "https://localhost:8080/",
     "height": 542
    },
    "id": "00FmECvdNhOJ",
    "outputId": "016d7cfc-0ce3-4a7e-a901-69e24eb21c64",
    "tags": [
     "hide-input"
    ]
   },
   "outputs": [
    {
     "data": {
      "application/vnd.plotly.v1+json": {
       "config": {
        "plotlyServerURL": "https://plot.ly"
       },
       "data": [
        {
         "labels": [
          "indie",
          "pop",
          "rock",
          "metal",
          "rap",
          "hip hop",
          "folk",
          "jazz",
          "classical",
          "punk",
          "deep",
          "musica",
          "house",
          "japanese",
          "german",
          "classic",
          "trap",
          "electronic",
          "swedish",
          "alternative"
         ],
         "marker": {
          "colors": [
           "#4C78A8",
           "#F58518",
           "#E45756",
           "#72B7B2",
           "#54A24B",
           "#EECA3B",
           "#B279A2",
           "#FF9DA6",
           "#9D755D",
           "#BAB0AC"
          ]
         },
         "parents": [
          "",
          "",
          "",
          "",
          "",
          "",
          "",
          "",
          "",
          "",
          "",
          "",
          "",
          "",
          "",
          "",
          "",
          "",
          "",
          ""
         ],
         "textinfo": "label+value",
         "type": "treemap",
         "values": [
          437,
          361,
          298,
          265,
          172,
          172,
          135,
          132,
          123,
          114,
          95,
          89,
          86,
          76,
          71,
          70,
          66,
          62,
          62,
          61
         ]
        }
       ],
       "layout": {
        "showlegend": true,
        "template": {
         "data": {
          "bar": [
           {
            "error_x": {
             "color": "#f2f5fa"
            },
            "error_y": {
             "color": "#f2f5fa"
            },
            "marker": {
             "line": {
              "color": "rgb(17,17,17)",
              "width": 0.5
             },
             "pattern": {
              "fillmode": "overlay",
              "size": 10,
              "solidity": 0.2
             }
            },
            "type": "bar"
           }
          ],
          "barpolar": [
           {
            "marker": {
             "line": {
              "color": "rgb(17,17,17)",
              "width": 0.5
             },
             "pattern": {
              "fillmode": "overlay",
              "size": 10,
              "solidity": 0.2
             }
            },
            "type": "barpolar"
           }
          ],
          "carpet": [
           {
            "aaxis": {
             "endlinecolor": "#A2B1C6",
             "gridcolor": "#506784",
             "linecolor": "#506784",
             "minorgridcolor": "#506784",
             "startlinecolor": "#A2B1C6"
            },
            "baxis": {
             "endlinecolor": "#A2B1C6",
             "gridcolor": "#506784",
             "linecolor": "#506784",
             "minorgridcolor": "#506784",
             "startlinecolor": "#A2B1C6"
            },
            "type": "carpet"
           }
          ],
          "choropleth": [
           {
            "colorbar": {
             "outlinewidth": 0,
             "ticks": ""
            },
            "type": "choropleth"
           }
          ],
          "contour": [
           {
            "colorbar": {
             "outlinewidth": 0,
             "ticks": ""
            },
            "colorscale": [
             [
              0,
              "#0d0887"
             ],
             [
              0.1111111111111111,
              "#46039f"
             ],
             [
              0.2222222222222222,
              "#7201a8"
             ],
             [
              0.3333333333333333,
              "#9c179e"
             ],
             [
              0.4444444444444444,
              "#bd3786"
             ],
             [
              0.5555555555555556,
              "#d8576b"
             ],
             [
              0.6666666666666666,
              "#ed7953"
             ],
             [
              0.7777777777777778,
              "#fb9f3a"
             ],
             [
              0.8888888888888888,
              "#fdca26"
             ],
             [
              1,
              "#f0f921"
             ]
            ],
            "type": "contour"
           }
          ],
          "contourcarpet": [
           {
            "colorbar": {
             "outlinewidth": 0,
             "ticks": ""
            },
            "type": "contourcarpet"
           }
          ],
          "heatmap": [
           {
            "colorbar": {
             "outlinewidth": 0,
             "ticks": ""
            },
            "colorscale": [
             [
              0,
              "#0d0887"
             ],
             [
              0.1111111111111111,
              "#46039f"
             ],
             [
              0.2222222222222222,
              "#7201a8"
             ],
             [
              0.3333333333333333,
              "#9c179e"
             ],
             [
              0.4444444444444444,
              "#bd3786"
             ],
             [
              0.5555555555555556,
              "#d8576b"
             ],
             [
              0.6666666666666666,
              "#ed7953"
             ],
             [
              0.7777777777777778,
              "#fb9f3a"
             ],
             [
              0.8888888888888888,
              "#fdca26"
             ],
             [
              1,
              "#f0f921"
             ]
            ],
            "type": "heatmap"
           }
          ],
          "heatmapgl": [
           {
            "colorbar": {
             "outlinewidth": 0,
             "ticks": ""
            },
            "colorscale": [
             [
              0,
              "#0d0887"
             ],
             [
              0.1111111111111111,
              "#46039f"
             ],
             [
              0.2222222222222222,
              "#7201a8"
             ],
             [
              0.3333333333333333,
              "#9c179e"
             ],
             [
              0.4444444444444444,
              "#bd3786"
             ],
             [
              0.5555555555555556,
              "#d8576b"
             ],
             [
              0.6666666666666666,
              "#ed7953"
             ],
             [
              0.7777777777777778,
              "#fb9f3a"
             ],
             [
              0.8888888888888888,
              "#fdca26"
             ],
             [
              1,
              "#f0f921"
             ]
            ],
            "type": "heatmapgl"
           }
          ],
          "histogram": [
           {
            "marker": {
             "pattern": {
              "fillmode": "overlay",
              "size": 10,
              "solidity": 0.2
             }
            },
            "type": "histogram"
           }
          ],
          "histogram2d": [
           {
            "colorbar": {
             "outlinewidth": 0,
             "ticks": ""
            },
            "colorscale": [
             [
              0,
              "#0d0887"
             ],
             [
              0.1111111111111111,
              "#46039f"
             ],
             [
              0.2222222222222222,
              "#7201a8"
             ],
             [
              0.3333333333333333,
              "#9c179e"
             ],
             [
              0.4444444444444444,
              "#bd3786"
             ],
             [
              0.5555555555555556,
              "#d8576b"
             ],
             [
              0.6666666666666666,
              "#ed7953"
             ],
             [
              0.7777777777777778,
              "#fb9f3a"
             ],
             [
              0.8888888888888888,
              "#fdca26"
             ],
             [
              1,
              "#f0f921"
             ]
            ],
            "type": "histogram2d"
           }
          ],
          "histogram2dcontour": [
           {
            "colorbar": {
             "outlinewidth": 0,
             "ticks": ""
            },
            "colorscale": [
             [
              0,
              "#0d0887"
             ],
             [
              0.1111111111111111,
              "#46039f"
             ],
             [
              0.2222222222222222,
              "#7201a8"
             ],
             [
              0.3333333333333333,
              "#9c179e"
             ],
             [
              0.4444444444444444,
              "#bd3786"
             ],
             [
              0.5555555555555556,
              "#d8576b"
             ],
             [
              0.6666666666666666,
              "#ed7953"
             ],
             [
              0.7777777777777778,
              "#fb9f3a"
             ],
             [
              0.8888888888888888,
              "#fdca26"
             ],
             [
              1,
              "#f0f921"
             ]
            ],
            "type": "histogram2dcontour"
           }
          ],
          "mesh3d": [
           {
            "colorbar": {
             "outlinewidth": 0,
             "ticks": ""
            },
            "type": "mesh3d"
           }
          ],
          "parcoords": [
           {
            "line": {
             "colorbar": {
              "outlinewidth": 0,
              "ticks": ""
             }
            },
            "type": "parcoords"
           }
          ],
          "pie": [
           {
            "automargin": true,
            "type": "pie"
           }
          ],
          "scatter": [
           {
            "marker": {
             "line": {
              "color": "#283442"
             }
            },
            "type": "scatter"
           }
          ],
          "scatter3d": [
           {
            "line": {
             "colorbar": {
              "outlinewidth": 0,
              "ticks": ""
             }
            },
            "marker": {
             "colorbar": {
              "outlinewidth": 0,
              "ticks": ""
             }
            },
            "type": "scatter3d"
           }
          ],
          "scattercarpet": [
           {
            "marker": {
             "colorbar": {
              "outlinewidth": 0,
              "ticks": ""
             }
            },
            "type": "scattercarpet"
           }
          ],
          "scattergeo": [
           {
            "marker": {
             "colorbar": {
              "outlinewidth": 0,
              "ticks": ""
             }
            },
            "type": "scattergeo"
           }
          ],
          "scattergl": [
           {
            "marker": {
             "line": {
              "color": "#283442"
             }
            },
            "type": "scattergl"
           }
          ],
          "scattermapbox": [
           {
            "marker": {
             "colorbar": {
              "outlinewidth": 0,
              "ticks": ""
             }
            },
            "type": "scattermapbox"
           }
          ],
          "scatterpolar": [
           {
            "marker": {
             "colorbar": {
              "outlinewidth": 0,
              "ticks": ""
             }
            },
            "type": "scatterpolar"
           }
          ],
          "scatterpolargl": [
           {
            "marker": {
             "colorbar": {
              "outlinewidth": 0,
              "ticks": ""
             }
            },
            "type": "scatterpolargl"
           }
          ],
          "scatterternary": [
           {
            "marker": {
             "colorbar": {
              "outlinewidth": 0,
              "ticks": ""
             }
            },
            "type": "scatterternary"
           }
          ],
          "surface": [
           {
            "colorbar": {
             "outlinewidth": 0,
             "ticks": ""
            },
            "colorscale": [
             [
              0,
              "#0d0887"
             ],
             [
              0.1111111111111111,
              "#46039f"
             ],
             [
              0.2222222222222222,
              "#7201a8"
             ],
             [
              0.3333333333333333,
              "#9c179e"
             ],
             [
              0.4444444444444444,
              "#bd3786"
             ],
             [
              0.5555555555555556,
              "#d8576b"
             ],
             [
              0.6666666666666666,
              "#ed7953"
             ],
             [
              0.7777777777777778,
              "#fb9f3a"
             ],
             [
              0.8888888888888888,
              "#fdca26"
             ],
             [
              1,
              "#f0f921"
             ]
            ],
            "type": "surface"
           }
          ],
          "table": [
           {
            "cells": {
             "fill": {
              "color": "#506784"
             },
             "line": {
              "color": "rgb(17,17,17)"
             }
            },
            "header": {
             "fill": {
              "color": "#2a3f5f"
             },
             "line": {
              "color": "rgb(17,17,17)"
             }
            },
            "type": "table"
           }
          ]
         },
         "layout": {
          "annotationdefaults": {
           "arrowcolor": "#f2f5fa",
           "arrowhead": 0,
           "arrowwidth": 1
          },
          "autotypenumbers": "strict",
          "coloraxis": {
           "colorbar": {
            "outlinewidth": 0,
            "ticks": ""
           }
          },
          "colorscale": {
           "diverging": [
            [
             0,
             "#8e0152"
            ],
            [
             0.1,
             "#c51b7d"
            ],
            [
             0.2,
             "#de77ae"
            ],
            [
             0.3,
             "#f1b6da"
            ],
            [
             0.4,
             "#fde0ef"
            ],
            [
             0.5,
             "#f7f7f7"
            ],
            [
             0.6,
             "#e6f5d0"
            ],
            [
             0.7,
             "#b8e186"
            ],
            [
             0.8,
             "#7fbc41"
            ],
            [
             0.9,
             "#4d9221"
            ],
            [
             1,
             "#276419"
            ]
           ],
           "sequential": [
            [
             0,
             "#0d0887"
            ],
            [
             0.1111111111111111,
             "#46039f"
            ],
            [
             0.2222222222222222,
             "#7201a8"
            ],
            [
             0.3333333333333333,
             "#9c179e"
            ],
            [
             0.4444444444444444,
             "#bd3786"
            ],
            [
             0.5555555555555556,
             "#d8576b"
            ],
            [
             0.6666666666666666,
             "#ed7953"
            ],
            [
             0.7777777777777778,
             "#fb9f3a"
            ],
            [
             0.8888888888888888,
             "#fdca26"
            ],
            [
             1,
             "#f0f921"
            ]
           ],
           "sequentialminus": [
            [
             0,
             "#0d0887"
            ],
            [
             0.1111111111111111,
             "#46039f"
            ],
            [
             0.2222222222222222,
             "#7201a8"
            ],
            [
             0.3333333333333333,
             "#9c179e"
            ],
            [
             0.4444444444444444,
             "#bd3786"
            ],
            [
             0.5555555555555556,
             "#d8576b"
            ],
            [
             0.6666666666666666,
             "#ed7953"
            ],
            [
             0.7777777777777778,
             "#fb9f3a"
            ],
            [
             0.8888888888888888,
             "#fdca26"
            ],
            [
             1,
             "#f0f921"
            ]
           ]
          },
          "colorway": [
           "#636efa",
           "#EF553B",
           "#00cc96",
           "#ab63fa",
           "#FFA15A",
           "#19d3f3",
           "#FF6692",
           "#B6E880",
           "#FF97FF",
           "#FECB52"
          ],
          "font": {
           "color": "#f2f5fa"
          },
          "geo": {
           "bgcolor": "rgb(17,17,17)",
           "lakecolor": "rgb(17,17,17)",
           "landcolor": "rgb(17,17,17)",
           "showlakes": true,
           "showland": true,
           "subunitcolor": "#506784"
          },
          "hoverlabel": {
           "align": "left"
          },
          "hovermode": "closest",
          "mapbox": {
           "style": "dark"
          },
          "paper_bgcolor": "rgb(17,17,17)",
          "plot_bgcolor": "rgb(17,17,17)",
          "polar": {
           "angularaxis": {
            "gridcolor": "#506784",
            "linecolor": "#506784",
            "ticks": ""
           },
           "bgcolor": "rgb(17,17,17)",
           "radialaxis": {
            "gridcolor": "#506784",
            "linecolor": "#506784",
            "ticks": ""
           }
          },
          "scene": {
           "xaxis": {
            "backgroundcolor": "rgb(17,17,17)",
            "gridcolor": "#506784",
            "gridwidth": 2,
            "linecolor": "#506784",
            "showbackground": true,
            "ticks": "",
            "zerolinecolor": "#C8D4E3"
           },
           "yaxis": {
            "backgroundcolor": "rgb(17,17,17)",
            "gridcolor": "#506784",
            "gridwidth": 2,
            "linecolor": "#506784",
            "showbackground": true,
            "ticks": "",
            "zerolinecolor": "#C8D4E3"
           },
           "zaxis": {
            "backgroundcolor": "rgb(17,17,17)",
            "gridcolor": "#506784",
            "gridwidth": 2,
            "linecolor": "#506784",
            "showbackground": true,
            "ticks": "",
            "zerolinecolor": "#C8D4E3"
           }
          },
          "shapedefaults": {
           "line": {
            "color": "#f2f5fa"
           }
          },
          "sliderdefaults": {
           "bgcolor": "#C8D4E3",
           "bordercolor": "rgb(17,17,17)",
           "borderwidth": 1,
           "tickwidth": 0
          },
          "ternary": {
           "aaxis": {
            "gridcolor": "#506784",
            "linecolor": "#506784",
            "ticks": ""
           },
           "baxis": {
            "gridcolor": "#506784",
            "linecolor": "#506784",
            "ticks": ""
           },
           "bgcolor": "rgb(17,17,17)",
           "caxis": {
            "gridcolor": "#506784",
            "linecolor": "#506784",
            "ticks": ""
           }
          },
          "title": {
           "x": 0.05
          },
          "updatemenudefaults": {
           "bgcolor": "#506784",
           "borderwidth": 0
          },
          "xaxis": {
           "automargin": true,
           "gridcolor": "#283442",
           "linecolor": "#506784",
           "ticks": "",
           "title": {
            "standoff": 15
           },
           "zerolinecolor": "#283442",
           "zerolinewidth": 2
          },
          "yaxis": {
           "automargin": true,
           "gridcolor": "#283442",
           "linecolor": "#506784",
           "ticks": "",
           "title": {
            "standoff": 15
           },
           "zerolinecolor": "#283442",
           "zerolinewidth": 2
          }
         }
        },
        "title": {
         "text": "Aantal muziekstijlen per genre"
        }
       }
      },
      "text/html": [
       "<div>                            <div id=\"3adbea65-c9b4-4f02-a5eb-87b956ff4f99\" class=\"plotly-graph-div\" style=\"height:525px; width:100%;\"></div>            <script type=\"text/javascript\">                require([\"plotly\"], function(Plotly) {                    window.PLOTLYENV=window.PLOTLYENV || {};                                    if (document.getElementById(\"3adbea65-c9b4-4f02-a5eb-87b956ff4f99\")) {                    Plotly.newPlot(                        \"3adbea65-c9b4-4f02-a5eb-87b956ff4f99\",                        [{\"labels\":[\"indie\",\"pop\",\"rock\",\"metal\",\"rap\",\"hip hop\",\"folk\",\"jazz\",\"classical\",\"punk\",\"deep\",\"musica\",\"house\",\"japanese\",\"german\",\"classic\",\"trap\",\"electronic\",\"swedish\",\"alternative\"],\"marker\":{\"colors\":[\"#4C78A8\",\"#F58518\",\"#E45756\",\"#72B7B2\",\"#54A24B\",\"#EECA3B\",\"#B279A2\",\"#FF9DA6\",\"#9D755D\",\"#BAB0AC\"]},\"parents\":[\"\",\"\",\"\",\"\",\"\",\"\",\"\",\"\",\"\",\"\",\"\",\"\",\"\",\"\",\"\",\"\",\"\",\"\",\"\",\"\"],\"textinfo\":\"label+value\",\"values\":[437,361,298,265,172,172,135,132,123,114,95,89,86,76,71,70,66,62,62,61],\"type\":\"treemap\"}],                        {\"template\":{\"data\":{\"histogram2dcontour\":[{\"type\":\"histogram2dcontour\",\"colorbar\":{\"outlinewidth\":0,\"ticks\":\"\"},\"colorscale\":[[0.0,\"#0d0887\"],[0.1111111111111111,\"#46039f\"],[0.2222222222222222,\"#7201a8\"],[0.3333333333333333,\"#9c179e\"],[0.4444444444444444,\"#bd3786\"],[0.5555555555555556,\"#d8576b\"],[0.6666666666666666,\"#ed7953\"],[0.7777777777777778,\"#fb9f3a\"],[0.8888888888888888,\"#fdca26\"],[1.0,\"#f0f921\"]]}],\"choropleth\":[{\"type\":\"choropleth\",\"colorbar\":{\"outlinewidth\":0,\"ticks\":\"\"}}],\"histogram2d\":[{\"type\":\"histogram2d\",\"colorbar\":{\"outlinewidth\":0,\"ticks\":\"\"},\"colorscale\":[[0.0,\"#0d0887\"],[0.1111111111111111,\"#46039f\"],[0.2222222222222222,\"#7201a8\"],[0.3333333333333333,\"#9c179e\"],[0.4444444444444444,\"#bd3786\"],[0.5555555555555556,\"#d8576b\"],[0.6666666666666666,\"#ed7953\"],[0.7777777777777778,\"#fb9f3a\"],[0.8888888888888888,\"#fdca26\"],[1.0,\"#f0f921\"]]}],\"heatmap\":[{\"type\":\"heatmap\",\"colorbar\":{\"outlinewidth\":0,\"ticks\":\"\"},\"colorscale\":[[0.0,\"#0d0887\"],[0.1111111111111111,\"#46039f\"],[0.2222222222222222,\"#7201a8\"],[0.3333333333333333,\"#9c179e\"],[0.4444444444444444,\"#bd3786\"],[0.5555555555555556,\"#d8576b\"],[0.6666666666666666,\"#ed7953\"],[0.7777777777777778,\"#fb9f3a\"],[0.8888888888888888,\"#fdca26\"],[1.0,\"#f0f921\"]]}],\"heatmapgl\":[{\"type\":\"heatmapgl\",\"colorbar\":{\"outlinewidth\":0,\"ticks\":\"\"},\"colorscale\":[[0.0,\"#0d0887\"],[0.1111111111111111,\"#46039f\"],[0.2222222222222222,\"#7201a8\"],[0.3333333333333333,\"#9c179e\"],[0.4444444444444444,\"#bd3786\"],[0.5555555555555556,\"#d8576b\"],[0.6666666666666666,\"#ed7953\"],[0.7777777777777778,\"#fb9f3a\"],[0.8888888888888888,\"#fdca26\"],[1.0,\"#f0f921\"]]}],\"contourcarpet\":[{\"type\":\"contourcarpet\",\"colorbar\":{\"outlinewidth\":0,\"ticks\":\"\"}}],\"contour\":[{\"type\":\"contour\",\"colorbar\":{\"outlinewidth\":0,\"ticks\":\"\"},\"colorscale\":[[0.0,\"#0d0887\"],[0.1111111111111111,\"#46039f\"],[0.2222222222222222,\"#7201a8\"],[0.3333333333333333,\"#9c179e\"],[0.4444444444444444,\"#bd3786\"],[0.5555555555555556,\"#d8576b\"],[0.6666666666666666,\"#ed7953\"],[0.7777777777777778,\"#fb9f3a\"],[0.8888888888888888,\"#fdca26\"],[1.0,\"#f0f921\"]]}],\"surface\":[{\"type\":\"surface\",\"colorbar\":{\"outlinewidth\":0,\"ticks\":\"\"},\"colorscale\":[[0.0,\"#0d0887\"],[0.1111111111111111,\"#46039f\"],[0.2222222222222222,\"#7201a8\"],[0.3333333333333333,\"#9c179e\"],[0.4444444444444444,\"#bd3786\"],[0.5555555555555556,\"#d8576b\"],[0.6666666666666666,\"#ed7953\"],[0.7777777777777778,\"#fb9f3a\"],[0.8888888888888888,\"#fdca26\"],[1.0,\"#f0f921\"]]}],\"mesh3d\":[{\"type\":\"mesh3d\",\"colorbar\":{\"outlinewidth\":0,\"ticks\":\"\"}}],\"scatter\":[{\"marker\":{\"line\":{\"color\":\"#283442\"}},\"type\":\"scatter\"}],\"parcoords\":[{\"type\":\"parcoords\",\"line\":{\"colorbar\":{\"outlinewidth\":0,\"ticks\":\"\"}}}],\"scatterpolargl\":[{\"type\":\"scatterpolargl\",\"marker\":{\"colorbar\":{\"outlinewidth\":0,\"ticks\":\"\"}}}],\"bar\":[{\"error_x\":{\"color\":\"#f2f5fa\"},\"error_y\":{\"color\":\"#f2f5fa\"},\"marker\":{\"line\":{\"color\":\"rgb(17,17,17)\",\"width\":0.5},\"pattern\":{\"fillmode\":\"overlay\",\"size\":10,\"solidity\":0.2}},\"type\":\"bar\"}],\"scattergeo\":[{\"type\":\"scattergeo\",\"marker\":{\"colorbar\":{\"outlinewidth\":0,\"ticks\":\"\"}}}],\"scatterpolar\":[{\"type\":\"scatterpolar\",\"marker\":{\"colorbar\":{\"outlinewidth\":0,\"ticks\":\"\"}}}],\"histogram\":[{\"marker\":{\"pattern\":{\"fillmode\":\"overlay\",\"size\":10,\"solidity\":0.2}},\"type\":\"histogram\"}],\"scattergl\":[{\"marker\":{\"line\":{\"color\":\"#283442\"}},\"type\":\"scattergl\"}],\"scatter3d\":[{\"type\":\"scatter3d\",\"line\":{\"colorbar\":{\"outlinewidth\":0,\"ticks\":\"\"}},\"marker\":{\"colorbar\":{\"outlinewidth\":0,\"ticks\":\"\"}}}],\"scattermapbox\":[{\"type\":\"scattermapbox\",\"marker\":{\"colorbar\":{\"outlinewidth\":0,\"ticks\":\"\"}}}],\"scatterternary\":[{\"type\":\"scatterternary\",\"marker\":{\"colorbar\":{\"outlinewidth\":0,\"ticks\":\"\"}}}],\"scattercarpet\":[{\"type\":\"scattercarpet\",\"marker\":{\"colorbar\":{\"outlinewidth\":0,\"ticks\":\"\"}}}],\"carpet\":[{\"aaxis\":{\"endlinecolor\":\"#A2B1C6\",\"gridcolor\":\"#506784\",\"linecolor\":\"#506784\",\"minorgridcolor\":\"#506784\",\"startlinecolor\":\"#A2B1C6\"},\"baxis\":{\"endlinecolor\":\"#A2B1C6\",\"gridcolor\":\"#506784\",\"linecolor\":\"#506784\",\"minorgridcolor\":\"#506784\",\"startlinecolor\":\"#A2B1C6\"},\"type\":\"carpet\"}],\"table\":[{\"cells\":{\"fill\":{\"color\":\"#506784\"},\"line\":{\"color\":\"rgb(17,17,17)\"}},\"header\":{\"fill\":{\"color\":\"#2a3f5f\"},\"line\":{\"color\":\"rgb(17,17,17)\"}},\"type\":\"table\"}],\"barpolar\":[{\"marker\":{\"line\":{\"color\":\"rgb(17,17,17)\",\"width\":0.5},\"pattern\":{\"fillmode\":\"overlay\",\"size\":10,\"solidity\":0.2}},\"type\":\"barpolar\"}],\"pie\":[{\"automargin\":true,\"type\":\"pie\"}]},\"layout\":{\"autotypenumbers\":\"strict\",\"colorway\":[\"#636efa\",\"#EF553B\",\"#00cc96\",\"#ab63fa\",\"#FFA15A\",\"#19d3f3\",\"#FF6692\",\"#B6E880\",\"#FF97FF\",\"#FECB52\"],\"font\":{\"color\":\"#f2f5fa\"},\"hovermode\":\"closest\",\"hoverlabel\":{\"align\":\"left\"},\"paper_bgcolor\":\"rgb(17,17,17)\",\"plot_bgcolor\":\"rgb(17,17,17)\",\"polar\":{\"bgcolor\":\"rgb(17,17,17)\",\"angularaxis\":{\"gridcolor\":\"#506784\",\"linecolor\":\"#506784\",\"ticks\":\"\"},\"radialaxis\":{\"gridcolor\":\"#506784\",\"linecolor\":\"#506784\",\"ticks\":\"\"}},\"ternary\":{\"bgcolor\":\"rgb(17,17,17)\",\"aaxis\":{\"gridcolor\":\"#506784\",\"linecolor\":\"#506784\",\"ticks\":\"\"},\"baxis\":{\"gridcolor\":\"#506784\",\"linecolor\":\"#506784\",\"ticks\":\"\"},\"caxis\":{\"gridcolor\":\"#506784\",\"linecolor\":\"#506784\",\"ticks\":\"\"}},\"coloraxis\":{\"colorbar\":{\"outlinewidth\":0,\"ticks\":\"\"}},\"colorscale\":{\"sequential\":[[0.0,\"#0d0887\"],[0.1111111111111111,\"#46039f\"],[0.2222222222222222,\"#7201a8\"],[0.3333333333333333,\"#9c179e\"],[0.4444444444444444,\"#bd3786\"],[0.5555555555555556,\"#d8576b\"],[0.6666666666666666,\"#ed7953\"],[0.7777777777777778,\"#fb9f3a\"],[0.8888888888888888,\"#fdca26\"],[1.0,\"#f0f921\"]],\"sequentialminus\":[[0.0,\"#0d0887\"],[0.1111111111111111,\"#46039f\"],[0.2222222222222222,\"#7201a8\"],[0.3333333333333333,\"#9c179e\"],[0.4444444444444444,\"#bd3786\"],[0.5555555555555556,\"#d8576b\"],[0.6666666666666666,\"#ed7953\"],[0.7777777777777778,\"#fb9f3a\"],[0.8888888888888888,\"#fdca26\"],[1.0,\"#f0f921\"]],\"diverging\":[[0,\"#8e0152\"],[0.1,\"#c51b7d\"],[0.2,\"#de77ae\"],[0.3,\"#f1b6da\"],[0.4,\"#fde0ef\"],[0.5,\"#f7f7f7\"],[0.6,\"#e6f5d0\"],[0.7,\"#b8e186\"],[0.8,\"#7fbc41\"],[0.9,\"#4d9221\"],[1,\"#276419\"]]},\"xaxis\":{\"gridcolor\":\"#283442\",\"linecolor\":\"#506784\",\"ticks\":\"\",\"title\":{\"standoff\":15},\"zerolinecolor\":\"#283442\",\"automargin\":true,\"zerolinewidth\":2},\"yaxis\":{\"gridcolor\":\"#283442\",\"linecolor\":\"#506784\",\"ticks\":\"\",\"title\":{\"standoff\":15},\"zerolinecolor\":\"#283442\",\"automargin\":true,\"zerolinewidth\":2},\"scene\":{\"xaxis\":{\"backgroundcolor\":\"rgb(17,17,17)\",\"gridcolor\":\"#506784\",\"linecolor\":\"#506784\",\"showbackground\":true,\"ticks\":\"\",\"zerolinecolor\":\"#C8D4E3\",\"gridwidth\":2},\"yaxis\":{\"backgroundcolor\":\"rgb(17,17,17)\",\"gridcolor\":\"#506784\",\"linecolor\":\"#506784\",\"showbackground\":true,\"ticks\":\"\",\"zerolinecolor\":\"#C8D4E3\",\"gridwidth\":2},\"zaxis\":{\"backgroundcolor\":\"rgb(17,17,17)\",\"gridcolor\":\"#506784\",\"linecolor\":\"#506784\",\"showbackground\":true,\"ticks\":\"\",\"zerolinecolor\":\"#C8D4E3\",\"gridwidth\":2}},\"shapedefaults\":{\"line\":{\"color\":\"#f2f5fa\"}},\"annotationdefaults\":{\"arrowcolor\":\"#f2f5fa\",\"arrowhead\":0,\"arrowwidth\":1},\"geo\":{\"bgcolor\":\"rgb(17,17,17)\",\"landcolor\":\"rgb(17,17,17)\",\"subunitcolor\":\"#506784\",\"showland\":true,\"showlakes\":true,\"lakecolor\":\"rgb(17,17,17)\"},\"title\":{\"x\":0.05},\"updatemenudefaults\":{\"bgcolor\":\"#506784\",\"borderwidth\":0},\"sliderdefaults\":{\"bgcolor\":\"#C8D4E3\",\"borderwidth\":1,\"bordercolor\":\"rgb(17,17,17)\",\"tickwidth\":0},\"mapbox\":{\"style\":\"dark\"}}},\"title\":{\"text\":\"Aantal muziekstijlen per genre\"},\"showlegend\":true},                        {\"responsive\": true}                    ).then(function(){\n",
       "                            \n",
       "var gd = document.getElementById('3adbea65-c9b4-4f02-a5eb-87b956ff4f99');\n",
       "var x = new MutationObserver(function (mutations, observer) {{\n",
       "        var display = window.getComputedStyle(gd).display;\n",
       "        if (!display || display === 'none') {{\n",
       "            console.log([gd, 'removed!']);\n",
       "            Plotly.purge(gd);\n",
       "            observer.disconnect();\n",
       "        }}\n",
       "}});\n",
       "\n",
       "// Listen for the removal of the full notebook cells\n",
       "var notebookContainer = gd.closest('#notebook-container');\n",
       "if (notebookContainer) {{\n",
       "    x.observe(notebookContainer, {childList: true});\n",
       "}}\n",
       "\n",
       "// Listen for the clearing of the current output cell\n",
       "var outputEl = gd.closest('.output');\n",
       "if (outputEl) {{\n",
       "    x.observe(outputEl, {childList: true});\n",
       "}}\n",
       "\n",
       "                        })                };                });            </script>        </div>"
      ]
     },
     "metadata": {},
     "output_type": "display_data"
    }
   ],
   "source": [
    "#Split genres into words and count occurences of these words\n",
    "genre_word_list = []\n",
    "genre_word_set = set()\n",
    "for genre in genre_set:\n",
    "    words = genre.split()\n",
    "    if ('hip' in words) and ('hop' in words):\n",
    "        words.remove('hip')\n",
    "        words.remove('hop')\n",
    "        words.append('hip hop')\n",
    "    genre_word_list = genre_word_list + words\n",
    "    genre_word_set = genre_word_set | set(words)\n",
    "\n",
    "#Create series with shape: Genre_word-Count(genre-word)\n",
    "genreword_count_series = pd.Series({word:genre_word_list.count(word) for word in genre_word_set}).sort_values(ascending=False).loc[lambda x : x > 60]\n",
    "\n",
    "#Create treemap from genreword_count_series\n",
    "fig_treemap = go.Figure(go.Treemap(labels=genreword_count_series.index,\n",
    "                                   values=genreword_count_series.values,\n",
    "                                   parents=['']*len(genreword_count_series),\n",
    "                                   textinfo = \"label+value\",\n",
    "                                   marker= dict(colors=px.colors.qualitative.T10)))\n",
    "\n",
    "fig_treemap.update_layout(title='Aantal muziekstijlen per genre', showlegend=True)\n",
    "fig_treemap.show()\n"
   ]
  },
  {
   "attachments": {},
   "cell_type": "markdown",
   "metadata": {
    "id": "KvzDEXVhct6X"
   },
   "source": [
    "Deze versplintering wordt extra duidelijk in bovenstaande treemap diagram. In deze plot worden de genres die meer dan 60 soorten verschillende subgenres bevatten weergegeven. Denk hierbij aan ‘punk rock’ en ‘glam rock', die beide subgenres zijn van het hoofdgenre ‘rock’. In de plot is te zien dat voor het genre indie er dus al 437 subgenres te vinden zijn in de dataset. Voor mensen die muziek luisteren kan het door deze versplintering dus lastiger worden om het muzieklandschap te navigeren. Er zijn immers nu ontzettend veel verschillende soorten muziek(sub)genres waar uit gekozen kan worden. Muziek is dus toegankelijker geworden voor nieuwe artiesten door de opkomst van internet, maar tegelijkertijd is muziek onoverzichtelijk geworden en versplinterd."
   ]
  },
  {
   "attachments": {},
   "cell_type": "markdown",
   "metadata": {
    "id": "Wey5xogtcxHN"
   },
   "source": [
    "# Conclusie"
   ]
  },
  {
   "attachments": {},
   "cell_type": "markdown",
   "metadata": {
    "id": "x5iqYg0cczOI"
   },
   "source": [
    "De mens is minder gelukkig (CBS, 2019), de valence van muziek daalt en het aandeel nummers in mineur stijgt voorzichtig. De mens en muziek lijken samen droeviger te worden, maar doordat er geen correlatie gevonden kan worden, blijken zij dit waarschijnlijk los van elkaar te doen. De opkomst van het internet heeft positieve en negatieve aspecten. De toegankelijkheid om muziek uit te brengen is verhoogd, maar muziekgenres zijn versplinterd en daardoor is het muzieklandschap minder overzichtelijk. Mens en muziek veranderen, dat is duidelijk geworden. Of dat goed is, is voor ieder zelf om te beslissen."
   ]
  },
  {
   "cell_type": "code",
   "execution_count": 18,
   "metadata": {
    "tags": [
     "hide-input"
    ]
   },
   "outputs": [
    {
     "data": {
      "application/vnd.jupyter.widget-view+json": {
       "model_id": "4a6ab3a71c7647388994b3be02b7781c",
       "version_major": 2,
       "version_minor": 0
      },
      "text/plain": [
       "Button(description='Genereer 5 willekeurige liedjes', layout=Layout(width='auto'), style=ButtonStyle())"
      ]
     },
     "metadata": {},
     "output_type": "display_data"
    },
    {
     "data": {
      "application/vnd.plotly.v1+json": {
       "config": {
        "plotlyServerURL": "https://plot.ly"
       },
       "data": [
        {
         "cells": {
          "align": "left",
          "fill": {
           "color": "lavender"
          },
          "font": {
           "color": "black"
          },
          "values": [
           [
            "Heads Will Roll - A-Trak Radio Edit",
            "Mete Bala Te Amo / Ama Porra Nenhuma",
            "Venus",
            "Be My Baby",
            "I Hate Summer"
           ],
           [
            "2009-12-08",
            "2022-05-12",
            "1986-01-01",
            "2014-09-04",
            "2018-06-25"
           ],
           [
            [
             "Yeah Yeah Yeahs",
             "A-Trak"
            ],
            [
             "MC Durrony",
             "Selminho DJ"
            ],
            [
             "Bananarama"
            ],
            [
             "Lara George"
            ],
            [
             "SWANES"
            ]
           ],
           [
            "spotify:track:5c7jkZ4daUcLIrKiyQGt8B",
            "spotify:track:6UFUusgPSrWoovn9aZFpke",
            "spotify:track:4XX1pFUkQOZTYp6Hb6a6Ae",
            "spotify:track:2g1EvvO8JQMWaMKJeyo7Am",
            "spotify:track:7ftgkr2JhOuAFbGPxRmM0U"
           ]
          ]
         },
         "columnwidth": [
          1,
          0.6,
          1.5,
          1.7
         ],
         "header": {
          "values": [
           "Name",
           "Release Date",
           "Artists",
           "Track URI"
          ]
         },
         "type": "table"
        }
       ],
       "layout": {
        "template": {
         "data": {
          "bar": [
           {
            "error_x": {
             "color": "#f2f5fa"
            },
            "error_y": {
             "color": "#f2f5fa"
            },
            "marker": {
             "line": {
              "color": "rgb(17,17,17)",
              "width": 0.5
             },
             "pattern": {
              "fillmode": "overlay",
              "size": 10,
              "solidity": 0.2
             }
            },
            "type": "bar"
           }
          ],
          "barpolar": [
           {
            "marker": {
             "line": {
              "color": "rgb(17,17,17)",
              "width": 0.5
             },
             "pattern": {
              "fillmode": "overlay",
              "size": 10,
              "solidity": 0.2
             }
            },
            "type": "barpolar"
           }
          ],
          "carpet": [
           {
            "aaxis": {
             "endlinecolor": "#A2B1C6",
             "gridcolor": "#506784",
             "linecolor": "#506784",
             "minorgridcolor": "#506784",
             "startlinecolor": "#A2B1C6"
            },
            "baxis": {
             "endlinecolor": "#A2B1C6",
             "gridcolor": "#506784",
             "linecolor": "#506784",
             "minorgridcolor": "#506784",
             "startlinecolor": "#A2B1C6"
            },
            "type": "carpet"
           }
          ],
          "choropleth": [
           {
            "colorbar": {
             "outlinewidth": 0,
             "ticks": ""
            },
            "type": "choropleth"
           }
          ],
          "contour": [
           {
            "colorbar": {
             "outlinewidth": 0,
             "ticks": ""
            },
            "colorscale": [
             [
              0,
              "#0d0887"
             ],
             [
              0.1111111111111111,
              "#46039f"
             ],
             [
              0.2222222222222222,
              "#7201a8"
             ],
             [
              0.3333333333333333,
              "#9c179e"
             ],
             [
              0.4444444444444444,
              "#bd3786"
             ],
             [
              0.5555555555555556,
              "#d8576b"
             ],
             [
              0.6666666666666666,
              "#ed7953"
             ],
             [
              0.7777777777777778,
              "#fb9f3a"
             ],
             [
              0.8888888888888888,
              "#fdca26"
             ],
             [
              1,
              "#f0f921"
             ]
            ],
            "type": "contour"
           }
          ],
          "contourcarpet": [
           {
            "colorbar": {
             "outlinewidth": 0,
             "ticks": ""
            },
            "type": "contourcarpet"
           }
          ],
          "heatmap": [
           {
            "colorbar": {
             "outlinewidth": 0,
             "ticks": ""
            },
            "colorscale": [
             [
              0,
              "#0d0887"
             ],
             [
              0.1111111111111111,
              "#46039f"
             ],
             [
              0.2222222222222222,
              "#7201a8"
             ],
             [
              0.3333333333333333,
              "#9c179e"
             ],
             [
              0.4444444444444444,
              "#bd3786"
             ],
             [
              0.5555555555555556,
              "#d8576b"
             ],
             [
              0.6666666666666666,
              "#ed7953"
             ],
             [
              0.7777777777777778,
              "#fb9f3a"
             ],
             [
              0.8888888888888888,
              "#fdca26"
             ],
             [
              1,
              "#f0f921"
             ]
            ],
            "type": "heatmap"
           }
          ],
          "heatmapgl": [
           {
            "colorbar": {
             "outlinewidth": 0,
             "ticks": ""
            },
            "colorscale": [
             [
              0,
              "#0d0887"
             ],
             [
              0.1111111111111111,
              "#46039f"
             ],
             [
              0.2222222222222222,
              "#7201a8"
             ],
             [
              0.3333333333333333,
              "#9c179e"
             ],
             [
              0.4444444444444444,
              "#bd3786"
             ],
             [
              0.5555555555555556,
              "#d8576b"
             ],
             [
              0.6666666666666666,
              "#ed7953"
             ],
             [
              0.7777777777777778,
              "#fb9f3a"
             ],
             [
              0.8888888888888888,
              "#fdca26"
             ],
             [
              1,
              "#f0f921"
             ]
            ],
            "type": "heatmapgl"
           }
          ],
          "histogram": [
           {
            "marker": {
             "pattern": {
              "fillmode": "overlay",
              "size": 10,
              "solidity": 0.2
             }
            },
            "type": "histogram"
           }
          ],
          "histogram2d": [
           {
            "colorbar": {
             "outlinewidth": 0,
             "ticks": ""
            },
            "colorscale": [
             [
              0,
              "#0d0887"
             ],
             [
              0.1111111111111111,
              "#46039f"
             ],
             [
              0.2222222222222222,
              "#7201a8"
             ],
             [
              0.3333333333333333,
              "#9c179e"
             ],
             [
              0.4444444444444444,
              "#bd3786"
             ],
             [
              0.5555555555555556,
              "#d8576b"
             ],
             [
              0.6666666666666666,
              "#ed7953"
             ],
             [
              0.7777777777777778,
              "#fb9f3a"
             ],
             [
              0.8888888888888888,
              "#fdca26"
             ],
             [
              1,
              "#f0f921"
             ]
            ],
            "type": "histogram2d"
           }
          ],
          "histogram2dcontour": [
           {
            "colorbar": {
             "outlinewidth": 0,
             "ticks": ""
            },
            "colorscale": [
             [
              0,
              "#0d0887"
             ],
             [
              0.1111111111111111,
              "#46039f"
             ],
             [
              0.2222222222222222,
              "#7201a8"
             ],
             [
              0.3333333333333333,
              "#9c179e"
             ],
             [
              0.4444444444444444,
              "#bd3786"
             ],
             [
              0.5555555555555556,
              "#d8576b"
             ],
             [
              0.6666666666666666,
              "#ed7953"
             ],
             [
              0.7777777777777778,
              "#fb9f3a"
             ],
             [
              0.8888888888888888,
              "#fdca26"
             ],
             [
              1,
              "#f0f921"
             ]
            ],
            "type": "histogram2dcontour"
           }
          ],
          "mesh3d": [
           {
            "colorbar": {
             "outlinewidth": 0,
             "ticks": ""
            },
            "type": "mesh3d"
           }
          ],
          "parcoords": [
           {
            "line": {
             "colorbar": {
              "outlinewidth": 0,
              "ticks": ""
             }
            },
            "type": "parcoords"
           }
          ],
          "pie": [
           {
            "automargin": true,
            "type": "pie"
           }
          ],
          "scatter": [
           {
            "marker": {
             "line": {
              "color": "#283442"
             }
            },
            "type": "scatter"
           }
          ],
          "scatter3d": [
           {
            "line": {
             "colorbar": {
              "outlinewidth": 0,
              "ticks": ""
             }
            },
            "marker": {
             "colorbar": {
              "outlinewidth": 0,
              "ticks": ""
             }
            },
            "type": "scatter3d"
           }
          ],
          "scattercarpet": [
           {
            "marker": {
             "colorbar": {
              "outlinewidth": 0,
              "ticks": ""
             }
            },
            "type": "scattercarpet"
           }
          ],
          "scattergeo": [
           {
            "marker": {
             "colorbar": {
              "outlinewidth": 0,
              "ticks": ""
             }
            },
            "type": "scattergeo"
           }
          ],
          "scattergl": [
           {
            "marker": {
             "line": {
              "color": "#283442"
             }
            },
            "type": "scattergl"
           }
          ],
          "scattermapbox": [
           {
            "marker": {
             "colorbar": {
              "outlinewidth": 0,
              "ticks": ""
             }
            },
            "type": "scattermapbox"
           }
          ],
          "scatterpolar": [
           {
            "marker": {
             "colorbar": {
              "outlinewidth": 0,
              "ticks": ""
             }
            },
            "type": "scatterpolar"
           }
          ],
          "scatterpolargl": [
           {
            "marker": {
             "colorbar": {
              "outlinewidth": 0,
              "ticks": ""
             }
            },
            "type": "scatterpolargl"
           }
          ],
          "scatterternary": [
           {
            "marker": {
             "colorbar": {
              "outlinewidth": 0,
              "ticks": ""
             }
            },
            "type": "scatterternary"
           }
          ],
          "surface": [
           {
            "colorbar": {
             "outlinewidth": 0,
             "ticks": ""
            },
            "colorscale": [
             [
              0,
              "#0d0887"
             ],
             [
              0.1111111111111111,
              "#46039f"
             ],
             [
              0.2222222222222222,
              "#7201a8"
             ],
             [
              0.3333333333333333,
              "#9c179e"
             ],
             [
              0.4444444444444444,
              "#bd3786"
             ],
             [
              0.5555555555555556,
              "#d8576b"
             ],
             [
              0.6666666666666666,
              "#ed7953"
             ],
             [
              0.7777777777777778,
              "#fb9f3a"
             ],
             [
              0.8888888888888888,
              "#fdca26"
             ],
             [
              1,
              "#f0f921"
             ]
            ],
            "type": "surface"
           }
          ],
          "table": [
           {
            "cells": {
             "fill": {
              "color": "#506784"
             },
             "line": {
              "color": "rgb(17,17,17)"
             }
            },
            "header": {
             "fill": {
              "color": "#2a3f5f"
             },
             "line": {
              "color": "rgb(17,17,17)"
             }
            },
            "type": "table"
           }
          ]
         },
         "layout": {
          "annotationdefaults": {
           "arrowcolor": "#f2f5fa",
           "arrowhead": 0,
           "arrowwidth": 1
          },
          "autotypenumbers": "strict",
          "coloraxis": {
           "colorbar": {
            "outlinewidth": 0,
            "ticks": ""
           }
          },
          "colorscale": {
           "diverging": [
            [
             0,
             "#8e0152"
            ],
            [
             0.1,
             "#c51b7d"
            ],
            [
             0.2,
             "#de77ae"
            ],
            [
             0.3,
             "#f1b6da"
            ],
            [
             0.4,
             "#fde0ef"
            ],
            [
             0.5,
             "#f7f7f7"
            ],
            [
             0.6,
             "#e6f5d0"
            ],
            [
             0.7,
             "#b8e186"
            ],
            [
             0.8,
             "#7fbc41"
            ],
            [
             0.9,
             "#4d9221"
            ],
            [
             1,
             "#276419"
            ]
           ],
           "sequential": [
            [
             0,
             "#0d0887"
            ],
            [
             0.1111111111111111,
             "#46039f"
            ],
            [
             0.2222222222222222,
             "#7201a8"
            ],
            [
             0.3333333333333333,
             "#9c179e"
            ],
            [
             0.4444444444444444,
             "#bd3786"
            ],
            [
             0.5555555555555556,
             "#d8576b"
            ],
            [
             0.6666666666666666,
             "#ed7953"
            ],
            [
             0.7777777777777778,
             "#fb9f3a"
            ],
            [
             0.8888888888888888,
             "#fdca26"
            ],
            [
             1,
             "#f0f921"
            ]
           ],
           "sequentialminus": [
            [
             0,
             "#0d0887"
            ],
            [
             0.1111111111111111,
             "#46039f"
            ],
            [
             0.2222222222222222,
             "#7201a8"
            ],
            [
             0.3333333333333333,
             "#9c179e"
            ],
            [
             0.4444444444444444,
             "#bd3786"
            ],
            [
             0.5555555555555556,
             "#d8576b"
            ],
            [
             0.6666666666666666,
             "#ed7953"
            ],
            [
             0.7777777777777778,
             "#fb9f3a"
            ],
            [
             0.8888888888888888,
             "#fdca26"
            ],
            [
             1,
             "#f0f921"
            ]
           ]
          },
          "colorway": [
           "#636efa",
           "#EF553B",
           "#00cc96",
           "#ab63fa",
           "#FFA15A",
           "#19d3f3",
           "#FF6692",
           "#B6E880",
           "#FF97FF",
           "#FECB52"
          ],
          "font": {
           "color": "#f2f5fa"
          },
          "geo": {
           "bgcolor": "rgb(17,17,17)",
           "lakecolor": "rgb(17,17,17)",
           "landcolor": "rgb(17,17,17)",
           "showlakes": true,
           "showland": true,
           "subunitcolor": "#506784"
          },
          "hoverlabel": {
           "align": "left"
          },
          "hovermode": "closest",
          "mapbox": {
           "style": "dark"
          },
          "paper_bgcolor": "rgb(17,17,17)",
          "plot_bgcolor": "rgb(17,17,17)",
          "polar": {
           "angularaxis": {
            "gridcolor": "#506784",
            "linecolor": "#506784",
            "ticks": ""
           },
           "bgcolor": "rgb(17,17,17)",
           "radialaxis": {
            "gridcolor": "#506784",
            "linecolor": "#506784",
            "ticks": ""
           }
          },
          "scene": {
           "xaxis": {
            "backgroundcolor": "rgb(17,17,17)",
            "gridcolor": "#506784",
            "gridwidth": 2,
            "linecolor": "#506784",
            "showbackground": true,
            "ticks": "",
            "zerolinecolor": "#C8D4E3"
           },
           "yaxis": {
            "backgroundcolor": "rgb(17,17,17)",
            "gridcolor": "#506784",
            "gridwidth": 2,
            "linecolor": "#506784",
            "showbackground": true,
            "ticks": "",
            "zerolinecolor": "#C8D4E3"
           },
           "zaxis": {
            "backgroundcolor": "rgb(17,17,17)",
            "gridcolor": "#506784",
            "gridwidth": 2,
            "linecolor": "#506784",
            "showbackground": true,
            "ticks": "",
            "zerolinecolor": "#C8D4E3"
           }
          },
          "shapedefaults": {
           "line": {
            "color": "#f2f5fa"
           }
          },
          "sliderdefaults": {
           "bgcolor": "#C8D4E3",
           "bordercolor": "rgb(17,17,17)",
           "borderwidth": 1,
           "tickwidth": 0
          },
          "ternary": {
           "aaxis": {
            "gridcolor": "#506784",
            "linecolor": "#506784",
            "ticks": ""
           },
           "baxis": {
            "gridcolor": "#506784",
            "linecolor": "#506784",
            "ticks": ""
           },
           "bgcolor": "rgb(17,17,17)",
           "caxis": {
            "gridcolor": "#506784",
            "linecolor": "#506784",
            "ticks": ""
           }
          },
          "title": {
           "x": 0.05
          },
          "updatemenudefaults": {
           "bgcolor": "#506784",
           "borderwidth": 0
          },
          "xaxis": {
           "automargin": true,
           "gridcolor": "#283442",
           "linecolor": "#506784",
           "ticks": "",
           "title": {
            "standoff": 15
           },
           "zerolinecolor": "#283442",
           "zerolinewidth": 2
          },
          "yaxis": {
           "automargin": true,
           "gridcolor": "#283442",
           "linecolor": "#506784",
           "ticks": "",
           "title": {
            "standoff": 15
           },
           "zerolinecolor": "#283442",
           "zerolinewidth": 2
          }
         }
        }
       }
      },
      "text/html": [
       "<div>                            <div id=\"22b6b323-ba85-4cff-9b1e-1bd4bee8f25f\" class=\"plotly-graph-div\" style=\"height:525px; width:100%;\"></div>            <script type=\"text/javascript\">                require([\"plotly\"], function(Plotly) {                    window.PLOTLYENV=window.PLOTLYENV || {};                                    if (document.getElementById(\"22b6b323-ba85-4cff-9b1e-1bd4bee8f25f\")) {                    Plotly.newPlot(                        \"22b6b323-ba85-4cff-9b1e-1bd4bee8f25f\",                        [{\"cells\":{\"align\":\"left\",\"fill\":{\"color\":\"lavender\"},\"font\":{\"color\":\"black\"},\"values\":[[\"Heads Will Roll - A-Trak Radio Edit\",\"Mete Bala Te Amo \\u002f Ama Porra Nenhuma\",\"Venus\",\"Be My Baby\",\"I Hate Summer\"],[\"2009-12-08\",\"2022-05-12\",\"1986-01-01\",\"2014-09-04\",\"2018-06-25\"],[[\"Yeah Yeah Yeahs\",\"A-Trak\"],[\"MC Durrony\",\"Selminho DJ\"],[\"Bananarama\"],[\"Lara George\"],[\"SWANES\"]],[\"spotify:track:5c7jkZ4daUcLIrKiyQGt8B\",\"spotify:track:6UFUusgPSrWoovn9aZFpke\",\"spotify:track:4XX1pFUkQOZTYp6Hb6a6Ae\",\"spotify:track:2g1EvvO8JQMWaMKJeyo7Am\",\"spotify:track:7ftgkr2JhOuAFbGPxRmM0U\"]]},\"columnwidth\":[1,0.6,1.5,1.7],\"header\":{\"values\":[\"Name\",\"Release Date\",\"Artists\",\"Track URI\"]},\"type\":\"table\"}],                        {\"template\":{\"data\":{\"histogram2dcontour\":[{\"type\":\"histogram2dcontour\",\"colorbar\":{\"outlinewidth\":0,\"ticks\":\"\"},\"colorscale\":[[0.0,\"#0d0887\"],[0.1111111111111111,\"#46039f\"],[0.2222222222222222,\"#7201a8\"],[0.3333333333333333,\"#9c179e\"],[0.4444444444444444,\"#bd3786\"],[0.5555555555555556,\"#d8576b\"],[0.6666666666666666,\"#ed7953\"],[0.7777777777777778,\"#fb9f3a\"],[0.8888888888888888,\"#fdca26\"],[1.0,\"#f0f921\"]]}],\"choropleth\":[{\"type\":\"choropleth\",\"colorbar\":{\"outlinewidth\":0,\"ticks\":\"\"}}],\"histogram2d\":[{\"type\":\"histogram2d\",\"colorbar\":{\"outlinewidth\":0,\"ticks\":\"\"},\"colorscale\":[[0.0,\"#0d0887\"],[0.1111111111111111,\"#46039f\"],[0.2222222222222222,\"#7201a8\"],[0.3333333333333333,\"#9c179e\"],[0.4444444444444444,\"#bd3786\"],[0.5555555555555556,\"#d8576b\"],[0.6666666666666666,\"#ed7953\"],[0.7777777777777778,\"#fb9f3a\"],[0.8888888888888888,\"#fdca26\"],[1.0,\"#f0f921\"]]}],\"heatmap\":[{\"type\":\"heatmap\",\"colorbar\":{\"outlinewidth\":0,\"ticks\":\"\"},\"colorscale\":[[0.0,\"#0d0887\"],[0.1111111111111111,\"#46039f\"],[0.2222222222222222,\"#7201a8\"],[0.3333333333333333,\"#9c179e\"],[0.4444444444444444,\"#bd3786\"],[0.5555555555555556,\"#d8576b\"],[0.6666666666666666,\"#ed7953\"],[0.7777777777777778,\"#fb9f3a\"],[0.8888888888888888,\"#fdca26\"],[1.0,\"#f0f921\"]]}],\"heatmapgl\":[{\"type\":\"heatmapgl\",\"colorbar\":{\"outlinewidth\":0,\"ticks\":\"\"},\"colorscale\":[[0.0,\"#0d0887\"],[0.1111111111111111,\"#46039f\"],[0.2222222222222222,\"#7201a8\"],[0.3333333333333333,\"#9c179e\"],[0.4444444444444444,\"#bd3786\"],[0.5555555555555556,\"#d8576b\"],[0.6666666666666666,\"#ed7953\"],[0.7777777777777778,\"#fb9f3a\"],[0.8888888888888888,\"#fdca26\"],[1.0,\"#f0f921\"]]}],\"contourcarpet\":[{\"type\":\"contourcarpet\",\"colorbar\":{\"outlinewidth\":0,\"ticks\":\"\"}}],\"contour\":[{\"type\":\"contour\",\"colorbar\":{\"outlinewidth\":0,\"ticks\":\"\"},\"colorscale\":[[0.0,\"#0d0887\"],[0.1111111111111111,\"#46039f\"],[0.2222222222222222,\"#7201a8\"],[0.3333333333333333,\"#9c179e\"],[0.4444444444444444,\"#bd3786\"],[0.5555555555555556,\"#d8576b\"],[0.6666666666666666,\"#ed7953\"],[0.7777777777777778,\"#fb9f3a\"],[0.8888888888888888,\"#fdca26\"],[1.0,\"#f0f921\"]]}],\"surface\":[{\"type\":\"surface\",\"colorbar\":{\"outlinewidth\":0,\"ticks\":\"\"},\"colorscale\":[[0.0,\"#0d0887\"],[0.1111111111111111,\"#46039f\"],[0.2222222222222222,\"#7201a8\"],[0.3333333333333333,\"#9c179e\"],[0.4444444444444444,\"#bd3786\"],[0.5555555555555556,\"#d8576b\"],[0.6666666666666666,\"#ed7953\"],[0.7777777777777778,\"#fb9f3a\"],[0.8888888888888888,\"#fdca26\"],[1.0,\"#f0f921\"]]}],\"mesh3d\":[{\"type\":\"mesh3d\",\"colorbar\":{\"outlinewidth\":0,\"ticks\":\"\"}}],\"scatter\":[{\"marker\":{\"line\":{\"color\":\"#283442\"}},\"type\":\"scatter\"}],\"parcoords\":[{\"type\":\"parcoords\",\"line\":{\"colorbar\":{\"outlinewidth\":0,\"ticks\":\"\"}}}],\"scatterpolargl\":[{\"type\":\"scatterpolargl\",\"marker\":{\"colorbar\":{\"outlinewidth\":0,\"ticks\":\"\"}}}],\"bar\":[{\"error_x\":{\"color\":\"#f2f5fa\"},\"error_y\":{\"color\":\"#f2f5fa\"},\"marker\":{\"line\":{\"color\":\"rgb(17,17,17)\",\"width\":0.5},\"pattern\":{\"fillmode\":\"overlay\",\"size\":10,\"solidity\":0.2}},\"type\":\"bar\"}],\"scattergeo\":[{\"type\":\"scattergeo\",\"marker\":{\"colorbar\":{\"outlinewidth\":0,\"ticks\":\"\"}}}],\"scatterpolar\":[{\"type\":\"scatterpolar\",\"marker\":{\"colorbar\":{\"outlinewidth\":0,\"ticks\":\"\"}}}],\"histogram\":[{\"marker\":{\"pattern\":{\"fillmode\":\"overlay\",\"size\":10,\"solidity\":0.2}},\"type\":\"histogram\"}],\"scattergl\":[{\"marker\":{\"line\":{\"color\":\"#283442\"}},\"type\":\"scattergl\"}],\"scatter3d\":[{\"type\":\"scatter3d\",\"line\":{\"colorbar\":{\"outlinewidth\":0,\"ticks\":\"\"}},\"marker\":{\"colorbar\":{\"outlinewidth\":0,\"ticks\":\"\"}}}],\"scattermapbox\":[{\"type\":\"scattermapbox\",\"marker\":{\"colorbar\":{\"outlinewidth\":0,\"ticks\":\"\"}}}],\"scatterternary\":[{\"type\":\"scatterternary\",\"marker\":{\"colorbar\":{\"outlinewidth\":0,\"ticks\":\"\"}}}],\"scattercarpet\":[{\"type\":\"scattercarpet\",\"marker\":{\"colorbar\":{\"outlinewidth\":0,\"ticks\":\"\"}}}],\"carpet\":[{\"aaxis\":{\"endlinecolor\":\"#A2B1C6\",\"gridcolor\":\"#506784\",\"linecolor\":\"#506784\",\"minorgridcolor\":\"#506784\",\"startlinecolor\":\"#A2B1C6\"},\"baxis\":{\"endlinecolor\":\"#A2B1C6\",\"gridcolor\":\"#506784\",\"linecolor\":\"#506784\",\"minorgridcolor\":\"#506784\",\"startlinecolor\":\"#A2B1C6\"},\"type\":\"carpet\"}],\"table\":[{\"cells\":{\"fill\":{\"color\":\"#506784\"},\"line\":{\"color\":\"rgb(17,17,17)\"}},\"header\":{\"fill\":{\"color\":\"#2a3f5f\"},\"line\":{\"color\":\"rgb(17,17,17)\"}},\"type\":\"table\"}],\"barpolar\":[{\"marker\":{\"line\":{\"color\":\"rgb(17,17,17)\",\"width\":0.5},\"pattern\":{\"fillmode\":\"overlay\",\"size\":10,\"solidity\":0.2}},\"type\":\"barpolar\"}],\"pie\":[{\"automargin\":true,\"type\":\"pie\"}]},\"layout\":{\"autotypenumbers\":\"strict\",\"colorway\":[\"#636efa\",\"#EF553B\",\"#00cc96\",\"#ab63fa\",\"#FFA15A\",\"#19d3f3\",\"#FF6692\",\"#B6E880\",\"#FF97FF\",\"#FECB52\"],\"font\":{\"color\":\"#f2f5fa\"},\"hovermode\":\"closest\",\"hoverlabel\":{\"align\":\"left\"},\"paper_bgcolor\":\"rgb(17,17,17)\",\"plot_bgcolor\":\"rgb(17,17,17)\",\"polar\":{\"bgcolor\":\"rgb(17,17,17)\",\"angularaxis\":{\"gridcolor\":\"#506784\",\"linecolor\":\"#506784\",\"ticks\":\"\"},\"radialaxis\":{\"gridcolor\":\"#506784\",\"linecolor\":\"#506784\",\"ticks\":\"\"}},\"ternary\":{\"bgcolor\":\"rgb(17,17,17)\",\"aaxis\":{\"gridcolor\":\"#506784\",\"linecolor\":\"#506784\",\"ticks\":\"\"},\"baxis\":{\"gridcolor\":\"#506784\",\"linecolor\":\"#506784\",\"ticks\":\"\"},\"caxis\":{\"gridcolor\":\"#506784\",\"linecolor\":\"#506784\",\"ticks\":\"\"}},\"coloraxis\":{\"colorbar\":{\"outlinewidth\":0,\"ticks\":\"\"}},\"colorscale\":{\"sequential\":[[0.0,\"#0d0887\"],[0.1111111111111111,\"#46039f\"],[0.2222222222222222,\"#7201a8\"],[0.3333333333333333,\"#9c179e\"],[0.4444444444444444,\"#bd3786\"],[0.5555555555555556,\"#d8576b\"],[0.6666666666666666,\"#ed7953\"],[0.7777777777777778,\"#fb9f3a\"],[0.8888888888888888,\"#fdca26\"],[1.0,\"#f0f921\"]],\"sequentialminus\":[[0.0,\"#0d0887\"],[0.1111111111111111,\"#46039f\"],[0.2222222222222222,\"#7201a8\"],[0.3333333333333333,\"#9c179e\"],[0.4444444444444444,\"#bd3786\"],[0.5555555555555556,\"#d8576b\"],[0.6666666666666666,\"#ed7953\"],[0.7777777777777778,\"#fb9f3a\"],[0.8888888888888888,\"#fdca26\"],[1.0,\"#f0f921\"]],\"diverging\":[[0,\"#8e0152\"],[0.1,\"#c51b7d\"],[0.2,\"#de77ae\"],[0.3,\"#f1b6da\"],[0.4,\"#fde0ef\"],[0.5,\"#f7f7f7\"],[0.6,\"#e6f5d0\"],[0.7,\"#b8e186\"],[0.8,\"#7fbc41\"],[0.9,\"#4d9221\"],[1,\"#276419\"]]},\"xaxis\":{\"gridcolor\":\"#283442\",\"linecolor\":\"#506784\",\"ticks\":\"\",\"title\":{\"standoff\":15},\"zerolinecolor\":\"#283442\",\"automargin\":true,\"zerolinewidth\":2},\"yaxis\":{\"gridcolor\":\"#283442\",\"linecolor\":\"#506784\",\"ticks\":\"\",\"title\":{\"standoff\":15},\"zerolinecolor\":\"#283442\",\"automargin\":true,\"zerolinewidth\":2},\"scene\":{\"xaxis\":{\"backgroundcolor\":\"rgb(17,17,17)\",\"gridcolor\":\"#506784\",\"linecolor\":\"#506784\",\"showbackground\":true,\"ticks\":\"\",\"zerolinecolor\":\"#C8D4E3\",\"gridwidth\":2},\"yaxis\":{\"backgroundcolor\":\"rgb(17,17,17)\",\"gridcolor\":\"#506784\",\"linecolor\":\"#506784\",\"showbackground\":true,\"ticks\":\"\",\"zerolinecolor\":\"#C8D4E3\",\"gridwidth\":2},\"zaxis\":{\"backgroundcolor\":\"rgb(17,17,17)\",\"gridcolor\":\"#506784\",\"linecolor\":\"#506784\",\"showbackground\":true,\"ticks\":\"\",\"zerolinecolor\":\"#C8D4E3\",\"gridwidth\":2}},\"shapedefaults\":{\"line\":{\"color\":\"#f2f5fa\"}},\"annotationdefaults\":{\"arrowcolor\":\"#f2f5fa\",\"arrowhead\":0,\"arrowwidth\":1},\"geo\":{\"bgcolor\":\"rgb(17,17,17)\",\"landcolor\":\"rgb(17,17,17)\",\"subunitcolor\":\"#506784\",\"showland\":true,\"showlakes\":true,\"lakecolor\":\"rgb(17,17,17)\"},\"title\":{\"x\":0.05},\"updatemenudefaults\":{\"bgcolor\":\"#506784\",\"borderwidth\":0},\"sliderdefaults\":{\"bgcolor\":\"#C8D4E3\",\"borderwidth\":1,\"bordercolor\":\"rgb(17,17,17)\",\"tickwidth\":0},\"mapbox\":{\"style\":\"dark\"}}}},                        {\"responsive\": true}                    ).then(function(){\n",
       "                            \n",
       "var gd = document.getElementById('22b6b323-ba85-4cff-9b1e-1bd4bee8f25f');\n",
       "var x = new MutationObserver(function (mutations, observer) {{\n",
       "        var display = window.getComputedStyle(gd).display;\n",
       "        if (!display || display === 'none') {{\n",
       "            console.log([gd, 'removed!']);\n",
       "            Plotly.purge(gd);\n",
       "            observer.disconnect();\n",
       "        }}\n",
       "}});\n",
       "\n",
       "// Listen for the removal of the full notebook cells\n",
       "var notebookContainer = gd.closest('#notebook-container');\n",
       "if (notebookContainer) {{\n",
       "    x.observe(notebookContainer, {childList: true});\n",
       "}}\n",
       "\n",
       "// Listen for the clearing of the current output cell\n",
       "var outputEl = gd.closest('.output');\n",
       "if (outputEl) {{\n",
       "    x.observe(outputEl, {childList: true});\n",
       "}}\n",
       "\n",
       "                        })                };                });            </script>        </div>"
      ]
     },
     "metadata": {},
     "output_type": "display_data"
    }
   ],
   "source": [
    "from IPython.display import display, clear_output\n",
    "import ipywidgets as widgets\n",
    "\n",
    "# Filteren van de dataset op criteria voor \"happy\" liedjes\n",
    "happy_data = main_dataset[(main_dataset['valence'] > 0.6) &\n",
    "                          (main_dataset['energy'] > 0.6) &\n",
    "                          (main_dataset['danceability'] > 0.6)]\n",
    "\n",
    "\n",
    "def plot_random_rows():\n",
    "    clear_output()\n",
    "    out = widgets.Output()\n",
    "\n",
    "    button = widgets.Button(description='Genereer 5 willekeurige liedjes')\n",
    "    button.layout.width = 'auto'\n",
    "    button.on_click(lambda _: plot_random_rows())\n",
    "\n",
    "    out.append_display_data(display(button))\n",
    "    # random rows\n",
    "    random_rows = happy_data.sample(n=5).loc[:, ['name', 'release_date', 'artists_names']]\n",
    "\n",
    "    # tabel maken\n",
    "    fig = go.Figure(data=[go.Table(header=dict(values=['Song-name', 'Release Date', 'Artists']),\n",
    "                                   cells=dict(values=[random_rows['name'],\n",
    "                                                      random_rows['release_date'].dt.date,\n",
    "                                                      random_rows['artists_names']],\n",
    "                                              fill_color='lavender',\n",
    "                                              align='left',\n",
    "                                              font=dict(color='black')))])\n",
    "\n",
    "    # Weergeven van de output\n",
    "    out.append_display_data(fig.show())\n",
    "\n",
    "plot_random_rows()\n",
    "\n",
    "\n"
   ]
  },
  {
   "attachments": {},
   "cell_type": "markdown",
   "metadata": {
    "id": "AO8JQCUXc2A1"
   },
   "source": [
    "# Bonus:\n",
    "Na deze enigszins sombere conclusie van dit project, wilden we toch eindigen met een positieve noot. Hierboven vind je een aantal willekeurige nummers die allen een hoge mate van valence, energy en danceability hebben. Kortom, dit zijn nummers waar je blij van wordt. Geniet van de vrolijke muziek!"
   ]
  },
  {
   "attachments": {},
   "cell_type": "markdown",
   "metadata": {
    "id": "zD0HiGV9TAk9"
   },
   "source": [
    "# Feedback 22-6-2023\n",
    "Op donderdag 22 juni 2023 hebben we feedback gegeven en ontvangen. Uit de ontvangen feedback kwamen de volgende punten naar voren.\n",
    "\n",
    "\n",
    "Wat betreft de barplot die de gemiddelde duur van een nummer per tien jaar weergeeft, kregen we van zowel onze TA als het andere groepje de opmerking dat het gemiddelde niet altijd veelzeggend is. Als voorbeeld werd gegeven dat als alle cijfers een 5 zouden zijn, het gemiddelde ook een 5 zou zijn. Maar als de helft van de cijfers een 1 is en de andere helft een 10, zou het gemiddelde nog steeds een 5 zijn. Ons werd aangeraden om in plaats daarvan de standaarddeviatie te gebruiken of een boxplot van de barplot te maken. Daarnaast werd er aangeraden om de data  in seconden te geven in plaats van milliseconden.\n",
    "\n",
    "Daarnaast was het niet altijd even duidelijk waar bepaalde grafieken voor stonden. Ons werd aanbevolen om over het algemeen duidelijke titels te gebruiken. Ook werd voorgesteld om bij de populairste artiesten eerder te kiezen voor het weergeven van het aantal artiesten dat actief was in een bepaald jaar, omdat dit meer zegt over de toegankelijkheid van muziek maken.\n",
    "\n",
    "Ten slotte kregen we feedback dat we onze hoofdvragen duidelijker moeten beantwoorden en meer nadruk moeten leggen op sociale media, evenals het toevoegen van een extra database om onze bevindingen te ondersteunen\n",
    "\n",
    "We hebben het eerste punt van de feedback proberen te verwerken, maar wanneer wij probeerden om de barplot om te zetten naar bijvoorbeeld een boxplot of een violinplot bleek dat de plot erg onoverzichtelijk werd. In de dataset bij de duratie van nummers zaten namelijk veel extreme uitschieters en deze werden meegeplot in de boxplot en violinplot. Dit gaf een erg groot bereik op de y-as en dit leverde een onoverzichtelijke plot op. Wij vonden het echter moreel gezien niet juist om deze extreme outliers niet te tonen en daarom hebben we uiteindelijk er toch voor gekozen om enkel het gemiddelde te behouden. Voor het tweede punt hebben we de ontvangen feedback volledig toegepast op onze datavisualisatie, zoals te zien is in het eindresultaat. Na uitgebreid onderzoek hebben we ook het laatste feedbackpunt verbeterd door een extra database toe te voegen over het welzijn van mensen. Daarnaast hebben we wetenschappelijke artikelen toegevoegd om onze beweringen te ondersteunen.\n"
   ]
  },
  {
   "attachments": {},
   "cell_type": "markdown",
   "metadata": {
    "id": "2JhKJjlnTKLm"
   },
   "source": [
    "# Bronnenlijst"
   ]
  },
  {
   "attachments": {},
   "cell_type": "markdown",
   "metadata": {
    "id": "OyUDPtxz78cD"
   },
   "source": [
    "De literatuurlijst is te vinden in de repository waarvan de link bovenaan deze pagina staat. Het bleek namelijk erg lastig om in markdown de literatuurlijst in apa-formaat getoond te krijgen. "
   ]
  },
  {
   "attachments": {},
   "cell_type": "markdown",
   "metadata": {
    "id": "pAf7D22dTM9v"
   },
   "source": [
    "# Chat GPT verantwoording:\n",
    "\n",
    "### Haady:\n",
    "\n",
    "1:\n",
    "Ik heb ChatGPT gebruikt als ondersteunend hulpmiddel bij het uitvoeren van gegevensverwerking op de 'main_dataset'. De reden voor het gebruik van ChatGPT was om snel en efficiënt codevoorbeelden te genereren die de gewenste bewerkingen op de dataset uitvoeren.\n",
    "\n",
    "In dit specifieke geval heb ik de volgende ChatGPT prompts gebruikt om de Python-code te genereren die de volgende bewerkingen uitvoert op bij Processing1 ('main_dataset'):\n",
    "\n",
    "    Converteer de 'release_date' kolom naar een datetimewaarde met behulp van de 'pd.to_datetime' functie en stel 'errors' in op 'coerce'.\n",
    "\n",
    "    Voeg een nieuwe kolom genaamd 'year' toe aan 'main_dataset' door de 'dt.year' eigenschap van de 'release_date' kolom te gebruiken.\n",
    "\n",
    "    Voeg een nieuwe kolom genaamd 'release_decade' toe aan 'main_dataset' door de 'year' kolom te mappen met behulp van een lambda-functie die elke waarde naar het decennium afrondt.\n",
    "\n",
    "    Voeg een nieuwe kolom genaamd 'duration_s' toe aan 'main_dataset' door de 'duration_ms' kolom te delen door 1000.\n",
    "\n",
    "    Voeg een nieuwe kolom genaamd 'year_month' toe aan 'main_dataset' door de 'dt.to_period' methode van de 'release_date' kolom te gebruiken en de frequentie in te stellen op 'M' voor maandelijks.\n",
    "\n",
    "2:\n",
    "Ik heb ChatGPT gebruikt om op een snelle en efficiënte manier Python-code te genereren om plots te maken bij: Plot aantal unieke artiesten per jaar.\n",
    "\n",
    "Met behulp van de volgende prompts:\n",
    "\n",
    "    Converteer de 'artists_names'-kolom naar een tuple met behulp van de 'apply' functie en de 'tuple' ingebouwde functie.\n",
    "\n",
    "    Groepeer de gegevens per jaar ('year') en tel het aantal unieke artiesten ('artists_names') met behulp van de 'groupby' functie. Sla het resultaat op in de variabele 'num_artists_per_year'.\n",
    "\n",
    "    Maak een lijndiagram met behulp van de 'go.Figure' functie van de Plotly bibliotheek. Gebruik de gegevens uit de 'num_artists_per_year' variabele om het jaarlijks aantal artiesten dat muziek heeft uitgebracht weer te geven. Stel de juiste titels en aslabels in.\n",
    "\n",
    "3:\n",
    "Ik heb ChatGPT gebruikt om op een snelle en efficiënte manier Python-code te genereren om plots te maken bij: Plot Graph: Aantal nummers per jaar Figuur 1 en 2\n",
    "\n",
    "    Hoe kan ik de dataset groeperen op 'release_year' en het gemiddelde van 'duration_ms' per tien jaar berekenen\n",
    "\n",
    "    Vervolgens wil ik twee grafieken maken: één met het aantal nieuwe nummers per jaar en één met de gemiddelde muziekduur per decennium?\n",
    "\n",
    "### David\n",
    "\n",
    "Ik heb geen ChatGPT gebruikt tijdens dit project. Ik heb mij voornamelijk beroepen op de documentatie van plotly en verschillende forums zoals stackoverflow.\n",
    "### Sten\n",
    "\n",
    "Ik heb geen gebruik gemaakt van ChatGPT.\n",
    "\n",
    "### Niels\n",
    "\n",
    "Ik heb ChatGPT gebruikt tijdens dit project, dit was voor het bedenken van ideeen voor verschillende invalshoeken voor dit project. Deze zijn niet gebruikt maar gaven wel aanstichting voor keuze.\n",
    "\n",
    "    can you think of two perspectives when trying to make a data analyse for a data set about 270.000 songs with data such as liveness acousticness energy key?\n",
    "\n",
    "Dit werd opgevolgd met verdere vragen over perspectieven zoals:\n",
    "\n",
    "    can you think of a perspective that contains the influence of covid?\n",
    "\n",
    "Destijds nog erg gefocust op covid en de invloeden van die periode op muziek. Dit mondde uit tot het huidige onderzoek. Het idee voor het huidige onderzoek komt dus niet direct voort uit ChatGPT."
   ]
  },
  {
   "attachments": {},
   "cell_type": "markdown",
   "metadata": {
    "id": "52Ajd1Xhm2Ur"
   },
   "source": [
    "# Taakverdeling"
   ]
  },
  {
   "attachments": {},
   "cell_type": "markdown",
   "metadata": {
    "id": "qQqLw840yX-s"
   },
   "source": [
    "### Haady\n",
    "\n",
    "Ik heb de basis van een aantal verschillende plots en subdatasets geschreven. Dit is later verbetered en geoptimaliseerd door David. Daarnaast heb ik de feedback/reflectie geschreven en de bonus tekst geschreven.\n",
    "\n",
    "### Sten\n",
    "\n",
    "Vinden DataBase en verantwoordelijk voor schriftelijk verhaal dataproject\n",
    "\n",
    "### David\n",
    "\n",
    "Hoofdverantwoordelijk voor de plots en de codes. Ook verantwoordelijk voor alles op GitHub krijgen. Ook alle preprocessing gedaan van de dataset. Daarnaast heb ik aan het einde geholpen met de geschreven tekst controleren en verbeteren.\n",
    "\n",
    "### Niels\n",
    "\n",
    "Gedeeltelijk verantwoordelijk voor geschreven tekst in het data verhaal en verdiepen in bronnen."
   ]
  }
 ],
 "metadata": {
  "colab": {
   "provenance": []
  },
  "kernelspec": {
   "display_name": "Python 3 (ipykernel)",
   "language": "python",
   "name": "python3"
  },
  "language_info": {
   "codemirror_mode": {
    "name": "ipython",
    "version": 3
   },
   "file_extension": ".py",
   "mimetype": "text/x-python",
   "name": "python",
   "nbconvert_exporter": "python",
   "pygments_lexer": "ipython3",
   "version": "3.10.9"
  },
  "widgets": {
   "application/vnd.jupyter.widget-state+json": {
    "03fa74896cb546c1ad2220b40d316dc9": {
     "model_module": "@jupyter-widgets/base",
     "model_module_version": "1.2.0",
     "model_name": "LayoutModel",
     "state": {
      "_model_module": "@jupyter-widgets/base",
      "_model_module_version": "1.2.0",
      "_model_name": "LayoutModel",
      "_view_count": null,
      "_view_module": "@jupyter-widgets/base",
      "_view_module_version": "1.2.0",
      "_view_name": "LayoutView",
      "align_content": null,
      "align_items": null,
      "align_self": null,
      "border": null,
      "bottom": null,
      "display": null,
      "flex": null,
      "flex_flow": null,
      "grid_area": null,
      "grid_auto_columns": null,
      "grid_auto_flow": null,
      "grid_auto_rows": null,
      "grid_column": null,
      "grid_gap": null,
      "grid_row": null,
      "grid_template_areas": null,
      "grid_template_columns": null,
      "grid_template_rows": null,
      "height": null,
      "justify_content": null,
      "justify_items": null,
      "left": null,
      "margin": null,
      "max_height": null,
      "max_width": null,
      "min_height": null,
      "min_width": null,
      "object_fit": null,
      "object_position": null,
      "order": null,
      "overflow": null,
      "overflow_x": null,
      "overflow_y": null,
      "padding": null,
      "right": null,
      "top": null,
      "visibility": null,
      "width": "auto"
     }
    },
    "98dc16e31c2640be92889af7b2906660": {
     "model_module": "@jupyter-widgets/controls",
     "model_module_version": "1.5.0",
     "model_name": "ButtonStyleModel",
     "state": {
      "_model_module": "@jupyter-widgets/controls",
      "_model_module_version": "1.5.0",
      "_model_name": "ButtonStyleModel",
      "_view_count": null,
      "_view_module": "@jupyter-widgets/base",
      "_view_module_version": "1.2.0",
      "_view_name": "StyleView",
      "button_color": null,
      "font_weight": ""
     }
    },
    "f9760d941e0344dc9e196162c80e7c33": {
     "model_module": "@jupyter-widgets/controls",
     "model_module_version": "1.5.0",
     "model_name": "ButtonModel",
     "state": {
      "_dom_classes": [],
      "_model_module": "@jupyter-widgets/controls",
      "_model_module_version": "1.5.0",
      "_model_name": "ButtonModel",
      "_view_count": null,
      "_view_module": "@jupyter-widgets/controls",
      "_view_module_version": "1.5.0",
      "_view_name": "ButtonView",
      "button_style": "",
      "description": "Genereer 5 willekeurige liedjes",
      "disabled": false,
      "icon": "",
      "layout": "IPY_MODEL_03fa74896cb546c1ad2220b40d316dc9",
      "style": "IPY_MODEL_98dc16e31c2640be92889af7b2906660",
      "tooltip": ""
     }
    }
   }
  }
 },
 "nbformat": 4,
 "nbformat_minor": 1
}
