{
  "cells": [
    {
      "attachments": {},
      "cell_type": "markdown",
      "metadata": {
        "id": "tGYZl1N3fDVQ"
      },
      "source": [
        "# Preprocessing Data\n",
        "\n",
        "Er worden voor het dataverhaal 2 datasets gebruikt.\n",
        "\n",
        "1. De eerste dataset bevat meer dan 278k liedjes van Spotify. De dataset kan gedownload worden van de site:<br>\n",
        "https://www.kaggle.com/datasets/viktoriiashkurenko/278k-spotify-songs?select=main_dataset.csv<br>\n",
        "Op de site staan verschillende csv-bestanden. Enkel de main_dataset.csv wordt gebruikt in ons dataverhaal<br>\n",
        "2. De tweede dataset bevat data over de gemiddelde levensvoldoening per land per jaar. Deze dataset kan gedownload worden van de site:<br>\n",
        "https://ourworldindata.org/grapher/happiness-cantril-ladder<br>\n",
        "Er moet hiervoor onder de wereldkaart op de downloadknop geklikt worden om de juiste dataset te downloaden.\n",
        "\n",
        "De levensvoldoening-dataset is relatief klein en deze kan in oorspronkelijke staat gebruikt worden. De spotify-dataset vergt echter wel nog het een en ander aan preprocessing. De stappen die hiervoor genomen zijn worden hieronder beschreven."
      ]
    },
    {
      "cell_type": "code",
      "execution_count": 2,
      "metadata": {
        "id": "4LQ7U3dKq0yO"
      },
      "outputs": [],
      "source": [
        "import pandas as pd\n",
        "import numpy as np\n",
        "\n",
        "main_dataset = pd.read_csv('main_dataset.csv')"
      ]
    },
    {
      "cell_type": "code",
      "execution_count": 3,
      "metadata": {
        "id": "Sv1IF2_cE1a0"
      },
      "outputs": [],
      "source": [
        "#Deze rijen met het incomplete jaar 2023 worden weggehaald\n",
        "main_dataset = main_dataset[main_dataset['release_date'].str[:4] != '2023']\n",
        "\n",
        "#Deze rijen van voor jaar 1960 hebben te weinig data en worden weggehaald\n",
        "main_dataset = main_dataset[(main_dataset['release_date'].str[:4]).astype(int) >= 1960]\n",
        "\n",
        "# Deze rijen bevatten Nan values dus worden eruit gehaald\n",
        "main_dataset = main_dataset.drop(list(main_dataset[main_dataset.isna().any(axis=1)].index), errors='ignore')\n",
        "\n",
        "# Deze rijen bevatten nul-waarden voor datum\n",
        "main_dataset = main_dataset.drop([39962, 79501, 79712, 274672], errors='ignore')"
      ]
    },
    {
      "cell_type": "code",
      "execution_count": 4,
      "metadata": {
        "colab": {
          "base_uri": "https://localhost:8080/"
        },
        "id": "NszRku7fg7XS",
        "outputId": "7cd57413-e044-477f-9a57-4c08df745c64"
      },
      "outputs": [
        {
          "name": "stdout",
          "output_type": "stream",
          "text": [
            "track_uri                 <class 'str'>            \n",
            "name                      <class 'str'>            \n",
            "artists_names             <class 'str'>            \n",
            "popularity                <class 'int'>            \n",
            "album_type                <class 'str'>            \n",
            "is_playable               <class 'bool'>           \n",
            "release_date              <class 'str'>            \n",
            "artists_uris              <class 'str'>            \n",
            "playlist_uris             <class 'str'>            \n",
            "danceability              <class 'float'>          \n",
            "energy                    <class 'float'>          \n",
            "key                       <class 'float'>          \n",
            "loudness                  <class 'float'>          \n",
            "mode                      <class 'float'>          \n",
            "speechiness               <class 'float'>          \n",
            "acousticness              <class 'float'>          \n",
            "instrumentalness          <class 'float'>          \n",
            "liveness                  <class 'float'>          \n",
            "valence                   <class 'float'>          \n",
            "tempo                     <class 'float'>          \n",
            "analysis_url              <class 'str'>            \n",
            "duration_ms               <class 'float'>          \n",
            "time_signature            <class 'float'>          \n",
            "artists_popularities      <class 'str'>            \n",
            "artists_genres            <class 'str'>            \n",
            "artists_followers         <class 'str'>            \n"
          ]
        }
      ],
      "source": [
        "#Check de datatypes van de kolommen\n",
        "for column_name in main_dataset.columns:\n",
        "  for i in main_dataset[column_name].head(1):\n",
        "    print(f'{str(column_name):<25} {str(type(i)):<25}')"
      ]
    },
    {
      "cell_type": "code",
      "execution_count": 5,
      "metadata": {
        "id": "RHpHUmiGhlVb"
      },
      "outputs": [],
      "source": [
        "#Zorg dat sommige kolommen met strings functionele lists worden\n",
        "for column_name in ['artists_names', 'artists_uris', 'playlist_uris', 'artists_popularities', 'artists_genres', 'artists_followers']:\n",
        "  main_dataset[column_name] = main_dataset[column_name].map(lambda x: eval(x))\n",
        "\n",
        "#Zet de kolom met de release dates om in pandas datetime objecten\n",
        "main_dataset['release_date'] = pd.to_datetime(main_dataset['release_date'])"
      ]
    },
    {
      "cell_type": "code",
      "execution_count": 6,
      "metadata": {
        "colab": {
          "base_uri": "https://localhost:8080/"
        },
        "id": "PDGJRKtxjUUD",
        "outputId": "1825be74-d0e6-4dc2-ceae-66b703140429"
      },
      "outputs": [
        {
          "name": "stdout",
          "output_type": "stream",
          "text": [
            "track_uri                 <class 'str'>            \n",
            "name                      <class 'str'>            \n",
            "artists_names             <class 'list'>           \n",
            "popularity                <class 'int'>            \n",
            "album_type                <class 'str'>            \n",
            "is_playable               <class 'bool'>           \n",
            "release_date              <class 'pandas._libs.tslibs.timestamps.Timestamp'>\n",
            "artists_uris              <class 'list'>           \n",
            "playlist_uris             <class 'list'>           \n",
            "danceability              <class 'float'>          \n",
            "energy                    <class 'float'>          \n",
            "key                       <class 'float'>          \n",
            "loudness                  <class 'float'>          \n",
            "mode                      <class 'float'>          \n",
            "speechiness               <class 'float'>          \n",
            "acousticness              <class 'float'>          \n",
            "instrumentalness          <class 'float'>          \n",
            "liveness                  <class 'float'>          \n",
            "valence                   <class 'float'>          \n",
            "tempo                     <class 'float'>          \n",
            "analysis_url              <class 'str'>            \n",
            "duration_ms               <class 'float'>          \n",
            "time_signature            <class 'float'>          \n",
            "artists_popularities      <class 'list'>           \n",
            "artists_genres            <class 'list'>           \n",
            "artists_followers         <class 'list'>           \n"
          ]
        }
      ],
      "source": [
        "#Check de datatypes van de kolommen\n",
        "for column_name in main_dataset.columns:\n",
        "  for i in main_dataset[column_name].head(1):\n",
        "    print(f'{str(column_name):<25} {str(type(i)):<25}')"
      ]
    },
    {
      "cell_type": "code",
      "execution_count": 7,
      "metadata": {
        "colab": {
          "base_uri": "https://localhost:8080/"
        },
        "id": "9nHdZGhOutWt",
        "outputId": "6a5636c5-afe9-4d2c-a1bb-b2b013a156cc"
      },
      "outputs": [
        {
          "name": "stdout",
          "output_type": "stream",
          "text": [
            "[1960, 1961, 1962, 1963, 1964, 1965, 1966, 1967, 1968, 1969, 1970, 1971, 1972, 1973, 1974, 1975, 1976, 1977, 1978, 1979, 1980, 1981, 1982, 1983, 1984, 1985, 1986, 1987, 1988, 1989, 1990, 1991, 1992, 1993, 1994, 1995, 1996, 1997, 1998, 1999, 2000, 2001, 2002, 2003, 2004, 2005, 2006, 2007, 2008, 2009, 2010, 2011, 2012, 2013, 2014, 2015, 2016, 2017, 2018, 2019, 2020, 2021, 2022]\n"
          ]
        }
      ],
      "source": [
        "# Controleer welke jaren er nog in de dataset zitten\n",
        "l = set()\n",
        "for i in main_dataset['release_date']:\n",
        "  l = l | {i.year}\n",
        "\n",
        "print(sorted(list(l)))"
      ]
    },
    {
      "cell_type": "code",
      "execution_count": 8,
      "metadata": {
        "id": "Uf6fag9nthPM"
      },
      "outputs": [],
      "source": [
        "#main_dataset.to_parquet('processed_dataset.parquet')"
      ]
    }
  ],
  "metadata": {
    "colab": {
      "provenance": []
    },
    "kernelspec": {
      "display_name": "Python 3",
      "name": "python3"
    },
    "language_info": {
      "name": "python"
    }
  },
  "nbformat": 4,
  "nbformat_minor": 0
}
